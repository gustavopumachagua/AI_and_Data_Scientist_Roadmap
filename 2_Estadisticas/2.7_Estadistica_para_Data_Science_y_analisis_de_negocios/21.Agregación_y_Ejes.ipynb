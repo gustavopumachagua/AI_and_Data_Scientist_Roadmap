{
 "cells": [
  {
   "attachments": {},
   "cell_type": "markdown",
   "metadata": {},
   "source": [
    "| **Inicio** | **atrás 20** | **Siguiente 22** |\n",
    "|----------- |-------------- |---------------|\n",
    "| [🏠](../../README.md) | [⏪](./20.Busqueda_y_Filtrado.ipynb)| [⏩](./22.Union_y_Separacion.ipynb)|"
   ]
  },
  {
   "attachments": {},
   "cell_type": "markdown",
   "metadata": {},
   "source": [
    "# **21. Numpy: Agregación y Ejes de Arrays (arreglos) para Procesar Datos**"
   ]
  },
  {
   "attachments": {},
   "cell_type": "markdown",
   "metadata": {},
   "source": [
    "## **Introducción a los Ejes y Funciones de Agregación**"
   ]
  },
  {
   "attachments": {},
   "cell_type": "markdown",
   "metadata": {},
   "source": [
    "En NumPy, un eje es una dimensión de un arreglo. Para entender mejor los ejes, es útil pensar en un arreglo multidimensional como una tabla con filas y columnas. Las filas corresponden a la primera dimensión del arreglo y las columnas corresponden a la segunda dimensión. En general, un arreglo multidimensional puede tener cualquier número de dimensiones, y cada dimensión se puede considerar como un eje.\n",
    "\n",
    "Las funciones de agregación en NumPy son funciones que realizan cálculos estadísticos sobre los elementos de un arreglo. Estas funciones se pueden aplicar a lo largo de uno o más ejes del arreglo. Algunas de las funciones de agregación más comunes en NumPy son:\n",
    "\n",
    "* `np.sum`: devuelve la suma de los elementos del arreglo.\n",
    "* `np.mean`: devuelve la media de los elementos del arreglo.\n",
    "* `np.min`: devuelve el valor mínimo del arreglo.\n",
    "* `np.max`: devuelve el valor máximo del arreglo.\n",
    "* `np.std`: devuelve la desviación estándar de los elementos del arreglo.\n",
    "* `np.var`: devuelve la varianza de los elementos del arreglo.\n",
    "\n",
    "A continuación, se presenta un ejemplo de cómo utilizar una función de agregación en un arreglo de NumPy:"
   ]
  },
  {
   "cell_type": "code",
   "execution_count": 1,
   "metadata": {},
   "outputs": [
    {
     "name": "stdout",
     "output_type": "stream",
     "text": [
      "Arreglo original:\n",
      "[[0.54775122 0.56971291 0.40298929 0.10532938]\n",
      " [0.44638613 0.52342213 0.22594107 0.14230966]\n",
      " [0.79128394 0.83902178 0.48837483 0.86117661]]\n",
      "Suma de los elementos de cada fila:\n",
      "[1.6257828  1.33805899 2.97985717]\n",
      "Valor mínimo de cada columna:\n",
      "[0.44638613 0.52342213 0.22594107 0.10532938]\n"
     ]
    }
   ],
   "source": [
    "import numpy as np\n",
    "\n",
    "# Crear un arreglo de 2 dimensiones con valores aleatorios\n",
    "a = np.random.rand(3, 4)\n",
    "print(\"Arreglo original:\")\n",
    "print(a)\n",
    "\n",
    "# Calcular la suma de los elementos de cada fila del arreglo\n",
    "suma_filas = np.sum(a, axis=1)\n",
    "print(\"Suma de los elementos de cada fila:\")\n",
    "print(suma_filas)\n",
    "\n",
    "# Calcular el valor mínimo de cada columna del arreglo\n",
    "min_columnas = np.min(a, axis=0)\n",
    "print(\"Valor mínimo de cada columna:\")\n",
    "print(min_columnas)"
   ]
  },
  {
   "attachments": {},
   "cell_type": "markdown",
   "metadata": {},
   "source": [
    "## **Función de agregación: min, max, argmin, argmax, sum y mean**"
   ]
  },
  {
   "cell_type": "code",
   "execution_count": 2,
   "metadata": {},
   "outputs": [
    {
     "name": "stdout",
     "output_type": "stream",
     "text": [
      "Arreglo original:\n",
      "[2 5 3 9 1]\n",
      "Valor mínimo del arreglo: 1\n",
      "Índice del valor mínimo del arreglo: 4\n",
      "Suma de los elementos del arreglo: 20\n",
      "Media de los elementos del arreglo: 4.0\n",
      "Arreglo original:\n",
      "[[0.87161539 0.54624888 0.2391306  0.13630239]\n",
      " [0.72293875 0.42556439 0.26566611 0.79316407]\n",
      " [0.85955204 0.16635461 0.10812559 0.92643666]]\n",
      "Valor máximo de cada columna:\n",
      "[0.87161539 0.54624888 0.26566611 0.92643666]\n",
      "Índice del valor máximo de cada fila:\n",
      "[0 3 3]\n"
     ]
    }
   ],
   "source": [
    "import numpy as np\n",
    "\n",
    "# Crear un arreglo de 1 dimensión\n",
    "a = np.array([2, 5, 3, 9, 1])\n",
    "print(\"Arreglo original:\")\n",
    "print(a)\n",
    "\n",
    "# Calcular el valor mínimo del arreglo\n",
    "minimo = np.min(a)\n",
    "print(\"Valor mínimo del arreglo:\", minimo)\n",
    "\n",
    "# Calcular el índice del valor mínimo del arreglo\n",
    "indice_minimo = np.argmin(a)\n",
    "print(\"Índice del valor mínimo del arreglo:\", indice_minimo)\n",
    "\n",
    "# Calcular la suma de los elementos del arreglo\n",
    "suma = np.sum(a)\n",
    "print(\"Suma de los elementos del arreglo:\", suma)\n",
    "\n",
    "# Calcular la media de los elementos del arreglo\n",
    "media = np.mean(a)\n",
    "print(\"Media de los elementos del arreglo:\", media)\n",
    "\n",
    "# Crear un arreglo de 2 dimensiones con valores aleatorios\n",
    "b = np.random.rand(3, 4)\n",
    "print(\"Arreglo original:\")\n",
    "print(b)\n",
    "\n",
    "# Calcular el valor máximo de cada columna del arreglo\n",
    "maximo_columnas = np.max(b, axis=0)\n",
    "print(\"Valor máximo de cada columna:\")\n",
    "print(maximo_columnas)\n",
    "\n",
    "# Calcular el índice del valor máximo de cada fila del arreglo\n",
    "indice_maximo_filas = np.argmax(b, axis=1)\n",
    "print(\"Índice del valor máximo de cada fila:\")\n",
    "print(indice_maximo_filas)"
   ]
  },
  {
   "attachments": {},
   "cell_type": "markdown",
   "metadata": {},
   "source": [
    "## **Función de agregación por Eje (Axis)**"
   ]
  },
  {
   "cell_type": "code",
   "execution_count": 3,
   "metadata": {},
   "outputs": [
    {
     "name": "stdout",
     "output_type": "stream",
     "text": [
      "Arreglo original:\n",
      "[[5 5 1 7]\n",
      " [3 8 1 4]\n",
      " [9 1 7 1]]\n",
      "Valor máximo de cada fila:\n",
      "[7 8 9]\n",
      "Valor mínimo de cada columna:\n",
      "[3 1 1 1]\n",
      "Suma total de todos los elementos del arreglo: 52\n",
      "Media de cada fila:\n",
      "[4.5 4.  4.5]\n"
     ]
    }
   ],
   "source": [
    "import numpy as np\n",
    "\n",
    "# Crear un arreglo de 2 dimensiones con valores aleatorios\n",
    "a = np.random.randint(1, 10, size=(3, 4))\n",
    "print(\"Arreglo original:\")\n",
    "print(a)\n",
    "\n",
    "# Calcular el valor máximo de cada fila del arreglo\n",
    "maximo_filas = np.max(a, axis=1)\n",
    "print(\"Valor máximo de cada fila:\")\n",
    "print(maximo_filas)\n",
    "\n",
    "# Calcular el valor mínimo de cada columna del arreglo\n",
    "minimo_columnas = np.min(a, axis=0)\n",
    "print(\"Valor mínimo de cada columna:\")\n",
    "print(minimo_columnas)\n",
    "\n",
    "# Calcular la suma de todos los elementos del arreglo\n",
    "suma_total = np.sum(a)\n",
    "print(\"Suma total de todos los elementos del arreglo:\", suma_total)\n",
    "\n",
    "# Calcular la media de cada fila del arreglo\n",
    "media_filas = np.mean(a, axis=1)\n",
    "print(\"Media de cada fila:\")\n",
    "print(media_filas)"
   ]
  },
  {
   "attachments": {},
   "cell_type": "markdown",
   "metadata": {},
   "source": [
    "| **Inicio** | **atrás 20** | **Siguiente 22** |\n",
    "|----------- |-------------- |---------------|\n",
    "| [🏠](../../README.md) | [⏪](./20.Busqueda_y_Filtrado.ipynb)| [⏩](./22.Union_y_Separacion.ipynb)|"
   ]
  }
 ],
 "metadata": {
  "kernelspec": {
   "display_name": "base",
   "language": "python",
   "name": "python3"
  },
  "language_info": {
   "codemirror_mode": {
    "name": "ipython",
    "version": 3
   },
   "file_extension": ".py",
   "mimetype": "text/x-python",
   "name": "python",
   "nbconvert_exporter": "python",
   "pygments_lexer": "ipython3",
   "version": "3.9.12"
  },
  "orig_nbformat": 4
 },
 "nbformat": 4,
 "nbformat_minor": 2
}
