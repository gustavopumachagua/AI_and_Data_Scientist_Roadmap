{
 "cells": [
  {
   "attachments": {},
   "cell_type": "markdown",
   "metadata": {},
   "source": [
    "| **Inicio** | **atrás 3** | **Siguiente 5** |\n",
    "|----------- |-------------- |---------------|\n",
    "| [🏠](../../README.md) | [⏪](./03_Algebra_Lineal.ipynb)| [⏩](./05_Resumen.ipynb)|"
   ]
  },
  {
   "attachments": {},
   "cell_type": "markdown",
   "metadata": {},
   "source": [
    "# **4. Estadísticas**"
   ]
  },
  {
   "attachments": {},
   "cell_type": "markdown",
   "metadata": {},
   "source": [
    "## **Medidas de Tendencia central y dispersión**"
   ]
  },
  {
   "attachments": {},
   "cell_type": "markdown",
   "metadata": {},
   "source": [
    "En estadística, las medidas de tendencia central y dispersión son herramientas esenciales para analizar conjuntos de datos y obtener información valiosa acerca de su distribución. En Python, existen múltiples librerías que permiten calcular estas medidas de manera sencilla.\n",
    "\n",
    "1. **Medidas de tendencia central**\n",
    "\n",
    "Las medidas de tendencia central son valores que representan la ubicación central de los datos. Las medidas de tendencia central más comunes son la media, la mediana y la moda.\n",
    "\n",
    "* **Media**\n",
    "\n",
    "La media es el promedio aritmético de los valores en un conjunto de datos. Se calcula sumando todos los valores y dividiendo el resultado entre el número de elementos en el conjunto."
   ]
  },
  {
   "cell_type": "code",
   "execution_count": 1,
   "metadata": {},
   "outputs": [
    {
     "name": "stdout",
     "output_type": "stream",
     "text": [
      "Media: 8.0\n"
     ]
    }
   ],
   "source": [
    "import numpy as np\n",
    "\n",
    "# Conjunto de datos\n",
    "datos = [4, 6, 8, 10, 12]\n",
    "\n",
    "# Media\n",
    "media = np.mean(datos)\n",
    "\n",
    "print(\"Media:\", media)"
   ]
  },
  {
   "attachments": {},
   "cell_type": "markdown",
   "metadata": {},
   "source": [
    "* **Mediana**\n",
    "\n",
    "La mediana es el valor que divide el conjunto de datos en dos partes iguales, es decir, el `50%` de los valores son mayores o iguales a la mediana y el `50%` restante son menores o iguales a la mediana. Para calcular la mediana, es necesario ordenar los datos de manera ascendente o descendente y elegir el valor que ocupa la posición central."
   ]
  },
  {
   "cell_type": "code",
   "execution_count": 2,
   "metadata": {},
   "outputs": [
    {
     "name": "stdout",
     "output_type": "stream",
     "text": [
      "Mediana: 8.0\n"
     ]
    }
   ],
   "source": [
    "# Conjunto de datos\n",
    "datos = [4, 6, 8, 10, 12]\n",
    "\n",
    "# Mediana\n",
    "mediana = np.median(datos)\n",
    "\n",
    "print(\"Mediana:\", mediana)"
   ]
  },
  {
   "attachments": {},
   "cell_type": "markdown",
   "metadata": {},
   "source": [
    "* **Moda**\n",
    "\n",
    "La moda es el valor que aparece con mayor frecuencia en un conjunto de datos. Si no hay un valor que se repita más que los demás, se dice que el conjunto de datos no tiene moda."
   ]
  },
  {
   "cell_type": "code",
   "execution_count": 3,
   "metadata": {},
   "outputs": [
    {
     "name": "stdout",
     "output_type": "stream",
     "text": [
      "Moda: 8\n"
     ]
    }
   ],
   "source": [
    "# Conjunto de datos\n",
    "datos = [4, 6, 8, 10, 12, 8]\n",
    "\n",
    "# Moda\n",
    "from statistics import mode\n",
    "\n",
    "moda = mode(datos)\n",
    "\n",
    "print(\"Moda:\", moda)"
   ]
  },
  {
   "attachments": {},
   "cell_type": "markdown",
   "metadata": {},
   "source": [
    "2.  **Medidas de dispersión**\n",
    "\n",
    "Las medidas de dispersión indican la variabilidad o dispersión de los datos. Las medidas de dispersión más comunes son el rango, la varianza y la desviación estándar.\n",
    "\n",
    "* **Rango**\n",
    "\n",
    "El rango es la diferencia entre el valor máximo y el valor mínimo en un conjunto de datos."
   ]
  },
  {
   "cell_type": "code",
   "execution_count": 4,
   "metadata": {},
   "outputs": [
    {
     "name": "stdout",
     "output_type": "stream",
     "text": [
      "Rango: 8\n"
     ]
    }
   ],
   "source": [
    "import numpy as np\n",
    "\n",
    "# Conjunto de datos\n",
    "datos = [4, 6, 8, 10, 12]\n",
    "\n",
    "# Rango\n",
    "rango = np.max(datos) - np.min(datos)\n",
    "\n",
    "print(\"Rango:\", rango)"
   ]
  },
  {
   "attachments": {},
   "cell_type": "markdown",
   "metadata": {},
   "source": [
    "* **Varianza**\n",
    "\n",
    "La varianza es una medida de la dispersión de los datos con respecto a su media. Se calcula como la media aritmética de las diferencias al cuadrado entre cada valor y la media."
   ]
  },
  {
   "cell_type": "code",
   "execution_count": 5,
   "metadata": {},
   "outputs": [
    {
     "name": "stdout",
     "output_type": "stream",
     "text": [
      "Varianza: 8.0\n"
     ]
    }
   ],
   "source": [
    "# Conjunto de datos\n",
    "datos = [4, 6, 8, 10, 12]\n",
    "\n",
    "# Varianza\n",
    "varianza = np.var(datos)\n",
    "\n",
    "print(\"Varianza:\", varianza)"
   ]
  },
  {
   "attachments": {},
   "cell_type": "markdown",
   "metadata": {},
   "source": [
    "* **Desviación estándar**\n",
    "\n",
    "La desviación estándar es la raíz cuadrada de la varianza y se utiliza para describir la dispersión"
   ]
  },
  {
   "cell_type": "code",
   "execution_count": 6,
   "metadata": {},
   "outputs": [
    {
     "name": "stdout",
     "output_type": "stream",
     "text": [
      "Desviación estándar: 2.8284271247461903\n"
     ]
    }
   ],
   "source": [
    "# Conjunto de datos\n",
    "datos = [4, 6, 8, 10, 12]\n",
    "\n",
    "# Desviación estándar\n",
    "desviacion = np.std(datos)\n",
    "\n",
    "print(\"Desviación estándar:\", desviacion)"
   ]
  },
  {
   "attachments": {},
   "cell_type": "markdown",
   "metadata": {},
   "source": [
    "En resumen, en Python se pueden utilizar diversas librerías, como `numpy` y `statistics`, para calcular medidas de tendencia central y dispersión en un conjunto de datos. Las medidas de tendencia central incluyen la media, la mediana y la moda, mientras que las medidas de dispersión incluyen el rango, la varianza y la desviación estándar. Estas medidas son muy útiles para entender la distribución de los datos y tomar decisiones informadas a partir de ellos."
   ]
  },
  {
   "attachments": {},
   "cell_type": "markdown",
   "metadata": {},
   "source": [
    "## **Promedios**"
   ]
  },
  {
   "attachments": {},
   "cell_type": "markdown",
   "metadata": {},
   "source": [
    "Los promedios son medidas de tendencia central que permiten resumir un conjunto de datos en un solo valor que representa un `\"valor típico\"` o `\"representativo\"` del conjunto. En Python, se pueden calcular diferentes tipos de promedios, como la media, la mediana y la moda.\n",
    "\n",
    "* **Media**\n",
    "\n",
    "La media es el promedio aritmético de los datos y se calcula sumando todos los valores y dividiendo por el número total de valores. En Python, se puede calcular fácilmente la media de un conjunto de datos utilizando la función `mean()` de la librería `NumPy`."
   ]
  },
  {
   "cell_type": "code",
   "execution_count": 7,
   "metadata": {},
   "outputs": [
    {
     "name": "stdout",
     "output_type": "stream",
     "text": [
      "Media: 8.0\n"
     ]
    }
   ],
   "source": [
    "import numpy as np\n",
    "\n",
    "# Conjunto de datos\n",
    "datos = [4, 6, 8, 10, 12]\n",
    "\n",
    "# Media\n",
    "media = np.mean(datos)\n",
    "\n",
    "print(\"Media:\", media)"
   ]
  },
  {
   "attachments": {},
   "cell_type": "markdown",
   "metadata": {},
   "source": [
    "* **Mediana**\n",
    "\n",
    "La mediana es el valor central en un conjunto de datos ordenados. En otras palabras, la mitad de los valores son iguales o menores que la mediana, y la otra mitad son iguales o mayores. En Python, se puede calcular la mediana de un conjunto de datos utilizando la función `median()` de la librería `NumPy`."
   ]
  },
  {
   "cell_type": "code",
   "execution_count": 8,
   "metadata": {},
   "outputs": [
    {
     "name": "stdout",
     "output_type": "stream",
     "text": [
      "Mediana: 8.0\n"
     ]
    }
   ],
   "source": [
    "import numpy as np\n",
    "\n",
    "# Conjunto de datos\n",
    "datos = [4, 6, 8, 10, 12]\n",
    "\n",
    "# Mediana\n",
    "mediana = np.median(datos)\n",
    "\n",
    "print(\"Mediana:\", mediana)"
   ]
  },
  {
   "attachments": {},
   "cell_type": "markdown",
   "metadata": {},
   "source": [
    "En este ejemplo, la mediana es igual a la media ya que el conjunto de datos es simétrico.\n",
    "\n",
    "* **Moda**\n",
    "\n",
    "La moda es el valor que aparece con mayor frecuencia en un conjunto de datos. En Python, se puede calcular la moda de un conjunto de datos utilizando la función `mode()` de la librería `statistics`."
   ]
  },
  {
   "cell_type": "code",
   "execution_count": 9,
   "metadata": {},
   "outputs": [
    {
     "name": "stdout",
     "output_type": "stream",
     "text": [
      "Moda: 8\n"
     ]
    }
   ],
   "source": [
    "import statistics\n",
    "\n",
    "# Conjunto de datos\n",
    "datos = [4, 6, 8, 10, 12, 8]\n",
    "\n",
    "# Moda\n",
    "moda = statistics.mode(datos)\n",
    "\n",
    "print(\"Moda:\", moda)"
   ]
  },
  {
   "attachments": {},
   "cell_type": "markdown",
   "metadata": {},
   "source": [
    "En este ejemplo, la moda es igual a `8` ya que es el valor que aparece con mayor frecuencia en el conjunto de datos.\n",
    "\n",
    "En resumen, en Python se pueden calcular diferentes tipos de promedios, como la media, la mediana y la moda, utilizando funciones de librerías como `NumPy` y `statistics`. Estas medidas permiten resumir un conjunto de datos en un solo valor representativo, lo que es útil para entender la distribución de los datos y tomar decisiones informadas a partir de ellos."
   ]
  },
  {
   "attachments": {},
   "cell_type": "markdown",
   "metadata": {},
   "source": [
    "## **Varianza**"
   ]
  },
  {
   "attachments": {},
   "cell_type": "markdown",
   "metadata": {},
   "source": [
    "La varianza es una medida de dispersión que indica qué tan alejados están los valores de un conjunto de datos con respecto a su media. Una varianza alta indica que los valores están muy dispersos, mientras que una varianza baja indica que los valores están más agrupados en torno a la media.\n",
    "\n",
    "En Python, se puede calcular la varianza utilizando la función `var()` de la librería `NumPy`. La fórmula para calcular la varianza es:"
   ]
  },
  {
   "cell_type": "markdown",
   "metadata": {},
   "source": [
    "La ecuación matemática de la varianza se define como:\n",
    "\n",
    "$\\text{Var}(X) = \\frac{\\sum_{i=1}^{n}(x_i - \\bar{x})^2}{n}$\n",
    "\n",
    "donde:\n",
    "- $\\text{Var}(X)$ es la varianza de la variable aleatoria $(X)$.\n",
    "- $(n)$ es el número de observaciones en la muestra.\n",
    "- $(x_i)$ son los valores individuales de la muestra.\n",
    "- $(\\bar{x})$ es la media de la muestra.\n",
    "\n",
    "Esta fórmula representa la medida de dispersión de una variable aleatoria. Calcula la media de las diferencias cuadradas entre cada valor individual y la media de la muestra, y luego divide esa suma por el número de observaciones. La varianza es útil para entender cuán dispersos están los valores de una variable alrededor de su media."
   ]
  },
  {
   "cell_type": "code",
   "execution_count": 10,
   "metadata": {},
   "outputs": [
    {
     "name": "stdout",
     "output_type": "stream",
     "text": [
      "Varianza: 10.0\n"
     ]
    }
   ],
   "source": [
    "import numpy as np\n",
    "\n",
    "# Conjunto de datos\n",
    "datos = [4, 6, 8, 10, 12]\n",
    "\n",
    "# Media\n",
    "media = np.mean(datos)\n",
    "\n",
    "# Varianza\n",
    "varianza = np.var(datos, ddof=1)  # ddof=1 para utilizar n-1 en el denominador\n",
    "\n",
    "print(\"Varianza:\", varianza)"
   ]
  },
  {
   "attachments": {},
   "cell_type": "markdown",
   "metadata": {},
   "source": [
    "En este ejemplo, la varianza es igual a `8.0`, lo que indica que los valores están bastante dispersos con respecto a la media (que es igual a 8.0).\n",
    "\n",
    "También es importante mencionar que la varianza puede ser afectada por valores atípicos (outliers) en el conjunto de datos, lo que puede resultar en una medida de dispersión no muy representativa. Para mitigar este problema, se puede utilizar la desviación estándar, que es simplemente la raíz cuadrada de la varianza, y que proporciona una medida de dispersión más robusta.\n",
    "\n",
    "En Python, se puede calcular la desviación estándar utilizando la función `std()` de la librería `NumPy`. La fórmula para calcular la desviación estándar es:"
   ]
  },
  {
   "cell_type": "markdown",
   "metadata": {},
   "source": [
    "La desviación estándar $(\\sigma)$ o $(s)$ es simplemente la raíz cuadrada positiva de la varianza. La fórmula matemática para la desviación estándar se expresa como:\n",
    "\n",
    "$\\sigma = \\sqrt{\\text{Var}(X)}$\n",
    "\n",
    "Donde:\n",
    "- $(\\sigma)$ es la desviación estándar.\n",
    "- $\\text{Var}(X)$ es la varianza de la variable aleatoria $(X)$.\n",
    "\n",
    "En lugar de usar la varianza directamente para describir la dispersión de los datos, la desviación estándar proporciona una medida en las mismas unidades que los datos originales, lo que puede facilitar la interpretación. La desviación estándar es una medida común de la dispersión en estadísticas y se utiliza ampliamente en análisis de datos y en diversas disciplinas."
   ]
  },
  {
   "attachments": {},
   "cell_type": "markdown",
   "metadata": {},
   "source": [
    "A continuación se presenta un ejemplo de cómo calcular la desviación estándar en Python:"
   ]
  },
  {
   "cell_type": "code",
   "execution_count": 11,
   "metadata": {},
   "outputs": [
    {
     "name": "stdout",
     "output_type": "stream",
     "text": [
      "Desviación estándar: 3.1622776601683795\n"
     ]
    }
   ],
   "source": [
    "import numpy as np\n",
    "\n",
    "# Conjunto de datos\n",
    "datos = [4, 6, 8, 10, 12]\n",
    "\n",
    "# Media\n",
    "media = np.mean(datos)\n",
    "\n",
    "# Desviación estándar\n",
    "desv_estandar = np.std(datos, ddof=1)  # ddof=1 para utilizar n-1 en el denominador\n",
    "\n",
    "print(\"Desviación estándar:\", desv_estandar)"
   ]
  },
  {
   "attachments": {},
   "cell_type": "markdown",
   "metadata": {},
   "source": [
    "En este ejemplo, la desviación estándar es igual a `2.8284`, lo que indica que los valores están bastante dispersos con respecto a la media."
   ]
  },
  {
   "attachments": {},
   "cell_type": "markdown",
   "metadata": {},
   "source": [
    "## **Tablas de frecuencias**"
   ]
  },
  {
   "attachments": {},
   "cell_type": "markdown",
   "metadata": {},
   "source": [
    "Las tablas de frecuencias son una forma de resumir y visualizar la distribución de un conjunto de datos en términos de la cantidad de veces que aparece cada valor en el conjunto. En Python, se pueden crear tablas de frecuencias utilizando la librería `pandas`.\n",
    "\n",
    "Para crear una tabla de frecuencias, se debe seguir los siguientes pasos:\n",
    "\n",
    "* Crear una serie o un arreglo de pandas con los datos.\n",
    "* Utilizar la función `value_counts()` para contar la frecuencia de cada valor.\n",
    "* Opcionalmente, se puede ordenar los valores por frecuencia o por valor utilizando la función `sort_index()` o `sort_values()`.\n",
    "\n",
    "A continuación, se presenta un ejemplo de cómo crear una tabla de frecuencias en Python utilizando la librería pandas:"
   ]
  },
  {
   "cell_type": "code",
   "execution_count": 12,
   "metadata": {},
   "outputs": [
    {
     "name": "stdout",
     "output_type": "stream",
     "text": [
      "4     2\n",
      "6     2\n",
      "8     3\n",
      "10    2\n",
      "12    1\n",
      "Name: count, dtype: int64\n"
     ]
    }
   ],
   "source": [
    "import pandas as pd\n",
    "\n",
    "# Conjunto de datos\n",
    "datos = [4, 6, 8, 10, 12, 8, 6, 4, 10, 8]\n",
    "\n",
    "# Crear una serie de pandas con los datos\n",
    "serie_datos = pd.Series(datos)\n",
    "\n",
    "# Crear la tabla de frecuencias\n",
    "tabla_frecuencias = serie_datos.value_counts().sort_index()\n",
    "\n",
    "print(tabla_frecuencias)"
   ]
  },
  {
   "attachments": {},
   "cell_type": "markdown",
   "metadata": {},
   "source": [
    "En este ejemplo, se crea una serie de `pandas` con los datos `[4, 6, 8, 10, 12, 8, 6, 4, 10, 8]`. Luego, se utiliza la función `value_counts()` para contar la frecuencia de cada valor en la serie y se ordenan los valores utilizando la función `sort_index()`. La tabla de frecuencias resultante muestra que el valor `4` aparece dos veces, el valor `6` aparece dos veces, el valor `8` aparece tres veces, el valor `10` aparece dos veces, y el valor `12` aparece una vez.\n",
    "\n",
    "También es posible crear tablas de frecuencias acumuladas, que muestran la frecuencia acumulada de cada valor en el conjunto de datos. En Python, se puede crear una tabla de frecuencias acumuladas utilizando la función `cumsum()` de `pandas`. A continuación, se presenta un ejemplo de cómo crear una tabla de frecuencias acumuladas en Python:"
   ]
  },
  {
   "cell_type": "code",
   "execution_count": 13,
   "metadata": {},
   "outputs": [
    {
     "name": "stdout",
     "output_type": "stream",
     "text": [
      "4      2\n",
      "6      4\n",
      "8      7\n",
      "10     9\n",
      "12    10\n",
      "Name: count, dtype: int64\n"
     ]
    }
   ],
   "source": [
    "import pandas as pd\n",
    "\n",
    "# Conjunto de datos\n",
    "datos = [4, 6, 8, 10, 12, 8, 6, 4, 10, 8]\n",
    "\n",
    "# Crear una serie de pandas con los datos\n",
    "serie_datos = pd.Series(datos)\n",
    "\n",
    "# Crear la tabla de frecuencias\n",
    "tabla_frecuencias = serie_datos.value_counts().sort_index()\n",
    "\n",
    "# Crear la tabla de frecuencias acumuladas\n",
    "tabla_frecuencias_acum = tabla_frecuencias.cumsum()\n",
    "\n",
    "print(tabla_frecuencias_acum)"
   ]
  },
  {
   "attachments": {},
   "cell_type": "markdown",
   "metadata": {},
   "source": [
    "En este ejemplo, se crea primero la tabla de frecuencias como en el ejemplo anterior. Luego, se utiliza la función `cumsum()` para crear la tabla de frecuencias acumuladas. La tabla de frecuencias acumuladas resultante muestra la frecuencia acumulada de cada valor en el conjunto de datos."
   ]
  },
  {
   "attachments": {},
   "cell_type": "markdown",
   "metadata": {},
   "source": [
    "## **Probabilidades**"
   ]
  },
  {
   "attachments": {},
   "cell_type": "markdown",
   "metadata": {},
   "source": [
    "La probabilidad es una medida numérica que cuantifica la posibilidad de que un evento ocurra. En estadística, la probabilidad se utiliza para modelar y analizar fenómenos aleatorios.\n",
    "\n",
    "En Python, existen varias librerías para trabajar con probabilidades, tales como `NumPy`, `SciPy`, `Pandas` y `Scikit-Learn`. A continuación, se presentan algunos conceptos y ejemplos básicos de cómo trabajar con probabilidades en Python:\n",
    "\n",
    "* **Definir un espacio muestral:**\n",
    "\n",
    " El espacio muestral es el conjunto de todos los posibles resultados de un experimento aleatorio. En Python, se puede representar un espacio muestral utilizando una lista o un arreglo de `NumPy`."
   ]
  },
  {
   "cell_type": "code",
   "execution_count": 14,
   "metadata": {},
   "outputs": [],
   "source": [
    "import numpy as np\n",
    "\n",
    "# Definir un espacio muestral\n",
    "espacio_muestral = np.array([1, 2, 3, 4, 5, 6])"
   ]
  },
  {
   "attachments": {},
   "cell_type": "markdown",
   "metadata": {},
   "source": [
    "* **Definir una distribución de probabilidad:**\n",
    "\n",
    " Una distribución de probabilidad es una función que asigna a cada resultado de un experimento aleatorio una probabilidad. En Python, se pueden definir distribuciones de probabilidad utilizando las funciones de distribución de probabilidad de la librería `SciPy`."
   ]
  },
  {
   "cell_type": "code",
   "execution_count": 15,
   "metadata": {},
   "outputs": [],
   "source": [
    "from scipy.stats import norm\n",
    "\n",
    "# Definir una distribución normal\n",
    "distribucion_normal = norm(loc=0, scale=1)"
   ]
  },
  {
   "attachments": {},
   "cell_type": "markdown",
   "metadata": {},
   "source": [
    "* **Calcular la probabilidad de un evento:**\n",
    "\n",
    " La probabilidad de un evento es la suma de las probabilidades de todos los resultados que satisfacen el evento. En Python, se puede calcular la probabilidad de un evento utilizando las funciones de la librería `SciPy`."
   ]
  },
  {
   "cell_type": "code",
   "execution_count": 16,
   "metadata": {},
   "outputs": [
    {
     "name": "stdout",
     "output_type": "stream",
     "text": [
      "La probabilidad de que X > 1 es: 0.15865525393145707\n"
     ]
    }
   ],
   "source": [
    "from scipy.stats import norm\n",
    "\n",
    "# Definir una distribución normal\n",
    "distribucion_normal = norm(loc=0, scale=1)\n",
    "\n",
    "# Calcular la probabilidad de que X > 1\n",
    "probabilidad = 1 - distribucion_normal.cdf(1)\n",
    "\n",
    "print(\"La probabilidad de que X > 1 es:\", probabilidad)"
   ]
  },
  {
   "attachments": {},
   "cell_type": "markdown",
   "metadata": {},
   "source": [
    "En este ejemplo, se define una distribución normal con media `0` y desviación estándar `1` utilizando la función `norm()`. Luego, se calcula la probabilidad de que una variable aleatoria `X` de esta distribución sea mayor que `1` utilizando la función `cdf()` (función de distribución acumulada). La probabilidad resultante se imprime por pantalla.\n",
    "\n",
    "* **Simular eventos aleatorios:**\n",
    "\n",
    " La simulación de eventos aleatorios es una herramienta importante en estadística para evaluar la incertidumbre y la variabilidad de un fenómeno aleatorio. En Python, se pueden simular eventos aleatorios utilizando las funciones de generación de números aleatorios de la librería `NumPy`."
   ]
  },
  {
   "cell_type": "code",
   "execution_count": 17,
   "metadata": {},
   "outputs": [
    {
     "name": "stdout",
     "output_type": "stream",
     "text": [
      "Números aleatorios generados: [0.1544792  0.28370236 0.90786391 0.19332562 0.26338239 0.2647681\n",
      " 0.60342428 0.17123427 0.11547203 0.93304359]\n"
     ]
    }
   ],
   "source": [
    "import numpy as np\n",
    "\n",
    "# Generar 10 números aleatorios entre 0 y 1\n",
    "numeros_aleatorios = np.random.rand(10)\n",
    "\n",
    "print(\"Números aleatorios generados:\", numeros_aleatorios)"
   ]
  },
  {
   "attachments": {},
   "cell_type": "markdown",
   "metadata": {},
   "source": [
    "En este ejemplo, se generan 10 números aleatorios entre 0 y 1 utilizando la función `rand()` de `NumPy`. Los números aleatorios resultantes se imprimen por pantalla.\n",
    "\n",
    "En resumen, Python cuenta con diversas herramientas para trabajar con probabilidades y estadística, lo que permite modelar y analizar fenómenos aleatorios de manera eficiente y flexible."
   ]
  },
  {
   "attachments": {},
   "cell_type": "markdown",
   "metadata": {},
   "source": [
    "## **Probabilidad condicional**"
   ]
  },
  {
   "attachments": {},
   "cell_type": "markdown",
   "metadata": {},
   "source": [
    "La probabilidad condicional es la probabilidad de que un evento ocurra dado que otro evento ha ocurrido. En otras palabras, es la probabilidad de un evento `A` dado que se sabe que un evento `B` ha ocurrido. La probabilidad condicional se denota como `P(A|B)` y se lee como `\"la probabilidad de A dado B\"`.\n",
    "\n",
    "En Python, se puede calcular la probabilidad condicional utilizando la regla de `Bayes` o utilizando la definición de probabilidad condicional.\n",
    "\n",
    "* **Regla de Bayes:**\n",
    "\n",
    " La regla de Bayes es una fórmula que permite calcular la probabilidad condicional utilizando la probabilidad de los eventos y la probabilidad de que un evento ocurra dado que otro evento ha ocurrido. En Python, se puede calcular la probabilidad condicional utilizando la fórmula de Bayes y las funciones de la librería `SciPy`."
   ]
  },
  {
   "cell_type": "code",
   "execution_count": 18,
   "metadata": {},
   "outputs": [
    {
     "name": "stdout",
     "output_type": "stream",
     "text": [
      "La probabilidad de que X > 1 dado que Y > 0 es: 1.0\n"
     ]
    }
   ],
   "source": [
    "from scipy.stats import norm\n",
    "\n",
    "# Definir distribuciones normales\n",
    "distribucion_normal1 = norm(loc=0, scale=1)\n",
    "distribucion_normal2 = norm(loc=1, scale=1)\n",
    "\n",
    "# Calcular la probabilidad de que X > 1 dado que Y > 0\n",
    "probabilidad_y_positivo = 1 - distribucion_normal2.cdf(0)\n",
    "probabilidad_x_positivo_y_positivo = distribucion_normal1.cdf(1)\n",
    "probabilidad_y_positivo_dado_x_positivo = probabilidad_x_positivo_y_positivo / probabilidad_y_positivo\n",
    "\n",
    "print(\"La probabilidad de que X > 1 dado que Y > 0 es:\", probabilidad_y_positivo_dado_x_positivo)"
   ]
  },
  {
   "attachments": {},
   "cell_type": "markdown",
   "metadata": {},
   "source": [
    "En este ejemplo, se definen dos distribuciones normales utilizando la función `norm()`. Luego, se calcula la probabilidad de que `Y` sea mayor que `0` utilizando la función `cdf()`. A continuación, se calcula la probabilidad de que `X` sea mayor que `1` dado que `Y` es mayor que `0` utilizando la fórmula de Bayes.\n",
    "\n",
    "* **Definición de probabilidad condicional:**\n",
    "\n",
    " La probabilidad condicional también se puede calcular utilizando la definición de probabilidad condicional. En Python, se puede calcular la probabilidad condicional utilizando las funciones de la librería `NumPy`."
   ]
  },
  {
   "cell_type": "code",
   "execution_count": 19,
   "metadata": {},
   "outputs": [
    {
     "name": "stdout",
     "output_type": "stream",
     "text": [
      "La probabilidad de que X > 1 dado que Y > 0 es: 0.144\n"
     ]
    }
   ],
   "source": [
    "import numpy as np\n",
    "\n",
    "# Generar dos variables aleatorias X e Y\n",
    "x = np.random.normal(0, 1, 1000)\n",
    "y = np.random.normal(1, 1, 1000)\n",
    "\n",
    "# Calcular la probabilidad de que X > 1 dado que Y > 0\n",
    "muestra = (y > 0) & (x > 1)\n",
    "probabilidad_y_positivo_dado_x_positivo = np.mean(muestra)\n",
    "\n",
    "print(\"La probabilidad de que X > 1 dado que Y > 0 es:\", probabilidad_y_positivo_dado_x_positivo)"
   ]
  },
  {
   "attachments": {},
   "cell_type": "markdown",
   "metadata": {},
   "source": [
    "En este ejemplo, se generan dos variables aleatorias `X` e `Y` utilizando la función `normal()` de `NumPy`. Luego, se calcula la probabilidad de que `X` sea mayor que `1` dado que `Y` es mayor que `0` utilizando la definición de probabilidad condicional y la función `mean()` de `NumPy`.\n",
    "\n",
    "En resumen, la probabilidad condicional es una herramienta importante en estadística para modelar y analizar eventos aleatorios condicionados a la ocurrencia de otro evento. En Python, se pueden calcular la probabilidad condicional utilizando la regla de Bayes o la definición de probabilidad condicional y las funciones de las librerias."
   ]
  },
  {
   "attachments": {},
   "cell_type": "markdown",
   "metadata": {},
   "source": [
    "## **Teorema de Bayes**"
   ]
  },
  {
   "attachments": {},
   "cell_type": "markdown",
   "metadata": {},
   "source": [
    "El Teorema de Bayes es una herramienta fundamental en el campo de la estadística que nos permite actualizar la probabilidad de un evento a medida que se reciben nuevos datos o información. En Python, podemos utilizar diversas librerías para aplicar este teorema, como `NumPy` o `SciPy`.\n",
    "\n",
    "La fórmula del Teorema de Bayes es la siguiente:\n",
    "\n",
    "El teorema de Bayes es una fórmula matemática que describe la probabilidad condicional de un evento, basándose en la información previa sobre otros eventos relacionados. La ecuación general del teorema de Bayes es la siguiente:\n",
    "\n",
    "$P(A|B) = \\frac{P(B|A) \\cdot P(A)}{P(B)}$\n",
    "\n",
    "Donde:\n",
    "- $P(A|B)$ es la probabilidad condicional de que el evento $(A)$ ocurra dado que el evento $(B)$ ha ocurrido.\n",
    "- $P(B|A)$ es la probabilidad condicional de que el evento $(B)$ ocurra dado que el evento $(A)$ ha ocurrido.\n",
    "- $P(A)$ y $P(B)$ son las probabilidades marginales de que ocurran los eventos $(A)$ y $(B)$, respectivamente.\n",
    "\n",
    "En palabras, el teorema de Bayes establece cómo actualizar las probabilidades de un evento dado el conocimiento de otro evento relacionado. Es fundamental en estadística, aprendizaje automático, y diversas áreas donde se manejan probabilidades y se necesitan inferencias basadas en evidencia.\n",
    "\n",
    "Para entender mejor el Teorema de Bayes, veamos un ejemplo práctico:\n",
    "\n",
    "Supongamos que en una ciudad se ha detectado una enfermedad que afecta al `1%` de la población. Además, se sabe que la prueba utilizada para detectar esta enfermedad tiene una tasa de falsos positivos del `5%`, es decir, que un `5%` de las personas que no tienen la enfermedad obtienen un resultado positivo en la prueba. También se sabe que la tasa de falsos negativos de la prueba es del `10%`, es decir, que un `10%` de las personas que tienen la enfermedad obtienen un resultado negativo en la prueba.\n",
    "\n",
    "Ahora, si una persona ha dado positivo en la prueba, ¿cuál es la probabilidad de que realmente tenga la enfermedad?\n",
    "\n",
    "\n",
    "Definimos los eventos:\n",
    "- $(A)$: la persona tiene la enfermedad.\n",
    "- $(B)$: la prueba da positivo.\n",
    "\n",
    "Parámetros dados:\n",
    "- $P(A)$: probabilidad de tener la enfermedad, $(0.01)$ o $(1\\%)$.\n",
    "- $P(B|A)$: probabilidad de que la prueba sea positiva dado que la persona tiene la enfermedad, $(0.9)$ o $(90\\%)$.\n",
    "- $P(\\neg A)$: probabilidad de no tener la enfermedad, $(0.99)$ o $(99\\%)$.\n",
    "- $P(B|\\neg A)$: probabilidad de que la prueba sea positiva dado que la persona no tiene la enfermedad, $(0.05)$ o $(5\\%)$.\n",
    "\n",
    "Ahora aplicamos el teorema de Bayes:\n",
    "\n",
    "$P(A|B) = \\frac{P(B|A) \\cdot P(A)}{P(B)}$\n",
    "\n",
    "Calculamos $P(B)$:\n",
    "\n",
    "$P(B) = P(B|A) \\cdot P(A) + P(B|\\neg A) \\cdot P(\\neg A)$\n",
    "\n",
    "Sustituimos los valores:\n",
    "\n",
    "$P(B) = 0.9 \\cdot 0.01 + 0.05 \\cdot 0.99$\n",
    "\n",
    "Ahora calculamos $P(A|B)$:\n",
    "\n",
    "$P(A|B) = \\frac{0.9 \\cdot 0.01}{0.9 \\cdot 0.01 + 0.05 \\cdot 0.99}$\n",
    "\n",
    "Vamos a realizar estos cálculos.\n",
    "\n",
    "Primero, calculemos $P(B)$:\n",
    "\n",
    "$P(B) = 0.9 \\cdot 0.01 + 0.05 \\cdot 0.99$\n",
    "\n",
    "$P(B) = 0.009 + 0.0495$\n",
    "\n",
    "$P(B) = 0.0585$\n",
    "\n",
    "Ahora, sustituimos este valor en la fórmula del teorema de Bayes para obtener $P(A|B)$:\n",
    "\n",
    "$P(A|B) = \\frac{0.9 \\cdot 0.01}{0.0585}$\n",
    "\n",
    "$P(A|B) = \\frac{0.009}{0.0585}$\n",
    "\n",
    "$P(A|B) \\approx 0.154$\n",
    "\n",
    "Por lo tanto, la probabilidad de que una persona tenga la enfermedad dado que la prueba dio positivo es aproximadamente $(15.4\\%)$."
   ]
  },
  {
   "attachments": {},
   "cell_type": "markdown",
   "metadata": {},
   "source": [
    "## **Probabilidad total**"
   ]
  },
  {
   "attachments": {},
   "cell_type": "markdown",
   "metadata": {},
   "source": [
    "La Regla de la Probabilidad Total es una herramienta utilizada en estadística para calcular la probabilidad de un evento a partir de información de eventos relacionados. En Python, podemos utilizar diversas librerías para aplicar esta regla, como `NumPy` o `SciPy`.\n",
    "\n",
    "La ecuación matemática de la probabilidad total se expresa utilizando el siguiente teorema. Supongamos que tenemos un conjunto completo y exhaustivo de eventos $(B_1, B_2, \\ldots, B_k)$ es decir, $(B_1 \\cup B_2 \\cup \\ldots \\cup B_k = \\Omega)$ y $(B_i \\cap B_j = \\emptyset)$ para $(i \\neq j)$, y queremos encontrar la probabilidad de otro evento $(A)$. Entonces, la probabilidad total de $(A)$ se puede expresar como:\n",
    "\n",
    "$P(A) = \\sum_{i=1}^{k} P(A|B_i) \\cdot P(B_i)$\n",
    "\n",
    "Donde:\n",
    "- $P(A)$ es la probabilidad del evento $(A)$.\n",
    "- $P(A|B_i)$ es la probabilidad condicional de $(A)$ dado que $(B_i)$ ha ocurrido.\n",
    "- $P(B_i)$ es la probabilidad del evento $(B_i)$.\n",
    "\n",
    "Esta fórmula representa la suma ponderada de las probabilidades condicionales de $(A)$ dado cada $(B_i)$, ponderadas por las probabilidades de $(B_i)$ individualmente.\n",
    "\n",
    "Veamos un ejemplo práctico:\n",
    "\n",
    "Supongamos que una tienda de ropa vende tres tipos de camisas: rojas, verdes y azules. El `40%` de las camisas vendidas son rojas, el `30%` son verdes y el `30%` son azules. Además, se sabe que el `10%` de las camisas rojas están en oferta, el `20%` de las camisas verdes están en oferta y el `15%` de las camisas azules están en oferta.\n",
    "\n",
    "Si un cliente compra una camisa en la tienda, ¿cuál es la probabilidad de que esté en oferta?\n",
    "\n",
    "Para aplicar la Regla de la Probabilidad Total, podemos utilizar las siguientes probabilidades:\n",
    "\n",
    "$P(roja) = 0.4$\n",
    "\n",
    "$P(verde) = 0.3$\n",
    "\n",
    "$P(azul) = 0.3$\n",
    "\n",
    "$P(oferta | roja) = 0.1$\n",
    "\n",
    "$P(oferta | verde) = 0.2$\n",
    "\n",
    "$P(oferta | azul) = 0.15$\n",
    "\n",
    "Entonces, podemos calcular la probabilidad de que una camisa esté en oferta utilizando la Regla de la Probabilidad Total:\n",
    "\n",
    "$P(oferta) = P(oferta | roja) * P(roja) + P(oferta | verde) * P(verde) + P(oferta | azul) * P(azul)$\n",
    "\n",
    "$P(oferta) = 0.1 * 0.4 + 0.2 * 0.3 + 0.15 * 0.3$\n",
    "\n",
    "$P(oferta) = 0.105$\n",
    "\n",
    "Por lo tanto, la probabilidad de que una camisa esté en oferta es del `10.5%`.\n",
    "\n",
    "En Python, podemos calcular esta probabilidad utilizando las siguientes líneas de código:"
   ]
  },
  {
   "cell_type": "code",
   "execution_count": 20,
   "metadata": {},
   "outputs": [
    {
     "name": "stdout",
     "output_type": "stream",
     "text": [
      "La probabilidad de que una camisa esté en oferta es: 0.14500000000000002\n"
     ]
    }
   ],
   "source": [
    "P_roja = 0.4\n",
    "P_verde = 0.3\n",
    "P_azul = 0.3\n",
    "\n",
    "P_oferta_dado_roja = 0.1\n",
    "P_oferta_dado_verde = 0.2\n",
    "P_oferta_dado_azul = 0.15\n",
    "\n",
    "P_oferta = P_oferta_dado_roja * P_roja + P_oferta_dado_verde * P_verde + P_oferta_dado_azul * P_azul\n",
    "\n",
    "print(\"La probabilidad de que una camisa esté en oferta es:\", P_oferta)"
   ]
  },
  {
   "attachments": {},
   "cell_type": "markdown",
   "metadata": {},
   "source": [
    "## **Distribución Normal**"
   ]
  },
  {
   "attachments": {},
   "cell_type": "markdown",
   "metadata": {},
   "source": [
    "La distribución normal tiene una forma de campana y es simétrica en torno a su media. La media `(mu)` determina el punto donde se encuentra el centro de la campana, mientras que la desviación estándar `(sigma)` determina qué tan extendida es la campana. La probabilidad de que un valor se encuentre dentro de cierto rango en una distribución normal puede ser calculada utilizando la función de densidad de probabilidad `(PDF)` o la función de distribución acumulada `(CDF)`.\n",
    "\n",
    "La función de densidad de probabilidad (PDF) de la distribución normal (también conocida como distribución gaussiana) está dada por la ecuación:\n",
    "\n",
    "$f(x|\\mu, \\sigma) = \\frac{1}{\\sigma \\sqrt{2\\pi}} \\cdot e^{-\\frac{1}{2}\\left(\\frac{x - \\mu}{\\sigma}\\right)^2}$\n",
    "\n",
    "Donde:\n",
    "- $f(x|\\mu, \\sigma)$ es la probabilidad de que la variable aleatoria $(X)$ tome el valor $(x)$, dado que la media es $(\\mu)$ y la desviación estándar es $(\\sigma)$.\n",
    "- $(\\mu)$ es la media de la distribución.\n",
    "- $(\\sigma)$ es la desviación estándar de la distribución.\n",
    "- $(e)$ es la base del logaritmo natural.\n",
    "\n",
    "Esta ecuación describe una campana simétrica alrededor de la media $(\\mu)$, y la forma de la campana está determinada por la desviación estándar $(\\sigma)$. La distribución normal es completamente especificada por su media y desviación estándar.\n",
    "\n",
    "La integral de la PDF de la distribución normal sobre todo el rango de posibles valores de $(X)$ es igual a 1, lo que significa que la probabilidad total bajo la curva es 1.\n",
    "\n",
    "En Python, podemos generar una muestra aleatoria de una distribución normal utilizando la función `numpy.random.normal()` de la librería `NumPy`. Por ejemplo, para generar una muestra aleatoria de tamaño `100` con una media de `0` y una desviación estándar de `1`, podemos escribir lo siguiente:"
   ]
  },
  {
   "cell_type": "code",
   "execution_count": 21,
   "metadata": {},
   "outputs": [
    {
     "name": "stdout",
     "output_type": "stream",
     "text": [
      "[-1.37803744 -0.29949009  0.07266098  0.79539962 -1.18757584  1.39631848\n",
      "  1.54874704 -0.59868882 -1.6736146  -0.50495158  0.62155253 -0.30608281\n",
      " -0.42493808 -0.37696003  0.25275184 -0.36747748  1.0322943  -0.70475902\n",
      "  1.08347743 -0.74421244 -1.66471839 -1.27666266  0.14451342  0.02104311\n",
      " -0.05018366  1.06063852  1.60194845 -0.18063499  0.45860578 -0.40243288\n",
      " -0.80688245 -0.40481243 -0.70451017 -0.91422155 -0.19302586  1.19093719\n",
      "  0.54391227 -0.61524898 -0.03183883 -0.38356596  0.2793338  -1.41228334\n",
      " -0.50032988 -0.85065538  0.89453643  1.20193332  1.7167934   0.6388731\n",
      "  0.25241307  0.66333728 -0.0813424   0.31823799 -0.13562011  0.61892332\n",
      " -0.7327488   0.61279551 -0.57757128  0.60792847  1.13558862 -0.95502642\n",
      " -0.57947899 -0.41037555 -0.7500547   0.29517939  1.38404818 -0.50228788\n",
      "  1.60365383 -0.19762799  0.30678325  0.69271197  0.8906814  -0.04359181\n",
      " -0.18582369  0.30291666 -0.54611084 -0.30775108  0.31731608 -0.45121142\n",
      " -1.15236608  0.62496886 -0.48823989  0.23202806  2.25079908  0.80544945\n",
      "  2.16206288 -1.81256227 -0.75739903  1.34379333  0.0822785  -0.35607907\n",
      "  0.78034489 -0.07210683  0.25694958  0.53236891  0.58415505 -1.08477148\n",
      " -0.42376878 -0.23446921 -0.13618741 -2.29690016]\n"
     ]
    }
   ],
   "source": [
    "import numpy as np\n",
    "\n",
    "muestra = np.random.normal(0, 1, 100)\n",
    "print(muestra)"
   ]
  },
  {
   "attachments": {},
   "cell_type": "markdown",
   "metadata": {},
   "source": [
    "Esto generará una lista de `100` números aleatorios que siguen una distribución normal con media `0` y desviación estándar `1`.\n",
    "\n",
    "También podemos utilizar la función de densidad de probabilidad `(PDF)` y la función de distribución acumulada `(CDF)` para calcular probabilidades en una distribución normal. En Python, podemos utilizar las funciones `scipy.stats.norm.pdf()` y `scipy.stats.norm.cdf()` de la librería `SciPy`, respectivamente.\n",
    "\n",
    "Por ejemplo, para calcular la probabilidad de que un valor aleatorio de una distribución normal con media `0` y desviación estándar `1` se encuentre entre `-1` y `1`, podemos escribir lo siguiente:"
   ]
  },
  {
   "cell_type": "code",
   "execution_count": 22,
   "metadata": {},
   "outputs": [
    {
     "name": "stdout",
     "output_type": "stream",
     "text": [
      "0.6826894921370859\n"
     ]
    }
   ],
   "source": [
    "from scipy.stats import norm\n",
    "\n",
    "probabilidad = norm.cdf(1) - norm.cdf(-1)\n",
    "print(probabilidad)"
   ]
  },
  {
   "attachments": {},
   "cell_type": "markdown",
   "metadata": {},
   "source": [
    "Esto imprimirá la probabilidad de que un valor aleatorio de la distribución normal se encuentre entre `-1` y `1`. La salida será:\n",
    "\n",
    "`0.682689492137`"
   ]
  },
  {
   "attachments": {},
   "cell_type": "markdown",
   "metadata": {},
   "source": [
    "Esto significa que hay un `68.3%` de probabilidad de que un valor aleatorio de la distribución normal se encuentre entre `-1` y `1` desviaciones estándar de la media.\n",
    "\n",
    "También podemos utilizar la función de densidad de probabilidad `(PDF)` para calcular la densidad de probabilidad en un punto específico de la distribución normal. Por ejemplo, para calcular la densidad de probabilidad en `x=0` en una distribución normal con media `0` y desviación estándar `1`, podemos escribir lo siguiente:\n",
    "\n"
   ]
  },
  {
   "cell_type": "code",
   "execution_count": 23,
   "metadata": {},
   "outputs": [
    {
     "name": "stdout",
     "output_type": "stream",
     "text": [
      "0.3989422804014327\n"
     ]
    }
   ],
   "source": [
    "from scipy.stats import norm\n",
    "\n",
    "densidad = norm.pdf(0)\n",
    "print(densidad)"
   ]
  },
  {
   "attachments": {},
   "cell_type": "markdown",
   "metadata": {},
   "source": [
    "Esto imprimirá la densidad de probabilidad en el punto `x=0` de la distribución normal. La salida será:\n",
    "\n",
    "`0.398942280401`"
   ]
  },
  {
   "attachments": {},
   "cell_type": "markdown",
   "metadata": {},
   "source": [
    "## **Estadísticos muestrales TLC**"
   ]
  },
  {
   "attachments": {},
   "cell_type": "markdown",
   "metadata": {},
   "source": [
    "El Teorema del Límite Central `(TLC)` es un resultado importante en estadística que establece que, para cualquier población con una media finita `(mu)` y una desviación estándar finita `(sigma)`, la distribución de la media muestral se aproximará a una distribución normal a medida que el tamaño muestral aumenta. En otras palabras, esto significa que si tomamos muestras aleatorias de una población y calculamos las medias de esas muestras, la distribución de esas medias será una distribución normal.\n",
    "\n",
    "En Python, podemos utilizar el `TLC` para hacer inferencias sobre una población desconocida utilizando una muestra aleatoria de esa población. Por ejemplo, si queremos estimar la media de una población, podemos tomar una muestra aleatoria de esa población y calcular la media muestral. Dado que la distribución de la media muestral se aproxima a una distribución normal, podemos utilizar la distribución normal para calcular intervalos de confianza y realizar pruebas de hipótesis.\n",
    "\n",
    "La formulación matemática del Teorema Central del Límite puede expresarse de la siguiente manera:\n",
    "\n",
    "Supongamos que $(X_1, X_2, \\ldots, X_n)$ son variables aleatorias independientes e idénticamente distribuidas (i.i.d.) con una media $(\\mu)$ y una desviación estándar $(\\sigma)$. Entonces, la distribución de la media muestral $(\\bar{X})$ (promedio de las $(n)$ observaciones) se aproxima a una distribución normal a medida que $(n)$ tiende a infinito. La media de la distribución de $(\\bar{X})$ es igual a la media de la población $(\\mu)$, y la desviación estándar de la distribución de $(\\bar{X})$ es igual a la desviación estándar de la población dividida por la raíz cuadrada del tamaño de la muestra $(\\sigma/\\sqrt{n})$.\n",
    "\n",
    "La ecuación matemática que describe la aproximación de la distribución de la media muestral a una distribución normal es:\n",
    "\n",
    "$Z = \\frac{\\bar{X} - \\mu}{\\sigma/\\sqrt{n}}$\n",
    "\n",
    "Aquí:\n",
    "- $(Z)$ es una variable aleatoria estándar normal.\n",
    "- $(\\bar{X})$ es la media muestral.\n",
    "- $(\\mu)$ es la media de la población.\n",
    "- $(\\sigma)$ es la desviación estándar de la población.\n",
    "- $(n)$ es el tamaño de la muestra.\n",
    "\n",
    "Este teorema es fundamental en estadísticas y tiene importantes implicaciones prácticas para inferencia estadística.\n",
    "\n",
    "\n",
    "En Python, podemos utilizar la librería `NumPy` para generar muestras aleatorias de una población y calcular estadísticos muestrales como la media y la desviación estándar. Por ejemplo, para generar una muestra aleatoria de tamaño `1000` de una población con media `0` y desviación estándar `1`, podemos escribir lo siguiente:"
   ]
  },
  {
   "cell_type": "code",
   "execution_count": 24,
   "metadata": {},
   "outputs": [
    {
     "name": "stdout",
     "output_type": "stream",
     "text": [
      "[-0.83649802 -0.84613653  0.21086285 -0.94546516 -0.31425535  1.42586359\n",
      "  1.44441504  0.51200143  2.09378736  0.03158707  2.3825883  -0.05145586\n",
      " -0.90207068  0.86530668  0.56806252  0.67843155  1.55622677 -0.00835242\n",
      " -0.80764588  0.22195132  0.50670548  0.36730311  1.19172352  0.66473439\n",
      " -1.44000178 -1.20484571  1.48571498  0.85764133  0.6169781   0.98013748\n",
      "  1.17452181  0.56770378  0.31358784  1.45477584  0.39068973 -1.56563399\n",
      " -0.53050737 -1.13162392 -0.44139948  0.32863606 -1.19207111 -1.05966855\n",
      " -0.64146821  2.32679592 -1.41170433 -0.40493078 -0.94856052  0.58461666\n",
      " -0.65864393 -0.42732264  0.07829394  0.69753112 -0.02404167  0.30497705\n",
      "  1.98528306  0.52554236  0.19605558  0.45996293  0.21820963 -0.09019385\n",
      " -0.22988147  0.39284346  1.95176272  1.46517826 -0.0785984   0.42026669\n",
      " -0.09077132 -0.08649066  1.06497627  1.41728602 -1.3968324  -2.19345731\n",
      " -0.16644952 -0.06339371  0.42310299 -0.51992731  0.40591057 -0.72747147\n",
      " -1.99736583 -1.72094617  0.86863846  0.17577629  1.77445884 -2.03059225\n",
      " -0.50614064 -0.60777272  0.92409398  1.13671763  0.7260493  -1.05213457\n",
      " -1.14488628 -1.84830046 -0.33596353 -0.7697439  -0.33332445  0.9301447\n",
      " -0.53526987 -0.35886922 -0.02975612  1.24014526  1.61120021 -1.24345445\n",
      " -0.67250458 -0.3990504   1.68044506 -0.79591528 -0.68628779 -0.05309385\n",
      "  1.2841927   0.03378185 -2.37900993 -0.33832087  0.45649662  1.04949296\n",
      " -0.37797263  0.14166936 -0.13104392  1.60076514  1.45445859  1.07087244\n",
      " -0.05758206 -1.46512075  0.15948134  0.74827561  0.29551718 -1.49295452\n",
      "  1.29560314 -0.05741808  0.23596478 -2.19121905 -0.42336992  1.18435123\n",
      "  0.0697204   0.46283462 -1.05484648  0.00677002  0.3195365   0.93989802\n",
      "  1.30558374  0.44079529 -0.55489221  0.48425771  0.34916147 -0.68189611\n",
      " -1.01498135 -1.70233775  1.0433944   0.53774423 -0.71254058  0.03462621\n",
      "  0.94639644  0.01937682 -0.71865143  0.2412191  -1.03992485 -0.16903809\n",
      " -0.01988736  0.40099038 -0.65101349  2.22898555  0.38218646  0.29657601\n",
      "  1.89248588 -2.06710539  0.68186513 -0.84024447 -0.2557408  -0.3787422\n",
      "  0.6213308   1.0984954  -1.80118413  0.40642714 -0.02914257  1.32084173\n",
      "  0.68693215 -0.60804218 -0.48684568  0.13671135  0.1708194   1.38607886\n",
      "  1.46132679 -1.26545706 -0.06071433 -0.17860722  1.07494371 -2.04690711\n",
      " -1.10794884  1.08190926  0.21561302 -2.31920193  0.36152137 -0.12325322\n",
      " -0.40051113 -0.17234158 -0.46462553 -2.68804605 -0.5573567  -2.30200551\n",
      "  0.09852185 -0.27720674 -0.3044459  -0.75400757  0.08326737  0.89473148\n",
      "  0.56690232 -1.2083518  -0.63812573  0.81747777  1.34919449  0.80537723\n",
      " -0.68455417  0.49654609 -1.06192565  0.34080253  1.50598055 -1.25598085\n",
      " -0.12065131 -1.21254117  1.04622851 -0.78145139  0.30682686  0.02692112\n",
      "  0.33485447 -0.13916085  0.26012654  1.14654143 -1.72941453 -0.44385635\n",
      " -0.01816042  0.22180548  1.6447166   0.08424101 -0.90445823 -0.04376918\n",
      "  0.62402798 -0.3149553   0.01711361  1.04791981 -0.73836447 -0.20796943\n",
      " -1.44440055 -0.55051224  0.47862315 -0.01876438  0.02208414 -0.94223569\n",
      "  0.44189492 -0.28495154  1.00170557 -1.4911304   0.79553444  0.20887229\n",
      "  0.04314899  1.43096088  0.08840851 -1.03172905  1.62614824 -1.27433034\n",
      "  1.95048349  1.1773009   0.77121172  0.39253518  0.40112909 -0.20171382\n",
      " -0.0344077  -0.61646515 -0.07073071  0.36425922  0.76753119  0.8084711\n",
      " -1.78018638  0.83845252 -1.2043043  -1.90497261 -0.74214767  0.47612538\n",
      "  0.74185314  0.80264691  0.61458421 -0.62549826 -0.56448248 -0.75217155\n",
      "  0.39518044  1.5598336  -0.62254474 -0.22499422  0.43485278  0.52002476\n",
      " -1.29374898  0.08907785  2.07582976 -1.2642517   1.21006521 -1.16809757\n",
      "  0.1452763  -0.35091954 -0.6197509  -1.10100897  0.85338032 -0.6587598\n",
      " -1.1868379   0.82635495  0.69213371  1.3029244  -2.14201127 -0.64395452\n",
      "  0.18136922 -2.66169625 -0.98567127  1.89396279  1.42136549  1.4133962\n",
      "  0.41373009 -0.1123241   1.32289952  0.07484035  0.13121375  1.17677703\n",
      "  0.87609296 -1.5001161   0.47336698 -0.15201229 -0.64499051 -0.40428416\n",
      " -0.08370446 -1.78651962 -1.26844419 -1.30997076  0.46318742  0.08714024\n",
      "  0.50668366  0.00864541  1.35772177  2.11960058  0.6453131   1.38694591\n",
      " -0.94955357 -0.23616884 -1.22231081  0.36767469  1.22839287 -0.34112802\n",
      " -0.39204009 -0.01927526  0.37307378 -0.340944   -0.90622761  0.32440645\n",
      " -1.125786    0.28913562 -1.28708049  0.2857457  -0.02543601 -1.31279576\n",
      "  0.41036046 -1.52836377  0.49647886  1.39273703  1.5737821  -0.0257182\n",
      "  0.41018888  1.07027756 -0.76437963  0.21086106  0.06430327  1.2258427\n",
      "  0.28556907 -0.6829868  -0.02610639  0.48708287  0.49079942 -0.60560812\n",
      " -1.12214638  0.95521209 -0.95013506  0.42180903 -0.23368731  0.94553069\n",
      " -0.96473857 -0.25122978  1.87836905 -0.48496218 -0.63021066 -0.25676613\n",
      "  0.70847095 -0.45073216  1.72018521 -0.22003821  3.0731805   1.10500526\n",
      "  0.04026059 -2.200183   -0.86959322 -0.6969106  -0.26223743 -0.09732982\n",
      "  0.19602826 -0.01837993 -1.05203161  0.53643819 -0.52861546 -0.806325\n",
      "  1.0694699   0.14786553  0.52209245  0.87134602  0.31160719  0.14372751\n",
      "  0.45493263  1.7903886  -0.34954156  0.32715998 -0.31197496  1.25502193\n",
      " -0.44975285 -0.36483789  1.32794989  1.36710801 -1.19516083  0.05687474\n",
      " -0.19773303 -0.54185675 -1.02744971  0.55456797  3.35658474 -0.25614775\n",
      " -0.1977516   0.36474385  0.87267581  0.75006172  0.24961606 -0.54612071\n",
      "  0.37441123  0.08157483  1.60857308  1.35568866 -0.37201523  0.70971277\n",
      "  0.35894011  0.08776705  0.07603263 -1.53681781  0.65222708  0.52316967\n",
      "  1.65669743  0.02326583 -1.37066885 -2.27912676  0.31567795  0.77476377\n",
      "  1.2764229   1.5341886  -0.9985067   0.33167326 -0.25946481  1.19531332\n",
      "  0.35450139 -0.09523616  0.8679602   0.21872227 -1.91691316 -0.66258242\n",
      "  1.81646037 -0.02731454 -0.05652098 -0.18058266 -1.11731663  0.7460675\n",
      " -0.78707799  0.16323322 -0.25602827  1.69834624 -0.69393291  0.28643289\n",
      "  0.30308616 -0.4673625   0.04191754  1.53408843 -0.650578   -0.61715343\n",
      "  0.33907087  0.32688909  1.08983445 -0.04085502  0.65401309  1.00346834\n",
      "  0.50807766  0.2365262  -2.52166013 -0.5420286  -1.89156486  0.08346565\n",
      " -0.29714759 -0.46021327 -0.65075839 -1.57705417  0.03314145 -1.95919931\n",
      " -0.01751592  0.61064226 -0.23146381 -0.83564061 -1.04362522  0.07216302\n",
      "  0.09353792  0.93117873 -0.77215042  2.04098038  0.85404816 -0.19353897\n",
      " -1.25777184 -0.71367399  0.83983874 -0.04078817  0.81322876  0.77081676\n",
      "  0.39318911  0.0959574   0.03288234  0.53043624  1.02364522 -1.36739053\n",
      " -1.49781773  1.19949512 -0.01528464  1.12705351 -0.47820202  0.02368562\n",
      " -0.13044382 -0.8943887  -0.34208402  1.24364544 -0.4324013  -0.30212447\n",
      " -1.48845091 -0.55241087 -1.14356242 -0.28100217  1.17347963 -0.35382556\n",
      " -0.85882733  0.02616539 -2.10301595 -1.01457945 -0.65776259  0.60700981\n",
      " -0.87228246  0.54285431  0.93987136  0.28256052 -1.35929881  0.23940386\n",
      " -0.34628023  0.3147691  -0.04731096  0.3367726  -1.20005643  1.01246512\n",
      "  0.63569226  1.51194902  1.30152831  1.3482473  -1.38560885 -0.34158677\n",
      "  0.05654592 -0.13359204 -0.7140455   0.53701829 -1.83180464 -0.81526998\n",
      "  0.03677808 -0.1518964  -0.35321     1.68807369 -0.16628798 -0.49020629\n",
      "  0.04726052  0.99235658 -0.17904049 -0.51275806  0.32620549  0.52050776\n",
      "  0.99555364 -1.42115584 -0.74736835  0.40542233  1.47672599 -0.6516637\n",
      "  0.66221811  0.11774827 -1.03437408  0.10578967 -1.09506292 -0.53514075\n",
      "  0.745842    0.11417721  0.35379171 -0.62296476  2.33169871 -0.32489209\n",
      "  0.77255115 -0.85175116  0.28331576 -0.08463648  0.53950422 -1.02337185\n",
      "  0.39894223  1.1791254   1.57881178 -0.40541251 -0.83813936  0.92844314\n",
      "  2.1165604   0.90106295 -0.2198473  -0.75678857 -0.44766741  0.8187881\n",
      "  1.06159155 -0.52929746 -0.12700319  0.75763348  0.77517192  0.01185035\n",
      " -0.58474826 -0.00497392  1.98546716 -1.22276269  0.64883734 -0.3190655\n",
      " -0.64485783 -0.21092452  0.48700163  0.20379212  3.17805327  1.6414157\n",
      " -1.04943275  2.3493791  -0.12372607 -0.08983918 -1.54233095 -0.57988343\n",
      "  0.21153158 -1.79018637  0.98494754  0.60308812  0.11505578  1.52078676\n",
      " -0.82912713  0.42682969  0.13027609 -2.00525969 -1.35410711  0.34687038\n",
      " -1.4045699   1.24614311 -0.15882228  1.35538052 -0.25195364 -0.24887524\n",
      "  0.42611575  1.13539062  0.13756013  1.04424935  1.31306098 -0.15167018\n",
      "  0.73997591  1.97961492  0.25458689  1.27212227  0.23642228  0.06068616\n",
      "  0.12770616  1.7641536   0.59351282  0.05767628  0.32408902 -0.25346402\n",
      " -1.72080506  0.18249667 -0.39976185 -0.97279393  0.85568067 -0.63703917\n",
      " -1.36136795 -0.17142596  0.56250094  0.72109519 -0.40405539 -1.05760925\n",
      " -0.1864125  -1.0742572  -1.03551493  0.10130229  0.20676023  1.16367128\n",
      "  1.64394224 -1.08888371 -0.33434907  0.06882027 -1.20910784  0.38756259\n",
      " -0.04622917 -1.11322491 -0.8904233   0.68452225 -0.47126328  1.94902282\n",
      "  0.79503205 -0.92437409 -1.22226702 -0.12853992 -0.51141994 -2.16863193\n",
      " -0.41870359  1.16428286  1.30344117 -0.49971501 -1.26155481 -0.14959776\n",
      "  0.08175571 -1.09897977  0.49973493  1.42760374  0.96709694 -0.5401757\n",
      " -0.71022084 -1.38288736 -1.30118225  0.05706122  0.22375813  0.30227869\n",
      " -0.39223685  0.98496888  0.34160803 -0.80452787 -0.25582396 -0.00888625\n",
      " -0.4039791   1.76786561 -0.38733165 -0.98598402 -0.21196234 -0.41027842\n",
      "  0.9645625   1.56643755  0.71043188  1.21589996  2.3175985   1.00909491\n",
      "  0.69306747  0.80037319 -0.37893254 -0.03316113  1.95684983  1.54863601\n",
      "  0.2237483  -0.95559376  0.76487046 -0.07794218 -0.84351552 -1.08135321\n",
      "  1.30515857 -1.66599643 -0.35377753  0.77716351 -1.36996357  0.95730622\n",
      " -1.43671153 -0.61438481 -0.17051286 -0.74069628 -0.22793779 -0.27585068\n",
      "  1.35404817 -0.91294974  1.514279   -1.11250475  0.91130403 -0.1173171\n",
      "  0.80025299 -0.16084601  0.49089555  0.09558986 -2.41191981 -1.17820019\n",
      " -0.1302796  -2.73440267 -1.32668286 -0.5865275  -0.34652809  0.16206207\n",
      "  0.96438125  0.56426587 -0.03154742 -0.33661341  0.61003143  0.15560656\n",
      " -0.06738733 -1.2000475  -0.00726728  0.26432846 -0.45079036  0.24721478\n",
      "  0.72182196 -0.52095985  0.30354391 -1.74578803  1.46899504 -0.95957105\n",
      " -0.69997922 -1.08968135  0.97162093  0.21245551  1.01375255 -1.13434395\n",
      " -1.08695208 -0.3804431  -2.35146289 -0.61633588  0.14449522  0.22146444\n",
      " -1.1499387   0.3982369   0.8038515   2.46647656 -1.44369441 -0.37655973\n",
      " -0.32852228  0.76615806  0.24836514  1.23976547  0.71440838 -0.1132628\n",
      "  0.87065693 -1.40611781 -1.8188203  -0.40174053 -1.29059408 -0.5711874\n",
      "  0.13346746  1.01496842 -0.60017369  0.19995279 -1.34479888 -0.74775966\n",
      "  0.99903366 -1.05909882  1.0597938  -0.8804852   0.23242    -0.2885084\n",
      " -0.66219803 -0.39867865 -0.62453869  2.03178194  0.77527403 -0.84113506\n",
      " -0.03917106 -1.77955062 -0.80513824  1.51018901  0.694206   -1.56620001\n",
      "  0.43698684  0.05427158 -0.39118991 -0.04784754 -0.41329872  0.33918444\n",
      " -0.44609422  0.42187153 -0.57485389 -2.1864279   0.80795882 -0.16957499\n",
      " -1.65242661  0.82742464  1.23854142 -1.65549049  0.79515684 -0.08726287\n",
      " -1.35565937 -1.77611139  1.75528652 -0.52132157 -0.1909736  -2.50414912\n",
      "  0.9531771   1.55637201  0.60623864  1.40408321  0.35214943  0.39417376\n",
      "  0.12564832  0.27572969 -1.40489955 -0.16502668 -0.21194448 -0.47592069\n",
      " -1.08024619  0.47014189 -0.52695893  0.64581805  0.78622965  0.26202916\n",
      " -0.77181869 -1.06586777  0.29760196 -0.87449154  0.08580562 -0.65234559\n",
      "  0.34856726 -2.7434481   0.13652013  0.79171002 -1.60741955 -1.13224773\n",
      "  1.23525553  0.29661758 -0.05211658  1.00921904 -1.70456078 -0.21201117\n",
      " -0.99470786  1.23747913  0.62433079 -0.61621291 -0.72320692 -0.23067124\n",
      " -0.39215975  1.62941439  1.6419636   0.54150532 -1.45374834 -0.44494406\n",
      " -0.4255683  -1.46291942  0.72616838  0.77535639 -1.23207902  0.66937971\n",
      " -0.69367158  0.69382566  0.11028892 -2.07799493 -0.17745445 -1.11029761\n",
      " -0.80077307 -0.94773461 -0.27078089 -1.32438847  0.36045177  0.15827255\n",
      " -0.04352811  1.34854454  0.9988922  -0.34042453  1.44755882  0.61146717\n",
      "  0.86972798 -0.33562124 -1.85843037  0.47284891 -0.31041713 -1.16195524\n",
      " -0.48165022  0.62702872 -0.17983779  1.44537069  0.58153635 -2.19612171\n",
      "  1.20126404 -0.71092185 -0.60314345  1.0109205  -1.06194295 -1.63312032\n",
      "  0.3393614  -0.73482909 -0.36570546 -0.44604472 -0.95636483 -0.17851133\n",
      " -2.32265609  0.48589965  1.18249687 -1.31261555  1.34961933 -1.75026571\n",
      " -1.10115247  0.93286567  0.10161179 -0.69340023  1.42703241  0.38470721\n",
      "  0.2451288  -0.84477997 -1.03451193  0.15657147]\n"
     ]
    }
   ],
   "source": [
    "import numpy as np\n",
    "\n",
    "muestra = np.random.normal(0, 1, 1000)\n",
    "print(muestra)"
   ]
  },
  {
   "attachments": {},
   "cell_type": "markdown",
   "metadata": {},
   "source": [
    "Esto generará una lista de `1000` números aleatorios que siguen una distribución normal con media `0` y desviación estándar `1`.\n",
    "\n",
    "A continuación, podemos calcular la media y la desviación estándar de esta muestra utilizando las funciones `numpy.mean()` y `numpy.std()`, respectivamente:"
   ]
  },
  {
   "cell_type": "code",
   "execution_count": 25,
   "metadata": {},
   "outputs": [
    {
     "name": "stdout",
     "output_type": "stream",
     "text": [
      "0.9785437034067106\n"
     ]
    }
   ],
   "source": [
    "media = np.mean(muestra)\n",
    "desviacion_estandar = np.std(muestra)\n",
    "print(desviacion_estandar)"
   ]
  },
  {
   "attachments": {},
   "cell_type": "markdown",
   "metadata": {},
   "source": [
    "También podemos utilizar el `TLC` para calcular intervalos de confianza y realizar pruebas de hipótesis. Por ejemplo, para calcular un intervalo de confianza del `95%` para la media de una población con media desconocida y desviación estándar conocida, podemos utilizar la distribución normal estándar y la fórmula:"
   ]
  },
  {
   "attachments": {},
   "cell_type": "markdown",
   "metadata": {},
   "source": [
    "$\\text{Intervalo de Confianza} = \\text{Media Muestral} \\pm \\left( \\text{Valor Crítico} \\times \\frac{\\text{Desviación Estándar Muestral}}{\\sqrt{n}} \\right)$\n",
    "\n",
    "Donde:\n",
    "\n",
    "- La **Media Muestral** es la estimación de la media poblacional basada en la muestra.\n",
    "- El **Valor Crítico** se obtiene a partir de la distribución t de Student y depende del nivel de confianza y los grados de libertad (\\(n-1\\) para una muestra).\n",
    "- La **Desviación Estándar Muestral** $(s)$ es una estimación de la desviación estándar poblacional.\n",
    "- $(n)$ es el tamaño de la muestra."
   ]
  },
  {
   "attachments": {},
   "cell_type": "markdown",
   "metadata": {},
   "source": [
    "Donde el valor crítico es el valor de la distribución normal estándar que corresponde al nivel de confianza deseado. En este caso, el valor crítico es `1.96` para un nivel de confianza del `95%`. Entonces, para calcular el intervalo de confianza, podemos escribir lo siguiente:"
   ]
  },
  {
   "cell_type": "code",
   "execution_count": 26,
   "metadata": {},
   "outputs": [
    {
     "name": "stdout",
     "output_type": "stream",
     "text": [
      "Intervalo de confianza del 95% para la media de la población: -0.0628987598360031 - 0.058400545416874415\n"
     ]
    }
   ],
   "source": [
    "from scipy.stats import norm\n",
    "\n",
    "n = 1000\n",
    "nivel_confianza = 0.95\n",
    "valor_critico = norm.ppf((1 + nivel_confianza) / 2)\n",
    "\n",
    "intervalo_superior = media + (valor_critico * (desviacion_estandar / np.sqrt(n)))\n",
    "intervalo_inferior = media - (valor_critico * (desviacion_estandar / np.sqrt(n)))\n",
    "\n",
    "print(\"Intervalo de confianza del 95% para la media de la población:\", intervalo_inferior, \"-\", intervalo_superior)"
   ]
  },
  {
   "attachments": {},
   "cell_type": "markdown",
   "metadata": {},
   "source": [
    "## **Calculo de estadísticos muestrales**"
   ]
  },
  {
   "attachments": {},
   "cell_type": "markdown",
   "metadata": {},
   "source": [
    "El cálculo de estadísticos muestrales es una parte importante del análisis estadístico que nos permite resumir y entender las propiedades de una muestra de datos. Los estadísticos muestrales son valores numéricos calculados a partir de una muestra de datos que se utilizan para hacer inferencias sobre la población subyacente de la cual se extrajo la muestra.\n",
    "\n",
    "En Python, podemos utilizar la librería `NumPy` para calcular estadísticos muestrales como la media, la mediana, la moda, la varianza y la desviación estándar. A continuación se muestran algunos ejemplos de cómo calcular estos estadísticos muestrales en Python.\n",
    "\n",
    "* **Media:**\n",
    "\n",
    "La media muestral es simplemente la suma de los valores en la muestra dividida por el tamaño de la muestra. Podemos calcular la media en Python utilizando la función `numpy.mean()`. Por ejemplo, para calcular la media de una muestra de `100` valores aleatorios de una distribución normal con media `0` y desviación estándar `1`, podemos escribir lo siguiente:"
   ]
  },
  {
   "cell_type": "code",
   "execution_count": 27,
   "metadata": {},
   "outputs": [
    {
     "name": "stdout",
     "output_type": "stream",
     "text": [
      "La media de la muestra es: 0.07410016418529392\n"
     ]
    }
   ],
   "source": [
    "import numpy as np\n",
    "\n",
    "muestra = np.random.normal(0, 1, 100)\n",
    "media = np.mean(muestra)\n",
    "print(\"La media de la muestra es:\", media)"
   ]
  },
  {
   "attachments": {},
   "cell_type": "markdown",
   "metadata": {},
   "source": [
    "* **Mediana:**\n",
    "\n",
    "La mediana es el valor medio en una muestra ordenada. Podemos calcular la mediana en Python utilizando la función `numpy.median()`. Por ejemplo, para calcular la mediana de una muestra de `100` valores aleatorios de una distribución normal con media `0` y desviación estándar `1`, podemos escribir lo siguiente:"
   ]
  },
  {
   "cell_type": "code",
   "execution_count": 28,
   "metadata": {},
   "outputs": [
    {
     "name": "stdout",
     "output_type": "stream",
     "text": [
      "La mediana de la muestra es: 0.2447481275781806\n"
     ]
    }
   ],
   "source": [
    "import numpy as np\n",
    "\n",
    "muestra = np.random.normal(0, 1, 100)\n",
    "mediana = np.median(muestra)\n",
    "print(\"La mediana de la muestra es:\", mediana)"
   ]
  },
  {
   "attachments": {},
   "cell_type": "markdown",
   "metadata": {},
   "source": [
    "* **Moda:**\n",
    "\n",
    "La moda es el valor más común en una muestra. Podemos calcular la moda en Python utilizando la función `scipy.stats.mode()`. Por ejemplo, para calcular la moda de una muestra de `100` valores aleatorios de una distribución normal con media `0` y desviación estándar `1`, podemos escribir lo siguiente:"
   ]
  },
  {
   "cell_type": "code",
   "execution_count": 29,
   "metadata": {},
   "outputs": [
    {
     "name": "stdout",
     "output_type": "stream",
     "text": [
      "La moda de la muestra es: -2.8475591530773308\n"
     ]
    }
   ],
   "source": [
    "import numpy as np\n",
    "from scipy.stats import mode\n",
    "\n",
    "muestra = np.random.normal(0, 1, 100)\n",
    "moda = mode(muestra)\n",
    "print(\"La moda de la muestra es:\", moda.mode)"
   ]
  },
  {
   "attachments": {},
   "cell_type": "markdown",
   "metadata": {},
   "source": [
    "* **Varianza y desviación estándar:**\n",
    "\n",
    "La varianza es una medida de la dispersión de los valores en una muestra, mientras que la desviación estándar es simplemente la raíz cuadrada de la varianza. Podemos calcular la varianza y la desviación estándar en Python utilizando las funciones `numpy.var()` y `numpy.std()`, respectivamente. Por ejemplo, para calcular la varianza y la desviación estándar de una muestra de `100` valores aleatorios de una distribución normal con media `0` y desviación estándar `1`, podemos escribir lo siguiente:"
   ]
  },
  {
   "cell_type": "code",
   "execution_count": 30,
   "metadata": {},
   "outputs": [
    {
     "name": "stdout",
     "output_type": "stream",
     "text": [
      "La varianza de la muestra es: 1.04966084582258\n",
      "La desviación estándar de la muestra es: 1.024529572937053\n"
     ]
    }
   ],
   "source": [
    "import numpy as np\n",
    "\n",
    "muestra = np.random.normal(0, 1, 100)\n",
    "varianza = np.var(muestra)\n",
    "desviacion_estandar = np.std(muestra)\n",
    "print(\"La varianza de la muestra es:\", varianza)\n",
    "print(\"La desviación estándar de la muestra es:\", desviacion_estandar)"
   ]
  },
  {
   "attachments": {},
   "cell_type": "markdown",
   "metadata": {},
   "source": [
    "## **Prueba de Hipótesis**"
   ]
  },
  {
   "cell_type": "markdown",
   "metadata": {},
   "source": [
    "La prueba de hipótesis es un procedimiento estadístico que se utiliza para tomar decisiones sobre una afirmación o hipótesis acerca de un parámetro poblacional. La formulación general de una prueba de hipótesis implica las siguientes etapas:\n",
    "\n",
    "1. **Formulación de hipótesis:**\n",
    "   - Hipótesis nula $(H_0)$: Representa una afirmación de igualdad o ninguna diferencia. Se denota comúnmente como $(H_0: \\theta = \\theta_0)$, donde $(\\theta)$ es el parámetro de interés y $(\\theta_0)$ es el valor hipotético.\n",
    "   - Hipótesis alternativa $(H_1)$ o $(H_a)$: Representa la afirmación de alguna diferencia o relación específica. Puede ser bilateral $(\\theta \\neq \\theta_0)$, unilateral $(\\theta > \\theta_0)$ o $(\\theta < \\theta_0)$.\n",
    "\n",
    "2. **Selección del nivel de significancia $(\\alpha)$:**\n",
    "   - El nivel de significancia $(\\alpha)$ representa la probabilidad de cometer un error de tipo I, es decir, rechazar $(H_0)$ cuando es verdadera. Comúnmente se elige un valor como $(0.05) o $(0.01)$.\n",
    "\n",
    "3. **Elección de la prueba estadística:**\n",
    "   - Dependiendo de la naturaleza de los datos y las hipótesis, se elige una prueba estadística específica (t-test, chi-cuadrado, ANOVA, etc.).\n",
    "\n",
    "4. **Recopilación de datos y cálculo del estadístico de prueba:**\n",
    "   - Se recopilan los datos de la muestra y se calcula el estadístico de prueba basado en esos datos y la prueba seleccionada.\n",
    "\n",
    "5. **Tomar una decisión:**\n",
    "   - Se compara el valor del estadístico de prueba con la región crítica determinada por el nivel de significancia. Si el estadístico de prueba cae dentro de la región crítica, se rechaza la hipótesis nula.\n",
    "\n",
    "6. **Conclusión:**\n",
    "   - Se llega a una conclusión y se interpreta el resultado en términos del problema original. Se considera la evidencia en contra de la hipótesis nula.\n",
    "\n",
    "La fórmula específica para el estadístico de prueba variará según la prueba y la distribución subyacente. Por ejemplo, en una prueba $(t)$ de una muestra, el estadístico de prueba es $t = \\frac{\\bar{x} - \\mu_0}{s/\\sqrt{n}}$\n",
    "\n",
    "donde $(\\bar{x})$ es la media muestral, $(\\mu_0)$ es el valor hipotético bajo la hipótesis nula, $(s)$ es la desviación estándar muestral, y $(n)$ es el tamaño de la muestra. Es importante consultar la literatura específica o el método estadístico aplicado para obtener la fórmula exacta correspondiente al contexto de tu prueba de hipótesis."
   ]
  },
  {
   "attachments": {},
   "cell_type": "markdown",
   "metadata": {},
   "source": [
    "La prueba de hipótesis es una técnica estadística que se utiliza para determinar si una afirmación sobre una población es verdadera o no, basándose en la evidencia proporcionada por una muestra de datos. El proceso consiste en plantear dos hipótesis: una hipótesis nula $(H_0)$ y una hipótesis alternativa $(H_1)$. La hipótesis nula es una afirmación que se supone que es verdadera hasta que se demuestre lo contrario, mientras que la hipótesis alternativa es una afirmación que se desea demostrar. Luego, se recolecta una muestra de datos y se utiliza esta muestra para evaluar la probabilidad de que la hipótesis nula sea verdadera.\n",
    "\n",
    "En Python, podemos utilizar la librería `scipy.stats` para realizar pruebas de hipótesis. A continuación, se muestra un ejemplo de cómo realizar una prueba de hipótesis para la media de una población.\n",
    "\n",
    "Supongamos que se tiene una muestra de `50` observaciones de una población normal con una media desconocida. Queremos probar si la media de la población es igual a `5`. Para hacerlo, planteamos las siguientes hipótesis:\n",
    "\n",
    "* $(H_0)$: la media de la población es igual a 5.\n",
    "\n",
    "* $(H1)$: la media de la población es diferente de 5.\n",
    "\n",
    "Podemos utilizar una prueba `t` de una muestra para evaluar estas hipótesis. Para hacerlo, podemos utilizar la función `scipy.stats.ttest_1samp()` de la siguiente manera:"
   ]
  },
  {
   "cell_type": "code",
   "execution_count": 31,
   "metadata": {},
   "outputs": [
    {
     "data": {
      "image/png": "[encoded data removed]",
      "text/plain": [
       "<Figure size 1000x600 with 1 Axes>"
      ]
     },
     "metadata": {},
     "output_type": "display_data"
    },
    {
     "name": "stdout",
     "output_type": "stream",
     "text": [
      "Estadístico de prueba: -1.42\n",
      "Valor p: 0.162\n"
     ]
    }
   ],
   "source": [
    "import numpy as np\n",
    "import matplotlib.pyplot as plt\n",
    "from scipy.stats import t, ttest_1samp\n",
    "import seaborn as sns\n",
    "\n",
    "# Configuración del estilo de Seaborn para mejorar la estética del gráfico\n",
    "sns.set(style=\"whitegrid\")\n",
    "\n",
    "# Definimos nuestra muestra\n",
    "muestra = np.random.normal(4.8, 1, 50)\n",
    "\n",
    "# Realizamos la prueba de hipótesis\n",
    "resultado_prueba = ttest_1samp(muestra, 5)\n",
    "\n",
    "# Parámetros para el gráfico\n",
    "alpha = 0.05  # Nivel de significancia\n",
    "confianza = 1 - alpha\n",
    "grados_libertad = len(muestra) - 1\n",
    "\n",
    "# Parámetros para el intervalo de confianza\n",
    "media_muestral = np.mean(muestra)\n",
    "desviacion_estandar = np.std(muestra, ddof=1)  # Desviación estándar muestral\n",
    "\n",
    "# Calculamos el intervalo de confianza\n",
    "error_estandar = desviacion_estandar / np.sqrt(len(muestra))\n",
    "intervalo_confianza = t.interval(confianza, df=grados_libertad, loc=media_muestral, scale=error_estandar)\n",
    "\n",
    "# Graficamos la distribución y el intervalo de confianza\n",
    "plt.figure(figsize=(10, 6))\n",
    "plt.hist(muestra, bins=15, alpha=0.6, color='skyblue', edgecolor='black', label='Distribución de la muestra')\n",
    "plt.axvline(x=media_muestral, color='red', linestyle='--', label='Media Muestral', linewidth=2)\n",
    "plt.axvspan(intervalo_confianza[0], intervalo_confianza[1], color='green', alpha=0.3, label='Intervalo de Confianza')\n",
    "plt.title('Prueba de Hipótesis - Intervalo de Confianza')\n",
    "plt.xlabel('Valores de la Muestra')\n",
    "plt.ylabel('Frecuencia')\n",
    "plt.legend()\n",
    "plt.show()\n",
    "\n",
    "# Imprimimos el resultado de la prueba\n",
    "print(f\"Estadístico de prueba: {resultado_prueba.statistic:.2f}\")\n",
    "print(f\"Valor p: {resultado_prueba.pvalue:.3f}\")"
   ]
  },
  {
   "attachments": {},
   "cell_type": "markdown",
   "metadata": {},
   "source": [
    "En este ejemplo, la función `ttest_1samp()` toma dos argumentos: la muestra de datos y el valor de la hipótesis nula (en este caso, 5). La función devuelve dos valores: el estadístico de prueba y el valor `p`. El estadístico de prueba se utiliza para calcular el valor `p`, que es la probabilidad de obtener una muestra como la que se observó si la hipótesis nula fuera verdadera. Si el valor `p` es menor que un nivel de significancia predefinido (por ejemplo, `0.05`), entonces se rechaza la hipótesis nula y se acepta la hipótesis alternativa.\n",
    "\n",
    "En este ejemplo, el valor `p` es mayor que `0.05`, lo que significa que no hay suficiente evidencia para rechazar la hipótesis nula de que la media de la población es igual a `5`. Por lo tanto, podemos concluir que no hay suficiente evidencia para afirmar que la media de la población es diferente de `5`."
   ]
  },
  {
   "attachments": {},
   "cell_type": "markdown",
   "metadata": {},
   "source": [
    "## **Hipótesis nula**"
   ]
  },
  {
   "attachments": {},
   "cell_type": "markdown",
   "metadata": {},
   "source": [
    "En estadística, la hipótesis nula $(H_0)$ es una afirmación que se supone que es verdadera hasta que se demuestre lo contrario. Es la hipótesis que se contrasta con la hipótesis alternativa $(H_1)$ en una prueba de hipótesis. En general, se utiliza la hipótesis nula para establecer un punto de partida, y la hipótesis alternativa para afirmar lo que se desea demostrar.\n",
    "\n",
    "Por ejemplo, supongamos que se desea evaluar si un nuevo tratamiento para reducir la presión arterial es efectivo. La hipótesis nula en este caso podría ser que el nuevo tratamiento no tiene ningún efecto en la reducción de la presión arterial, mientras que la hipótesis alternativa podría ser que el nuevo tratamiento es efectivo para reducir la presión arterial.\n",
    "\n",
    "En Python, podemos utilizar la librería `scipy.stats` para realizar pruebas de hipótesis y evaluar la hipótesis nula. A continuación, se muestra un ejemplo de cómo evaluar la hipótesis nula para una prueba de hipótesis de dos muestras.\n",
    "\n",
    "Supongamos que se tienen dos muestras de datos de dos poblaciones diferentes, y se desea evaluar si las medias de estas dos poblaciones son iguales. La hipótesis nula en este caso es que las medias de las dos poblaciones son iguales, mientras que la hipótesis alternativa es que las medias son diferentes. Podemos utilizar la prueba $(t)$ de dos muestras para evaluar estas hipótesis. Para hacerlo, podemos utilizar la función `scipy.stats.ttest_ind()` de la siguiente manera:"
   ]
  },
  {
   "cell_type": "code",
   "execution_count": 32,
   "metadata": {},
   "outputs": [
    {
     "data": {
      "image/png": "[encoded data removed]",
      "text/plain": [
       "<Figure size 1000x600 with 1 Axes>"
      ]
     },
     "metadata": {},
     "output_type": "display_data"
    },
    {
     "name": "stdout",
     "output_type": "stream",
     "text": [
      "Estadístico de prueba: 3.58\n",
      "Valor p: 0.0005\n"
     ]
    }
   ],
   "source": [
    "import numpy as np\n",
    "import matplotlib.pyplot as plt\n",
    "import seaborn as sns\n",
    "from scipy.stats import ttest_ind\n",
    "\n",
    "# Configurar el estilo de gráfico directamente con seaborn\n",
    "sns.set(style=\"darkgrid\")  # Aplica un estilo de fondo con cuadrícula\n",
    "\n",
    "# Definimos nuestras dos muestras\n",
    "muestra1 = np.random.normal(5, 1, 50)\n",
    "muestra2 = np.random.normal(4.5, 1, 50)\n",
    "\n",
    "# Realizamos la prueba de hipótesis\n",
    "resultado_prueba = ttest_ind(muestra1, muestra2)\n",
    "\n",
    "# Graficamos las distribuciones de las muestras\n",
    "plt.figure(figsize=(10, 6))\n",
    "plt.hist(muestra1, bins=15, alpha=0.6, label='Muestra 1', color='blue', edgecolor='black')\n",
    "plt.hist(muestra2, bins=15, alpha=0.6, label='Muestra 2', color='orange', edgecolor='black')\n",
    "plt.axvline(np.mean(muestra1), color='navy', linestyle='dashed', linewidth=2, label='Media Muestra 1')\n",
    "plt.axvline(np.mean(muestra2), color='darkorange', linestyle='dashed', linewidth=2, label='Media Muestra 2')\n",
    "plt.title('Distribuciones de Muestras y Diferencia Media')\n",
    "plt.xlabel('Valor')\n",
    "plt.ylabel('Frecuencia')\n",
    "plt.legend(loc='upper right')\n",
    "plt.grid(True, linestyle='--', alpha=0.5)  # Estilo de grid más suave\n",
    "plt.text(np.mean(muestra1), 5, f'Media: {np.mean(muestra1):.2f}', color='navy', ha='right')\n",
    "plt.text(np.mean(muestra2), 5, f'Media: {np.mean(muestra2):.2f}', color='darkorange', ha='left')\n",
    "plt.show()\n",
    "\n",
    "# Imprimir los resultados de la prueba\n",
    "print(f\"Estadístico de prueba: {resultado_prueba.statistic:.2f}\")\n",
    "print(f\"Valor p: {resultado_prueba.pvalue:.4f}\")"
   ]
  },
  {
   "attachments": {},
   "cell_type": "markdown",
   "metadata": {},
   "source": [
    "En este ejemplo, la función `ttest_ind()` toma dos argumentos: las dos muestras de datos que se desean comparar. La función devuelve dos valores: el estadístico de prueba y el valor `p`. Si el valor `p` es menor que un nivel de significancia predefinido (por ejemplo, 0.05), entonces se rechaza la hipótesis nula y se acepta la hipótesis alternativa.\n",
    "\n",
    "En este ejemplo, si el valor `p` es mayor que `0.05`, entonces no hay suficiente evidencia para rechazar la hipótesis nula de que las medias de las dos poblaciones son iguales. Por lo tanto, podemos concluir que no hay suficiente evidencia para afirmar que las medias son diferentes. La hipótesis nula es la afirmación que se mantiene en este caso."
   ]
  },
  {
   "attachments": {},
   "cell_type": "markdown",
   "metadata": {},
   "source": [
    "## **Prueba de hipótesis**"
   ]
  },
  {
   "attachments": {},
   "cell_type": "markdown",
   "metadata": {},
   "source": [
    "En estadística, la prueba de hipótesis es un proceso mediante el cual se evalúa la evidencia a favor o en contra de una afirmación (hipótesis) sobre un parámetro poblacional utilizando los datos de una muestra. El objetivo de una prueba de hipótesis es determinar si los datos proporcionan suficiente evidencia para rechazar la hipótesis nula $(H_0)$ en favor de una hipótesis alternativa $(H_1)$.\n",
    "\n",
    "En Python, podemos utilizar la librería `scipy.stats` para realizar pruebas de hipótesis. A continuación, se muestra un ejemplo de cómo realizar una prueba de hipótesis de una muestra utilizando la prueba $(t)$.\n",
    "\n",
    "Supongamos que se tiene una muestra de datos de una población y se desea evaluar si la media de esta población es igual a un valor específico. La hipótesis nula en este caso es que la media de la población es igual al valor específico, mientras que la hipótesis alternativa es que la media es diferente. Podemos utilizar la prueba $(t)$ para evaluar estas hipótesis. Para hacerlo, podemos utilizar la función `scipy.stats.ttest_1samp()` de la siguiente manera:"
   ]
  },
  {
   "cell_type": "code",
   "execution_count": 33,
   "metadata": {},
   "outputs": [
    {
     "data": {
      "image/png": "[encoded data removed]",
      "text/plain": [
       "<Figure size 1000x600 with 1 Axes>"
      ]
     },
     "metadata": {},
     "output_type": "display_data"
    },
    {
     "name": "stdout",
     "output_type": "stream",
     "text": [
      "Estadístico de prueba: 2.9170749923744013\n",
      "Valor p: 0.0043719796770791755\n"
     ]
    }
   ],
   "source": [
    "import numpy as np\n",
    "import matplotlib.pyplot as plt\n",
    "from scipy.stats import t, ttest_1samp\n",
    "\n",
    "# Definimos nuestra muestra de datos\n",
    "muestra = np.random.normal(10, 2, 100)\n",
    "\n",
    "# Realizamos la prueba de hipótesis\n",
    "resultado_prueba = ttest_1samp(muestra, 9)\n",
    "\n",
    "# Parámetros para el gráfico\n",
    "alpha = 0.05  # Nivel de significancia\n",
    "confianza = 1 - alpha\n",
    "grados_libertad = len(muestra) - 1\n",
    "valor_critico_t = t.ppf(1 - alpha / 2, df=grados_libertad)\n",
    "\n",
    "# Graficamos la distribución y resaltamos la media y el valor crítico\n",
    "plt.figure(figsize=(10, 6))\n",
    "plt.hist(muestra, bins=15, alpha=0.7, label='Distribución de la muestra', color='skyblue', edgecolor='black')\n",
    "plt.axvline(x=np.mean(muestra), color='red', linestyle='--', label='Media Muestral')\n",
    "plt.axvline(x=valor_critico_t, color='green', linestyle='--', label='Valor Crítico T')\n",
    "plt.axvline(x=-valor_critico_t, color='green', linestyle='--', label='Valor Crítico T (negativo)')  # Para simetría\n",
    "plt.title('Prueba de Hipótesis - Media Muestral y Valor Crítico')\n",
    "plt.xlabel('Valores de la Muestra')\n",
    "plt.ylabel('Frecuencia')\n",
    "plt.legend()\n",
    "plt.grid(True, linestyle='--', alpha=0.5)\n",
    "plt.show()\n",
    "\n",
    "# Imprimimos el resultado de la prueba\n",
    "print(\"Estadístico de prueba:\", resultado_prueba.statistic)\n",
    "print(\"Valor p:\", resultado_prueba.pvalue)"
   ]
  },
  {
   "attachments": {},
   "cell_type": "markdown",
   "metadata": {},
   "source": [
    "En este ejemplo, la función `ttest_1samp()` toma dos argumentos: la muestra de datos y el valor de la hipótesis nula. La función devuelve dos valores: el estadístico de prueba y el valor `p`. Si el valor `p` es menor que un nivel de significancia predefinido (por ejemplo, 0.05), entonces se rechaza la hipótesis nula y se acepta la hipótesis alternativa.\n",
    "\n",
    "En este ejemplo, si el valor `p` es menor que `0.05`, entonces hay suficiente evidencia para rechazar la hipótesis nula de que la media de la población es igual a `9`. Por lo tanto, podemos concluir que la media de la población es diferente de `9`. La hipótesis alternativa es la afirmación que se acepta en este caso.\n",
    "\n",
    "Es importante tener en cuenta que el nivel de significancia es un umbral predefinido que se utiliza para determinar cuándo se debe rechazar la hipótesis nula. Este umbral generalmente se establece en `0.05`, lo que significa que si el valor `p` es menor que `0.05`, se rechaza la hipótesis nula. Sin embargo, el nivel de significancia también puede ser ajustado para aumentar o disminuir la probabilidad de cometer un error de tipo `I` (rechazar la hipótesis nula cuando es verdadera) o un error de tipo `II` (aceptar la hipótesis nula cuando es falsa)."
   ]
  },
  {
   "attachments": {},
   "cell_type": "markdown",
   "metadata": {},
   "source": [
    "| **Inicio** | **atrás 3** | **Siguiente 5** |\n",
    "|----------- |-------------- |---------------|\n",
    "| [🏠](../../README.md) | [⏪](./03_Algebra_Lineal.ipynb)| [⏩](./05_Resumen.ipynb)|"
   ]
  }
 ],
 "metadata": {
  "kernelspec": {
   "display_name": "base",
   "language": "python",
   "name": "python3"
  },
  "language_info": {
   "codemirror_mode": {
    "name": "ipython",
    "version": 3
   },
   "file_extension": ".py",
   "mimetype": "text/x-python",
   "name": "python",
   "nbconvert_exporter": "python",
   "pygments_lexer": "ipython3",
   "version": "3.9.12"
  },
  "orig_nbformat": 4
 },
 "nbformat": 4,
 "nbformat_minor": 2
}
