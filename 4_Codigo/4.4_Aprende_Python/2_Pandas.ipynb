{
 "cells": [
  {
   "cell_type": "markdown",
   "metadata": {},
   "source": [
    "| **Inicio** | **atrás 1** | **Siguiente 3** |\n",
    "|----------- |-------------- |---------------|\n",
    "| [🏠](../../README.md) | [⏪](./1_Numpy.ipynb)| [⏩](./3_Matplotlib.ipynb)|"
   ]
  },
  {
   "cell_type": "markdown",
   "metadata": {},
   "source": [
    "# **Pandas**"
   ]
  },
  {
   "cell_type": "markdown",
   "metadata": {},
   "source": [
    "Pandas es un paquete open-source que nos proporciona una forma sencilla y potente de trabajar con estructuras de datos a través de múltiples herramientas para su análisis."
   ]
  },
  {
   "cell_type": "markdown",
   "metadata": {},
   "source": [
    "`pip install pandas`"
   ]
  },
  {
   "cell_type": "markdown",
   "metadata": {},
   "source": [
    "La forma más común de importar esta librería es usar el alias `pd`:"
   ]
  },
  {
   "cell_type": "code",
   "execution_count": 500,
   "metadata": {},
   "outputs": [],
   "source": [
    "import pandas as pd"
   ]
  },
  {
   "cell_type": "markdown",
   "metadata": {},
   "source": [
    "Si bien en `Numpy` la estructura de datos fundamental es el `ndarray`, en pandas existen dos estructuras de datos sobre las que giran todas las operaciones:\n",
    "\n",
    "* Series\n",
    "\n",
    "* Dataframes"
   ]
  },
  {
   "cell_type": "markdown",
   "metadata": {},
   "source": [
    "## **Series**"
   ]
  },
  {
   "cell_type": "markdown",
   "metadata": {},
   "source": [
    "Podríamos pensar en una **Serie** como un `ndarray` en el que cada valor tiene asignado una etiqueta (índice) y además admite un título (nombre)."
   ]
  },
  {
   "cell_type": "markdown",
   "metadata": {},
   "source": [
    "### **Creación de una serie**"
   ]
  },
  {
   "cell_type": "markdown",
   "metadata": {},
   "source": [
    "Veamos varios ejemplos de creación de serie [1, 2, 3]."
   ]
  },
  {
   "cell_type": "markdown",
   "metadata": {},
   "source": [
    "**Creación de series usando listas:**"
   ]
  },
  {
   "cell_type": "code",
   "execution_count": 501,
   "metadata": {},
   "outputs": [
    {
     "data": {
      "text/plain": [
       "0    1\n",
       "1    2\n",
       "2    3\n",
       "dtype: int64"
      ]
     },
     "execution_count": 501,
     "metadata": {},
     "output_type": "execute_result"
    }
   ],
   "source": [
    "pd.Series([1, 2, 3])"
   ]
  },
  {
   "cell_type": "markdown",
   "metadata": {},
   "source": [
    "> **Nota**\n",
    ">\n",
    "> El índice por defecto se crea con números enteros positivos empezando desde 0."
   ]
  },
  {
   "cell_type": "markdown",
   "metadata": {},
   "source": [
    "**Especificando un índice personalizando (etiqueta a cada valor):**"
   ]
  },
  {
   "cell_type": "code",
   "execution_count": 502,
   "metadata": {},
   "outputs": [
    {
     "data": {
      "text/plain": [
       "a    1\n",
       "b    2\n",
       "c    3\n",
       "dtype: int64"
      ]
     },
     "execution_count": 502,
     "metadata": {},
     "output_type": "execute_result"
    }
   ],
   "source": [
    "pd.Series(range(1, 4), index = ['a', 'b', 'c'])"
   ]
  },
  {
   "cell_type": "markdown",
   "metadata": {},
   "source": [
    "**Especificando un diccionario con etiquetas y valores:**"
   ]
  },
  {
   "cell_type": "code",
   "execution_count": 503,
   "metadata": {},
   "outputs": [
    {
     "data": {
      "text/plain": [
       "a    1\n",
       "b    2\n",
       "c    3\n",
       "dtype: int64"
      ]
     },
     "execution_count": 503,
     "metadata": {},
     "output_type": "execute_result"
    }
   ],
   "source": [
    "items = {'a' : 1, 'b' : 2, 'c' : 3}\n",
    "pd.Series(items)"
   ]
  },
  {
   "cell_type": "markdown",
   "metadata": {},
   "source": [
    "Todas las series que hemos visto hasta ahora no tienen asignado ningún nombre. Lo podemos hacer usando el parámetro `name` en la creación de la serie:"
   ]
  },
  {
   "cell_type": "code",
   "execution_count": 504,
   "metadata": {},
   "outputs": [
    {
     "data": {
      "text/plain": [
       "0    1\n",
       "1    2\n",
       "2    3\n",
       "Name: integers, dtype: int64"
      ]
     },
     "execution_count": 504,
     "metadata": {},
     "output_type": "execute_result"
    }
   ],
   "source": [
    "pd.Series([1, 2, 3], name = 'integers')"
   ]
  },
  {
   "cell_type": "markdown",
   "metadata": {},
   "source": [
    "> **Ejercicio**"
   ]
  },
  {
   "cell_type": "markdown",
   "metadata": {},
   "source": [
    "Cree una serie de pandas con valores enteros en el intervalo [1, 26] y etiquetas 'ABCDEFGHIJKLMNOPQRSTUVWXYZ'. Busque una manera programática (no manual) de hacerlo (recuerde el módulo string)."
   ]
  },
  {
   "cell_type": "code",
   "execution_count": 505,
   "metadata": {},
   "outputs": [
    {
     "name": "stdout",
     "output_type": "stream",
     "text": [
      "A     1\n",
      "B     2\n",
      "C     3\n",
      "D     4\n",
      "E     5\n",
      "F     6\n",
      "G     7\n",
      "H     8\n",
      "I     9\n",
      "J    10\n",
      "K    11\n",
      "L    12\n",
      "M    13\n",
      "N    14\n",
      "O    15\n",
      "P    16\n",
      "Q    17\n",
      "R    18\n",
      "S    19\n",
      "T    20\n",
      "U    21\n",
      "V    22\n",
      "W    23\n",
      "X    24\n",
      "Y    25\n",
      "Z    26\n",
      "dtype: int64\n"
     ]
    }
   ],
   "source": [
    "import pandas as pd\n",
    "import string\n",
    "\n",
    "# Crear una lista de valores enteros en el intervalo [1, 26]\n",
    "valores_enteros = list(range(1, 27))\n",
    "\n",
    "# Crear una lista de etiquetas usando las letras mayúsculas del alfabeto\n",
    "etiquetas = list(string.ascii_uppercase)\n",
    "\n",
    "# Crear la serie de pandas\n",
    "serie = pd.Series(valores_enteros, index=etiquetas)\n",
    "\n",
    "# Imprimir la serie\n",
    "print(serie)"
   ]
  },
  {
   "cell_type": "markdown",
   "metadata": {},
   "source": [
    "### **Atributos de una serie**"
   ]
  },
  {
   "cell_type": "markdown",
   "metadata": {},
   "source": [
    "Las `series` en pandas contienen gran cantidad de atributos. A continuación destacaremos algunos de ellos.\n",
    "\n",
    "Trabajaremos con datos que contienen el número de empleados/as de diferentes empresas tecnológicas."
   ]
  },
  {
   "cell_type": "code",
   "execution_count": 506,
   "metadata": {},
   "outputs": [],
   "source": [
    "data = {'Apple': 147000,\n",
    "'Samsung': 267937,\n",
    "'Google': 135301,\n",
    "'Microsoft': 163000,\n",
    "'Huawei': 197000,\n",
    "'Dell': 158000,\n",
    "'Facebook': 58604,\n",
    "'Foxconn': 878429,\n",
    "'Sony': 109700}"
   ]
  },
  {
   "cell_type": "code",
   "execution_count": 507,
   "metadata": {},
   "outputs": [
    {
     "data": {
      "text/plain": [
       "{'Apple': 147000,\n",
       " 'Samsung': 267937,\n",
       " 'Google': 135301,\n",
       " 'Microsoft': 163000,\n",
       " 'Huawei': 197000,\n",
       " 'Dell': 158000,\n",
       " 'Facebook': 58604,\n",
       " 'Foxconn': 878429,\n",
       " 'Sony': 109700}"
      ]
     },
     "execution_count": 507,
     "metadata": {},
     "output_type": "execute_result"
    }
   ],
   "source": [
    "data"
   ]
  },
  {
   "cell_type": "code",
   "execution_count": 508,
   "metadata": {},
   "outputs": [],
   "source": [
    "employees = pd.Series(data, name = 'Tech Employess')"
   ]
  },
  {
   "cell_type": "markdown",
   "metadata": {},
   "source": [
    "**Índice de la serie:**"
   ]
  },
  {
   "cell_type": "code",
   "execution_count": 509,
   "metadata": {},
   "outputs": [
    {
     "data": {
      "text/plain": [
       "Index(['Apple', 'Samsung', 'Google', 'Microsoft', 'Huawei', 'Dell', 'Facebook',\n",
       "       'Foxconn', 'Sony'],\n",
       "      dtype='object')"
      ]
     },
     "execution_count": 509,
     "metadata": {},
     "output_type": "execute_result"
    }
   ],
   "source": [
    "employees.index"
   ]
  },
  {
   "cell_type": "markdown",
   "metadata": {},
   "source": [
    "**Valores de la serie:**"
   ]
  },
  {
   "cell_type": "code",
   "execution_count": 510,
   "metadata": {},
   "outputs": [
    {
     "data": {
      "text/plain": [
       "array([147000, 267937, 135301, 163000, 197000, 158000,  58604, 878429,\n",
       "       109700])"
      ]
     },
     "execution_count": 510,
     "metadata": {},
     "output_type": "execute_result"
    }
   ],
   "source": [
    "employees.values"
   ]
  },
  {
   "cell_type": "markdown",
   "metadata": {},
   "source": [
    "**Tipo de la serie:**"
   ]
  },
  {
   "cell_type": "code",
   "execution_count": 511,
   "metadata": {},
   "outputs": [
    {
     "data": {
      "text/plain": [
       "dtype('int64')"
      ]
     },
     "execution_count": 511,
     "metadata": {},
     "output_type": "execute_result"
    }
   ],
   "source": [
    "employees.dtype"
   ]
  },
  {
   "cell_type": "markdown",
   "metadata": {},
   "source": [
    "**Nombre de la serie:**"
   ]
  },
  {
   "cell_type": "code",
   "execution_count": 512,
   "metadata": {},
   "outputs": [
    {
     "data": {
      "text/plain": [
       "'Tech Employess'"
      ]
     },
     "execution_count": 512,
     "metadata": {},
     "output_type": "execute_result"
    }
   ],
   "source": [
    "employees.name"
   ]
  },
  {
   "cell_type": "markdown",
   "metadata": {},
   "source": [
    "**Memoria ocupada por la serie:**"
   ]
  },
  {
   "cell_type": "code",
   "execution_count": 513,
   "metadata": {},
   "outputs": [
    {
     "data": {
      "text/plain": [
       "72"
      ]
     },
     "execution_count": 513,
     "metadata": {},
     "output_type": "execute_result"
    }
   ],
   "source": [
    "employees.nbytes"
   ]
  },
  {
   "cell_type": "markdown",
   "metadata": {},
   "source": [
    "**Número de registros de la serie:**"
   ]
  },
  {
   "cell_type": "code",
   "execution_count": 514,
   "metadata": {},
   "outputs": [
    {
     "data": {
      "text/plain": [
       "9"
      ]
     },
     "execution_count": 514,
     "metadata": {},
     "output_type": "execute_result"
    }
   ],
   "source": [
    "employees.size"
   ]
  },
  {
   "cell_type": "markdown",
   "metadata": {},
   "source": [
    "### **Selección de registros**"
   ]
  },
  {
   "cell_type": "markdown",
   "metadata": {},
   "source": [
    "La selección de los datos se puede realizar desde múltiples aproximaciones. A continuación veremos las posibilidades que nos ofrece pandas para seleccionar/filtrar los registros de una serie."
   ]
  },
  {
   "cell_type": "code",
   "execution_count": 515,
   "metadata": {},
   "outputs": [
    {
     "data": {
      "text/plain": [
       "Apple        147000\n",
       "Samsung      267937\n",
       "Google       135301\n",
       "Microsoft    163000\n",
       "Huawei       197000\n",
       "Dell         158000\n",
       "Facebook      58604\n",
       "Foxconn      878429\n",
       "Sony         109700\n",
       "Name: Tech Employess, dtype: int64"
      ]
     },
     "execution_count": 515,
     "metadata": {},
     "output_type": "execute_result"
    }
   ],
   "source": [
    "employees"
   ]
  },
  {
   "cell_type": "markdown",
   "metadata": {},
   "source": [
    "**Selección usando indexado numérico**"
   ]
  },
  {
   "cell_type": "markdown",
   "metadata": {},
   "source": [
    "Para acceder a los registros por su posición (índice numérico) basta usar corchetes como ya se ha visto en cualquier secuencia:"
   ]
  },
  {
   "cell_type": "code",
   "execution_count": 516,
   "metadata": {},
   "outputs": [
    {
     "data": {
      "text/plain": [
       "147000"
      ]
     },
     "execution_count": 516,
     "metadata": {},
     "output_type": "execute_result"
    }
   ],
   "source": [
    "employees[0]"
   ]
  },
  {
   "cell_type": "code",
   "execution_count": 517,
   "metadata": {},
   "outputs": [
    {
     "data": {
      "text/plain": [
       "109700"
      ]
     },
     "execution_count": 517,
     "metadata": {},
     "output_type": "execute_result"
    }
   ],
   "source": [
    "employees[-1]"
   ]
  },
  {
   "cell_type": "code",
   "execution_count": 518,
   "metadata": {},
   "outputs": [
    {
     "data": {
      "text/plain": [
       "Google       135301\n",
       "Microsoft    163000\n",
       "Huawei       197000\n",
       "Name: Tech Employess, dtype: int64"
      ]
     },
     "execution_count": 518,
     "metadata": {},
     "output_type": "execute_result"
    }
   ],
   "source": [
    "employees[2:5]"
   ]
  },
  {
   "cell_type": "code",
   "execution_count": 519,
   "metadata": {},
   "outputs": [
    {
     "data": {
      "text/plain": [
       "Samsung      267937\n",
       "Microsoft    163000\n",
       "Dell         158000\n",
       "Name: Tech Employess, dtype: int64"
      ]
     },
     "execution_count": 519,
     "metadata": {},
     "output_type": "execute_result"
    }
   ],
   "source": [
    "employees[1:6:2]"
   ]
  },
  {
   "cell_type": "markdown",
   "metadata": {},
   "source": [
    "El atributo `iloc` es un alias (algo más expresivo) que permite realizar las mismas operaciones de indexado (con corchetes) que hemos visto anteriormente:"
   ]
  },
  {
   "cell_type": "code",
   "execution_count": 520,
   "metadata": {},
   "outputs": [
    {
     "data": {
      "text/plain": [
       "Samsung      267937\n",
       "Microsoft    163000\n",
       "Dell         158000\n",
       "Name: Tech Employess, dtype: int64"
      ]
     },
     "execution_count": 520,
     "metadata": {},
     "output_type": "execute_result"
    }
   ],
   "source": [
    "employees.iloc[1:6:2]"
   ]
  },
  {
   "cell_type": "markdown",
   "metadata": {},
   "source": [
    "> **Truco**\n",
    ">\n",
    "> Python, y en este caso pandas, se dicen `O-index` porque sus índices (posiciones) comienzan en cero."
   ]
  },
  {
   "cell_type": "markdown",
   "metadata": {},
   "source": [
    "**Seleccíon usando etiquetas**"
   ]
  },
  {
   "cell_type": "markdown",
   "metadata": {},
   "source": [
    "En el caso de aquellas series que dispongan de un índice con etiquetas, podemos acceder a sus registros utilizando las mismas:"
   ]
  },
  {
   "cell_type": "code",
   "execution_count": 521,
   "metadata": {},
   "outputs": [
    {
     "data": {
      "text/plain": [
       "147000"
      ]
     },
     "execution_count": 521,
     "metadata": {},
     "output_type": "execute_result"
    }
   ],
   "source": [
    "employees['Apple'] # equivalente a employees.Apple"
   ]
  },
  {
   "cell_type": "code",
   "execution_count": 522,
   "metadata": {},
   "outputs": [
    {
     "data": {
      "text/plain": [
       "Apple        147000\n",
       "Samsung      267937\n",
       "Google       135301\n",
       "Microsoft    163000\n",
       "Huawei       197000\n",
       "Name: Tech Employess, dtype: int64"
      ]
     },
     "execution_count": 522,
     "metadata": {},
     "output_type": "execute_result"
    }
   ],
   "source": [
    "employees['Apple' : 'Huawei']"
   ]
  },
  {
   "cell_type": "code",
   "execution_count": 523,
   "metadata": {},
   "outputs": [
    {
     "data": {
      "text/plain": [
       "Apple     147000\n",
       "Google    135301\n",
       "Huawei    197000\n",
       "Name: Tech Employess, dtype: int64"
      ]
     },
     "execution_count": 523,
     "metadata": {},
     "output_type": "execute_result"
    }
   ],
   "source": [
    "employees['Apple' : 'Huawei' : 2]"
   ]
  },
  {
   "cell_type": "markdown",
   "metadata": {},
   "source": [
    "El atributo `loc` es un alias (algo más expresivo) que permite realizar las mismas operaciones de indexado (con corchetes) que hemos visto anteriormente:"
   ]
  },
  {
   "cell_type": "code",
   "execution_count": 524,
   "metadata": {},
   "outputs": [
    {
     "data": {
      "text/plain": [
       "Apple     147000\n",
       "Google    135301\n",
       "Huawei    197000\n",
       "Name: Tech Employess, dtype: int64"
      ]
     },
     "execution_count": 524,
     "metadata": {},
     "output_type": "execute_result"
    }
   ],
   "source": [
    "employees.loc['Apple' : 'Huawei' : 2]"
   ]
  },
  {
   "cell_type": "markdown",
   "metadata": {},
   "source": [
    "**Fragmentos de comienzo y fin**"
   ]
  },
  {
   "cell_type": "markdown",
   "metadata": {},
   "source": [
    "A nivel exploratorio, es bastante cómodo acceder a una porción inicial (o final) de los datos que manejamos. Esto se puede hacer de forma muy sencilla con series:"
   ]
  },
  {
   "cell_type": "code",
   "execution_count": 525,
   "metadata": {},
   "outputs": [
    {
     "data": {
      "text/plain": [
       "Apple      147000\n",
       "Samsung    267937\n",
       "Google     135301\n",
       "Name: Tech Employess, dtype: int64"
      ]
     },
     "execution_count": 525,
     "metadata": {},
     "output_type": "execute_result"
    }
   ],
   "source": [
    "employees.head(3)"
   ]
  },
  {
   "cell_type": "code",
   "execution_count": 526,
   "metadata": {},
   "outputs": [
    {
     "data": {
      "text/plain": [
       "Facebook     58604\n",
       "Foxconn     878429\n",
       "Sony        109700\n",
       "Name: Tech Employess, dtype: int64"
      ]
     },
     "execution_count": 526,
     "metadata": {},
     "output_type": "execute_result"
    }
   ],
   "source": [
    "employees.tail(3)"
   ]
  },
  {
   "cell_type": "markdown",
   "metadata": {},
   "source": [
    "### **Operaciones con series**"
   ]
  },
  {
   "cell_type": "markdown",
   "metadata": {},
   "source": [
    "Si tenemos en cuenta que una serie contiene valores en formato `ndarray` podemos concluir que las operaciones sobre arrays son aplicables al caso de las series. Veamos algunos ejemplos de operaciones que podemos aplicar sobre series."
   ]
  },
  {
   "cell_type": "markdown",
   "metadata": {},
   "source": [
    "**Operaciones Lógicas**"
   ]
  },
  {
   "cell_type": "markdown",
   "metadata": {},
   "source": [
    "Supongamos que queremos filtrar aquellas empresas que tengan más de 200000 trabajadores/as:"
   ]
  },
  {
   "cell_type": "code",
   "execution_count": 527,
   "metadata": {},
   "outputs": [
    {
     "data": {
      "text/plain": [
       "Apple        False\n",
       "Samsung       True\n",
       "Google       False\n",
       "Microsoft    False\n",
       "Huawei       False\n",
       "Dell         False\n",
       "Facebook     False\n",
       "Foxconn       True\n",
       "Sony         False\n",
       "Name: Tech Employess, dtype: bool"
      ]
     },
     "execution_count": 527,
     "metadata": {},
     "output_type": "execute_result"
    }
   ],
   "source": [
    "employees > 200_000"
   ]
  },
  {
   "cell_type": "markdown",
   "metadata": {},
   "source": [
    "Hemos obtenido una serie `booleana`. Si queremos aplicar esta `máscara`, podemos hacerlo con indexado:"
   ]
  },
  {
   "cell_type": "code",
   "execution_count": 528,
   "metadata": {},
   "outputs": [
    {
     "data": {
      "text/plain": [
       "Samsung    267937\n",
       "Foxconn    878429\n",
       "Name: Tech Employess, dtype: int64"
      ]
     },
     "execution_count": 528,
     "metadata": {},
     "output_type": "execute_result"
    }
   ],
   "source": [
    "employees[employees > 200_000] # empresas con más de 200k trabajadores/as"
   ]
  },
  {
   "cell_type": "markdown",
   "metadata": {},
   "source": [
    "#### **Ordenación**"
   ]
  },
  {
   "cell_type": "markdown",
   "metadata": {},
   "source": [
    "**Ordenación de una serie por sus valores:**"
   ]
  },
  {
   "cell_type": "code",
   "execution_count": 529,
   "metadata": {},
   "outputs": [
    {
     "data": {
      "text/plain": [
       "Facebook      58604\n",
       "Sony         109700\n",
       "Google       135301\n",
       "Apple        147000\n",
       "Dell         158000\n",
       "Microsoft    163000\n",
       "Huawei       197000\n",
       "Samsung      267937\n",
       "Foxconn      878429\n",
       "Name: Tech Employess, dtype: int64"
      ]
     },
     "execution_count": 529,
     "metadata": {},
     "output_type": "execute_result"
    }
   ],
   "source": [
    "employees.sort_values()"
   ]
  },
  {
   "cell_type": "markdown",
   "metadata": {},
   "source": [
    "**Ordenación de una serie por su índice:**"
   ]
  },
  {
   "cell_type": "code",
   "execution_count": 530,
   "metadata": {},
   "outputs": [
    {
     "data": {
      "text/plain": [
       "Apple        147000\n",
       "Dell         158000\n",
       "Facebook      58604\n",
       "Foxconn      878429\n",
       "Google       135301\n",
       "Huawei       197000\n",
       "Microsoft    163000\n",
       "Samsung      267937\n",
       "Sony         109700\n",
       "Name: Tech Employess, dtype: int64"
      ]
     },
     "execution_count": 530,
     "metadata": {},
     "output_type": "execute_result"
    }
   ],
   "source": [
    "employees.sort_index()"
   ]
  },
  {
   "cell_type": "markdown",
   "metadata": {},
   "source": [
    "> **Truco**\n",
    ">\n",
    "> Ambos métodos admiten el parámetro `ascending` para indicar si la ordenación es ascendente (True) o descendente (False); y también admiten el parámetro `inplace` para indicar si se quiere modificar los valores de la serie (True) o devolver una nueva ya ordenada (False)."
   ]
  },
  {
   "cell_type": "markdown",
   "metadata": {},
   "source": [
    "**Contando valores**"
   ]
  },
  {
   "cell_type": "markdown",
   "metadata": {},
   "source": [
    "Si queremos obtener una **Tabla de frecuencias** podemos contar los valores que existen en nuestra serie:"
   ]
  },
  {
   "cell_type": "code",
   "execution_count": 531,
   "metadata": {},
   "outputs": [
    {
     "data": {
      "text/plain": [
       "5    3\n",
       "3    2\n",
       "6    2\n",
       "8    2\n",
       "2    1\n",
       "7    1\n",
       "Name: count, dtype: int64"
      ]
     },
     "execution_count": 531,
     "metadata": {},
     "output_type": "execute_result"
    }
   ],
   "source": [
    "marks = pd.Series([5, 5, 3, 6, 5, 2, 8, 3, 8, 7, 6])\n",
    "marks.value_counts()"
   ]
  },
  {
   "cell_type": "markdown",
   "metadata": {},
   "source": [
    "Vinculado con el caso anterior, podemos obtener el número de valores únicos en la serie:"
   ]
  },
  {
   "cell_type": "code",
   "execution_count": 532,
   "metadata": {},
   "outputs": [
    {
     "data": {
      "text/plain": [
       "6"
      ]
     },
     "execution_count": 532,
     "metadata": {},
     "output_type": "execute_result"
    }
   ],
   "source": [
    "marks.nunique()"
   ]
  },
  {
   "cell_type": "markdown",
   "metadata": {},
   "source": [
    "El método `count()` devuelve el número de valores `no nulos` que contiene la serie:"
   ]
  },
  {
   "cell_type": "code",
   "execution_count": 533,
   "metadata": {},
   "outputs": [
    {
     "data": {
      "text/plain": [
       "11"
      ]
     },
     "execution_count": 533,
     "metadata": {},
     "output_type": "execute_result"
    }
   ],
   "source": [
    "marks.count() # en este caso es equivalente a marks.size"
   ]
  },
  {
   "cell_type": "markdown",
   "metadata": {},
   "source": [
    "### **Operaciones Aritméticas**"
   ]
  },
  {
   "cell_type": "markdown",
   "metadata": {},
   "source": [
    "**Operaciones entre series y escalares**"
   ]
  },
  {
   "cell_type": "markdown",
   "metadata": {},
   "source": [
    "Podemos operar entre series y escalares sin ningún tipo de problema:"
   ]
  },
  {
   "cell_type": "code",
   "execution_count": 534,
   "metadata": {},
   "outputs": [
    {
     "data": {
      "text/plain": [
       "Apple        147.000\n",
       "Samsung      267.937\n",
       "Google       135.301\n",
       "Microsoft    163.000\n",
       "Huawei       197.000\n",
       "Dell         158.000\n",
       "Facebook      58.604\n",
       "Foxconn      878.429\n",
       "Sony         109.700\n",
       "Name: Tech Employess, dtype: float64"
      ]
     },
     "execution_count": 534,
     "metadata": {},
     "output_type": "execute_result"
    }
   ],
   "source": [
    "employees / 1000"
   ]
  },
  {
   "cell_type": "markdown",
   "metadata": {},
   "source": [
    "**Operaciones entre series**"
   ]
  },
  {
   "cell_type": "markdown",
   "metadata": {},
   "source": [
    "Para el caso de operaciones entre series, vamos a ejemplificarlo con las dos siguientes:"
   ]
  },
  {
   "cell_type": "code",
   "execution_count": 535,
   "metadata": {},
   "outputs": [
    {
     "data": {
      "text/plain": [
       "Apple        147000\n",
       "Samsung      267937\n",
       "Google       135301\n",
       "Microsoft    163000\n",
       "Huawei       197000\n",
       "Dell         158000\n",
       "Facebook      58604\n",
       "Foxconn      878429\n",
       "Sony         109700\n",
       "Name: Tech Employess, dtype: int64"
      ]
     },
     "execution_count": 535,
     "metadata": {},
     "output_type": "execute_result"
    }
   ],
   "source": [
    "employees"
   ]
  },
  {
   "cell_type": "code",
   "execution_count": 536,
   "metadata": {},
   "outputs": [],
   "source": [
    "data = {'Apple'  :      274515,\n",
    "'Samsung' :      200734,\n",
    "'Google' :      182527,\n",
    "'Microsoft' :   143015,\n",
    "'Huawei' :      129184,\n",
    "'Dell' :         92224,\n",
    "'Facebook' :     85965,\n",
    "'Foxconn' :     181945,\n",
    "'Sony'  :        84893}"
   ]
  },
  {
   "cell_type": "code",
   "execution_count": 537,
   "metadata": {},
   "outputs": [],
   "source": [
    "revenues = pd.Series(data, name = 'Tech Revenues')"
   ]
  },
  {
   "cell_type": "code",
   "execution_count": 538,
   "metadata": {},
   "outputs": [
    {
     "data": {
      "text/plain": [
       "Apple        274515\n",
       "Samsung      200734\n",
       "Google       182527\n",
       "Microsoft    143015\n",
       "Huawei       129184\n",
       "Dell          92224\n",
       "Facebook      85965\n",
       "Foxconn      181945\n",
       "Sony          84893\n",
       "Name: Tech Revenues, dtype: int64"
      ]
     },
     "execution_count": 538,
     "metadata": {},
     "output_type": "execute_result"
    }
   ],
   "source": [
    "revenues"
   ]
  },
  {
   "cell_type": "markdown",
   "metadata": {},
   "source": [
    "Supongamos que queremos calcular la ratio de ingresos por trabajador/a:"
   ]
  },
  {
   "cell_type": "code",
   "execution_count": 539,
   "metadata": {},
   "outputs": [
    {
     "data": {
      "text/plain": [
       "Apple        1.867449\n",
       "Samsung      0.749184\n",
       "Google       1.349044\n",
       "Microsoft    0.877393\n",
       "Huawei       0.655756\n",
       "Dell         0.583696\n",
       "Facebook     1.466879\n",
       "Foxconn      0.207125\n",
       "Sony         0.773865\n",
       "dtype: float64"
      ]
     },
     "execution_count": 539,
     "metadata": {},
     "output_type": "execute_result"
    }
   ],
   "source": [
    "revenues / employees"
   ]
  },
  {
   "cell_type": "markdown",
   "metadata": {},
   "source": [
    "> **Truco**\n",
    ">\n",
    "> Tener en cuenta que las operaciones se realizan entre registros que tienen el mismo índice (etiqueta)."
   ]
  },
  {
   "cell_type": "markdown",
   "metadata": {},
   "source": [
    "**Funciones Estadísticas**"
   ]
  },
  {
   "cell_type": "markdown",
   "metadata": {},
   "source": [
    "Existen multitud de funciones estadísticas que podemos aplicar a una serie. Dependiendo del tipo de dato con el que estamos trabajando, serán más útiles unas que otras. Veamos dos funciones a modo de ejemplo:"
   ]
  },
  {
   "cell_type": "code",
   "execution_count": 540,
   "metadata": {},
   "outputs": [
    {
     "data": {
      "text/plain": [
       "234996.77777777778"
      ]
     },
     "execution_count": 540,
     "metadata": {},
     "output_type": "execute_result"
    }
   ],
   "source": [
    "employees.mean()"
   ]
  },
  {
   "cell_type": "code",
   "execution_count": 541,
   "metadata": {},
   "outputs": [
    {
     "data": {
      "text/plain": [
       "248027.7840619765"
      ]
     },
     "execution_count": 541,
     "metadata": {},
     "output_type": "execute_result"
    }
   ],
   "source": [
    "employees.std()"
   ]
  },
  {
   "cell_type": "markdown",
   "metadata": {},
   "source": [
    "### **Máximos y Mínimos**"
   ]
  },
  {
   "cell_type": "markdown",
   "metadata": {},
   "source": [
    "El abanico de posibilidades es muy amplio en cuanto a la búsqueda de valores máximos y mínimos en una serie. Veamos lo que nos ofrece pandas a este respecto."
   ]
  },
  {
   "cell_type": "markdown",
   "metadata": {},
   "source": [
    "**Obtener valor mínimo/máximo de una serie:**"
   ]
  },
  {
   "cell_type": "code",
   "execution_count": 542,
   "metadata": {},
   "outputs": [
    {
     "data": {
      "text/plain": [
       "58604"
      ]
     },
     "execution_count": 542,
     "metadata": {},
     "output_type": "execute_result"
    }
   ],
   "source": [
    "employees.min()"
   ]
  },
  {
   "cell_type": "code",
   "execution_count": 543,
   "metadata": {},
   "outputs": [
    {
     "data": {
      "text/plain": [
       "878429"
      ]
     },
     "execution_count": 543,
     "metadata": {},
     "output_type": "execute_result"
    }
   ],
   "source": [
    "employees.max()"
   ]
  },
  {
   "cell_type": "markdown",
   "metadata": {},
   "source": [
    "**Posición (índice) del valor mínimo/máximo de una serie:**"
   ]
  },
  {
   "cell_type": "code",
   "execution_count": 544,
   "metadata": {},
   "outputs": [
    {
     "data": {
      "text/plain": [
       "6"
      ]
     },
     "execution_count": 544,
     "metadata": {},
     "output_type": "execute_result"
    }
   ],
   "source": [
    "employees.argmin() # employees[6] = 58604"
   ]
  },
  {
   "cell_type": "code",
   "execution_count": 545,
   "metadata": {},
   "outputs": [
    {
     "data": {
      "text/plain": [
       "7"
      ]
     },
     "execution_count": 545,
     "metadata": {},
     "output_type": "execute_result"
    }
   ],
   "source": [
    "employees.argmax() # employees[7] = 878429"
   ]
  },
  {
   "cell_type": "markdown",
   "metadata": {},
   "source": [
    "**Etiqueta (índice) del valor mínimo/máximo de una serie:**"
   ]
  },
  {
   "cell_type": "code",
   "execution_count": 546,
   "metadata": {},
   "outputs": [
    {
     "data": {
      "text/plain": [
       "'Facebook'"
      ]
     },
     "execution_count": 546,
     "metadata": {},
     "output_type": "execute_result"
    }
   ],
   "source": [
    "employees.idxmin()"
   ]
  },
  {
   "cell_type": "code",
   "execution_count": 547,
   "metadata": {},
   "outputs": [
    {
     "data": {
      "text/plain": [
       "'Foxconn'"
      ]
     },
     "execution_count": 547,
     "metadata": {},
     "output_type": "execute_result"
    }
   ],
   "source": [
    "employees.idxmax()"
   ]
  },
  {
   "cell_type": "markdown",
   "metadata": {},
   "source": [
    "**Obtener los n valores menores/mayores de una serie:**"
   ]
  },
  {
   "cell_type": "code",
   "execution_count": 548,
   "metadata": {},
   "outputs": [
    {
     "data": {
      "text/plain": [
       "Facebook     58604\n",
       "Sony        109700\n",
       "Google      135301\n",
       "Name: Tech Employess, dtype: int64"
      ]
     },
     "execution_count": 548,
     "metadata": {},
     "output_type": "execute_result"
    }
   ],
   "source": [
    "employees.nsmallest(3)"
   ]
  },
  {
   "cell_type": "code",
   "execution_count": 549,
   "metadata": {},
   "outputs": [
    {
     "data": {
      "text/plain": [
       "Foxconn    878429\n",
       "Samsung    267937\n",
       "Huawei     197000\n",
       "Name: Tech Employess, dtype: int64"
      ]
     },
     "execution_count": 549,
     "metadata": {},
     "output_type": "execute_result"
    }
   ],
   "source": [
    "employees.nlargest(3)"
   ]
  },
  {
   "cell_type": "markdown",
   "metadata": {},
   "source": [
    "### **Exportación de series**"
   ]
  },
  {
   "cell_type": "markdown",
   "metadata": {},
   "source": [
    "Suele ser bastante habitual intercambiar datos en distintos formatos (y aplicaciones). Para ello, pandas nos permite exportar una serie a multitud de formatos. Veamos algunos de ellos:"
   ]
  },
  {
   "cell_type": "markdown",
   "metadata": {},
   "source": [
    "**Exportación de serie a lista:**"
   ]
  },
  {
   "cell_type": "code",
   "execution_count": 550,
   "metadata": {},
   "outputs": [
    {
     "data": {
      "text/plain": [
       "[147000, 267937, 135301, 163000, 197000, 158000, 58604, 878429, 109700]"
      ]
     },
     "execution_count": 550,
     "metadata": {},
     "output_type": "execute_result"
    }
   ],
   "source": [
    "employees.to_list()"
   ]
  },
  {
   "cell_type": "markdown",
   "metadata": {},
   "source": [
    "**Exportación de serie a diccionario:**"
   ]
  },
  {
   "cell_type": "code",
   "execution_count": 551,
   "metadata": {},
   "outputs": [
    {
     "data": {
      "text/plain": [
       "{'Apple': 147000,\n",
       " 'Samsung': 267937,\n",
       " 'Google': 135301,\n",
       " 'Microsoft': 163000,\n",
       " 'Huawei': 197000,\n",
       " 'Dell': 158000,\n",
       " 'Facebook': 58604,\n",
       " 'Foxconn': 878429,\n",
       " 'Sony': 109700}"
      ]
     },
     "execution_count": 551,
     "metadata": {},
     "output_type": "execute_result"
    }
   ],
   "source": [
    "employees.to_dict()"
   ]
  },
  {
   "cell_type": "markdown",
   "metadata": {},
   "source": [
    "**Exportación de serie a csv:**"
   ]
  },
  {
   "cell_type": "code",
   "execution_count": 552,
   "metadata": {},
   "outputs": [
    {
     "data": {
      "text/plain": [
       "',Tech Employess\\nApple,147000\\nSamsung,267937\\nGoogle,135301\\nMicrosoft,163000\\nHuawei,197000\\nDell,158000\\nFacebook,58604\\nFoxconn,878429\\nSony,109700\\n'"
      ]
     },
     "execution_count": 552,
     "metadata": {},
     "output_type": "execute_result"
    }
   ],
   "source": [
    "employees.to_csv()"
   ]
  },
  {
   "cell_type": "markdown",
   "metadata": {},
   "source": [
    "**Exportación de serie a json:**"
   ]
  },
  {
   "cell_type": "code",
   "execution_count": 553,
   "metadata": {},
   "outputs": [
    {
     "data": {
      "text/plain": [
       "'{\"Apple\":147000,\"Samsung\":267937,\"Google\":135301,\"Microsoft\":163000,\"Huawei\":197000,\"Dell\":158000,\"Facebook\":58604,\"Foxconn\":878429,\"Sony\":109700}'"
      ]
     },
     "execution_count": 553,
     "metadata": {},
     "output_type": "execute_result"
    }
   ],
   "source": [
    "employees.to_json()"
   ]
  },
  {
   "cell_type": "markdown",
   "metadata": {},
   "source": [
    "**Exportación de serie a `pandas.DataFrame`:**"
   ]
  },
  {
   "cell_type": "code",
   "execution_count": 554,
   "metadata": {},
   "outputs": [
    {
     "data": {
      "text/html": [
       "<div>\n",
       "<style scoped>\n",
       "    .dataframe tbody tr th:only-of-type {\n",
       "        vertical-align: middle;\n",
       "    }\n",
       "\n",
       "    .dataframe tbody tr th {\n",
       "        vertical-align: top;\n",
       "    }\n",
       "\n",
       "    .dataframe thead th {\n",
       "        text-align: right;\n",
       "    }\n",
       "</style>\n",
       "<table border=\"1\" class=\"dataframe\">\n",
       "  <thead>\n",
       "    <tr style=\"text-align: right;\">\n",
       "      <th></th>\n",
       "      <th>Tech Employess</th>\n",
       "    </tr>\n",
       "  </thead>\n",
       "  <tbody>\n",
       "    <tr>\n",
       "      <th>Apple</th>\n",
       "      <td>147000</td>\n",
       "    </tr>\n",
       "    <tr>\n",
       "      <th>Samsung</th>\n",
       "      <td>267937</td>\n",
       "    </tr>\n",
       "    <tr>\n",
       "      <th>Google</th>\n",
       "      <td>135301</td>\n",
       "    </tr>\n",
       "    <tr>\n",
       "      <th>Microsoft</th>\n",
       "      <td>163000</td>\n",
       "    </tr>\n",
       "    <tr>\n",
       "      <th>Huawei</th>\n",
       "      <td>197000</td>\n",
       "    </tr>\n",
       "    <tr>\n",
       "      <th>Dell</th>\n",
       "      <td>158000</td>\n",
       "    </tr>\n",
       "    <tr>\n",
       "      <th>Facebook</th>\n",
       "      <td>58604</td>\n",
       "    </tr>\n",
       "    <tr>\n",
       "      <th>Foxconn</th>\n",
       "      <td>878429</td>\n",
       "    </tr>\n",
       "    <tr>\n",
       "      <th>Sony</th>\n",
       "      <td>109700</td>\n",
       "    </tr>\n",
       "  </tbody>\n",
       "</table>\n",
       "</div>"
      ],
      "text/plain": [
       "           Tech Employess\n",
       "Apple              147000\n",
       "Samsung            267937\n",
       "Google             135301\n",
       "Microsoft          163000\n",
       "Huawei             197000\n",
       "Dell               158000\n",
       "Facebook            58604\n",
       "Foxconn            878429\n",
       "Sony               109700"
      ]
     },
     "execution_count": 554,
     "metadata": {},
     "output_type": "execute_result"
    }
   ],
   "source": [
    "employees.to_frame()"
   ]
  },
  {
   "cell_type": "markdown",
   "metadata": {},
   "source": [
    "y muchos otros como: `to_clipboard()`, `to_numpy()`, `to_pickle()`, `to_string()`, `to_xarray()`, `to_excel()`, `to_hdf()`, `to_latex()`, `to_markdown()`, `to_period()`, `to_sql()` o `to_timestamp()`."
   ]
  },
  {
   "cell_type": "markdown",
   "metadata": {},
   "source": [
    "## **DataFrames**"
   ]
  },
  {
   "cell_type": "markdown",
   "metadata": {},
   "source": [
    "Un DataFrame es una estructura tabular compuesta por series. Se trata del tipo de datos fundamental en pandas y sobre el que giran la mayoria de operaciones que podemos realizar."
   ]
  },
  {
   "cell_type": "markdown",
   "metadata": {},
   "source": [
    "![DataFrame](../../img/dataframes.png \"DataFrame\")\n"
   ]
  },
  {
   "cell_type": "markdown",
   "metadata": {},
   "source": [
    "### **Creación de un DataFrame**"
   ]
  },
  {
   "cell_type": "markdown",
   "metadata": {},
   "source": [
    "Existen múltiples formas de crear un DataFrame en pandas. Veamos algunas de ellas."
   ]
  },
  {
   "cell_type": "markdown",
   "metadata": {},
   "source": [
    "**DataFrame desde Diccionario de Listas**"
   ]
  },
  {
   "cell_type": "markdown",
   "metadata": {},
   "source": [
    "Cada elemento del diccionario se convierte en una **columna**, donde su clave es el nombre y sus valores se despliegan en `vertical`:"
   ]
  },
  {
   "cell_type": "code",
   "execution_count": 555,
   "metadata": {},
   "outputs": [
    {
     "data": {
      "text/html": [
       "<div>\n",
       "<style scoped>\n",
       "    .dataframe tbody tr th:only-of-type {\n",
       "        vertical-align: middle;\n",
       "    }\n",
       "\n",
       "    .dataframe tbody tr th {\n",
       "        vertical-align: top;\n",
       "    }\n",
       "\n",
       "    .dataframe thead th {\n",
       "        text-align: right;\n",
       "    }\n",
       "</style>\n",
       "<table border=\"1\" class=\"dataframe\">\n",
       "  <thead>\n",
       "    <tr style=\"text-align: right;\">\n",
       "      <th></th>\n",
       "      <th>A</th>\n",
       "      <th>B</th>\n",
       "    </tr>\n",
       "  </thead>\n",
       "  <tbody>\n",
       "    <tr>\n",
       "      <th>0</th>\n",
       "      <td>1</td>\n",
       "      <td>4</td>\n",
       "    </tr>\n",
       "    <tr>\n",
       "      <th>1</th>\n",
       "      <td>2</td>\n",
       "      <td>5</td>\n",
       "    </tr>\n",
       "    <tr>\n",
       "      <th>2</th>\n",
       "      <td>3</td>\n",
       "      <td>6</td>\n",
       "    </tr>\n",
       "  </tbody>\n",
       "</table>\n",
       "</div>"
      ],
      "text/plain": [
       "   A  B\n",
       "0  1  4\n",
       "1  2  5\n",
       "2  3  6"
      ]
     },
     "execution_count": 555,
     "metadata": {},
     "output_type": "execute_result"
    }
   ],
   "source": [
    "data = {'A' : [1, 2, 3], 'B' : [4, 5, 6]}\n",
    "pd.DataFrame(data)"
   ]
  },
  {
   "cell_type": "markdown",
   "metadata": {},
   "source": [
    "**DataFrame desde lista de Diccionarios**"
   ]
  },
  {
   "cell_type": "markdown",
   "metadata": {},
   "source": [
    "Cada elemento de la lista se convierte en una **fila**. Las claves de cada diccionario serán los nombres de las columnas y sus valores se despliegan en `horizontal`:"
   ]
  },
  {
   "cell_type": "code",
   "execution_count": 556,
   "metadata": {},
   "outputs": [
    {
     "data": {
      "text/html": [
       "<div>\n",
       "<style scoped>\n",
       "    .dataframe tbody tr th:only-of-type {\n",
       "        vertical-align: middle;\n",
       "    }\n",
       "\n",
       "    .dataframe tbody tr th {\n",
       "        vertical-align: top;\n",
       "    }\n",
       "\n",
       "    .dataframe thead th {\n",
       "        text-align: right;\n",
       "    }\n",
       "</style>\n",
       "<table border=\"1\" class=\"dataframe\">\n",
       "  <thead>\n",
       "    <tr style=\"text-align: right;\">\n",
       "      <th></th>\n",
       "      <th>A</th>\n",
       "      <th>B</th>\n",
       "      <th>C</th>\n",
       "    </tr>\n",
       "  </thead>\n",
       "  <tbody>\n",
       "    <tr>\n",
       "      <th>0</th>\n",
       "      <td>1</td>\n",
       "      <td>2</td>\n",
       "      <td>3</td>\n",
       "    </tr>\n",
       "    <tr>\n",
       "      <th>1</th>\n",
       "      <td>4</td>\n",
       "      <td>5</td>\n",
       "      <td>6</td>\n",
       "    </tr>\n",
       "  </tbody>\n",
       "</table>\n",
       "</div>"
      ],
      "text/plain": [
       "   A  B  C\n",
       "0  1  2  3\n",
       "1  4  5  6"
      ]
     },
     "execution_count": 556,
     "metadata": {},
     "output_type": "execute_result"
    }
   ],
   "source": [
    "data = [{'A' : 1, 'B' : 2, 'C' : 3}, {'A' : 4, 'B' : 5, 'C' : 6}]\n",
    "pd.DataFrame(data)"
   ]
  },
  {
   "cell_type": "markdown",
   "metadata": {},
   "source": [
    "**DataFrame desde Lista de Listas**"
   ]
  },
  {
   "cell_type": "markdown",
   "metadata": {},
   "source": [
    "Cada elemento de la lista se convierte en una **fila** y sus valores se despliegan en `horizontal`. Los nombres de las columnas deben pasarse como parámetro opcional:"
   ]
  },
  {
   "cell_type": "code",
   "execution_count": 557,
   "metadata": {},
   "outputs": [
    {
     "data": {
      "text/html": [
       "<div>\n",
       "<style scoped>\n",
       "    .dataframe tbody tr th:only-of-type {\n",
       "        vertical-align: middle;\n",
       "    }\n",
       "\n",
       "    .dataframe tbody tr th {\n",
       "        vertical-align: top;\n",
       "    }\n",
       "\n",
       "    .dataframe thead th {\n",
       "        text-align: right;\n",
       "    }\n",
       "</style>\n",
       "<table border=\"1\" class=\"dataframe\">\n",
       "  <thead>\n",
       "    <tr style=\"text-align: right;\">\n",
       "      <th></th>\n",
       "      <th>A</th>\n",
       "      <th>B</th>\n",
       "    </tr>\n",
       "  </thead>\n",
       "  <tbody>\n",
       "    <tr>\n",
       "      <th>0</th>\n",
       "      <td>1</td>\n",
       "      <td>2</td>\n",
       "    </tr>\n",
       "    <tr>\n",
       "      <th>1</th>\n",
       "      <td>3</td>\n",
       "      <td>4</td>\n",
       "    </tr>\n",
       "    <tr>\n",
       "      <th>2</th>\n",
       "      <td>5</td>\n",
       "      <td>6</td>\n",
       "    </tr>\n",
       "  </tbody>\n",
       "</table>\n",
       "</div>"
      ],
      "text/plain": [
       "   A  B\n",
       "0  1  2\n",
       "1  3  4\n",
       "2  5  6"
      ]
     },
     "execution_count": 557,
     "metadata": {},
     "output_type": "execute_result"
    }
   ],
   "source": [
    "data = [[1, 2], [3, 4], [5, 6]]\n",
    "pd.DataFrame(data, columns=['A', 'B'])"
   ]
  },
  {
   "cell_type": "markdown",
   "metadata": {},
   "source": [
    "**DataFrame desde series**"
   ]
  },
  {
   "cell_type": "code",
   "execution_count": 558,
   "metadata": {},
   "outputs": [
    {
     "data": {
      "text/plain": [
       "Apple        147000\n",
       "Samsung      267937\n",
       "Google       135301\n",
       "Microsoft    163000\n",
       "Huawei       197000\n",
       "Dell         158000\n",
       "Facebook      58604\n",
       "Foxconn      878429\n",
       "Sony         109700\n",
       "Name: Tech Employess, dtype: int64"
      ]
     },
     "execution_count": 558,
     "metadata": {},
     "output_type": "execute_result"
    }
   ],
   "source": [
    "employees"
   ]
  },
  {
   "cell_type": "code",
   "execution_count": 559,
   "metadata": {},
   "outputs": [
    {
     "data": {
      "text/plain": [
       "Apple        274515\n",
       "Samsung      200734\n",
       "Google       182527\n",
       "Microsoft    143015\n",
       "Huawei       129184\n",
       "Dell          92224\n",
       "Facebook      85965\n",
       "Foxconn      181945\n",
       "Sony          84893\n",
       "Name: Tech Revenues, dtype: int64"
      ]
     },
     "execution_count": 559,
     "metadata": {},
     "output_type": "execute_result"
    }
   ],
   "source": [
    "revenues"
   ]
  },
  {
   "cell_type": "code",
   "execution_count": 560,
   "metadata": {},
   "outputs": [
    {
     "data": {
      "text/html": [
       "<div>\n",
       "<style scoped>\n",
       "    .dataframe tbody tr th:only-of-type {\n",
       "        vertical-align: middle;\n",
       "    }\n",
       "\n",
       "    .dataframe tbody tr th {\n",
       "        vertical-align: top;\n",
       "    }\n",
       "\n",
       "    .dataframe thead th {\n",
       "        text-align: right;\n",
       "    }\n",
       "</style>\n",
       "<table border=\"1\" class=\"dataframe\">\n",
       "  <thead>\n",
       "    <tr style=\"text-align: right;\">\n",
       "      <th></th>\n",
       "      <th>employees</th>\n",
       "      <th>revenues</th>\n",
       "    </tr>\n",
       "  </thead>\n",
       "  <tbody>\n",
       "    <tr>\n",
       "      <th>Apple</th>\n",
       "      <td>147000</td>\n",
       "      <td>274515</td>\n",
       "    </tr>\n",
       "    <tr>\n",
       "      <th>Samsung</th>\n",
       "      <td>267937</td>\n",
       "      <td>200734</td>\n",
       "    </tr>\n",
       "    <tr>\n",
       "      <th>Google</th>\n",
       "      <td>135301</td>\n",
       "      <td>182527</td>\n",
       "    </tr>\n",
       "    <tr>\n",
       "      <th>Microsoft</th>\n",
       "      <td>163000</td>\n",
       "      <td>143015</td>\n",
       "    </tr>\n",
       "    <tr>\n",
       "      <th>Huawei</th>\n",
       "      <td>197000</td>\n",
       "      <td>129184</td>\n",
       "    </tr>\n",
       "    <tr>\n",
       "      <th>Dell</th>\n",
       "      <td>158000</td>\n",
       "      <td>92224</td>\n",
       "    </tr>\n",
       "    <tr>\n",
       "      <th>Facebook</th>\n",
       "      <td>58604</td>\n",
       "      <td>85965</td>\n",
       "    </tr>\n",
       "    <tr>\n",
       "      <th>Foxconn</th>\n",
       "      <td>878429</td>\n",
       "      <td>181945</td>\n",
       "    </tr>\n",
       "    <tr>\n",
       "      <th>Sony</th>\n",
       "      <td>109700</td>\n",
       "      <td>84893</td>\n",
       "    </tr>\n",
       "  </tbody>\n",
       "</table>\n",
       "</div>"
      ],
      "text/plain": [
       "           employees  revenues\n",
       "Apple         147000    274515\n",
       "Samsung       267937    200734\n",
       "Google        135301    182527\n",
       "Microsoft     163000    143015\n",
       "Huawei        197000    129184\n",
       "Dell          158000     92224\n",
       "Facebook       58604     85965\n",
       "Foxconn       878429    181945\n",
       "Sony          109700     84893"
      ]
     },
     "execution_count": 560,
     "metadata": {},
     "output_type": "execute_result"
    }
   ],
   "source": [
    "pd.DataFrame({'employees' : employees, 'revenues' : revenues})"
   ]
  },
  {
   "cell_type": "markdown",
   "metadata": {},
   "source": [
    "> **Ejercicio**"
   ]
  },
  {
   "cell_type": "markdown",
   "metadata": {},
   "source": [
    "Cree el siguiente DataFrame en pandas:\n",
    "\n",
    "| **Island** | **Population** | **Area** |**Province**|\n",
    "|--- |--- |--- |------|\n",
    "| Gran Canaria | 855521 | 1560.1 |LPGC|\n",
    "| Tenerife | 928604 | 2034.38 |SCTF|\n",
    "|La Palma|83458|708.32|SCTF|\n",
    "|Lanzarote|155812|845.94|LPGC|\n",
    "|La Gomera|21678|369.76|SCTF|\n",
    "|El Hierro|11147|278.71|SCTF|\n",
    "|Fuerteventura|119732|1659|LPGC|\n",
    "\n",
    "La superficie (Area) está expresada en $km^2$ y las provincias corresponden con LPGC: Las Palmas de Gran Canaria y SCTF: Santa Cruz de Tenerife."
   ]
  },
  {
   "cell_type": "code",
   "execution_count": 561,
   "metadata": {},
   "outputs": [
    {
     "data": {
      "text/html": [
       "<div>\n",
       "<style scoped>\n",
       "    .dataframe tbody tr th:only-of-type {\n",
       "        vertical-align: middle;\n",
       "    }\n",
       "\n",
       "    .dataframe tbody tr th {\n",
       "        vertical-align: top;\n",
       "    }\n",
       "\n",
       "    .dataframe thead th {\n",
       "        text-align: right;\n",
       "    }\n",
       "</style>\n",
       "<table border=\"1\" class=\"dataframe\">\n",
       "  <thead>\n",
       "    <tr style=\"text-align: right;\">\n",
       "      <th></th>\n",
       "      <th>Island</th>\n",
       "      <th>Population</th>\n",
       "      <th>Area (km^2)</th>\n",
       "      <th>Province</th>\n",
       "    </tr>\n",
       "  </thead>\n",
       "  <tbody>\n",
       "    <tr>\n",
       "      <th>0</th>\n",
       "      <td>Gran Canaria</td>\n",
       "      <td>855521</td>\n",
       "      <td>1560.10</td>\n",
       "      <td>LPGC</td>\n",
       "    </tr>\n",
       "    <tr>\n",
       "      <th>1</th>\n",
       "      <td>Tenerife</td>\n",
       "      <td>928604</td>\n",
       "      <td>2034.38</td>\n",
       "      <td>SCTF</td>\n",
       "    </tr>\n",
       "    <tr>\n",
       "      <th>2</th>\n",
       "      <td>La Palma</td>\n",
       "      <td>83458</td>\n",
       "      <td>708.32</td>\n",
       "      <td>SCTF</td>\n",
       "    </tr>\n",
       "    <tr>\n",
       "      <th>3</th>\n",
       "      <td>Lanzarote</td>\n",
       "      <td>155812</td>\n",
       "      <td>845.94</td>\n",
       "      <td>LPGC</td>\n",
       "    </tr>\n",
       "    <tr>\n",
       "      <th>4</th>\n",
       "      <td>La Gomera</td>\n",
       "      <td>21678</td>\n",
       "      <td>369.76</td>\n",
       "      <td>SCTF</td>\n",
       "    </tr>\n",
       "    <tr>\n",
       "      <th>5</th>\n",
       "      <td>El Hierro</td>\n",
       "      <td>11147</td>\n",
       "      <td>278.71</td>\n",
       "      <td>SCTF</td>\n",
       "    </tr>\n",
       "    <tr>\n",
       "      <th>6</th>\n",
       "      <td>Fuerteventura</td>\n",
       "      <td>119732</td>\n",
       "      <td>1659.00</td>\n",
       "      <td>LPGC</td>\n",
       "    </tr>\n",
       "  </tbody>\n",
       "</table>\n",
       "</div>"
      ],
      "text/plain": [
       "          Island  Population  Area (km^2) Province\n",
       "0   Gran Canaria      855521      1560.10     LPGC\n",
       "1       Tenerife      928604      2034.38     SCTF\n",
       "2       La Palma       83458       708.32     SCTF\n",
       "3      Lanzarote      155812       845.94     LPGC\n",
       "4      La Gomera       21678       369.76     SCTF\n",
       "5      El Hierro       11147       278.71     SCTF\n",
       "6  Fuerteventura      119732      1659.00     LPGC"
      ]
     },
     "execution_count": 561,
     "metadata": {},
     "output_type": "execute_result"
    }
   ],
   "source": [
    "import pandas as pd\n",
    "\n",
    "data = {\n",
    "    'Island': ['Gran Canaria', 'Tenerife', 'La Palma', 'Lanzarote', 'La Gomera', 'El Hierro', 'Fuerteventura'],\n",
    "    'Population': [855521, 928604, 83458, 155812, 21678, 11147, 119732],\n",
    "    'Area (km^2)': [1560.1, 2034.38, 708.32, 845.94, 369.76, 278.71, 1659],\n",
    "    'Province': ['LPGC', 'SCTF', 'SCTF', 'LPGC', 'SCTF', 'SCTF', 'LPGC']\n",
    "}\n",
    "\n",
    "democan = pd.DataFrame(data)\n",
    "\n",
    "# Imprimir el DataFrame\n",
    "democan"
   ]
  },
  {
   "cell_type": "markdown",
   "metadata": {},
   "source": [
    "**Gestión del Índice**"
   ]
  },
  {
   "cell_type": "markdown",
   "metadata": {},
   "source": [
    "Cuando creamos un DataFrame, pandas autocompleta el índice con un valor entero autoincremental comenzando desde cero:"
   ]
  },
  {
   "cell_type": "code",
   "execution_count": 562,
   "metadata": {},
   "outputs": [
    {
     "data": {
      "text/html": [
       "<div>\n",
       "<style scoped>\n",
       "    .dataframe tbody tr th:only-of-type {\n",
       "        vertical-align: middle;\n",
       "    }\n",
       "\n",
       "    .dataframe tbody tr th {\n",
       "        vertical-align: top;\n",
       "    }\n",
       "\n",
       "    .dataframe thead th {\n",
       "        text-align: right;\n",
       "    }\n",
       "</style>\n",
       "<table border=\"1\" class=\"dataframe\">\n",
       "  <thead>\n",
       "    <tr style=\"text-align: right;\">\n",
       "      <th></th>\n",
       "      <th>A</th>\n",
       "      <th>B</th>\n",
       "    </tr>\n",
       "  </thead>\n",
       "  <tbody>\n",
       "    <tr>\n",
       "      <th>0</th>\n",
       "      <td>1</td>\n",
       "      <td>3</td>\n",
       "    </tr>\n",
       "    <tr>\n",
       "      <th>1</th>\n",
       "      <td>2</td>\n",
       "      <td>4</td>\n",
       "    </tr>\n",
       "  </tbody>\n",
       "</table>\n",
       "</div>"
      ],
      "text/plain": [
       "   A  B\n",
       "0  1  3\n",
       "1  2  4"
      ]
     },
     "execution_count": 562,
     "metadata": {},
     "output_type": "execute_result"
    }
   ],
   "source": [
    "pd.DataFrame({'A' : [1, 2], 'B' : [3, 4]})"
   ]
  },
  {
   "cell_type": "markdown",
   "metadata": {},
   "source": [
    "Si queremos convertir alguna columna en el índice de la tabla, podemos hacerlo así:"
   ]
  },
  {
   "cell_type": "code",
   "execution_count": 563,
   "metadata": {},
   "outputs": [
    {
     "data": {
      "text/html": [
       "<div>\n",
       "<style scoped>\n",
       "    .dataframe tbody tr th:only-of-type {\n",
       "        vertical-align: middle;\n",
       "    }\n",
       "\n",
       "    .dataframe tbody tr th {\n",
       "        vertical-align: top;\n",
       "    }\n",
       "\n",
       "    .dataframe thead th {\n",
       "        text-align: right;\n",
       "    }\n",
       "</style>\n",
       "<table border=\"1\" class=\"dataframe\">\n",
       "  <thead>\n",
       "    <tr style=\"text-align: right;\">\n",
       "      <th></th>\n",
       "      <th>B</th>\n",
       "    </tr>\n",
       "    <tr>\n",
       "      <th>A</th>\n",
       "      <th></th>\n",
       "    </tr>\n",
       "  </thead>\n",
       "  <tbody>\n",
       "    <tr>\n",
       "      <th>1</th>\n",
       "      <td>3</td>\n",
       "    </tr>\n",
       "    <tr>\n",
       "      <th>2</th>\n",
       "      <td>4</td>\n",
       "    </tr>\n",
       "  </tbody>\n",
       "</table>\n",
       "</div>"
      ],
      "text/plain": [
       "   B\n",
       "A   \n",
       "1  3\n",
       "2  4"
      ]
     },
     "execution_count": 563,
     "metadata": {},
     "output_type": "execute_result"
    }
   ],
   "source": [
    "stats = pd.DataFrame({'A' : [1, 2], 'B' : [3, 4]})\n",
    "stats.set_index('A') # columna A como índice"
   ]
  },
  {
   "cell_type": "markdown",
   "metadata": {},
   "source": [
    "> **Nota**\n",
    ">\n",
    "> En el caso anterior se puede observar que el índice toma un nombre `A`. Esto se puede conseguir directamente asignando un valor a `df.index.name`."
   ]
  },
  {
   "cell_type": "markdown",
   "metadata": {},
   "source": [
    "Podemos añadir un parámetro (en la creación) para especificar los valores que queremos incluir en el índice:"
   ]
  },
  {
   "cell_type": "code",
   "execution_count": 564,
   "metadata": {},
   "outputs": [
    {
     "data": {
      "text/html": [
       "<div>\n",
       "<style scoped>\n",
       "    .dataframe tbody tr th:only-of-type {\n",
       "        vertical-align: middle;\n",
       "    }\n",
       "\n",
       "    .dataframe tbody tr th {\n",
       "        vertical-align: top;\n",
       "    }\n",
       "\n",
       "    .dataframe thead th {\n",
       "        text-align: right;\n",
       "    }\n",
       "</style>\n",
       "<table border=\"1\" class=\"dataframe\">\n",
       "  <thead>\n",
       "    <tr style=\"text-align: right;\">\n",
       "      <th></th>\n",
       "      <th>A</th>\n",
       "      <th>B</th>\n",
       "    </tr>\n",
       "  </thead>\n",
       "  <tbody>\n",
       "    <tr>\n",
       "      <th>R1</th>\n",
       "      <td>1</td>\n",
       "      <td>3</td>\n",
       "    </tr>\n",
       "    <tr>\n",
       "      <th>R2</th>\n",
       "      <td>2</td>\n",
       "      <td>4</td>\n",
       "    </tr>\n",
       "  </tbody>\n",
       "</table>\n",
       "</div>"
      ],
      "text/plain": [
       "    A  B\n",
       "R1  1  3\n",
       "R2  2  4"
      ]
     },
     "execution_count": 564,
     "metadata": {},
     "output_type": "execute_result"
    }
   ],
   "source": [
    "pd.DataFrame({'A' : [1, 2], 'B' : [3, 4]}, index = ['R1', 'R2'])"
   ]
  },
  {
   "cell_type": "markdown",
   "metadata": {},
   "source": [
    "En aquellos DataFrames que disponen de un índice etiquetado, es posible resetearlo:"
   ]
  },
  {
   "cell_type": "code",
   "execution_count": 565,
   "metadata": {},
   "outputs": [
    {
     "data": {
      "text/html": [
       "<div>\n",
       "<style scoped>\n",
       "    .dataframe tbody tr th:only-of-type {\n",
       "        vertical-align: middle;\n",
       "    }\n",
       "\n",
       "    .dataframe tbody tr th {\n",
       "        vertical-align: top;\n",
       "    }\n",
       "\n",
       "    .dataframe thead th {\n",
       "        text-align: right;\n",
       "    }\n",
       "</style>\n",
       "<table border=\"1\" class=\"dataframe\">\n",
       "  <thead>\n",
       "    <tr style=\"text-align: right;\">\n",
       "      <th></th>\n",
       "      <th>index</th>\n",
       "      <th>A</th>\n",
       "      <th>B</th>\n",
       "    </tr>\n",
       "  </thead>\n",
       "  <tbody>\n",
       "    <tr>\n",
       "      <th>0</th>\n",
       "      <td>R1</td>\n",
       "      <td>1</td>\n",
       "      <td>3</td>\n",
       "    </tr>\n",
       "    <tr>\n",
       "      <th>1</th>\n",
       "      <td>R2</td>\n",
       "      <td>2</td>\n",
       "      <td>4</td>\n",
       "    </tr>\n",
       "  </tbody>\n",
       "</table>\n",
       "</div>"
      ],
      "text/plain": [
       "  index  A  B\n",
       "0    R1  1  3\n",
       "1    R2  2  4"
      ]
     },
     "execution_count": 565,
     "metadata": {},
     "output_type": "execute_result"
    }
   ],
   "source": [
    "pd.DataFrame({'A' : [1, 2], 'B' : [3, 4]}, index = ['R1', 'R2']).reset_index()"
   ]
  },
  {
   "cell_type": "markdown",
   "metadata": {},
   "source": [
    "> **Ejercicio**"
   ]
  },
  {
   "cell_type": "markdown",
   "metadata": {},
   "source": [
    "Convierta la columna `Island` en el índice"
   ]
  },
  {
   "cell_type": "code",
   "execution_count": 566,
   "metadata": {},
   "outputs": [
    {
     "data": {
      "text/html": [
       "<div>\n",
       "<style scoped>\n",
       "    .dataframe tbody tr th:only-of-type {\n",
       "        vertical-align: middle;\n",
       "    }\n",
       "\n",
       "    .dataframe tbody tr th {\n",
       "        vertical-align: top;\n",
       "    }\n",
       "\n",
       "    .dataframe thead th {\n",
       "        text-align: right;\n",
       "    }\n",
       "</style>\n",
       "<table border=\"1\" class=\"dataframe\">\n",
       "  <thead>\n",
       "    <tr style=\"text-align: right;\">\n",
       "      <th></th>\n",
       "      <th>Population</th>\n",
       "      <th>Area (km^2)</th>\n",
       "      <th>Province</th>\n",
       "    </tr>\n",
       "    <tr>\n",
       "      <th>Island</th>\n",
       "      <th></th>\n",
       "      <th></th>\n",
       "      <th></th>\n",
       "    </tr>\n",
       "  </thead>\n",
       "  <tbody>\n",
       "    <tr>\n",
       "      <th>Gran Canaria</th>\n",
       "      <td>855521</td>\n",
       "      <td>1560.10</td>\n",
       "      <td>LPGC</td>\n",
       "    </tr>\n",
       "    <tr>\n",
       "      <th>Tenerife</th>\n",
       "      <td>928604</td>\n",
       "      <td>2034.38</td>\n",
       "      <td>SCTF</td>\n",
       "    </tr>\n",
       "    <tr>\n",
       "      <th>La Palma</th>\n",
       "      <td>83458</td>\n",
       "      <td>708.32</td>\n",
       "      <td>SCTF</td>\n",
       "    </tr>\n",
       "    <tr>\n",
       "      <th>Lanzarote</th>\n",
       "      <td>155812</td>\n",
       "      <td>845.94</td>\n",
       "      <td>LPGC</td>\n",
       "    </tr>\n",
       "    <tr>\n",
       "      <th>La Gomera</th>\n",
       "      <td>21678</td>\n",
       "      <td>369.76</td>\n",
       "      <td>SCTF</td>\n",
       "    </tr>\n",
       "    <tr>\n",
       "      <th>El Hierro</th>\n",
       "      <td>11147</td>\n",
       "      <td>278.71</td>\n",
       "      <td>SCTF</td>\n",
       "    </tr>\n",
       "    <tr>\n",
       "      <th>Fuerteventura</th>\n",
       "      <td>119732</td>\n",
       "      <td>1659.00</td>\n",
       "      <td>LPGC</td>\n",
       "    </tr>\n",
       "  </tbody>\n",
       "</table>\n",
       "</div>"
      ],
      "text/plain": [
       "               Population  Area (km^2) Province\n",
       "Island                                         \n",
       "Gran Canaria       855521      1560.10     LPGC\n",
       "Tenerife           928604      2034.38     SCTF\n",
       "La Palma            83458       708.32     SCTF\n",
       "Lanzarote          155812       845.94     LPGC\n",
       "La Gomera           21678       369.76     SCTF\n",
       "El Hierro           11147       278.71     SCTF\n",
       "Fuerteventura      119732      1659.00     LPGC"
      ]
     },
     "execution_count": 566,
     "metadata": {},
     "output_type": "execute_result"
    }
   ],
   "source": [
    "democan = democan.set_index('Island')\n",
    "\n",
    "democan"
   ]
  },
  {
   "cell_type": "markdown",
   "metadata": {},
   "source": [
    "**Lectura de Fuente Externas**"
   ]
  },
  {
   "cell_type": "markdown",
   "metadata": {},
   "source": [
    "Lo más habitual cuando se trabaja en ciencia de datos es tener la información en distintas fuentes auxiliares: bases de datos, ficheros, llamadas remotas a APIs, etc. Pandas nos ofrece una variedad enorme de funciones para cargar datos desde, prácticamente, cualquier origen."
   ]
  },
  {
   "cell_type": "markdown",
   "metadata": {},
   "source": [
    "| **Función** | **Explicación** |\n",
    "|--- |--- |\n",
    "| read_pickle | Lectura de datos en formato pickle (Python) |\n",
    "| read_table | Lectura de ficheros con delimitadores |\n",
    "|read_csv|Lectura de ficheros .csv|\n",
    "|read_fwf|Lectura de tablas con líneas de ancho fijo|\n",
    "|read_clipboard|Lectura de texto del portapapeles|\n",
    "|read_excel|Lectura de ficheros excel|\n",
    "|read_json|\tLectura de ficheros json|\n",
    "|read_html|Lectura de tablas HTML|\n",
    "|read_xml|Lectura de documentos XML|\n",
    "|read_hdf|Lectura de objetos pandas almacenados en fichero|\n",
    "|read_feather|Lectura de objetos en formato «feather»|\n",
    "|read_parquet|Lectura de objetos en formato «parquet»|\n",
    "|read_orc|Lectura de objetos en formato ORC|\n",
    "|read_sas|Lectura de ficheros SAS|\n",
    "|read_spss|Lectura de ficheros SPSS|\n",
    "|read_sql_table|Lectura de tabla SQL|\n",
    "|read_sql_query|Lectura de una consulta SQL|\n",
    "|read_sql|Wrapper para read_sql_table y read_sql_query|\n",
    "|read_gbq|Lectura de datos desde Google BigQuery|\n",
    "|read_stata|Lectura de ficheros Stata|"
   ]
  },
  {
   "cell_type": "markdown",
   "metadata": {},
   "source": [
    "> **Nota**\n",
    ">\n",
    "> Todas estas funciones tienen su equivalente para escribir en los distintos formatos. En vez de `read_` habría que usar el prefijo `to_`. Por ejemplo: `to_json()` o `to_sql()`"
   ]
  },
  {
   "cell_type": "markdown",
   "metadata": {},
   "source": [
    "A modo de ilustración, vamos a leer el contenido del fichero `tech.csv` que contiene la lista de las mayores empresas tecnológicas por ingresos totales (en millones de dólares).\n",
    "\n",
    "Usaremos la función `read_csv()` que espera la **coma** como separador de campos. Este fichero está delimitado por tabuladores, por lo que especificaremos esta circunstancia mediante el parámetro `delimiter`. Igualmente, vamos a indicar que se use la primera columna Company como índice del DataFrame con el parámetro `index_col`:"
   ]
  },
  {
   "cell_type": "code",
   "execution_count": 567,
   "metadata": {},
   "outputs": [
    {
     "data": {
      "text/html": [
       "<div>\n",
       "<style scoped>\n",
       "    .dataframe tbody tr th:only-of-type {\n",
       "        vertical-align: middle;\n",
       "    }\n",
       "\n",
       "    .dataframe tbody tr th {\n",
       "        vertical-align: top;\n",
       "    }\n",
       "\n",
       "    .dataframe thead th {\n",
       "        text-align: right;\n",
       "    }\n",
       "</style>\n",
       "<table border=\"1\" class=\"dataframe\">\n",
       "  <thead>\n",
       "    <tr style=\"text-align: right;\">\n",
       "      <th></th>\n",
       "      <th>Revenue</th>\n",
       "      <th>Employees</th>\n",
       "      <th>City</th>\n",
       "      <th>Country</th>\n",
       "    </tr>\n",
       "    <tr>\n",
       "      <th>Company</th>\n",
       "      <th></th>\n",
       "      <th></th>\n",
       "      <th></th>\n",
       "      <th></th>\n",
       "    </tr>\n",
       "  </thead>\n",
       "  <tbody>\n",
       "    <tr>\n",
       "      <th>Apple</th>\n",
       "      <td>274515</td>\n",
       "      <td>147000</td>\n",
       "      <td>California</td>\n",
       "      <td>United States</td>\n",
       "    </tr>\n",
       "    <tr>\n",
       "      <th>Samsung Electronics</th>\n",
       "      <td>200734</td>\n",
       "      <td>267937</td>\n",
       "      <td>Suwon</td>\n",
       "      <td>South Korea</td>\n",
       "    </tr>\n",
       "    <tr>\n",
       "      <th>Alphabet</th>\n",
       "      <td>182527</td>\n",
       "      <td>135301</td>\n",
       "      <td>California</td>\n",
       "      <td>United States</td>\n",
       "    </tr>\n",
       "    <tr>\n",
       "      <th>Foxconn</th>\n",
       "      <td>181945</td>\n",
       "      <td>878429</td>\n",
       "      <td>New Taipei City</td>\n",
       "      <td>Taiwan</td>\n",
       "    </tr>\n",
       "    <tr>\n",
       "      <th>Microsoft</th>\n",
       "      <td>143015</td>\n",
       "      <td>163000</td>\n",
       "      <td>Washington</td>\n",
       "      <td>United States</td>\n",
       "    </tr>\n",
       "    <tr>\n",
       "      <th>Huawei</th>\n",
       "      <td>129184</td>\n",
       "      <td>197000</td>\n",
       "      <td>Shenzhen</td>\n",
       "      <td>China</td>\n",
       "    </tr>\n",
       "    <tr>\n",
       "      <th>Dell Technologies</th>\n",
       "      <td>92224</td>\n",
       "      <td>158000</td>\n",
       "      <td>Texas</td>\n",
       "      <td>United States</td>\n",
       "    </tr>\n",
       "    <tr>\n",
       "      <th>Facebook</th>\n",
       "      <td>85965</td>\n",
       "      <td>58604</td>\n",
       "      <td>California</td>\n",
       "      <td>United States</td>\n",
       "    </tr>\n",
       "    <tr>\n",
       "      <th>Sony</th>\n",
       "      <td>84893</td>\n",
       "      <td>109700</td>\n",
       "      <td>Tokyo</td>\n",
       "      <td>Japan</td>\n",
       "    </tr>\n",
       "    <tr>\n",
       "      <th>Hitachi</th>\n",
       "      <td>82345</td>\n",
       "      <td>350864</td>\n",
       "      <td>Tokyo</td>\n",
       "      <td>Japan</td>\n",
       "    </tr>\n",
       "    <tr>\n",
       "      <th>Intel</th>\n",
       "      <td>77867</td>\n",
       "      <td>110600</td>\n",
       "      <td>California</td>\n",
       "      <td>United States</td>\n",
       "    </tr>\n",
       "    <tr>\n",
       "      <th>IBM</th>\n",
       "      <td>73620</td>\n",
       "      <td>364800</td>\n",
       "      <td>New York</td>\n",
       "      <td>United States</td>\n",
       "    </tr>\n",
       "    <tr>\n",
       "      <th>Tencent</th>\n",
       "      <td>69864</td>\n",
       "      <td>85858</td>\n",
       "      <td>Shenzhen</td>\n",
       "      <td>China</td>\n",
       "    </tr>\n",
       "    <tr>\n",
       "      <th>Panasonic</th>\n",
       "      <td>63191</td>\n",
       "      <td>243540</td>\n",
       "      <td>Osaka</td>\n",
       "      <td>Japan</td>\n",
       "    </tr>\n",
       "    <tr>\n",
       "      <th>Lenovo</th>\n",
       "      <td>60742</td>\n",
       "      <td>71500</td>\n",
       "      <td>Hong Kong</td>\n",
       "      <td>China</td>\n",
       "    </tr>\n",
       "    <tr>\n",
       "      <th>HP Inc.</th>\n",
       "      <td>56639</td>\n",
       "      <td>53000</td>\n",
       "      <td>California</td>\n",
       "      <td>United States</td>\n",
       "    </tr>\n",
       "    <tr>\n",
       "      <th>LG Electronics</th>\n",
       "      <td>53625</td>\n",
       "      <td>75000</td>\n",
       "      <td>Seoul</td>\n",
       "      <td>South Korea</td>\n",
       "    </tr>\n",
       "  </tbody>\n",
       "</table>\n",
       "</div>"
      ],
      "text/plain": [
       "                     Revenue  Employees             City        Country\n",
       "Company                                                                \n",
       "Apple                 274515     147000       California  United States\n",
       "Samsung Electronics   200734     267937            Suwon    South Korea\n",
       "Alphabet              182527     135301       California  United States\n",
       "Foxconn               181945     878429  New Taipei City         Taiwan\n",
       "Microsoft             143015     163000       Washington  United States\n",
       "Huawei                129184     197000         Shenzhen          China\n",
       "Dell Technologies      92224     158000            Texas  United States\n",
       "Facebook               85965      58604       California  United States\n",
       "Sony                   84893     109700            Tokyo          Japan\n",
       "Hitachi                82345     350864            Tokyo          Japan\n",
       "Intel                  77867     110600       California  United States\n",
       "IBM                    73620     364800         New York  United States\n",
       "Tencent                69864      85858         Shenzhen          China\n",
       "Panasonic              63191     243540            Osaka          Japan\n",
       "Lenovo                 60742      71500        Hong Kong          China\n",
       "HP Inc.                56639      53000       California  United States\n",
       "LG Electronics         53625      75000            Seoul    South Korea"
      ]
     },
     "execution_count": 567,
     "metadata": {},
     "output_type": "execute_result"
    }
   ],
   "source": [
    "df = pd.read_csv('../../Data/tech.csv', delimiter='\\t', index_col='Company')\n",
    "df"
   ]
  },
  {
   "cell_type": "markdown",
   "metadata": {},
   "source": [
    "> **Truco**\n",
    ">\n",
    "> Se suele usar `df` como nombre para las variables tipo DataFrame."
   ]
  },
  {
   "cell_type": "markdown",
   "metadata": {},
   "source": [
    "> **Ejercicio**"
   ]
  },
  {
   "cell_type": "markdown",
   "metadata": {},
   "source": [
    "Cargue el conjunto de datos `democan` desde `democan.csv` en un DataFrame df indicando que la columna Island es el índice."
   ]
  },
  {
   "cell_type": "code",
   "execution_count": 568,
   "metadata": {},
   "outputs": [
    {
     "data": {
      "text/html": [
       "<div>\n",
       "<style scoped>\n",
       "    .dataframe tbody tr th:only-of-type {\n",
       "        vertical-align: middle;\n",
       "    }\n",
       "\n",
       "    .dataframe tbody tr th {\n",
       "        vertical-align: top;\n",
       "    }\n",
       "\n",
       "    .dataframe thead th {\n",
       "        text-align: right;\n",
       "    }\n",
       "</style>\n",
       "<table border=\"1\" class=\"dataframe\">\n",
       "  <thead>\n",
       "    <tr style=\"text-align: right;\">\n",
       "      <th></th>\n",
       "      <th>Population</th>\n",
       "      <th>Area</th>\n",
       "      <th>Province</th>\n",
       "    </tr>\n",
       "    <tr>\n",
       "      <th>Island</th>\n",
       "      <th></th>\n",
       "      <th></th>\n",
       "      <th></th>\n",
       "    </tr>\n",
       "  </thead>\n",
       "  <tbody>\n",
       "    <tr>\n",
       "      <th>Gran Canaria</th>\n",
       "      <td>855521</td>\n",
       "      <td>1560.10</td>\n",
       "      <td>LPGC</td>\n",
       "    </tr>\n",
       "    <tr>\n",
       "      <th>Tenerife</th>\n",
       "      <td>928604</td>\n",
       "      <td>2034.38</td>\n",
       "      <td>SCTF</td>\n",
       "    </tr>\n",
       "    <tr>\n",
       "      <th>La Palma</th>\n",
       "      <td>83458</td>\n",
       "      <td>708.32</td>\n",
       "      <td>SCTF</td>\n",
       "    </tr>\n",
       "    <tr>\n",
       "      <th>Lanzarote</th>\n",
       "      <td>155812</td>\n",
       "      <td>845.94</td>\n",
       "      <td>LPGC</td>\n",
       "    </tr>\n",
       "    <tr>\n",
       "      <th>La Gomera</th>\n",
       "      <td>21678</td>\n",
       "      <td>369.76</td>\n",
       "      <td>SCTF</td>\n",
       "    </tr>\n",
       "    <tr>\n",
       "      <th>El Hierro</th>\n",
       "      <td>11147</td>\n",
       "      <td>278.71</td>\n",
       "      <td>SCTF</td>\n",
       "    </tr>\n",
       "    <tr>\n",
       "      <th>Fuerteventura</th>\n",
       "      <td>119732</td>\n",
       "      <td>1659.00</td>\n",
       "      <td>LPGC</td>\n",
       "    </tr>\n",
       "  </tbody>\n",
       "</table>\n",
       "</div>"
      ],
      "text/plain": [
       "               Population     Area Province\n",
       "Island                                     \n",
       "Gran Canaria       855521  1560.10     LPGC\n",
       "Tenerife           928604  2034.38     SCTF\n",
       "La Palma            83458   708.32     SCTF\n",
       "Lanzarote          155812   845.94     LPGC\n",
       "La Gomera           21678   369.76     SCTF\n",
       "El Hierro           11147   278.71     SCTF\n",
       "Fuerteventura      119732  1659.00     LPGC"
      ]
     },
     "execution_count": 568,
     "metadata": {},
     "output_type": "execute_result"
    }
   ],
   "source": [
    "df = pd.read_csv('../../Data/democan.csv', index_col='Island')\n",
    "df"
   ]
  },
  {
   "cell_type": "markdown",
   "metadata": {},
   "source": [
    "### **Características de un DataFrame**"
   ]
  },
  {
   "cell_type": "markdown",
   "metadata": {},
   "source": [
    "**Visualización de los Datos**"
   ]
  },
  {
   "cell_type": "markdown",
   "metadata": {},
   "source": [
    "Para echar un vistazo a los datos, existen dos funciones muy recurridas:"
   ]
  },
  {
   "cell_type": "code",
   "execution_count": 569,
   "metadata": {},
   "outputs": [
    {
     "data": {
      "text/html": [
       "<div>\n",
       "<style scoped>\n",
       "    .dataframe tbody tr th:only-of-type {\n",
       "        vertical-align: middle;\n",
       "    }\n",
       "\n",
       "    .dataframe tbody tr th {\n",
       "        vertical-align: top;\n",
       "    }\n",
       "\n",
       "    .dataframe thead th {\n",
       "        text-align: right;\n",
       "    }\n",
       "</style>\n",
       "<table border=\"1\" class=\"dataframe\">\n",
       "  <thead>\n",
       "    <tr style=\"text-align: right;\">\n",
       "      <th></th>\n",
       "      <th>Population</th>\n",
       "      <th>Area</th>\n",
       "      <th>Province</th>\n",
       "    </tr>\n",
       "    <tr>\n",
       "      <th>Island</th>\n",
       "      <th></th>\n",
       "      <th></th>\n",
       "      <th></th>\n",
       "    </tr>\n",
       "  </thead>\n",
       "  <tbody>\n",
       "    <tr>\n",
       "      <th>Gran Canaria</th>\n",
       "      <td>855521</td>\n",
       "      <td>1560.10</td>\n",
       "      <td>LPGC</td>\n",
       "    </tr>\n",
       "    <tr>\n",
       "      <th>Tenerife</th>\n",
       "      <td>928604</td>\n",
       "      <td>2034.38</td>\n",
       "      <td>SCTF</td>\n",
       "    </tr>\n",
       "    <tr>\n",
       "      <th>La Palma</th>\n",
       "      <td>83458</td>\n",
       "      <td>708.32</td>\n",
       "      <td>SCTF</td>\n",
       "    </tr>\n",
       "    <tr>\n",
       "      <th>Lanzarote</th>\n",
       "      <td>155812</td>\n",
       "      <td>845.94</td>\n",
       "      <td>LPGC</td>\n",
       "    </tr>\n",
       "    <tr>\n",
       "      <th>La Gomera</th>\n",
       "      <td>21678</td>\n",
       "      <td>369.76</td>\n",
       "      <td>SCTF</td>\n",
       "    </tr>\n",
       "  </tbody>\n",
       "</table>\n",
       "</div>"
      ],
      "text/plain": [
       "              Population     Area Province\n",
       "Island                                    \n",
       "Gran Canaria      855521  1560.10     LPGC\n",
       "Tenerife          928604  2034.38     SCTF\n",
       "La Palma           83458   708.32     SCTF\n",
       "Lanzarote         155812   845.94     LPGC\n",
       "La Gomera          21678   369.76     SCTF"
      ]
     },
     "execution_count": 569,
     "metadata": {},
     "output_type": "execute_result"
    }
   ],
   "source": [
    "df.head()"
   ]
  },
  {
   "cell_type": "code",
   "execution_count": 570,
   "metadata": {},
   "outputs": [
    {
     "data": {
      "text/html": [
       "<div>\n",
       "<style scoped>\n",
       "    .dataframe tbody tr th:only-of-type {\n",
       "        vertical-align: middle;\n",
       "    }\n",
       "\n",
       "    .dataframe tbody tr th {\n",
       "        vertical-align: top;\n",
       "    }\n",
       "\n",
       "    .dataframe thead th {\n",
       "        text-align: right;\n",
       "    }\n",
       "</style>\n",
       "<table border=\"1\" class=\"dataframe\">\n",
       "  <thead>\n",
       "    <tr style=\"text-align: right;\">\n",
       "      <th></th>\n",
       "      <th>Population</th>\n",
       "      <th>Area</th>\n",
       "      <th>Province</th>\n",
       "    </tr>\n",
       "    <tr>\n",
       "      <th>Island</th>\n",
       "      <th></th>\n",
       "      <th></th>\n",
       "      <th></th>\n",
       "    </tr>\n",
       "  </thead>\n",
       "  <tbody>\n",
       "    <tr>\n",
       "      <th>La Palma</th>\n",
       "      <td>83458</td>\n",
       "      <td>708.32</td>\n",
       "      <td>SCTF</td>\n",
       "    </tr>\n",
       "    <tr>\n",
       "      <th>Lanzarote</th>\n",
       "      <td>155812</td>\n",
       "      <td>845.94</td>\n",
       "      <td>LPGC</td>\n",
       "    </tr>\n",
       "    <tr>\n",
       "      <th>La Gomera</th>\n",
       "      <td>21678</td>\n",
       "      <td>369.76</td>\n",
       "      <td>SCTF</td>\n",
       "    </tr>\n",
       "    <tr>\n",
       "      <th>El Hierro</th>\n",
       "      <td>11147</td>\n",
       "      <td>278.71</td>\n",
       "      <td>SCTF</td>\n",
       "    </tr>\n",
       "    <tr>\n",
       "      <th>Fuerteventura</th>\n",
       "      <td>119732</td>\n",
       "      <td>1659.00</td>\n",
       "      <td>LPGC</td>\n",
       "    </tr>\n",
       "  </tbody>\n",
       "</table>\n",
       "</div>"
      ],
      "text/plain": [
       "               Population     Area Province\n",
       "Island                                     \n",
       "La Palma            83458   708.32     SCTF\n",
       "Lanzarote          155812   845.94     LPGC\n",
       "La Gomera           21678   369.76     SCTF\n",
       "El Hierro           11147   278.71     SCTF\n",
       "Fuerteventura      119732  1659.00     LPGC"
      ]
     },
     "execution_count": 570,
     "metadata": {},
     "output_type": "execute_result"
    }
   ],
   "source": [
    "df.tail()"
   ]
  },
  {
   "cell_type": "markdown",
   "metadata": {},
   "source": [
    "> **Truco**\n",
    ">\n",
    "> Estas funciones admiten como parámetro el número de registros a visualizar."
   ]
  },
  {
   "cell_type": "markdown",
   "metadata": {},
   "source": [
    "**Información sobre los Datos**"
   ]
  },
  {
   "cell_type": "markdown",
   "metadata": {},
   "source": [
    "Pandas ofrece algunas funciones que proporcionan un cierto resumen de los datos a nivel descriptivo. Veamos algunas de ellas."
   ]
  },
  {
   "cell_type": "markdown",
   "metadata": {},
   "source": [
    "información sobre columnas:"
   ]
  },
  {
   "cell_type": "code",
   "execution_count": 571,
   "metadata": {},
   "outputs": [
    {
     "name": "stdout",
     "output_type": "stream",
     "text": [
      "<class 'pandas.core.frame.DataFrame'>\n",
      "Index: 7 entries, Gran Canaria to Fuerteventura\n",
      "Data columns (total 3 columns):\n",
      " #   Column      Non-Null Count  Dtype  \n",
      "---  ------      --------------  -----  \n",
      " 0   Population  7 non-null      int64  \n",
      " 1   Area        7 non-null      float64\n",
      " 2   Province    7 non-null      object \n",
      "dtypes: float64(1), int64(1), object(1)\n",
      "memory usage: 224.0+ bytes\n"
     ]
    }
   ],
   "source": [
    "df.info()"
   ]
  },
  {
   "cell_type": "markdown",
   "metadata": {},
   "source": [
    "Descripción de las variables numéricas:"
   ]
  },
  {
   "cell_type": "code",
   "execution_count": 572,
   "metadata": {},
   "outputs": [
    {
     "data": {
      "text/html": [
       "<div>\n",
       "<style scoped>\n",
       "    .dataframe tbody tr th:only-of-type {\n",
       "        vertical-align: middle;\n",
       "    }\n",
       "\n",
       "    .dataframe tbody tr th {\n",
       "        vertical-align: top;\n",
       "    }\n",
       "\n",
       "    .dataframe thead th {\n",
       "        text-align: right;\n",
       "    }\n",
       "</style>\n",
       "<table border=\"1\" class=\"dataframe\">\n",
       "  <thead>\n",
       "    <tr style=\"text-align: right;\">\n",
       "      <th></th>\n",
       "      <th>Population</th>\n",
       "      <th>Area</th>\n",
       "    </tr>\n",
       "  </thead>\n",
       "  <tbody>\n",
       "    <tr>\n",
       "      <th>count</th>\n",
       "      <td>7.000000</td>\n",
       "      <td>7.000000</td>\n",
       "    </tr>\n",
       "    <tr>\n",
       "      <th>mean</th>\n",
       "      <td>310850.285714</td>\n",
       "      <td>1065.172857</td>\n",
       "    </tr>\n",
       "    <tr>\n",
       "      <th>std</th>\n",
       "      <td>400832.223751</td>\n",
       "      <td>684.893655</td>\n",
       "    </tr>\n",
       "    <tr>\n",
       "      <th>min</th>\n",
       "      <td>11147.000000</td>\n",
       "      <td>278.710000</td>\n",
       "    </tr>\n",
       "    <tr>\n",
       "      <th>25%</th>\n",
       "      <td>52568.000000</td>\n",
       "      <td>539.040000</td>\n",
       "    </tr>\n",
       "    <tr>\n",
       "      <th>50%</th>\n",
       "      <td>119732.000000</td>\n",
       "      <td>845.940000</td>\n",
       "    </tr>\n",
       "    <tr>\n",
       "      <th>75%</th>\n",
       "      <td>505666.500000</td>\n",
       "      <td>1609.550000</td>\n",
       "    </tr>\n",
       "    <tr>\n",
       "      <th>max</th>\n",
       "      <td>928604.000000</td>\n",
       "      <td>2034.380000</td>\n",
       "    </tr>\n",
       "  </tbody>\n",
       "</table>\n",
       "</div>"
      ],
      "text/plain": [
       "          Population         Area\n",
       "count       7.000000     7.000000\n",
       "mean   310850.285714  1065.172857\n",
       "std    400832.223751   684.893655\n",
       "min     11147.000000   278.710000\n",
       "25%     52568.000000   539.040000\n",
       "50%    119732.000000   845.940000\n",
       "75%    505666.500000  1609.550000\n",
       "max    928604.000000  2034.380000"
      ]
     },
     "execution_count": 572,
     "metadata": {},
     "output_type": "execute_result"
    }
   ],
   "source": [
    "df.describe()"
   ]
  },
  {
   "cell_type": "markdown",
   "metadata": {},
   "source": [
    "Uso de memoria:"
   ]
  },
  {
   "cell_type": "code",
   "execution_count": 573,
   "metadata": {},
   "outputs": [
    {
     "data": {
      "text/plain": [
       "Index         56\n",
       "Population    56\n",
       "Area          56\n",
       "Province      56\n",
       "dtype: int64"
      ]
     },
     "execution_count": 573,
     "metadata": {},
     "output_type": "execute_result"
    }
   ],
   "source": [
    "df.memory_usage()"
   ]
  },
  {
   "cell_type": "markdown",
   "metadata": {},
   "source": [
    "> **Truco**\n",
    ">\n",
    "> El resultado de `describe()` es un DataFrame, mientras que el resultado de `memory_usage()` es Series. En cualquier caso, ambas estructuras son accesibles normalmente como tipos de datos Pandas."
   ]
  },
  {
   "cell_type": "markdown",
   "metadata": {},
   "source": [
    "### **Atributos de un Dataframe**"
   ]
  },
  {
   "cell_type": "markdown",
   "metadata": {},
   "source": [
    "Tamaños y dimensiones:"
   ]
  },
  {
   "cell_type": "code",
   "execution_count": 574,
   "metadata": {},
   "outputs": [
    {
     "data": {
      "text/plain": [
       "(7, 3)"
      ]
     },
     "execution_count": 574,
     "metadata": {},
     "output_type": "execute_result"
    }
   ],
   "source": [
    "df.shape # filas por columnas"
   ]
  },
  {
   "cell_type": "code",
   "execution_count": 575,
   "metadata": {},
   "outputs": [
    {
     "data": {
      "text/plain": [
       "21"
      ]
     },
     "execution_count": 575,
     "metadata": {},
     "output_type": "execute_result"
    }
   ],
   "source": [
    "df.size # número total de datos"
   ]
  },
  {
   "cell_type": "code",
   "execution_count": 576,
   "metadata": {},
   "outputs": [
    {
     "data": {
      "text/plain": [
       "2"
      ]
     },
     "execution_count": 576,
     "metadata": {},
     "output_type": "execute_result"
    }
   ],
   "source": [
    "df.ndim # número de dimensiones"
   ]
  },
  {
   "cell_type": "markdown",
   "metadata": {},
   "source": [
    "Índice, columnas y valores:"
   ]
  },
  {
   "cell_type": "code",
   "execution_count": 577,
   "metadata": {},
   "outputs": [
    {
     "data": {
      "text/plain": [
       "Index(['Gran Canaria', 'Tenerife', 'La Palma', 'Lanzarote', 'La Gomera',\n",
       "       'El Hierro', 'Fuerteventura'],\n",
       "      dtype='object', name='Island')"
      ]
     },
     "execution_count": 577,
     "metadata": {},
     "output_type": "execute_result"
    }
   ],
   "source": [
    "df.index"
   ]
  },
  {
   "cell_type": "code",
   "execution_count": 578,
   "metadata": {},
   "outputs": [
    {
     "data": {
      "text/plain": [
       "Index(['Population', 'Area', 'Province'], dtype='object')"
      ]
     },
     "execution_count": 578,
     "metadata": {},
     "output_type": "execute_result"
    }
   ],
   "source": [
    "df.columns"
   ]
  },
  {
   "cell_type": "code",
   "execution_count": 579,
   "metadata": {},
   "outputs": [
    {
     "data": {
      "text/plain": [
       "array([[855521, 1560.1, 'LPGC'],\n",
       "       [928604, 2034.38, 'SCTF'],\n",
       "       [83458, 708.32, 'SCTF'],\n",
       "       [155812, 845.94, 'LPGC'],\n",
       "       [21678, 369.76, 'SCTF'],\n",
       "       [11147, 278.71, 'SCTF'],\n",
       "       [119732, 1659.0, 'LPGC']], dtype=object)"
      ]
     },
     "execution_count": 579,
     "metadata": {},
     "output_type": "execute_result"
    }
   ],
   "source": [
    "df.values"
   ]
  },
  {
   "cell_type": "markdown",
   "metadata": {},
   "source": [
    "### **Acceso a un DataFrame**"
   ]
  },
  {
   "cell_type": "markdown",
   "metadata": {},
   "source": [
    "Es fundamental conocer la estructura de un DataFrame para su adecuado manejo:"
   ]
  },
  {
   "cell_type": "markdown",
   "metadata": {},
   "source": [
    "![Estructura Dataframe](../../img/estructurasdataframe.png \"Estructura DataFrame\")\n"
   ]
  },
  {
   "cell_type": "markdown",
   "metadata": {},
   "source": [
    "Para todos los ejemplos subsiguientes continuamos utilizando el conjunto de datos de empresas tecnológicas cargado previamente:"
   ]
  },
  {
   "cell_type": "code",
   "execution_count": 580,
   "metadata": {},
   "outputs": [
    {
     "data": {
      "text/html": [
       "<div>\n",
       "<style scoped>\n",
       "    .dataframe tbody tr th:only-of-type {\n",
       "        vertical-align: middle;\n",
       "    }\n",
       "\n",
       "    .dataframe tbody tr th {\n",
       "        vertical-align: top;\n",
       "    }\n",
       "\n",
       "    .dataframe thead th {\n",
       "        text-align: right;\n",
       "    }\n",
       "</style>\n",
       "<table border=\"1\" class=\"dataframe\">\n",
       "  <thead>\n",
       "    <tr style=\"text-align: right;\">\n",
       "      <th></th>\n",
       "      <th>Population</th>\n",
       "      <th>Area</th>\n",
       "      <th>Province</th>\n",
       "    </tr>\n",
       "    <tr>\n",
       "      <th>Island</th>\n",
       "      <th></th>\n",
       "      <th></th>\n",
       "      <th></th>\n",
       "    </tr>\n",
       "  </thead>\n",
       "  <tbody>\n",
       "    <tr>\n",
       "      <th>Gran Canaria</th>\n",
       "      <td>855521</td>\n",
       "      <td>1560.10</td>\n",
       "      <td>LPGC</td>\n",
       "    </tr>\n",
       "    <tr>\n",
       "      <th>Tenerife</th>\n",
       "      <td>928604</td>\n",
       "      <td>2034.38</td>\n",
       "      <td>SCTF</td>\n",
       "    </tr>\n",
       "    <tr>\n",
       "      <th>La Palma</th>\n",
       "      <td>83458</td>\n",
       "      <td>708.32</td>\n",
       "      <td>SCTF</td>\n",
       "    </tr>\n",
       "    <tr>\n",
       "      <th>Lanzarote</th>\n",
       "      <td>155812</td>\n",
       "      <td>845.94</td>\n",
       "      <td>LPGC</td>\n",
       "    </tr>\n",
       "    <tr>\n",
       "      <th>La Gomera</th>\n",
       "      <td>21678</td>\n",
       "      <td>369.76</td>\n",
       "      <td>SCTF</td>\n",
       "    </tr>\n",
       "    <tr>\n",
       "      <th>El Hierro</th>\n",
       "      <td>11147</td>\n",
       "      <td>278.71</td>\n",
       "      <td>SCTF</td>\n",
       "    </tr>\n",
       "    <tr>\n",
       "      <th>Fuerteventura</th>\n",
       "      <td>119732</td>\n",
       "      <td>1659.00</td>\n",
       "      <td>LPGC</td>\n",
       "    </tr>\n",
       "  </tbody>\n",
       "</table>\n",
       "</div>"
      ],
      "text/plain": [
       "               Population     Area Province\n",
       "Island                                     \n",
       "Gran Canaria       855521  1560.10     LPGC\n",
       "Tenerife           928604  2034.38     SCTF\n",
       "La Palma            83458   708.32     SCTF\n",
       "Lanzarote          155812   845.94     LPGC\n",
       "La Gomera           21678   369.76     SCTF\n",
       "El Hierro           11147   278.71     SCTF\n",
       "Fuerteventura      119732  1659.00     LPGC"
      ]
     },
     "execution_count": 580,
     "metadata": {},
     "output_type": "execute_result"
    }
   ],
   "source": [
    "df"
   ]
  },
  {
   "cell_type": "markdown",
   "metadata": {},
   "source": [
    "**Acceso a Filas**"
   ]
  },
  {
   "cell_type": "markdown",
   "metadata": {},
   "source": [
    "Si queremos acceder a las filas de un conjunto de datos mediante la posición (índice numérico) del registro usando el atributo `iloc`:"
   ]
  },
  {
   "cell_type": "code",
   "execution_count": 581,
   "metadata": {},
   "outputs": [
    {
     "data": {
      "text/plain": [
       "Population    855521\n",
       "Area          1560.1\n",
       "Province        LPGC\n",
       "Name: Gran Canaria, dtype: object"
      ]
     },
     "execution_count": 581,
     "metadata": {},
     "output_type": "execute_result"
    }
   ],
   "source": [
    "df.iloc[0]"
   ]
  },
  {
   "cell_type": "code",
   "execution_count": 582,
   "metadata": {},
   "outputs": [
    {
     "data": {
      "text/plain": [
       "Population    119732\n",
       "Area          1659.0\n",
       "Province        LPGC\n",
       "Name: Fuerteventura, dtype: object"
      ]
     },
     "execution_count": 582,
     "metadata": {},
     "output_type": "execute_result"
    }
   ],
   "source": [
    "df.iloc[-1]"
   ]
  },
  {
   "cell_type": "code",
   "execution_count": 583,
   "metadata": {},
   "outputs": [
    {
     "data": {
      "text/html": [
       "<div>\n",
       "<style scoped>\n",
       "    .dataframe tbody tr th:only-of-type {\n",
       "        vertical-align: middle;\n",
       "    }\n",
       "\n",
       "    .dataframe tbody tr th {\n",
       "        vertical-align: top;\n",
       "    }\n",
       "\n",
       "    .dataframe thead th {\n",
       "        text-align: right;\n",
       "    }\n",
       "</style>\n",
       "<table border=\"1\" class=\"dataframe\">\n",
       "  <thead>\n",
       "    <tr style=\"text-align: right;\">\n",
       "      <th></th>\n",
       "      <th>Population</th>\n",
       "      <th>Area</th>\n",
       "      <th>Province</th>\n",
       "    </tr>\n",
       "    <tr>\n",
       "      <th>Island</th>\n",
       "      <th></th>\n",
       "      <th></th>\n",
       "      <th></th>\n",
       "    </tr>\n",
       "  </thead>\n",
       "  <tbody>\n",
       "    <tr>\n",
       "      <th>Lanzarote</th>\n",
       "      <td>155812</td>\n",
       "      <td>845.94</td>\n",
       "      <td>LPGC</td>\n",
       "    </tr>\n",
       "    <tr>\n",
       "      <th>La Gomera</th>\n",
       "      <td>21678</td>\n",
       "      <td>369.76</td>\n",
       "      <td>SCTF</td>\n",
       "    </tr>\n",
       "  </tbody>\n",
       "</table>\n",
       "</div>"
      ],
      "text/plain": [
       "           Population    Area Province\n",
       "Island                                \n",
       "Lanzarote      155812  845.94     LPGC\n",
       "La Gomera       21678  369.76     SCTF"
      ]
     },
     "execution_count": 583,
     "metadata": {},
     "output_type": "execute_result"
    }
   ],
   "source": [
    "df.iloc[3:5]"
   ]
  },
  {
   "cell_type": "code",
   "execution_count": 584,
   "metadata": {},
   "outputs": [
    {
     "data": {
      "text/html": [
       "<div>\n",
       "<style scoped>\n",
       "    .dataframe tbody tr th:only-of-type {\n",
       "        vertical-align: middle;\n",
       "    }\n",
       "\n",
       "    .dataframe tbody tr th {\n",
       "        vertical-align: top;\n",
       "    }\n",
       "\n",
       "    .dataframe thead th {\n",
       "        text-align: right;\n",
       "    }\n",
       "</style>\n",
       "<table border=\"1\" class=\"dataframe\">\n",
       "  <thead>\n",
       "    <tr style=\"text-align: right;\">\n",
       "      <th></th>\n",
       "      <th>Population</th>\n",
       "      <th>Area</th>\n",
       "      <th>Province</th>\n",
       "    </tr>\n",
       "    <tr>\n",
       "      <th>Island</th>\n",
       "      <th></th>\n",
       "      <th></th>\n",
       "      <th></th>\n",
       "    </tr>\n",
       "  </thead>\n",
       "  <tbody>\n",
       "    <tr>\n",
       "      <th>Gran Canaria</th>\n",
       "      <td>855521</td>\n",
       "      <td>1560.10</td>\n",
       "      <td>LPGC</td>\n",
       "    </tr>\n",
       "    <tr>\n",
       "      <th>El Hierro</th>\n",
       "      <td>11147</td>\n",
       "      <td>278.71</td>\n",
       "      <td>SCTF</td>\n",
       "    </tr>\n",
       "  </tbody>\n",
       "</table>\n",
       "</div>"
      ],
      "text/plain": [
       "              Population     Area Province\n",
       "Island                                    \n",
       "Gran Canaria      855521  1560.10     LPGC\n",
       "El Hierro          11147   278.71     SCTF"
      ]
     },
     "execution_count": 584,
     "metadata": {},
     "output_type": "execute_result"
    }
   ],
   "source": [
    "df.iloc[::5] # salta de 5 en 5 filas"
   ]
  },
  {
   "cell_type": "markdown",
   "metadata": {},
   "source": [
    "> **Nota**\n",
    ">\n",
    "> El acceso a un registro individual nos devuelve una serie."
   ]
  },
  {
   "cell_type": "markdown",
   "metadata": {},
   "source": [
    "Si queremos acceder a las filas de un conjunto de datos mediante la etiqueta del registro usamos el atributo `loc`:"
   ]
  },
  {
   "cell_type": "code",
   "execution_count": 585,
   "metadata": {},
   "outputs": [
    {
     "data": {
      "text/html": [
       "<div>\n",
       "<style scoped>\n",
       "    .dataframe tbody tr th:only-of-type {\n",
       "        vertical-align: middle;\n",
       "    }\n",
       "\n",
       "    .dataframe tbody tr th {\n",
       "        vertical-align: top;\n",
       "    }\n",
       "\n",
       "    .dataframe thead th {\n",
       "        text-align: right;\n",
       "    }\n",
       "</style>\n",
       "<table border=\"1\" class=\"dataframe\">\n",
       "  <thead>\n",
       "    <tr style=\"text-align: right;\">\n",
       "      <th></th>\n",
       "      <th>Revenue</th>\n",
       "      <th>Employees</th>\n",
       "      <th>City</th>\n",
       "      <th>Country</th>\n",
       "    </tr>\n",
       "    <tr>\n",
       "      <th>Company</th>\n",
       "      <th></th>\n",
       "      <th></th>\n",
       "      <th></th>\n",
       "      <th></th>\n",
       "    </tr>\n",
       "  </thead>\n",
       "  <tbody>\n",
       "    <tr>\n",
       "      <th>Apple</th>\n",
       "      <td>274515</td>\n",
       "      <td>147000</td>\n",
       "      <td>California</td>\n",
       "      <td>United States</td>\n",
       "    </tr>\n",
       "    <tr>\n",
       "      <th>Samsung Electronics</th>\n",
       "      <td>200734</td>\n",
       "      <td>267937</td>\n",
       "      <td>Suwon</td>\n",
       "      <td>South Korea</td>\n",
       "    </tr>\n",
       "    <tr>\n",
       "      <th>Alphabet</th>\n",
       "      <td>182527</td>\n",
       "      <td>135301</td>\n",
       "      <td>California</td>\n",
       "      <td>United States</td>\n",
       "    </tr>\n",
       "    <tr>\n",
       "      <th>Foxconn</th>\n",
       "      <td>181945</td>\n",
       "      <td>878429</td>\n",
       "      <td>New Taipei City</td>\n",
       "      <td>Taiwan</td>\n",
       "    </tr>\n",
       "    <tr>\n",
       "      <th>Microsoft</th>\n",
       "      <td>143015</td>\n",
       "      <td>163000</td>\n",
       "      <td>Washington</td>\n",
       "      <td>United States</td>\n",
       "    </tr>\n",
       "    <tr>\n",
       "      <th>Huawei</th>\n",
       "      <td>129184</td>\n",
       "      <td>197000</td>\n",
       "      <td>Shenzhen</td>\n",
       "      <td>China</td>\n",
       "    </tr>\n",
       "    <tr>\n",
       "      <th>Dell Technologies</th>\n",
       "      <td>92224</td>\n",
       "      <td>158000</td>\n",
       "      <td>Texas</td>\n",
       "      <td>United States</td>\n",
       "    </tr>\n",
       "    <tr>\n",
       "      <th>Facebook</th>\n",
       "      <td>85965</td>\n",
       "      <td>58604</td>\n",
       "      <td>California</td>\n",
       "      <td>United States</td>\n",
       "    </tr>\n",
       "    <tr>\n",
       "      <th>Sony</th>\n",
       "      <td>84893</td>\n",
       "      <td>109700</td>\n",
       "      <td>Tokyo</td>\n",
       "      <td>Japan</td>\n",
       "    </tr>\n",
       "    <tr>\n",
       "      <th>Hitachi</th>\n",
       "      <td>82345</td>\n",
       "      <td>350864</td>\n",
       "      <td>Tokyo</td>\n",
       "      <td>Japan</td>\n",
       "    </tr>\n",
       "    <tr>\n",
       "      <th>Intel</th>\n",
       "      <td>77867</td>\n",
       "      <td>110600</td>\n",
       "      <td>California</td>\n",
       "      <td>United States</td>\n",
       "    </tr>\n",
       "    <tr>\n",
       "      <th>IBM</th>\n",
       "      <td>73620</td>\n",
       "      <td>364800</td>\n",
       "      <td>New York</td>\n",
       "      <td>United States</td>\n",
       "    </tr>\n",
       "    <tr>\n",
       "      <th>Tencent</th>\n",
       "      <td>69864</td>\n",
       "      <td>85858</td>\n",
       "      <td>Shenzhen</td>\n",
       "      <td>China</td>\n",
       "    </tr>\n",
       "    <tr>\n",
       "      <th>Panasonic</th>\n",
       "      <td>63191</td>\n",
       "      <td>243540</td>\n",
       "      <td>Osaka</td>\n",
       "      <td>Japan</td>\n",
       "    </tr>\n",
       "    <tr>\n",
       "      <th>Lenovo</th>\n",
       "      <td>60742</td>\n",
       "      <td>71500</td>\n",
       "      <td>Hong Kong</td>\n",
       "      <td>China</td>\n",
       "    </tr>\n",
       "    <tr>\n",
       "      <th>HP Inc.</th>\n",
       "      <td>56639</td>\n",
       "      <td>53000</td>\n",
       "      <td>California</td>\n",
       "      <td>United States</td>\n",
       "    </tr>\n",
       "    <tr>\n",
       "      <th>LG Electronics</th>\n",
       "      <td>53625</td>\n",
       "      <td>75000</td>\n",
       "      <td>Seoul</td>\n",
       "      <td>South Korea</td>\n",
       "    </tr>\n",
       "  </tbody>\n",
       "</table>\n",
       "</div>"
      ],
      "text/plain": [
       "                     Revenue  Employees             City        Country\n",
       "Company                                                                \n",
       "Apple                 274515     147000       California  United States\n",
       "Samsung Electronics   200734     267937            Suwon    South Korea\n",
       "Alphabet              182527     135301       California  United States\n",
       "Foxconn               181945     878429  New Taipei City         Taiwan\n",
       "Microsoft             143015     163000       Washington  United States\n",
       "Huawei                129184     197000         Shenzhen          China\n",
       "Dell Technologies      92224     158000            Texas  United States\n",
       "Facebook               85965      58604       California  United States\n",
       "Sony                   84893     109700            Tokyo          Japan\n",
       "Hitachi                82345     350864            Tokyo          Japan\n",
       "Intel                  77867     110600       California  United States\n",
       "IBM                    73620     364800         New York  United States\n",
       "Tencent                69864      85858         Shenzhen          China\n",
       "Panasonic              63191     243540            Osaka          Japan\n",
       "Lenovo                 60742      71500        Hong Kong          China\n",
       "HP Inc.                56639      53000       California  United States\n",
       "LG Electronics         53625      75000            Seoul    South Korea"
      ]
     },
     "execution_count": 585,
     "metadata": {},
     "output_type": "execute_result"
    }
   ],
   "source": [
    "df = pd.read_csv('../../Data/tech.csv', delimiter='\\t', index_col='Company')\n",
    "df"
   ]
  },
  {
   "cell_type": "code",
   "execution_count": 586,
   "metadata": {},
   "outputs": [
    {
     "data": {
      "text/plain": [
       "Revenue             274515\n",
       "Employees           147000\n",
       "City            California\n",
       "Country      United States\n",
       "Name: Apple, dtype: object"
      ]
     },
     "execution_count": 586,
     "metadata": {},
     "output_type": "execute_result"
    }
   ],
   "source": [
    "df.loc['Apple']"
   ]
  },
  {
   "cell_type": "code",
   "execution_count": 587,
   "metadata": {},
   "outputs": [
    {
     "data": {
      "text/plain": [
       "Revenue              73620\n",
       "Employees           364800\n",
       "City              New York\n",
       "Country      United States\n",
       "Name: IBM, dtype: object"
      ]
     },
     "execution_count": 587,
     "metadata": {},
     "output_type": "execute_result"
    }
   ],
   "source": [
    "df.loc['IBM']"
   ]
  },
  {
   "cell_type": "code",
   "execution_count": 588,
   "metadata": {},
   "outputs": [
    {
     "data": {
      "text/html": [
       "<div>\n",
       "<style scoped>\n",
       "    .dataframe tbody tr th:only-of-type {\n",
       "        vertical-align: middle;\n",
       "    }\n",
       "\n",
       "    .dataframe tbody tr th {\n",
       "        vertical-align: top;\n",
       "    }\n",
       "\n",
       "    .dataframe thead th {\n",
       "        text-align: right;\n",
       "    }\n",
       "</style>\n",
       "<table border=\"1\" class=\"dataframe\">\n",
       "  <thead>\n",
       "    <tr style=\"text-align: right;\">\n",
       "      <th></th>\n",
       "      <th>Revenue</th>\n",
       "      <th>Employees</th>\n",
       "      <th>City</th>\n",
       "      <th>Country</th>\n",
       "    </tr>\n",
       "    <tr>\n",
       "      <th>Company</th>\n",
       "      <th></th>\n",
       "      <th></th>\n",
       "      <th></th>\n",
       "      <th></th>\n",
       "    </tr>\n",
       "  </thead>\n",
       "  <tbody>\n",
       "    <tr>\n",
       "      <th>Sony</th>\n",
       "      <td>84893</td>\n",
       "      <td>109700</td>\n",
       "      <td>Tokyo</td>\n",
       "      <td>Japan</td>\n",
       "    </tr>\n",
       "    <tr>\n",
       "      <th>Hitachi</th>\n",
       "      <td>82345</td>\n",
       "      <td>350864</td>\n",
       "      <td>Tokyo</td>\n",
       "      <td>Japan</td>\n",
       "    </tr>\n",
       "    <tr>\n",
       "      <th>Intel</th>\n",
       "      <td>77867</td>\n",
       "      <td>110600</td>\n",
       "      <td>California</td>\n",
       "      <td>United States</td>\n",
       "    </tr>\n",
       "  </tbody>\n",
       "</table>\n",
       "</div>"
      ],
      "text/plain": [
       "         Revenue  Employees        City        Country\n",
       "Company                                               \n",
       "Sony       84893     109700       Tokyo          Japan\n",
       "Hitachi    82345     350864       Tokyo          Japan\n",
       "Intel      77867     110600  California  United States"
      ]
     },
     "execution_count": 588,
     "metadata": {},
     "output_type": "execute_result"
    }
   ],
   "source": [
    "df.loc['Sony':'Intel']"
   ]
  },
  {
   "cell_type": "markdown",
   "metadata": {},
   "source": [
    "> **Nota**\n",
    ">\n",
    "> El acceso a un registro individual nos devuelve una serie."
   ]
  },
  {
   "cell_type": "markdown",
   "metadata": {},
   "source": [
    "**Acceso a Columnas**"
   ]
  },
  {
   "cell_type": "markdown",
   "metadata": {},
   "source": [
    "El acceso a columnas se realiza directamente utilizando corchetes, como si fuera un diccionario:"
   ]
  },
  {
   "cell_type": "code",
   "execution_count": 589,
   "metadata": {},
   "outputs": [
    {
     "data": {
      "text/plain": [
       "Company\n",
       "Apple                  274515\n",
       "Samsung Electronics    200734\n",
       "Alphabet               182527\n",
       "Foxconn                181945\n",
       "Microsoft              143015\n",
       "Huawei                 129184\n",
       "Dell Technologies       92224\n",
       "Facebook                85965\n",
       "Sony                    84893\n",
       "Hitachi                 82345\n",
       "Intel                   77867\n",
       "IBM                     73620\n",
       "Tencent                 69864\n",
       "Panasonic               63191\n",
       "Lenovo                  60742\n",
       "HP Inc.                 56639\n",
       "LG Electronics          53625\n",
       "Name: Revenue, dtype: int64"
      ]
     },
     "execution_count": 589,
     "metadata": {},
     "output_type": "execute_result"
    }
   ],
   "source": [
    "df['Revenue'] # equivalente a df.Revenue"
   ]
  },
  {
   "cell_type": "markdown",
   "metadata": {},
   "source": [
    "> **Nota**\n",
    ">\n",
    "> El acceso a una columna individual nos devuelve una serie."
   ]
  },
  {
   "cell_type": "markdown",
   "metadata": {},
   "source": [
    "Se pueden seleccionar varias columnas a la vez pasando una lista:"
   ]
  },
  {
   "cell_type": "code",
   "execution_count": 590,
   "metadata": {},
   "outputs": [
    {
     "data": {
      "text/html": [
       "<div>\n",
       "<style scoped>\n",
       "    .dataframe tbody tr th:only-of-type {\n",
       "        vertical-align: middle;\n",
       "    }\n",
       "\n",
       "    .dataframe tbody tr th {\n",
       "        vertical-align: top;\n",
       "    }\n",
       "\n",
       "    .dataframe thead th {\n",
       "        text-align: right;\n",
       "    }\n",
       "</style>\n",
       "<table border=\"1\" class=\"dataframe\">\n",
       "  <thead>\n",
       "    <tr style=\"text-align: right;\">\n",
       "      <th></th>\n",
       "      <th>Employees</th>\n",
       "      <th>City</th>\n",
       "    </tr>\n",
       "    <tr>\n",
       "      <th>Company</th>\n",
       "      <th></th>\n",
       "      <th></th>\n",
       "    </tr>\n",
       "  </thead>\n",
       "  <tbody>\n",
       "    <tr>\n",
       "      <th>Apple</th>\n",
       "      <td>147000</td>\n",
       "      <td>California</td>\n",
       "    </tr>\n",
       "    <tr>\n",
       "      <th>Samsung Electronics</th>\n",
       "      <td>267937</td>\n",
       "      <td>Suwon</td>\n",
       "    </tr>\n",
       "    <tr>\n",
       "      <th>Alphabet</th>\n",
       "      <td>135301</td>\n",
       "      <td>California</td>\n",
       "    </tr>\n",
       "    <tr>\n",
       "      <th>Foxconn</th>\n",
       "      <td>878429</td>\n",
       "      <td>New Taipei City</td>\n",
       "    </tr>\n",
       "    <tr>\n",
       "      <th>Microsoft</th>\n",
       "      <td>163000</td>\n",
       "      <td>Washington</td>\n",
       "    </tr>\n",
       "  </tbody>\n",
       "</table>\n",
       "</div>"
      ],
      "text/plain": [
       "                     Employees             City\n",
       "Company                                        \n",
       "Apple                   147000       California\n",
       "Samsung Electronics     267937            Suwon\n",
       "Alphabet                135301       California\n",
       "Foxconn                 878429  New Taipei City\n",
       "Microsoft               163000       Washington"
      ]
     },
     "execution_count": 590,
     "metadata": {},
     "output_type": "execute_result"
    }
   ],
   "source": [
    "df[['Employees', 'City']].head()"
   ]
  },
  {
   "cell_type": "markdown",
   "metadata": {},
   "source": [
    "Esta misma sintaxis permite la reordenación de las columnas de un DataFrame, si asignamos el resultado a la misma (u otra) variable:"
   ]
  },
  {
   "cell_type": "code",
   "execution_count": 591,
   "metadata": {},
   "outputs": [
    {
     "data": {
      "text/html": [
       "<div>\n",
       "<style scoped>\n",
       "    .dataframe tbody tr th:only-of-type {\n",
       "        vertical-align: middle;\n",
       "    }\n",
       "\n",
       "    .dataframe tbody tr th {\n",
       "        vertical-align: top;\n",
       "    }\n",
       "\n",
       "    .dataframe thead th {\n",
       "        text-align: right;\n",
       "    }\n",
       "</style>\n",
       "<table border=\"1\" class=\"dataframe\">\n",
       "  <thead>\n",
       "    <tr style=\"text-align: right;\">\n",
       "      <th></th>\n",
       "      <th>City</th>\n",
       "      <th>Country</th>\n",
       "      <th>Revenue</th>\n",
       "      <th>Employees</th>\n",
       "    </tr>\n",
       "    <tr>\n",
       "      <th>Company</th>\n",
       "      <th></th>\n",
       "      <th></th>\n",
       "      <th></th>\n",
       "      <th></th>\n",
       "    </tr>\n",
       "  </thead>\n",
       "  <tbody>\n",
       "    <tr>\n",
       "      <th>Apple</th>\n",
       "      <td>California</td>\n",
       "      <td>United States</td>\n",
       "      <td>274515</td>\n",
       "      <td>147000</td>\n",
       "    </tr>\n",
       "    <tr>\n",
       "      <th>Samsung Electronics</th>\n",
       "      <td>Suwon</td>\n",
       "      <td>South Korea</td>\n",
       "      <td>200734</td>\n",
       "      <td>267937</td>\n",
       "    </tr>\n",
       "    <tr>\n",
       "      <th>Alphabet</th>\n",
       "      <td>California</td>\n",
       "      <td>United States</td>\n",
       "      <td>182527</td>\n",
       "      <td>135301</td>\n",
       "    </tr>\n",
       "    <tr>\n",
       "      <th>Foxconn</th>\n",
       "      <td>New Taipei City</td>\n",
       "      <td>Taiwan</td>\n",
       "      <td>181945</td>\n",
       "      <td>878429</td>\n",
       "    </tr>\n",
       "    <tr>\n",
       "      <th>Microsoft</th>\n",
       "      <td>Washington</td>\n",
       "      <td>United States</td>\n",
       "      <td>143015</td>\n",
       "      <td>163000</td>\n",
       "    </tr>\n",
       "  </tbody>\n",
       "</table>\n",
       "</div>"
      ],
      "text/plain": [
       "                                City        Country  Revenue  Employees\n",
       "Company                                                                \n",
       "Apple                     California  United States   274515     147000\n",
       "Samsung Electronics            Suwon    South Korea   200734     267937\n",
       "Alphabet                  California  United States   182527     135301\n",
       "Foxconn              New Taipei City         Taiwan   181945     878429\n",
       "Microsoft                 Washington  United States   143015     163000"
      ]
     },
     "execution_count": 591,
     "metadata": {},
     "output_type": "execute_result"
    }
   ],
   "source": [
    "df_reordered = df[['City', 'Country', 'Revenue', 'Employees']]\n",
    "df_reordered.head()"
   ]
  },
  {
   "cell_type": "markdown",
   "metadata": {},
   "source": [
    "**Acceso a Filas y Columnas**"
   ]
  },
  {
   "cell_type": "markdown",
   "metadata": {},
   "source": [
    "Si mezclamos los dos acceso anteriores podemos seleccionar datos de forma muy precisa. Como siempre, partimos del dataset de empresas tecnológicas:"
   ]
  },
  {
   "cell_type": "code",
   "execution_count": 592,
   "metadata": {},
   "outputs": [
    {
     "data": {
      "text/html": [
       "<div>\n",
       "<style scoped>\n",
       "    .dataframe tbody tr th:only-of-type {\n",
       "        vertical-align: middle;\n",
       "    }\n",
       "\n",
       "    .dataframe tbody tr th {\n",
       "        vertical-align: top;\n",
       "    }\n",
       "\n",
       "    .dataframe thead th {\n",
       "        text-align: right;\n",
       "    }\n",
       "</style>\n",
       "<table border=\"1\" class=\"dataframe\">\n",
       "  <thead>\n",
       "    <tr style=\"text-align: right;\">\n",
       "      <th></th>\n",
       "      <th>Revenue</th>\n",
       "      <th>Employees</th>\n",
       "      <th>City</th>\n",
       "      <th>Country</th>\n",
       "    </tr>\n",
       "    <tr>\n",
       "      <th>Company</th>\n",
       "      <th></th>\n",
       "      <th></th>\n",
       "      <th></th>\n",
       "      <th></th>\n",
       "    </tr>\n",
       "  </thead>\n",
       "  <tbody>\n",
       "    <tr>\n",
       "      <th>Apple</th>\n",
       "      <td>274515</td>\n",
       "      <td>147000</td>\n",
       "      <td>California</td>\n",
       "      <td>United States</td>\n",
       "    </tr>\n",
       "    <tr>\n",
       "      <th>Samsung Electronics</th>\n",
       "      <td>200734</td>\n",
       "      <td>267937</td>\n",
       "      <td>Suwon</td>\n",
       "      <td>South Korea</td>\n",
       "    </tr>\n",
       "    <tr>\n",
       "      <th>Alphabet</th>\n",
       "      <td>182527</td>\n",
       "      <td>135301</td>\n",
       "      <td>California</td>\n",
       "      <td>United States</td>\n",
       "    </tr>\n",
       "    <tr>\n",
       "      <th>Foxconn</th>\n",
       "      <td>181945</td>\n",
       "      <td>878429</td>\n",
       "      <td>New Taipei City</td>\n",
       "      <td>Taiwan</td>\n",
       "    </tr>\n",
       "    <tr>\n",
       "      <th>Microsoft</th>\n",
       "      <td>143015</td>\n",
       "      <td>163000</td>\n",
       "      <td>Washington</td>\n",
       "      <td>United States</td>\n",
       "    </tr>\n",
       "  </tbody>\n",
       "</table>\n",
       "</div>"
      ],
      "text/plain": [
       "                     Revenue  Employees             City        Country\n",
       "Company                                                                \n",
       "Apple                 274515     147000       California  United States\n",
       "Samsung Electronics   200734     267937            Suwon    South Korea\n",
       "Alphabet              182527     135301       California  United States\n",
       "Foxconn               181945     878429  New Taipei City         Taiwan\n",
       "Microsoft             143015     163000       Washington  United States"
      ]
     },
     "execution_count": 592,
     "metadata": {},
     "output_type": "execute_result"
    }
   ],
   "source": [
    "df.head()"
   ]
  },
  {
   "cell_type": "markdown",
   "metadata": {},
   "source": [
    "Acceso al **primer valor del número de empleados/as**. Formas equivalentes de hacerlo:"
   ]
  },
  {
   "cell_type": "code",
   "execution_count": 593,
   "metadata": {},
   "outputs": [
    {
     "data": {
      "text/plain": [
       "274515"
      ]
     },
     "execution_count": 593,
     "metadata": {},
     "output_type": "execute_result"
    }
   ],
   "source": [
    "df.iloc[0, 0]"
   ]
  },
  {
   "cell_type": "code",
   "execution_count": 594,
   "metadata": {},
   "outputs": [
    {
     "data": {
      "text/plain": [
       "274515"
      ]
     },
     "execution_count": 594,
     "metadata": {},
     "output_type": "execute_result"
    }
   ],
   "source": [
    "df.loc['Apple', 'Revenue']"
   ]
  },
  {
   "cell_type": "markdown",
   "metadata": {},
   "source": [
    "Acceso a **Ciudad y País de las empresas Sony, Panasonic y Lenovo**:"
   ]
  },
  {
   "cell_type": "code",
   "execution_count": 595,
   "metadata": {},
   "outputs": [
    {
     "data": {
      "text/html": [
       "<div>\n",
       "<style scoped>\n",
       "    .dataframe tbody tr th:only-of-type {\n",
       "        vertical-align: middle;\n",
       "    }\n",
       "\n",
       "    .dataframe tbody tr th {\n",
       "        vertical-align: top;\n",
       "    }\n",
       "\n",
       "    .dataframe thead th {\n",
       "        text-align: right;\n",
       "    }\n",
       "</style>\n",
       "<table border=\"1\" class=\"dataframe\">\n",
       "  <thead>\n",
       "    <tr style=\"text-align: right;\">\n",
       "      <th></th>\n",
       "      <th>City</th>\n",
       "      <th>Country</th>\n",
       "    </tr>\n",
       "    <tr>\n",
       "      <th>Company</th>\n",
       "      <th></th>\n",
       "      <th></th>\n",
       "    </tr>\n",
       "  </thead>\n",
       "  <tbody>\n",
       "    <tr>\n",
       "      <th>Sony</th>\n",
       "      <td>Tokyo</td>\n",
       "      <td>Japan</td>\n",
       "    </tr>\n",
       "    <tr>\n",
       "      <th>Panasonic</th>\n",
       "      <td>Osaka</td>\n",
       "      <td>Japan</td>\n",
       "    </tr>\n",
       "    <tr>\n",
       "      <th>Lenovo</th>\n",
       "      <td>Hong Kong</td>\n",
       "      <td>China</td>\n",
       "    </tr>\n",
       "  </tbody>\n",
       "</table>\n",
       "</div>"
      ],
      "text/plain": [
       "                City Country\n",
       "Company                     \n",
       "Sony           Tokyo   Japan\n",
       "Panasonic      Osaka   Japan\n",
       "Lenovo     Hong Kong   China"
      ]
     },
     "execution_count": 595,
     "metadata": {},
     "output_type": "execute_result"
    }
   ],
   "source": [
    "df.loc[['Sony', 'Panasonic', 'Lenovo'], ['City', 'Country']]"
   ]
  },
  {
   "cell_type": "markdown",
   "metadata": {},
   "source": [
    "Acceso a la **Última columna** del DataFrame:"
   ]
  },
  {
   "cell_type": "code",
   "execution_count": 596,
   "metadata": {},
   "outputs": [
    {
     "data": {
      "text/plain": [
       "Company\n",
       "Apple                  United States\n",
       "Samsung Electronics      South Korea\n",
       "Alphabet               United States\n",
       "Foxconn                       Taiwan\n",
       "Microsoft              United States\n",
       "Huawei                         China\n",
       "Dell Technologies      United States\n",
       "Facebook               United States\n",
       "Sony                           Japan\n",
       "Hitachi                        Japan\n",
       "Intel                  United States\n",
       "IBM                    United States\n",
       "Tencent                        China\n",
       "Panasonic                      Japan\n",
       "Lenovo                         China\n",
       "HP Inc.                United States\n",
       "LG Electronics           South Korea\n",
       "Name: Country, dtype: object"
      ]
     },
     "execution_count": 596,
     "metadata": {},
     "output_type": "execute_result"
    }
   ],
   "source": [
    "df.iloc[:, -1]"
   ]
  },
  {
   "cell_type": "markdown",
   "metadata": {},
   "source": [
    "Acceso a las **tres últimas filas(empresas) y a las dos primeras columnas**:"
   ]
  },
  {
   "cell_type": "code",
   "execution_count": 597,
   "metadata": {},
   "outputs": [
    {
     "data": {
      "text/html": [
       "<div>\n",
       "<style scoped>\n",
       "    .dataframe tbody tr th:only-of-type {\n",
       "        vertical-align: middle;\n",
       "    }\n",
       "\n",
       "    .dataframe tbody tr th {\n",
       "        vertical-align: top;\n",
       "    }\n",
       "\n",
       "    .dataframe thead th {\n",
       "        text-align: right;\n",
       "    }\n",
       "</style>\n",
       "<table border=\"1\" class=\"dataframe\">\n",
       "  <thead>\n",
       "    <tr style=\"text-align: right;\">\n",
       "      <th></th>\n",
       "      <th>Revenue</th>\n",
       "      <th>Employees</th>\n",
       "    </tr>\n",
       "    <tr>\n",
       "      <th>Company</th>\n",
       "      <th></th>\n",
       "      <th></th>\n",
       "    </tr>\n",
       "  </thead>\n",
       "  <tbody>\n",
       "    <tr>\n",
       "      <th>Lenovo</th>\n",
       "      <td>60742</td>\n",
       "      <td>71500</td>\n",
       "    </tr>\n",
       "    <tr>\n",
       "      <th>HP Inc.</th>\n",
       "      <td>56639</td>\n",
       "      <td>53000</td>\n",
       "    </tr>\n",
       "    <tr>\n",
       "      <th>LG Electronics</th>\n",
       "      <td>53625</td>\n",
       "      <td>75000</td>\n",
       "    </tr>\n",
       "  </tbody>\n",
       "</table>\n",
       "</div>"
      ],
      "text/plain": [
       "                Revenue  Employees\n",
       "Company                           \n",
       "Lenovo            60742      71500\n",
       "HP Inc.           56639      53000\n",
       "LG Electronics    53625      75000"
      ]
     },
     "execution_count": 597,
     "metadata": {},
     "output_type": "execute_result"
    }
   ],
   "source": [
    "df.iloc[-3:, :2]"
   ]
  },
  {
   "cell_type": "markdown",
   "metadata": {},
   "source": [
    "Acceso a **Las filas que van desde Apple a Huawei y a las columnas que van desde Revenue hasta City**:"
   ]
  },
  {
   "cell_type": "code",
   "execution_count": 598,
   "metadata": {},
   "outputs": [
    {
     "data": {
      "text/html": [
       "<div>\n",
       "<style scoped>\n",
       "    .dataframe tbody tr th:only-of-type {\n",
       "        vertical-align: middle;\n",
       "    }\n",
       "\n",
       "    .dataframe tbody tr th {\n",
       "        vertical-align: top;\n",
       "    }\n",
       "\n",
       "    .dataframe thead th {\n",
       "        text-align: right;\n",
       "    }\n",
       "</style>\n",
       "<table border=\"1\" class=\"dataframe\">\n",
       "  <thead>\n",
       "    <tr style=\"text-align: right;\">\n",
       "      <th></th>\n",
       "      <th>Revenue</th>\n",
       "      <th>Employees</th>\n",
       "      <th>City</th>\n",
       "    </tr>\n",
       "    <tr>\n",
       "      <th>Company</th>\n",
       "      <th></th>\n",
       "      <th></th>\n",
       "      <th></th>\n",
       "    </tr>\n",
       "  </thead>\n",
       "  <tbody>\n",
       "    <tr>\n",
       "      <th>Apple</th>\n",
       "      <td>274515</td>\n",
       "      <td>147000</td>\n",
       "      <td>California</td>\n",
       "    </tr>\n",
       "    <tr>\n",
       "      <th>Samsung Electronics</th>\n",
       "      <td>200734</td>\n",
       "      <td>267937</td>\n",
       "      <td>Suwon</td>\n",
       "    </tr>\n",
       "    <tr>\n",
       "      <th>Alphabet</th>\n",
       "      <td>182527</td>\n",
       "      <td>135301</td>\n",
       "      <td>California</td>\n",
       "    </tr>\n",
       "    <tr>\n",
       "      <th>Foxconn</th>\n",
       "      <td>181945</td>\n",
       "      <td>878429</td>\n",
       "      <td>New Taipei City</td>\n",
       "    </tr>\n",
       "    <tr>\n",
       "      <th>Microsoft</th>\n",
       "      <td>143015</td>\n",
       "      <td>163000</td>\n",
       "      <td>Washington</td>\n",
       "    </tr>\n",
       "    <tr>\n",
       "      <th>Huawei</th>\n",
       "      <td>129184</td>\n",
       "      <td>197000</td>\n",
       "      <td>Shenzhen</td>\n",
       "    </tr>\n",
       "  </tbody>\n",
       "</table>\n",
       "</div>"
      ],
      "text/plain": [
       "                     Revenue  Employees             City\n",
       "Company                                                 \n",
       "Apple                 274515     147000       California\n",
       "Samsung Electronics   200734     267937            Suwon\n",
       "Alphabet              182527     135301       California\n",
       "Foxconn               181945     878429  New Taipei City\n",
       "Microsoft             143015     163000       Washington\n",
       "Huawei                129184     197000         Shenzhen"
      ]
     },
     "execution_count": 598,
     "metadata": {},
     "output_type": "execute_result"
    }
   ],
   "source": [
    "df.loc['Apple' : 'Huawei', 'Revenue' : 'City']"
   ]
  },
  {
   "cell_type": "markdown",
   "metadata": {},
   "source": [
    "> **Truco**\n",
    ">\n",
    "> Es posible usar `slicing` (troceado) en el acceso a registros y columnas."
   ]
  },
  {
   "cell_type": "markdown",
   "metadata": {},
   "source": [
    "**Selección condicional**"
   ]
  },
  {
   "cell_type": "markdown",
   "metadata": {},
   "source": [
    "Es posible aplicar ciertas condiciones en la selección de los datos para obtener el subconjunto que estemos buscando. Veremos distintas aproximaciones a esta técnica.\n",
    "\n",
    "Supongamos que queremos seleccionar aquellas empresas con base en Estados Unidos. Si aplicamos la condición sobre la columna obtendremos una serie de tipo booleano en la que se indica para qué registros se cumple la condición (incluyendo el índice):"
   ]
  },
  {
   "cell_type": "code",
   "execution_count": 599,
   "metadata": {},
   "outputs": [
    {
     "data": {
      "text/plain": [
       "Company\n",
       "Apple                   True\n",
       "Samsung Electronics    False\n",
       "Alphabet                True\n",
       "Foxconn                False\n",
       "Microsoft               True\n",
       "Huawei                 False\n",
       "Dell Technologies       True\n",
       "Facebook                True\n",
       "Sony                   False\n",
       "Hitachi                False\n",
       "Intel                   True\n",
       "IBM                     True\n",
       "Tencent                False\n",
       "Panasonic              False\n",
       "Lenovo                 False\n",
       "HP Inc.                 True\n",
       "LG Electronics         False\n",
       "Name: Country, dtype: bool"
      ]
     },
     "execution_count": 599,
     "metadata": {},
     "output_type": "execute_result"
    }
   ],
   "source": [
    "df['Country'] == 'United States'"
   ]
  },
  {
   "cell_type": "markdown",
   "metadata": {},
   "source": [
    "Si aplicamos esta máscara al conjunto original de datos, obtendremos las empresas que estamos buscando:"
   ]
  },
  {
   "cell_type": "code",
   "execution_count": 600,
   "metadata": {},
   "outputs": [
    {
     "data": {
      "text/html": [
       "<div>\n",
       "<style scoped>\n",
       "    .dataframe tbody tr th:only-of-type {\n",
       "        vertical-align: middle;\n",
       "    }\n",
       "\n",
       "    .dataframe tbody tr th {\n",
       "        vertical-align: top;\n",
       "    }\n",
       "\n",
       "    .dataframe thead th {\n",
       "        text-align: right;\n",
       "    }\n",
       "</style>\n",
       "<table border=\"1\" class=\"dataframe\">\n",
       "  <thead>\n",
       "    <tr style=\"text-align: right;\">\n",
       "      <th></th>\n",
       "      <th>Revenue</th>\n",
       "      <th>Employees</th>\n",
       "      <th>City</th>\n",
       "      <th>Country</th>\n",
       "    </tr>\n",
       "    <tr>\n",
       "      <th>Company</th>\n",
       "      <th></th>\n",
       "      <th></th>\n",
       "      <th></th>\n",
       "      <th></th>\n",
       "    </tr>\n",
       "  </thead>\n",
       "  <tbody>\n",
       "    <tr>\n",
       "      <th>Apple</th>\n",
       "      <td>274515</td>\n",
       "      <td>147000</td>\n",
       "      <td>California</td>\n",
       "      <td>United States</td>\n",
       "    </tr>\n",
       "    <tr>\n",
       "      <th>Alphabet</th>\n",
       "      <td>182527</td>\n",
       "      <td>135301</td>\n",
       "      <td>California</td>\n",
       "      <td>United States</td>\n",
       "    </tr>\n",
       "    <tr>\n",
       "      <th>Microsoft</th>\n",
       "      <td>143015</td>\n",
       "      <td>163000</td>\n",
       "      <td>Washington</td>\n",
       "      <td>United States</td>\n",
       "    </tr>\n",
       "    <tr>\n",
       "      <th>Dell Technologies</th>\n",
       "      <td>92224</td>\n",
       "      <td>158000</td>\n",
       "      <td>Texas</td>\n",
       "      <td>United States</td>\n",
       "    </tr>\n",
       "    <tr>\n",
       "      <th>Facebook</th>\n",
       "      <td>85965</td>\n",
       "      <td>58604</td>\n",
       "      <td>California</td>\n",
       "      <td>United States</td>\n",
       "    </tr>\n",
       "    <tr>\n",
       "      <th>Intel</th>\n",
       "      <td>77867</td>\n",
       "      <td>110600</td>\n",
       "      <td>California</td>\n",
       "      <td>United States</td>\n",
       "    </tr>\n",
       "    <tr>\n",
       "      <th>IBM</th>\n",
       "      <td>73620</td>\n",
       "      <td>364800</td>\n",
       "      <td>New York</td>\n",
       "      <td>United States</td>\n",
       "    </tr>\n",
       "    <tr>\n",
       "      <th>HP Inc.</th>\n",
       "      <td>56639</td>\n",
       "      <td>53000</td>\n",
       "      <td>California</td>\n",
       "      <td>United States</td>\n",
       "    </tr>\n",
       "  </tbody>\n",
       "</table>\n",
       "</div>"
      ],
      "text/plain": [
       "                   Revenue  Employees        City        Country\n",
       "Company                                                         \n",
       "Apple               274515     147000  California  United States\n",
       "Alphabet            182527     135301  California  United States\n",
       "Microsoft           143015     163000  Washington  United States\n",
       "Dell Technologies    92224     158000       Texas  United States\n",
       "Facebook             85965      58604  California  United States\n",
       "Intel                77867     110600  California  United States\n",
       "IBM                  73620     364800    New York  United States\n",
       "HP Inc.              56639      53000  California  United States"
      ]
     },
     "execution_count": 600,
     "metadata": {},
     "output_type": "execute_result"
    }
   ],
   "source": [
    "df[df['Country'] == 'United States']"
   ]
  },
  {
   "cell_type": "markdown",
   "metadata": {},
   "source": [
    "También es posible aplicar condiciones compuestas. Supongamos que necesitamos selecionar aquellas **empresas con más de 100000 millones de dólares de ingresos y más de 100000 empleados/as**:"
   ]
  },
  {
   "cell_type": "code",
   "execution_count": 601,
   "metadata": {},
   "outputs": [
    {
     "data": {
      "text/html": [
       "<div>\n",
       "<style scoped>\n",
       "    .dataframe tbody tr th:only-of-type {\n",
       "        vertical-align: middle;\n",
       "    }\n",
       "\n",
       "    .dataframe tbody tr th {\n",
       "        vertical-align: top;\n",
       "    }\n",
       "\n",
       "    .dataframe thead th {\n",
       "        text-align: right;\n",
       "    }\n",
       "</style>\n",
       "<table border=\"1\" class=\"dataframe\">\n",
       "  <thead>\n",
       "    <tr style=\"text-align: right;\">\n",
       "      <th></th>\n",
       "      <th>Revenue</th>\n",
       "      <th>Employees</th>\n",
       "      <th>City</th>\n",
       "      <th>Country</th>\n",
       "    </tr>\n",
       "    <tr>\n",
       "      <th>Company</th>\n",
       "      <th></th>\n",
       "      <th></th>\n",
       "      <th></th>\n",
       "      <th></th>\n",
       "    </tr>\n",
       "  </thead>\n",
       "  <tbody>\n",
       "    <tr>\n",
       "      <th>Apple</th>\n",
       "      <td>274515</td>\n",
       "      <td>147000</td>\n",
       "      <td>California</td>\n",
       "      <td>United States</td>\n",
       "    </tr>\n",
       "    <tr>\n",
       "      <th>Samsung Electronics</th>\n",
       "      <td>200734</td>\n",
       "      <td>267937</td>\n",
       "      <td>Suwon</td>\n",
       "      <td>South Korea</td>\n",
       "    </tr>\n",
       "    <tr>\n",
       "      <th>Alphabet</th>\n",
       "      <td>182527</td>\n",
       "      <td>135301</td>\n",
       "      <td>California</td>\n",
       "      <td>United States</td>\n",
       "    </tr>\n",
       "    <tr>\n",
       "      <th>Foxconn</th>\n",
       "      <td>181945</td>\n",
       "      <td>878429</td>\n",
       "      <td>New Taipei City</td>\n",
       "      <td>Taiwan</td>\n",
       "    </tr>\n",
       "    <tr>\n",
       "      <th>Microsoft</th>\n",
       "      <td>143015</td>\n",
       "      <td>163000</td>\n",
       "      <td>Washington</td>\n",
       "      <td>United States</td>\n",
       "    </tr>\n",
       "    <tr>\n",
       "      <th>Huawei</th>\n",
       "      <td>129184</td>\n",
       "      <td>197000</td>\n",
       "      <td>Shenzhen</td>\n",
       "      <td>China</td>\n",
       "    </tr>\n",
       "  </tbody>\n",
       "</table>\n",
       "</div>"
      ],
      "text/plain": [
       "                     Revenue  Employees             City        Country\n",
       "Company                                                                \n",
       "Apple                 274515     147000       California  United States\n",
       "Samsung Electronics   200734     267937            Suwon    South Korea\n",
       "Alphabet              182527     135301       California  United States\n",
       "Foxconn               181945     878429  New Taipei City         Taiwan\n",
       "Microsoft             143015     163000       Washington  United States\n",
       "Huawei                129184     197000         Shenzhen          China"
      ]
     },
     "execution_count": 601,
     "metadata": {},
     "output_type": "execute_result"
    }
   ],
   "source": [
    "revenue_condition = df['Revenue'] > 100_000\n",
    "employees_condition = df['Employees'] > 100_000\n",
    "df[revenue_condition & employees_condition]"
   ]
  },
  {
   "cell_type": "markdown",
   "metadata": {},
   "source": [
    "Los operadores lógicos que se pueden utilizar para combinar condiciones de selección son los siguientes:"
   ]
  },
  {
   "cell_type": "markdown",
   "metadata": {},
   "source": [
    "| **Operador** | **Significado** |\n",
    "|--- |--- |\n",
    "| | | «or» lógico |\n",
    "| & | «and» lógico |\n",
    "|~|«not» lógico|\n",
    "|^|«xor» lógico|"
   ]
  },
  {
   "cell_type": "markdown",
   "metadata": {},
   "source": [
    "Imaginemos ahora que estamos buscando aquellas **empresa establecidas en California o Tokyo**. Una posible aproximación sería utilizar una condición compuesta, pero existe la función `isin()` que nos permite comprobar si un valor está dentro de una lista de opciones:"
   ]
  },
  {
   "cell_type": "code",
   "execution_count": 602,
   "metadata": {},
   "outputs": [
    {
     "data": {
      "text/html": [
       "<div>\n",
       "<style scoped>\n",
       "    .dataframe tbody tr th:only-of-type {\n",
       "        vertical-align: middle;\n",
       "    }\n",
       "\n",
       "    .dataframe tbody tr th {\n",
       "        vertical-align: top;\n",
       "    }\n",
       "\n",
       "    .dataframe thead th {\n",
       "        text-align: right;\n",
       "    }\n",
       "</style>\n",
       "<table border=\"1\" class=\"dataframe\">\n",
       "  <thead>\n",
       "    <tr style=\"text-align: right;\">\n",
       "      <th></th>\n",
       "      <th>Revenue</th>\n",
       "      <th>Employees</th>\n",
       "      <th>City</th>\n",
       "      <th>Country</th>\n",
       "    </tr>\n",
       "    <tr>\n",
       "      <th>Company</th>\n",
       "      <th></th>\n",
       "      <th></th>\n",
       "      <th></th>\n",
       "      <th></th>\n",
       "    </tr>\n",
       "  </thead>\n",
       "  <tbody>\n",
       "    <tr>\n",
       "      <th>Apple</th>\n",
       "      <td>274515</td>\n",
       "      <td>147000</td>\n",
       "      <td>California</td>\n",
       "      <td>United States</td>\n",
       "    </tr>\n",
       "    <tr>\n",
       "      <th>Alphabet</th>\n",
       "      <td>182527</td>\n",
       "      <td>135301</td>\n",
       "      <td>California</td>\n",
       "      <td>United States</td>\n",
       "    </tr>\n",
       "    <tr>\n",
       "      <th>Facebook</th>\n",
       "      <td>85965</td>\n",
       "      <td>58604</td>\n",
       "      <td>California</td>\n",
       "      <td>United States</td>\n",
       "    </tr>\n",
       "    <tr>\n",
       "      <th>Sony</th>\n",
       "      <td>84893</td>\n",
       "      <td>109700</td>\n",
       "      <td>Tokyo</td>\n",
       "      <td>Japan</td>\n",
       "    </tr>\n",
       "    <tr>\n",
       "      <th>Hitachi</th>\n",
       "      <td>82345</td>\n",
       "      <td>350864</td>\n",
       "      <td>Tokyo</td>\n",
       "      <td>Japan</td>\n",
       "    </tr>\n",
       "    <tr>\n",
       "      <th>Intel</th>\n",
       "      <td>77867</td>\n",
       "      <td>110600</td>\n",
       "      <td>California</td>\n",
       "      <td>United States</td>\n",
       "    </tr>\n",
       "    <tr>\n",
       "      <th>HP Inc.</th>\n",
       "      <td>56639</td>\n",
       "      <td>53000</td>\n",
       "      <td>California</td>\n",
       "      <td>United States</td>\n",
       "    </tr>\n",
       "  </tbody>\n",
       "</table>\n",
       "</div>"
      ],
      "text/plain": [
       "          Revenue  Employees        City        Country\n",
       "Company                                                \n",
       "Apple      274515     147000  California  United States\n",
       "Alphabet   182527     135301  California  United States\n",
       "Facebook    85965      58604  California  United States\n",
       "Sony        84893     109700       Tokyo          Japan\n",
       "Hitachi     82345     350864       Tokyo          Japan\n",
       "Intel       77867     110600  California  United States\n",
       "HP Inc.     56639      53000  California  United States"
      ]
     },
     "execution_count": 602,
     "metadata": {},
     "output_type": "execute_result"
    }
   ],
   "source": [
    "mask = df['City'].isin(['California', 'Tokyo'])\n",
    "df[mask]"
   ]
  },
  {
   "cell_type": "markdown",
   "metadata": {},
   "source": [
    "> **Ejercicio**"
   ]
  },
  {
   "cell_type": "markdown",
   "metadata": {},
   "source": [
    "1. Para obtener las islas \"El Hierro\" y \"La Gomera\" con `.loc`:"
   ]
  },
  {
   "cell_type": "code",
   "execution_count": 603,
   "metadata": {},
   "outputs": [
    {
     "name": "stdout",
     "output_type": "stream",
     "text": [
      "           Population  Area (km^2) Province\n",
      "Island                                     \n",
      "El Hierro       11147       278.71     SCTF\n",
      "La Gomera       21678       369.76     SCTF\n"
     ]
    }
   ],
   "source": [
    "subset1 = democan.loc[['El Hierro', 'La Gomera']]\n",
    "print(subset1)"
   ]
  },
  {
   "cell_type": "markdown",
   "metadata": {},
   "source": [
    "2. Para obtener la columna 'Province' de las islas especificadas con `.loc`:"
   ]
  },
  {
   "cell_type": "code",
   "execution_count": 604,
   "metadata": {},
   "outputs": [
    {
     "name": "stdout",
     "output_type": "stream",
     "text": [
      "Island\n",
      "Gran Canaria     LPGC\n",
      "Tenerife         SCTF\n",
      "La Palma         SCTF\n",
      "Lanzarote        LPGC\n",
      "La Gomera        SCTF\n",
      "El Hierro        SCTF\n",
      "Fuerteventura    LPGC\n",
      "Name: Province, dtype: object\n"
     ]
    }
   ],
   "source": [
    "subset2 = democan.loc[['Gran Canaria', 'Tenerife', 'La Palma', 'Lanzarote', 'La Gomera', 'El Hierro', 'Fuerteventura'], 'Province']\n",
    "print(subset2)"
   ]
  },
  {
   "cell_type": "markdown",
   "metadata": {},
   "source": [
    "3. Para obtener la columna 'Area' de las islas especificadas con `.iloc` (usando índices enteros en lugar de etiquetas):"
   ]
  },
  {
   "cell_type": "code",
   "execution_count": 605,
   "metadata": {},
   "outputs": [
    {
     "data": {
      "text/plain": [
       "Island\n",
       "Gran Canaria     1560.10\n",
       "La Palma          708.32\n",
       "La Gomera         369.76\n",
       "Fuerteventura    1659.00\n",
       "Name: Area (km^2), dtype: float64"
      ]
     },
     "execution_count": 605,
     "metadata": {},
     "output_type": "execute_result"
    }
   ],
   "source": [
    "ds3 = democan.iloc[::2, 1]\n",
    "ds3"
   ]
  },
  {
   "cell_type": "markdown",
   "metadata": {},
   "source": [
    "**Seleción Usando Query**"
   ]
  },
  {
   "cell_type": "markdown",
   "metadata": {},
   "source": [
    "Pandas provee una alternativa para la selección condicional de registros a través de la función `query()`. Admite una sintaxis de consulta mediante operadores de comparación.\n",
    "\n",
    "Veamos las mismas consultas de ejemplo que para el apartado anterior:"
   ]
  },
  {
   "cell_type": "code",
   "execution_count": 606,
   "metadata": {},
   "outputs": [
    {
     "data": {
      "text/html": [
       "<div>\n",
       "<style scoped>\n",
       "    .dataframe tbody tr th:only-of-type {\n",
       "        vertical-align: middle;\n",
       "    }\n",
       "\n",
       "    .dataframe tbody tr th {\n",
       "        vertical-align: top;\n",
       "    }\n",
       "\n",
       "    .dataframe thead th {\n",
       "        text-align: right;\n",
       "    }\n",
       "</style>\n",
       "<table border=\"1\" class=\"dataframe\">\n",
       "  <thead>\n",
       "    <tr style=\"text-align: right;\">\n",
       "      <th></th>\n",
       "      <th>Revenue</th>\n",
       "      <th>Employees</th>\n",
       "      <th>City</th>\n",
       "      <th>Country</th>\n",
       "    </tr>\n",
       "    <tr>\n",
       "      <th>Company</th>\n",
       "      <th></th>\n",
       "      <th></th>\n",
       "      <th></th>\n",
       "      <th></th>\n",
       "    </tr>\n",
       "  </thead>\n",
       "  <tbody>\n",
       "    <tr>\n",
       "      <th>Apple</th>\n",
       "      <td>274515</td>\n",
       "      <td>147000</td>\n",
       "      <td>California</td>\n",
       "      <td>United States</td>\n",
       "    </tr>\n",
       "    <tr>\n",
       "      <th>Alphabet</th>\n",
       "      <td>182527</td>\n",
       "      <td>135301</td>\n",
       "      <td>California</td>\n",
       "      <td>United States</td>\n",
       "    </tr>\n",
       "    <tr>\n",
       "      <th>Microsoft</th>\n",
       "      <td>143015</td>\n",
       "      <td>163000</td>\n",
       "      <td>Washington</td>\n",
       "      <td>United States</td>\n",
       "    </tr>\n",
       "    <tr>\n",
       "      <th>Dell Technologies</th>\n",
       "      <td>92224</td>\n",
       "      <td>158000</td>\n",
       "      <td>Texas</td>\n",
       "      <td>United States</td>\n",
       "    </tr>\n",
       "    <tr>\n",
       "      <th>Facebook</th>\n",
       "      <td>85965</td>\n",
       "      <td>58604</td>\n",
       "      <td>California</td>\n",
       "      <td>United States</td>\n",
       "    </tr>\n",
       "    <tr>\n",
       "      <th>Intel</th>\n",
       "      <td>77867</td>\n",
       "      <td>110600</td>\n",
       "      <td>California</td>\n",
       "      <td>United States</td>\n",
       "    </tr>\n",
       "    <tr>\n",
       "      <th>IBM</th>\n",
       "      <td>73620</td>\n",
       "      <td>364800</td>\n",
       "      <td>New York</td>\n",
       "      <td>United States</td>\n",
       "    </tr>\n",
       "    <tr>\n",
       "      <th>HP Inc.</th>\n",
       "      <td>56639</td>\n",
       "      <td>53000</td>\n",
       "      <td>California</td>\n",
       "      <td>United States</td>\n",
       "    </tr>\n",
       "  </tbody>\n",
       "</table>\n",
       "</div>"
      ],
      "text/plain": [
       "                   Revenue  Employees        City        Country\n",
       "Company                                                         \n",
       "Apple               274515     147000  California  United States\n",
       "Alphabet            182527     135301  California  United States\n",
       "Microsoft           143015     163000  Washington  United States\n",
       "Dell Technologies    92224     158000       Texas  United States\n",
       "Facebook             85965      58604  California  United States\n",
       "Intel                77867     110600  California  United States\n",
       "IBM                  73620     364800    New York  United States\n",
       "HP Inc.              56639      53000  California  United States"
      ]
     },
     "execution_count": 606,
     "metadata": {},
     "output_type": "execute_result"
    }
   ],
   "source": [
    "df.query('Country == \"United States\"')"
   ]
  },
  {
   "cell_type": "code",
   "execution_count": 607,
   "metadata": {},
   "outputs": [
    {
     "data": {
      "text/html": [
       "<div>\n",
       "<style scoped>\n",
       "    .dataframe tbody tr th:only-of-type {\n",
       "        vertical-align: middle;\n",
       "    }\n",
       "\n",
       "    .dataframe tbody tr th {\n",
       "        vertical-align: top;\n",
       "    }\n",
       "\n",
       "    .dataframe thead th {\n",
       "        text-align: right;\n",
       "    }\n",
       "</style>\n",
       "<table border=\"1\" class=\"dataframe\">\n",
       "  <thead>\n",
       "    <tr style=\"text-align: right;\">\n",
       "      <th></th>\n",
       "      <th>Revenue</th>\n",
       "      <th>Employees</th>\n",
       "      <th>City</th>\n",
       "      <th>Country</th>\n",
       "    </tr>\n",
       "    <tr>\n",
       "      <th>Company</th>\n",
       "      <th></th>\n",
       "      <th></th>\n",
       "      <th></th>\n",
       "      <th></th>\n",
       "    </tr>\n",
       "  </thead>\n",
       "  <tbody>\n",
       "    <tr>\n",
       "      <th>Apple</th>\n",
       "      <td>274515</td>\n",
       "      <td>147000</td>\n",
       "      <td>California</td>\n",
       "      <td>United States</td>\n",
       "    </tr>\n",
       "    <tr>\n",
       "      <th>Samsung Electronics</th>\n",
       "      <td>200734</td>\n",
       "      <td>267937</td>\n",
       "      <td>Suwon</td>\n",
       "      <td>South Korea</td>\n",
       "    </tr>\n",
       "    <tr>\n",
       "      <th>Alphabet</th>\n",
       "      <td>182527</td>\n",
       "      <td>135301</td>\n",
       "      <td>California</td>\n",
       "      <td>United States</td>\n",
       "    </tr>\n",
       "    <tr>\n",
       "      <th>Foxconn</th>\n",
       "      <td>181945</td>\n",
       "      <td>878429</td>\n",
       "      <td>New Taipei City</td>\n",
       "      <td>Taiwan</td>\n",
       "    </tr>\n",
       "    <tr>\n",
       "      <th>Microsoft</th>\n",
       "      <td>143015</td>\n",
       "      <td>163000</td>\n",
       "      <td>Washington</td>\n",
       "      <td>United States</td>\n",
       "    </tr>\n",
       "    <tr>\n",
       "      <th>Huawei</th>\n",
       "      <td>129184</td>\n",
       "      <td>197000</td>\n",
       "      <td>Shenzhen</td>\n",
       "      <td>China</td>\n",
       "    </tr>\n",
       "  </tbody>\n",
       "</table>\n",
       "</div>"
      ],
      "text/plain": [
       "                     Revenue  Employees             City        Country\n",
       "Company                                                                \n",
       "Apple                 274515     147000       California  United States\n",
       "Samsung Electronics   200734     267937            Suwon    South Korea\n",
       "Alphabet              182527     135301       California  United States\n",
       "Foxconn               181945     878429  New Taipei City         Taiwan\n",
       "Microsoft             143015     163000       Washington  United States\n",
       "Huawei                129184     197000         Shenzhen          China"
      ]
     },
     "execution_count": 607,
     "metadata": {},
     "output_type": "execute_result"
    }
   ],
   "source": [
    "df.query('Revenue > 100_000 & Employees > 100_000')"
   ]
  },
  {
   "cell_type": "code",
   "execution_count": 608,
   "metadata": {},
   "outputs": [
    {
     "data": {
      "text/html": [
       "<div>\n",
       "<style scoped>\n",
       "    .dataframe tbody tr th:only-of-type {\n",
       "        vertical-align: middle;\n",
       "    }\n",
       "\n",
       "    .dataframe tbody tr th {\n",
       "        vertical-align: top;\n",
       "    }\n",
       "\n",
       "    .dataframe thead th {\n",
       "        text-align: right;\n",
       "    }\n",
       "</style>\n",
       "<table border=\"1\" class=\"dataframe\">\n",
       "  <thead>\n",
       "    <tr style=\"text-align: right;\">\n",
       "      <th></th>\n",
       "      <th>Revenue</th>\n",
       "      <th>Employees</th>\n",
       "      <th>City</th>\n",
       "      <th>Country</th>\n",
       "    </tr>\n",
       "    <tr>\n",
       "      <th>Company</th>\n",
       "      <th></th>\n",
       "      <th></th>\n",
       "      <th></th>\n",
       "      <th></th>\n",
       "    </tr>\n",
       "  </thead>\n",
       "  <tbody>\n",
       "    <tr>\n",
       "      <th>Apple</th>\n",
       "      <td>274515</td>\n",
       "      <td>147000</td>\n",
       "      <td>California</td>\n",
       "      <td>United States</td>\n",
       "    </tr>\n",
       "    <tr>\n",
       "      <th>Alphabet</th>\n",
       "      <td>182527</td>\n",
       "      <td>135301</td>\n",
       "      <td>California</td>\n",
       "      <td>United States</td>\n",
       "    </tr>\n",
       "    <tr>\n",
       "      <th>Facebook</th>\n",
       "      <td>85965</td>\n",
       "      <td>58604</td>\n",
       "      <td>California</td>\n",
       "      <td>United States</td>\n",
       "    </tr>\n",
       "    <tr>\n",
       "      <th>Sony</th>\n",
       "      <td>84893</td>\n",
       "      <td>109700</td>\n",
       "      <td>Tokyo</td>\n",
       "      <td>Japan</td>\n",
       "    </tr>\n",
       "    <tr>\n",
       "      <th>Hitachi</th>\n",
       "      <td>82345</td>\n",
       "      <td>350864</td>\n",
       "      <td>Tokyo</td>\n",
       "      <td>Japan</td>\n",
       "    </tr>\n",
       "    <tr>\n",
       "      <th>Intel</th>\n",
       "      <td>77867</td>\n",
       "      <td>110600</td>\n",
       "      <td>California</td>\n",
       "      <td>United States</td>\n",
       "    </tr>\n",
       "    <tr>\n",
       "      <th>HP Inc.</th>\n",
       "      <td>56639</td>\n",
       "      <td>53000</td>\n",
       "      <td>California</td>\n",
       "      <td>United States</td>\n",
       "    </tr>\n",
       "  </tbody>\n",
       "</table>\n",
       "</div>"
      ],
      "text/plain": [
       "          Revenue  Employees        City        Country\n",
       "Company                                                \n",
       "Apple      274515     147000  California  United States\n",
       "Alphabet   182527     135301  California  United States\n",
       "Facebook    85965      58604  California  United States\n",
       "Sony        84893     109700       Tokyo          Japan\n",
       "Hitachi     82345     350864       Tokyo          Japan\n",
       "Intel       77867     110600  California  United States\n",
       "HP Inc.     56639      53000  California  United States"
      ]
     },
     "execution_count": 608,
     "metadata": {},
     "output_type": "execute_result"
    }
   ],
   "source": [
    "df.query('City in [\"California\", \"Tokyo\"]')"
   ]
  },
  {
   "cell_type": "markdown",
   "metadata": {},
   "source": [
    "> **Truco**\n",
    ">\n",
    "> Si los nombres de columna contienen espacios, se puede hacer referencias a ellas con comillas invertidas. Por ejemplo: `Total Stock`."
   ]
  },
  {
   "cell_type": "markdown",
   "metadata": {},
   "source": [
    "**Comparativa en Consultas**"
   ]
  },
  {
   "cell_type": "markdown",
   "metadata": {},
   "source": [
    "Hemos visto dos métodos para realizar consultas (o filtrado) en un DataFrame: usando seleción booleana con corchetes y usando la función `query`. ¿Ambos métodos son igual de eficientes en términos de rendimiento?\n",
    "\n",
    "Haremos una comparativa muy simple para tener, al menos, una idea de sus órdenes de magnitud. En primer lugar creamos un DataFrame con 3 columnas y 1 millón de valores aleatorios enteros en cada una de ellas:"
   ]
  },
  {
   "cell_type": "code",
   "execution_count": 609,
   "metadata": {},
   "outputs": [],
   "source": [
    "import numpy as np"
   ]
  },
  {
   "cell_type": "code",
   "execution_count": 610,
   "metadata": {},
   "outputs": [
    {
     "data": {
      "text/plain": [
       "(1000000, 3)"
      ]
     },
     "execution_count": 610,
     "metadata": {},
     "output_type": "execute_result"
    }
   ],
   "source": [
    "size = 1_000_000\n",
    "\n",
    "data = {\n",
    "  'A' : np.random.randint(1, 100, size = size),\n",
    "  'B' : np.random.randint(1, 100, size = size),\n",
    "  'C' : np.random.randint(1, 100, size = size)\n",
    "}\n",
    "df = pd.DataFrame(data)\n",
    "df.shape"
   ]
  },
  {
   "cell_type": "markdown",
   "metadata": {},
   "source": [
    "Ahora realizaremos la misma consulta sobre el DataFrame aplicando los métodos ya vistos:"
   ]
  },
  {
   "cell_type": "code",
   "execution_count": 611,
   "metadata": {},
   "outputs": [
    {
     "name": "stdout",
     "output_type": "stream",
     "text": [
      "42.5 ms ± 1.72 ms per loop (mean ± std. dev. of 7 runs, 10 loops each)\n"
     ]
    }
   ],
   "source": [
    "%timeit df[(df['A'] > 50) & (df['B'] < 50)]"
   ]
  },
  {
   "cell_type": "code",
   "execution_count": 612,
   "metadata": {},
   "outputs": [
    {
     "name": "stdout",
     "output_type": "stream",
     "text": [
      "67.6 ms ± 9.55 ms per loop (mean ± std. dev. of 7 runs, 10 loops each)\n"
     ]
    }
   ],
   "source": [
    "%timeit df.query('A > 50 & B < 50')"
   ]
  },
  {
   "cell_type": "markdown",
   "metadata": {},
   "source": [
    "Sin que esto sea en modo alguna concluyente. da la sensación de que `query()` añade un cierto overhead al filtrado y aumentan los tiempos de cómputo."
   ]
  },
  {
   "cell_type": "markdown",
   "metadata": {},
   "source": [
    "### **Modificación de un DataFrame**"
   ]
  },
  {
   "cell_type": "markdown",
   "metadata": {},
   "source": [
    "**Modificando Valores Existentes**"
   ]
  },
  {
   "cell_type": "markdown",
   "metadata": {},
   "source": [
    "Partiendo del acceso a los datos que ya hemos visto, podemos asignar valores sin mayor dificultad.\n",
    "\n",
    "Pero antes de modificar el DataFrame original, vamos a hacer una copia del mismo:"
   ]
  },
  {
   "cell_type": "code",
   "execution_count": 613,
   "metadata": {},
   "outputs": [],
   "source": [
    "df_mod = df.copy()"
   ]
  },
  {
   "cell_type": "code",
   "execution_count": 614,
   "metadata": {},
   "outputs": [
    {
     "data": {
      "text/plain": [
       "True"
      ]
     },
     "execution_count": 614,
     "metadata": {},
     "output_type": "execute_result"
    }
   ],
   "source": [
    "df_mod.equals(df) # comprueba que todos los valores del DataFrame son iguales"
   ]
  },
  {
   "cell_type": "markdown",
   "metadata": {},
   "source": [
    "Supongamos que hemos cometido un **error en el número de empleados/as de Apple** y queremos corregirlo:"
   ]
  },
  {
   "cell_type": "code",
   "execution_count": 615,
   "metadata": {},
   "outputs": [
    {
     "data": {
      "text/html": [
       "<div>\n",
       "<style scoped>\n",
       "    .dataframe tbody tr th:only-of-type {\n",
       "        vertical-align: middle;\n",
       "    }\n",
       "\n",
       "    .dataframe tbody tr th {\n",
       "        vertical-align: top;\n",
       "    }\n",
       "\n",
       "    .dataframe thead th {\n",
       "        text-align: right;\n",
       "    }\n",
       "</style>\n",
       "<table border=\"1\" class=\"dataframe\">\n",
       "  <thead>\n",
       "    <tr style=\"text-align: right;\">\n",
       "      <th></th>\n",
       "      <th>A</th>\n",
       "      <th>B</th>\n",
       "      <th>C</th>\n",
       "    </tr>\n",
       "  </thead>\n",
       "  <tbody>\n",
       "    <tr>\n",
       "      <th>0</th>\n",
       "      <td>46</td>\n",
       "      <td>72</td>\n",
       "      <td>63</td>\n",
       "    </tr>\n",
       "  </tbody>\n",
       "</table>\n",
       "</div>"
      ],
      "text/plain": [
       "    A   B   C\n",
       "0  46  72  63"
      ]
     },
     "execution_count": 615,
     "metadata": {},
     "output_type": "execute_result"
    }
   ],
   "source": [
    "df_mod.head(1)"
   ]
  },
  {
   "cell_type": "code",
   "execution_count": 616,
   "metadata": {},
   "outputs": [],
   "source": [
    "df_mod.loc['Apple', 'Employees'] = 137000"
   ]
  },
  {
   "cell_type": "code",
   "execution_count": 617,
   "metadata": {},
   "outputs": [
    {
     "data": {
      "text/html": [
       "<div>\n",
       "<style scoped>\n",
       "    .dataframe tbody tr th:only-of-type {\n",
       "        vertical-align: middle;\n",
       "    }\n",
       "\n",
       "    .dataframe tbody tr th {\n",
       "        vertical-align: top;\n",
       "    }\n",
       "\n",
       "    .dataframe thead th {\n",
       "        text-align: right;\n",
       "    }\n",
       "</style>\n",
       "<table border=\"1\" class=\"dataframe\">\n",
       "  <thead>\n",
       "    <tr style=\"text-align: right;\">\n",
       "      <th></th>\n",
       "      <th>A</th>\n",
       "      <th>B</th>\n",
       "      <th>C</th>\n",
       "      <th>Employees</th>\n",
       "    </tr>\n",
       "  </thead>\n",
       "  <tbody>\n",
       "    <tr>\n",
       "      <th>0</th>\n",
       "      <td>46.0</td>\n",
       "      <td>72.0</td>\n",
       "      <td>63.0</td>\n",
       "      <td>NaN</td>\n",
       "    </tr>\n",
       "  </tbody>\n",
       "</table>\n",
       "</div>"
      ],
      "text/plain": [
       "      A     B     C  Employees\n",
       "0  46.0  72.0  63.0        NaN"
      ]
     },
     "execution_count": 617,
     "metadata": {},
     "output_type": "execute_result"
    }
   ],
   "source": [
    "df_mod.head(1)"
   ]
  },
  {
   "cell_type": "markdown",
   "metadata": {},
   "source": [
    "Supongamos que no se había contemplado una **subida del 20% en los ingresos** y queremos reflejar:"
   ]
  },
  {
   "cell_type": "code",
   "execution_count": 618,
   "metadata": {},
   "outputs": [
    {
     "data": {
      "text/html": [
       "<div>\n",
       "<style scoped>\n",
       "    .dataframe tbody tr th:only-of-type {\n",
       "        vertical-align: middle;\n",
       "    }\n",
       "\n",
       "    .dataframe tbody tr th {\n",
       "        vertical-align: top;\n",
       "    }\n",
       "\n",
       "    .dataframe thead th {\n",
       "        text-align: right;\n",
       "    }\n",
       "</style>\n",
       "<table border=\"1\" class=\"dataframe\">\n",
       "  <thead>\n",
       "    <tr style=\"text-align: right;\">\n",
       "      <th></th>\n",
       "      <th>Revenue</th>\n",
       "      <th>Employees</th>\n",
       "      <th>City</th>\n",
       "      <th>Country</th>\n",
       "    </tr>\n",
       "    <tr>\n",
       "      <th>Company</th>\n",
       "      <th></th>\n",
       "      <th></th>\n",
       "      <th></th>\n",
       "      <th></th>\n",
       "    </tr>\n",
       "  </thead>\n",
       "  <tbody>\n",
       "    <tr>\n",
       "      <th>Apple</th>\n",
       "      <td>274515</td>\n",
       "      <td>147000</td>\n",
       "      <td>California</td>\n",
       "      <td>United States</td>\n",
       "    </tr>\n",
       "    <tr>\n",
       "      <th>Samsung Electronics</th>\n",
       "      <td>200734</td>\n",
       "      <td>267937</td>\n",
       "      <td>Suwon</td>\n",
       "      <td>South Korea</td>\n",
       "    </tr>\n",
       "    <tr>\n",
       "      <th>Alphabet</th>\n",
       "      <td>182527</td>\n",
       "      <td>135301</td>\n",
       "      <td>California</td>\n",
       "      <td>United States</td>\n",
       "    </tr>\n",
       "    <tr>\n",
       "      <th>Foxconn</th>\n",
       "      <td>181945</td>\n",
       "      <td>878429</td>\n",
       "      <td>New Taipei City</td>\n",
       "      <td>Taiwan</td>\n",
       "    </tr>\n",
       "    <tr>\n",
       "      <th>Microsoft</th>\n",
       "      <td>143015</td>\n",
       "      <td>163000</td>\n",
       "      <td>Washington</td>\n",
       "      <td>United States</td>\n",
       "    </tr>\n",
       "    <tr>\n",
       "      <th>Huawei</th>\n",
       "      <td>129184</td>\n",
       "      <td>197000</td>\n",
       "      <td>Shenzhen</td>\n",
       "      <td>China</td>\n",
       "    </tr>\n",
       "    <tr>\n",
       "      <th>Dell Technologies</th>\n",
       "      <td>92224</td>\n",
       "      <td>158000</td>\n",
       "      <td>Texas</td>\n",
       "      <td>United States</td>\n",
       "    </tr>\n",
       "    <tr>\n",
       "      <th>Facebook</th>\n",
       "      <td>85965</td>\n",
       "      <td>58604</td>\n",
       "      <td>California</td>\n",
       "      <td>United States</td>\n",
       "    </tr>\n",
       "    <tr>\n",
       "      <th>Sony</th>\n",
       "      <td>84893</td>\n",
       "      <td>109700</td>\n",
       "      <td>Tokyo</td>\n",
       "      <td>Japan</td>\n",
       "    </tr>\n",
       "    <tr>\n",
       "      <th>Hitachi</th>\n",
       "      <td>82345</td>\n",
       "      <td>350864</td>\n",
       "      <td>Tokyo</td>\n",
       "      <td>Japan</td>\n",
       "    </tr>\n",
       "    <tr>\n",
       "      <th>Intel</th>\n",
       "      <td>77867</td>\n",
       "      <td>110600</td>\n",
       "      <td>California</td>\n",
       "      <td>United States</td>\n",
       "    </tr>\n",
       "    <tr>\n",
       "      <th>IBM</th>\n",
       "      <td>73620</td>\n",
       "      <td>364800</td>\n",
       "      <td>New York</td>\n",
       "      <td>United States</td>\n",
       "    </tr>\n",
       "    <tr>\n",
       "      <th>Tencent</th>\n",
       "      <td>69864</td>\n",
       "      <td>85858</td>\n",
       "      <td>Shenzhen</td>\n",
       "      <td>China</td>\n",
       "    </tr>\n",
       "    <tr>\n",
       "      <th>Panasonic</th>\n",
       "      <td>63191</td>\n",
       "      <td>243540</td>\n",
       "      <td>Osaka</td>\n",
       "      <td>Japan</td>\n",
       "    </tr>\n",
       "    <tr>\n",
       "      <th>Lenovo</th>\n",
       "      <td>60742</td>\n",
       "      <td>71500</td>\n",
       "      <td>Hong Kong</td>\n",
       "      <td>China</td>\n",
       "    </tr>\n",
       "    <tr>\n",
       "      <th>HP Inc.</th>\n",
       "      <td>56639</td>\n",
       "      <td>53000</td>\n",
       "      <td>California</td>\n",
       "      <td>United States</td>\n",
       "    </tr>\n",
       "    <tr>\n",
       "      <th>LG Electronics</th>\n",
       "      <td>53625</td>\n",
       "      <td>75000</td>\n",
       "      <td>Seoul</td>\n",
       "      <td>South Korea</td>\n",
       "    </tr>\n",
       "  </tbody>\n",
       "</table>\n",
       "</div>"
      ],
      "text/plain": [
       "                     Revenue  Employees             City        Country\n",
       "Company                                                                \n",
       "Apple                 274515     147000       California  United States\n",
       "Samsung Electronics   200734     267937            Suwon    South Korea\n",
       "Alphabet              182527     135301       California  United States\n",
       "Foxconn               181945     878429  New Taipei City         Taiwan\n",
       "Microsoft             143015     163000       Washington  United States\n",
       "Huawei                129184     197000         Shenzhen          China\n",
       "Dell Technologies      92224     158000            Texas  United States\n",
       "Facebook               85965      58604       California  United States\n",
       "Sony                   84893     109700            Tokyo          Japan\n",
       "Hitachi                82345     350864            Tokyo          Japan\n",
       "Intel                  77867     110600       California  United States\n",
       "IBM                    73620     364800         New York  United States\n",
       "Tencent                69864      85858         Shenzhen          China\n",
       "Panasonic              63191     243540            Osaka          Japan\n",
       "Lenovo                 60742      71500        Hong Kong          China\n",
       "HP Inc.                56639      53000       California  United States\n",
       "LG Electronics         53625      75000            Seoul    South Korea"
      ]
     },
     "execution_count": 618,
     "metadata": {},
     "output_type": "execute_result"
    }
   ],
   "source": [
    "df_mod = pd.read_csv('../../Data/tech.csv', delimiter='\\t', index_col='Company')\n",
    "df_mod"
   ]
  },
  {
   "cell_type": "code",
   "execution_count": 619,
   "metadata": {},
   "outputs": [],
   "source": [
    "df_mod['Revenue'] *= 1.20"
   ]
  },
  {
   "cell_type": "code",
   "execution_count": 620,
   "metadata": {},
   "outputs": [
    {
     "data": {
      "text/plain": [
       "Company\n",
       "Apple                  329418.0\n",
       "Samsung Electronics    240880.8\n",
       "Alphabet               219032.4\n",
       "Foxconn                218334.0\n",
       "Microsoft              171618.0\n",
       "Name: Revenue, dtype: float64"
      ]
     },
     "execution_count": 620,
     "metadata": {},
     "output_type": "execute_result"
    }
   ],
   "source": [
    "df_mod['Revenue'].head()"
   ]
  },
  {
   "cell_type": "markdown",
   "metadata": {},
   "source": [
    "Supongamos que todas las empresas tecnológicas **mueven su sede a Vigo (España)** y queremos reflejarlo:"
   ]
  },
  {
   "cell_type": "code",
   "execution_count": 621,
   "metadata": {},
   "outputs": [
    {
     "data": {
      "text/html": [
       "<div>\n",
       "<style scoped>\n",
       "    .dataframe tbody tr th:only-of-type {\n",
       "        vertical-align: middle;\n",
       "    }\n",
       "\n",
       "    .dataframe tbody tr th {\n",
       "        vertical-align: top;\n",
       "    }\n",
       "\n",
       "    .dataframe thead th {\n",
       "        text-align: right;\n",
       "    }\n",
       "</style>\n",
       "<table border=\"1\" class=\"dataframe\">\n",
       "  <thead>\n",
       "    <tr style=\"text-align: right;\">\n",
       "      <th></th>\n",
       "      <th>Revenue</th>\n",
       "      <th>Employees</th>\n",
       "      <th>City</th>\n",
       "      <th>Country</th>\n",
       "    </tr>\n",
       "    <tr>\n",
       "      <th>Company</th>\n",
       "      <th></th>\n",
       "      <th></th>\n",
       "      <th></th>\n",
       "      <th></th>\n",
       "    </tr>\n",
       "  </thead>\n",
       "  <tbody>\n",
       "    <tr>\n",
       "      <th>Apple</th>\n",
       "      <td>329418.0</td>\n",
       "      <td>147000</td>\n",
       "      <td>Vigo</td>\n",
       "      <td>Spain</td>\n",
       "    </tr>\n",
       "    <tr>\n",
       "      <th>Samsung Electronics</th>\n",
       "      <td>240880.8</td>\n",
       "      <td>267937</td>\n",
       "      <td>Vigo</td>\n",
       "      <td>Spain</td>\n",
       "    </tr>\n",
       "    <tr>\n",
       "      <th>Alphabet</th>\n",
       "      <td>219032.4</td>\n",
       "      <td>135301</td>\n",
       "      <td>Vigo</td>\n",
       "      <td>Spain</td>\n",
       "    </tr>\n",
       "    <tr>\n",
       "      <th>Foxconn</th>\n",
       "      <td>218334.0</td>\n",
       "      <td>878429</td>\n",
       "      <td>Vigo</td>\n",
       "      <td>Spain</td>\n",
       "    </tr>\n",
       "    <tr>\n",
       "      <th>Microsoft</th>\n",
       "      <td>171618.0</td>\n",
       "      <td>163000</td>\n",
       "      <td>Vigo</td>\n",
       "      <td>Spain</td>\n",
       "    </tr>\n",
       "  </tbody>\n",
       "</table>\n",
       "</div>"
      ],
      "text/plain": [
       "                      Revenue  Employees  City Country\n",
       "Company                                               \n",
       "Apple                329418.0     147000  Vigo   Spain\n",
       "Samsung Electronics  240880.8     267937  Vigo   Spain\n",
       "Alphabet             219032.4     135301  Vigo   Spain\n",
       "Foxconn              218334.0     878429  Vigo   Spain\n",
       "Microsoft            171618.0     163000  Vigo   Spain"
      ]
     },
     "execution_count": 621,
     "metadata": {},
     "output_type": "execute_result"
    }
   ],
   "source": [
    "df_mod['City'] = 'Vigo'\n",
    "df_mod['Country'] = 'Spain'\n",
    "df_mod.head()"
   ]
  },
  {
   "cell_type": "markdown",
   "metadata": {},
   "source": [
    "> **Nota**\n",
    ">\n",
    "> En este último ejemplo se produce un broadcast o difusión del valor escalar a todos los registros del dataset."
   ]
  },
  {
   "cell_type": "markdown",
   "metadata": {},
   "source": [
    "**Reemplazo de Valores**"
   ]
  },
  {
   "cell_type": "markdown",
   "metadata": {},
   "source": [
    "Hay una función muy importante en lo relativo a la modificación de valores. Se trata de `replace()` y admite una amplia variedad de parámetros. Se puede usar tanto para tipos num+ericos como textuales.\n",
    "\n",
    "Uno de los usos más habituales es la recodificación. Supongamos que queremos recodificar los países en ISO3166 Alpha-3 para el DataFrame de empress tecnológicas:"
   ]
  },
  {
   "cell_type": "code",
   "execution_count": 622,
   "metadata": {},
   "outputs": [],
   "source": [
    "iso3166 = {\n",
    "    'United States': 'USA',\n",
    "    'South Korea': 'KOR',\n",
    "    'Taiwan': 'TWN',\n",
    "    'China': 'CHN',\n",
    "    'Japan': 'JPN'\n",
    "}"
   ]
  },
  {
   "cell_type": "code",
   "execution_count": 623,
   "metadata": {},
   "outputs": [
    {
     "data": {
      "text/plain": [
       "Company\n",
       "Apple                  Spain\n",
       "Samsung Electronics    Spain\n",
       "Alphabet               Spain\n",
       "Foxconn                Spain\n",
       "Microsoft              Spain\n",
       "Huawei                 Spain\n",
       "Dell Technologies      Spain\n",
       "Facebook               Spain\n",
       "Sony                   Spain\n",
       "Hitachi                Spain\n",
       "Intel                  Spain\n",
       "IBM                    Spain\n",
       "Tencent                Spain\n",
       "Panasonic              Spain\n",
       "Lenovo                 Spain\n",
       "HP Inc.                Spain\n",
       "LG Electronics         Spain\n",
       "Name: Country, dtype: object"
      ]
     },
     "execution_count": 623,
     "metadata": {},
     "output_type": "execute_result"
    }
   ],
   "source": [
    "df_mod['Country'].replace(iso3166)"
   ]
  },
  {
   "cell_type": "markdown",
   "metadata": {},
   "source": [
    "> **Ejercicio**"
   ]
  },
  {
   "cell_type": "markdown",
   "metadata": {},
   "source": [
    "Recodifique la columna Province del «dataset» democan de tal manera que aparezcan las provincias con el texto completo: Santa Cruz de Tenerife y Las Palmas de Gran Canaria."
   ]
  },
  {
   "cell_type": "code",
   "execution_count": 624,
   "metadata": {},
   "outputs": [
    {
     "name": "stdout",
     "output_type": "stream",
     "text": [
      "               Population  Area (km^2)                    Province\n",
      "Island                                                            \n",
      "Gran Canaria       855521      1560.10  Las Palmas de Gran Canaria\n",
      "Tenerife           928604      2034.38      Santa Cruz de Tenerife\n",
      "La Palma            83458       708.32      Santa Cruz de Tenerife\n",
      "Lanzarote          155812       845.94  Las Palmas de Gran Canaria\n",
      "La Gomera           21678       369.76      Santa Cruz de Tenerife\n",
      "El Hierro           11147       278.71      Santa Cruz de Tenerife\n",
      "Fuerteventura      119732      1659.00  Las Palmas de Gran Canaria\n"
     ]
    }
   ],
   "source": [
    "# Recodificar la columna \"Province\"\n",
    "democan['Province'] = democan['Province'].replace({'SCTF': 'Santa Cruz de Tenerife', 'LPGC': 'Las Palmas de Gran Canaria'})\n",
    "\n",
    "# Imprimir el DataFrame actualizado\n",
    "print(democan)"
   ]
  },
  {
   "cell_type": "markdown",
   "metadata": {},
   "source": [
    "**Insertando y Borrando Filas**"
   ]
  },
  {
   "cell_type": "markdown",
   "metadata": {},
   "source": [
    "Podemos insertar datos en un DataFrame como filas o como columnas.\n",
    "\n",
    "Supongamos que queremos incluir una nueva empresa Cisco:"
   ]
  },
  {
   "cell_type": "code",
   "execution_count": 625,
   "metadata": {},
   "outputs": [
    {
     "data": {
      "text/plain": [
       "Revenue              51904\n",
       "Employees            75900\n",
       "City            California\n",
       "Country      United States\n",
       "Name: Cisco, dtype: object"
      ]
     },
     "execution_count": 625,
     "metadata": {},
     "output_type": "execute_result"
    }
   ],
   "source": [
    "cisco = pd.Series(data=[51_904, 75_900, 'California', 'United States'],\n",
    "                  index=df_mod.columns, name='Cisco')\n",
    "cisco"
   ]
  },
  {
   "cell_type": "code",
   "execution_count": 626,
   "metadata": {},
   "outputs": [],
   "source": [
    "df_mod = pd.concat([df_mod, cisco.to_frame().T], ignore_index=True)"
   ]
  },
  {
   "cell_type": "markdown",
   "metadata": {},
   "source": [
    "### **UNIENDO DATAFRAMES**"
   ]
  },
  {
   "cell_type": "markdown",
   "metadata": {},
   "source": [
    "En esta sección veremos dos técnicas: Una de ellas «fusiona» dos DataFrames mientras que la otra los «concatena»."
   ]
  },
  {
   "cell_type": "markdown",
   "metadata": {},
   "source": [
    "**FUSIÓN DE DATAFRAMES**"
   ]
  },
  {
   "cell_type": "markdown",
   "metadata": {},
   "source": [
    "Pandas proporciona la función `merge()` para mezclar dos DataFrames. El comportamiento de la función viene definido, entre otros, por el parámetro how que establece el método de «fusión»:"
   ]
  },
  {
   "cell_type": "markdown",
   "metadata": {},
   "source": [
    "![DataFrame](../../img/1.png \"DataFrame\")\n",
    "![DataFrame](../../img/2.png \"DataFrame\")"
   ]
  },
  {
   "cell_type": "markdown",
   "metadata": {},
   "source": [
    "En principio, si no establecemos ningún argumento adicional, «merge» tratará de vincular aquellas filas con columnas homónimas en ambos conjuntos de datos. Si queremos especificar que la mezcla se dirija por determinadas columnas, tenemos a disposición los parámetros on, `left_on` o `right_on`."
   ]
  },
  {
   "cell_type": "markdown",
   "metadata": {},
   "source": [
    "**CONCATENACIÓN DE DATAFRAMES**"
   ]
  },
  {
   "cell_type": "markdown",
   "metadata": {},
   "source": [
    "Para concatenar dos DataFrames podemos utilizar la función `concat()` que permite añadir las filas de un DataFrame a otro, o bien añadir las columnas de un DataFrame a otro."
   ]
  },
  {
   "cell_type": "markdown",
   "metadata": {},
   "source": [
    "![DataFrame](../../img/3.png \"DataFrame\")"
   ]
  },
  {
   "cell_type": "markdown",
   "metadata": {},
   "source": [
    "Si queremos «reindexar» el DataFrame concatenado, la función `concat()` admite un parámetro `ignore_index` que podemos poner a True. De esta forma tendremos un «dataset» resultante con índice desde 0 hasta N."
   ]
  },
  {
   "cell_type": "markdown",
   "metadata": {},
   "source": [
    "| **Inicio** | **atrás 1** | **Siguiente 3** |\n",
    "|----------- |-------------- |---------------|\n",
    "| [🏠](../../README.md) | [⏪](./1_Numpy.ipynb)| [⏩](./3_Matplotlib.ipynb)|"
   ]
  }
 ],
 "metadata": {
  "kernelspec": {
   "display_name": "base",
   "language": "python",
   "name": "python3"
  },
  "language_info": {
   "codemirror_mode": {
    "name": "ipython",
    "version": 3
   },
   "file_extension": ".py",
   "mimetype": "text/x-python",
   "name": "python",
   "nbconvert_exporter": "python",
   "pygments_lexer": "ipython3",
   "version": "3.9.12"
  }
 },
 "nbformat": 4,
 "nbformat_minor": 2
}
