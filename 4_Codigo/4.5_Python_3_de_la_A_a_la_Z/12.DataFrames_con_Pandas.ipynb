{
 "cells": [
  {
   "attachments": {},
   "cell_type": "markdown",
   "metadata": {},
   "source": [
    "| **Inicio** | **atrás 11** | **Siguiente 13** |\n",
    "|----------- |-------------- |---------------|\n",
    "| [🏠](../../README.md) | [⏪](./11.Funciones_Lambda.ipynb)| [⏩](./13.Programacion_Orientada_Objetos.ipynb)|"
   ]
  },
  {
   "attachments": {},
   "cell_type": "markdown",
   "metadata": {},
   "source": [
    "# **12. DataFrames con el modulo Pandas**"
   ]
  },
  {
   "attachments": {},
   "cell_type": "markdown",
   "metadata": {},
   "source": [
    "## **Introducción a los dataframes**"
   ]
  },
  {
   "attachments": {},
   "cell_type": "markdown",
   "metadata": {},
   "source": [
    "En Python, un dataframe es una estructura de datos bidimensional que se utiliza para almacenar y manipular grandes cantidades de datos en filas y columnas. Los dataframes son una parte esencial de la biblioteca `Pandas`, que es una biblioteca de código abierto muy popular para el análisis y la manipulación de datos.\n",
    "\n",
    "Aquí hay un ejemplo simple de cómo se puede crear un dataframe en Pandas utilizando una lista de diccionarios:"
   ]
  },
  {
   "cell_type": "code",
   "execution_count": 114,
   "metadata": {},
   "outputs": [
    {
     "name": "stdout",
     "output_type": "stream",
     "text": [
      "  nombre  edad     ciudad\n",
      "0   Juan    25     Madrid\n",
      "1  Pedro    32  Barcelona\n",
      "2    Ana    18   Valencia\n"
     ]
    }
   ],
   "source": [
    "import pandas as pd\n",
    "\n",
    "datos = [\n",
    "    {'nombre': 'Juan', 'edad': 25, 'ciudad': 'Madrid'},\n",
    "    {'nombre': 'Pedro', 'edad': 32, 'ciudad': 'Barcelona'},\n",
    "    {'nombre': 'Ana', 'edad': 18, 'ciudad': 'Valencia'}\n",
    "]\n",
    "\n",
    "df = pd.DataFrame(datos)\n",
    "print(df)"
   ]
  },
  {
   "attachments": {},
   "cell_type": "markdown",
   "metadata": {},
   "source": [
    "En este ejemplo, creamos una lista llamada `\"datos\"` que contiene tres diccionarios, cada uno con información sobre una persona. Luego, creamos un dataframe utilizando la función `pd.DataFrame()` y pasando la lista de diccionarios como argumento."
   ]
  },
  {
   "attachments": {},
   "cell_type": "markdown",
   "metadata": {},
   "source": [
    "Como puede ver, el dataframe tiene tres filas, una para cada persona en la lista de datos, y tres columnas que representan el `nombre`, la `edad` y la `ciudad` de cada persona.\n",
    "\n",
    "También podemos agregar columnas adicionales a nuestro dataframe. Aquí hay un ejemplo de cómo hacerlo:"
   ]
  },
  {
   "cell_type": "code",
   "execution_count": 115,
   "metadata": {},
   "outputs": [
    {
     "name": "stdout",
     "output_type": "stream",
     "text": [
      "  nombre  edad     ciudad      trabajo\n",
      "0   Juan    25     Madrid  programador\n",
      "1  Pedro    32  Barcelona    diseñador\n",
      "2    Ana    18   Valencia   estudiante\n"
     ]
    }
   ],
   "source": [
    "import pandas as pd\n",
    "\n",
    "datos = [\n",
    "    {'nombre': 'Juan', 'edad': 25, 'ciudad': 'Madrid'},\n",
    "    {'nombre': 'Pedro', 'edad': 32, 'ciudad': 'Barcelona'},\n",
    "    {'nombre': 'Ana', 'edad': 18, 'ciudad': 'Valencia'}\n",
    "]\n",
    "\n",
    "df = pd.DataFrame(datos)\n",
    "df['trabajo'] = ['programador', 'diseñador', 'estudiante']\n",
    "print(df)"
   ]
  },
  {
   "attachments": {},
   "cell_type": "markdown",
   "metadata": {},
   "source": [
    "En este ejemplo, agregamos una nueva columna llamada `\"trabajo\"` al dataframe y le asignamos valores para cada persona en la lista de datos utilizando una lista de Python."
   ]
  },
  {
   "attachments": {},
   "cell_type": "markdown",
   "metadata": {},
   "source": [
    "También podemos filtrar y seleccionar datos en un dataframe utilizando diferentes métodos en Pandas. Aquí hay un ejemplo de cómo seleccionar solo las filas de personas mayores de 20 años:"
   ]
  },
  {
   "cell_type": "code",
   "execution_count": 116,
   "metadata": {},
   "outputs": [
    {
     "name": "stdout",
     "output_type": "stream",
     "text": [
      "  nombre  edad     ciudad\n",
      "0   Juan    25     Madrid\n",
      "1  Pedro    32  Barcelona\n"
     ]
    }
   ],
   "source": [
    "import pandas as pd\n",
    "\n",
    "datos = [\n",
    "    {'nombre': 'Juan', 'edad': 25, 'ciudad': 'Madrid'},\n",
    "    {'nombre': 'Pedro', 'edad': 32, 'ciudad': 'Barcelona'},\n",
    "    {'nombre': 'Ana', 'edad': 18, 'ciudad': 'Valencia'}\n",
    "]\n",
    "\n",
    "df = pd.DataFrame(datos)\n",
    "mayores_de_20 = df[df['edad'] > 20]\n",
    "print(mayores_de_20)"
   ]
  },
  {
   "attachments": {},
   "cell_type": "markdown",
   "metadata": {},
   "source": [
    "En este ejemplo, utilizamos la sintaxis de `\"máscara booleana\"` para seleccionar solo las filas de personas mayores de 20 años."
   ]
  },
  {
   "attachments": {},
   "cell_type": "markdown",
   "metadata": {},
   "source": [
    "## **Dataframe a partir de un diccionario**"
   ]
  },
  {
   "attachments": {},
   "cell_type": "markdown",
   "metadata": {},
   "source": [
    "En Python, un dataframe es una estructura de datos bidimensional que se utiliza para almacenar y manipular grandes cantidades de datos en filas y columnas. `Pandas` es una biblioteca popular para el análisis y la manipulación de datos en Python, y nos permite crear dataframes a partir de diferentes tipos de datos, incluyendo diccionarios.\n",
    "\n",
    "Crear un dataframe a partir de un diccionario es una forma común de crear un dataframe en `Pandas`. Aquí hay un ejemplo de cómo se puede crear un dataframe a partir de un diccionario en Python:"
   ]
  },
  {
   "cell_type": "code",
   "execution_count": 117,
   "metadata": {},
   "outputs": [
    {
     "name": "stdout",
     "output_type": "stream",
     "text": [
      "  nombre  edad     ciudad\n",
      "0   Juan    25     Madrid\n",
      "1  Pedro    32  Barcelona\n",
      "2    Ana    18   Valencia\n"
     ]
    }
   ],
   "source": [
    "import pandas as pd\n",
    "\n",
    "datos = {'nombre': ['Juan', 'Pedro', 'Ana'],\n",
    "         'edad': [25, 32, 18],\n",
    "         'ciudad': ['Madrid', 'Barcelona', 'Valencia']}\n",
    "\n",
    "df = pd.DataFrame(datos)\n",
    "print(df)"
   ]
  },
  {
   "attachments": {},
   "cell_type": "markdown",
   "metadata": {},
   "source": [
    "En este ejemplo, creamos un diccionario llamado `\"datos\"` que contiene tres listas de valores, cada una para una columna del dataframe que queremos crear. Luego, creamos el dataframe utilizando la función `pd.DataFrame()` y pasando el diccionario como argumento."
   ]
  },
  {
   "attachments": {},
   "cell_type": "markdown",
   "metadata": {},
   "source": [
    "Como puede ver, el dataframe tiene tres filas, una para cada elemento en las listas del diccionario, y tres columnas que representan el `nombre`, la `edad` y la `ciudad` de cada persona.\n",
    "\n",
    "También podemos agregar columnas adicionales a nuestro dataframe a partir de un diccionario. Aquí hay un ejemplo de cómo hacerlo:"
   ]
  },
  {
   "cell_type": "code",
   "execution_count": 118,
   "metadata": {},
   "outputs": [
    {
     "name": "stdout",
     "output_type": "stream",
     "text": [
      "  nombre  edad     ciudad      trabajo\n",
      "0   Juan    25     Madrid  programador\n",
      "1  Pedro    32  Barcelona  programador\n",
      "2    Ana    18   Valencia   estudiante\n"
     ]
    }
   ],
   "source": [
    "import pandas as pd\n",
    "\n",
    "datos = {'nombre': ['Juan', 'Pedro', 'Ana'],\n",
    "         'edad': [25, 32, 18],\n",
    "         'ciudad': ['Madrid', 'Barcelona', 'Valencia']}\n",
    "\n",
    "df = pd.DataFrame(datos)\n",
    "trabajos = {'programador': ['Juan', 'Pedro'],\n",
    "            'diseñador': ['Pedro'],\n",
    "            'estudiante': ['Ana']}\n",
    "\n",
    "trabajo_list = []\n",
    "for i in range(len(df)):\n",
    "    nombre = df.iloc[i]['nombre']\n",
    "    for k, v in trabajos.items():\n",
    "        if nombre in v:\n",
    "            trabajo_list.append(k)\n",
    "            break\n",
    "    else:\n",
    "        trabajo_list.append('')\n",
    "\n",
    "df['trabajo'] = trabajo_list\n",
    "print(df)"
   ]
  },
  {
   "attachments": {},
   "cell_type": "markdown",
   "metadata": {},
   "source": [
    "En este código, creamos una nueva lista llamada `\"trabajo_list\"` que contendrá los valores correspondientes a cada fila del dataframe. Luego, utilizamos un bucle `for` para recorrer cada fila del dataframe y buscar el trabajo correspondiente en el diccionario `\"trabajos\"`. Si encontramos el trabajo, agregamos su clave a la lista. Si no encontramos el trabajo, agregamos una cadena vacía a la lista. Finalmente, asignamos la lista a la columna `\"trabajo\"` del dataframe y lo imprimimos."
   ]
  },
  {
   "attachments": {},
   "cell_type": "markdown",
   "metadata": {},
   "source": [
    "En resumen, los dataframes en Python son una herramienta útil para manipular y analizar datos. Los podemos crear a partir de diferentes tipos de datos, incluyendo diccionarios, y podemos agregar columnas adicionales y seleccionar y filtrar datos utilizando diferentes métodos en Pandas."
   ]
  },
  {
   "attachments": {},
   "cell_type": "markdown",
   "metadata": {},
   "source": [
    "## **Dataframe a partir de lista de listas**"
   ]
  },
  {
   "attachments": {},
   "cell_type": "markdown",
   "metadata": {},
   "source": [
    "Un DataFrame es una estructura de datos en dos dimensiones similar a una tabla de base de datos, donde cada columna puede contener diferentes tipos de datos, como números, strings, fechas, booleanos, etc. Un DataFrame se puede crear a partir de diferentes fuentes de datos, como archivos `CSV`, bases de datos, diccionarios y listas.\n",
    "\n",
    "En el caso de crear un DataFrame a partir de una lista de listas en Python, se debe seguir los siguientes pasos:\n",
    "\n",
    "* **Importar la librería `Pandas`:**\n",
    "\n",
    " Primero, es necesario importar la librería Pandas, que es una de las más usadas para manipulación de datos en Python. Se puede hacer con la siguiente línea de código:"
   ]
  },
  {
   "cell_type": "code",
   "execution_count": 119,
   "metadata": {},
   "outputs": [],
   "source": [
    "import pandas as pd"
   ]
  },
  {
   "attachments": {},
   "cell_type": "markdown",
   "metadata": {},
   "source": [
    "* **Crear la lista de listas:**\n",
    "\n",
    " Se debe crear una lista de listas donde cada lista representa una fila de datos. Cada fila debe tener la misma cantidad de elementos para que se pueda crear un DataFrame correctamente. Por ejemplo:"
   ]
  },
  {
   "cell_type": "code",
   "execution_count": 120,
   "metadata": {},
   "outputs": [],
   "source": [
    "datos = [[1, \"Juan\", 25],\n",
    "         [2, \"Pedro\", 32],\n",
    "         [3, \"Ana\", 18]]"
   ]
  },
  {
   "attachments": {},
   "cell_type": "markdown",
   "metadata": {},
   "source": [
    "* **Crear el DataFrame:**\n",
    "\n",
    " Se debe usar la función `pd.DataFrame()` para crear el DataFrame a partir de la lista de listas. Se puede asignar un nombre a cada columna utilizando el parámetro columns. Por ejemplo:"
   ]
  },
  {
   "cell_type": "code",
   "execution_count": 121,
   "metadata": {},
   "outputs": [
    {
     "name": "stdout",
     "output_type": "stream",
     "text": [
      "   id nombre  edad\n",
      "0   1   Juan    25\n",
      "1   2  Pedro    32\n",
      "2   3    Ana    18\n"
     ]
    }
   ],
   "source": [
    "df = pd.DataFrame(datos, columns=[\"id\", \"nombre\", \"edad\"])\n",
    "print(df)"
   ]
  },
  {
   "attachments": {},
   "cell_type": "markdown",
   "metadata": {},
   "source": [
    "El primer argumento de la función `pd.DataFrame()` es la lista de listas y el segundo argumento, columns, es una lista con los nombres de las columnas.\n",
    "\n",
    "De esta manera, se puede crear un DataFrame a partir de una lista de listas en Python. Una vez creado el DataFrame, se pueden realizar diferentes operaciones, como filtrado, agrupación, cálculo de estadísticas y visualizaciones, entre otros."
   ]
  },
  {
   "attachments": {},
   "cell_type": "markdown",
   "metadata": {},
   "source": [
    "## **Cambiando el nombre de las filas**"
   ]
  },
  {
   "attachments": {},
   "cell_type": "markdown",
   "metadata": {},
   "source": [
    "En Pandas, podemos cambiar el nombre de las filas de un DataFrame utilizando el método `rename()`. Este método nos permite cambiar los nombres de las filas, así como también los nombres de las columnas.\n",
    "\n",
    "Para cambiar el nombre de las filas, necesitamos crear un diccionario que contenga los nombres de las filas actuales como claves y los nombres de las filas que queremos cambiar como valores. Luego, pasamos este diccionario al método `rename()` con el parámetro `index`.\n",
    "\n",
    "Aquí te muestro un ejemplo de cómo cambiar el nombre de las filas de un DataFrame:"
   ]
  },
  {
   "cell_type": "code",
   "execution_count": 122,
   "metadata": {},
   "outputs": [
    {
     "name": "stdout",
     "output_type": "stream",
     "text": [
      "DataFrame original:\n",
      "       a  b  c\n",
      "Fila1  1  4  7\n",
      "Fila2  2  5  8\n",
      "Fila3  3  6  9\n",
      "DataFrame con nombres de filas cambiados:\n",
      "             a  b  c\n",
      "PrimeraFila  1  4  7\n",
      "SegundaFila  2  5  8\n",
      "TerceraFila  3  6  9\n"
     ]
    }
   ],
   "source": [
    "import pandas as pd\n",
    "\n",
    "# Creamos un DataFrame de ejemplo\n",
    "data = {'a': [1, 2, 3], 'b': [4, 5, 6], 'c': [7, 8, 9]}\n",
    "df = pd.DataFrame(data=data, index=['Fila1', 'Fila2', 'Fila3'])\n",
    "\n",
    "# Mostramos el DataFrame original\n",
    "print('DataFrame original:')\n",
    "print(df)\n",
    "\n",
    "# Creamos un diccionario con los nuevos nombres de las filas\n",
    "nuevas_filas = {'Fila1': 'PrimeraFila', 'Fila2': 'SegundaFila', 'Fila3': 'TerceraFila'}\n",
    "\n",
    "# Renombramos las filas\n",
    "df = df.rename(index=nuevas_filas)\n",
    "\n",
    "# Mostramos el DataFrame con los nombres de las filas cambiados\n",
    "print('DataFrame con nombres de filas cambiados:')\n",
    "print(df)"
   ]
  },
  {
   "attachments": {},
   "cell_type": "markdown",
   "metadata": {},
   "source": [
    "En este ejemplo, creamos un DataFrame con tres filas y tres columnas, y le asignamos nombres a las filas utilizando el parámetro `index` del constructor de DataFrame. Luego, creamos un diccionario con los nuevos nombres de las filas que queremos cambiar y utilizamos el método `rename()` para cambiar los nombres de las filas.\n",
    "\n",
    "Como se puede observar, las filas han sido renombradas de acuerdo al diccionario `nuevas_filas` que hemos creado."
   ]
  },
  {
   "attachments": {},
   "cell_type": "markdown",
   "metadata": {},
   "source": [
    "## **Dataframe a partir de lista de diccionarios**"
   ]
  },
  {
   "attachments": {},
   "cell_type": "markdown",
   "metadata": {},
   "source": [
    "Un DataFrame en Pandas es una estructura de datos tabular que consta de filas y columnas, similar a una hoja de cálculo o una base de datos relacional.\n",
    "\n",
    "En Python, se puede crear un DataFrame a partir de una lista de diccionarios utilizando la función `pd.DataFrame()`, donde cada diccionario en la lista representa una fila en el DataFrame y las claves del diccionario representan los nombres de las columnas.\n",
    "\n",
    "Por ejemplo, para crear un DataFrame a partir de una lista de diccionarios con información de personas, podemos hacer lo siguiente:"
   ]
  },
  {
   "cell_type": "code",
   "execution_count": 123,
   "metadata": {},
   "outputs": [
    {
     "name": "stdout",
     "output_type": "stream",
     "text": [
      "  nombre  edad     ciudad\n",
      "0   Juan    25     Madrid\n",
      "1  Pedro    32  Barcelona\n",
      "2    Ana    18   Valencia\n"
     ]
    }
   ],
   "source": [
    "import pandas as pd\n",
    "\n",
    "datos = [    {'nombre': 'Juan', 'edad': 25, 'ciudad': 'Madrid'},\n",
    "         {'nombre': 'Pedro', 'edad': 32, 'ciudad': 'Barcelona'},\n",
    "         {'nombre': 'Ana', 'edad': 18, 'ciudad': 'Valencia'}]\n",
    "\n",
    "df = pd.DataFrame(datos)\n",
    "print(df)"
   ]
  },
  {
   "attachments": {},
   "cell_type": "markdown",
   "metadata": {},
   "source": [
    "En este ejemplo, cada diccionario representa una fila en el DataFrame, con las claves del diccionario que se utilizan como nombres de columnas. Podemos acceder a los valores de las celdas utilizando los métodos `iloc` y `loc`, por ejemplo:"
   ]
  },
  {
   "cell_type": "code",
   "execution_count": 124,
   "metadata": {},
   "outputs": [
    {
     "name": "stdout",
     "output_type": "stream",
     "text": [
      "Pedro\n",
      "18\n"
     ]
    }
   ],
   "source": [
    "# Obtener el valor de la celda en la fila 1, columna 'nombre'\n",
    "print(df.loc[1, 'nombre']) # salida: 'Pedro'\n",
    "\n",
    "# Obtener el valor de la celda en la fila 2, columna 'edad'\n",
    "print(df.iloc[2, 1]) # salida: 18"
   ]
  },
  {
   "attachments": {},
   "cell_type": "markdown",
   "metadata": {},
   "source": [
    "En resumen, un DataFrame se puede crear a partir de una lista de diccionarios en Python utilizando la función `pd.DataFrame()`, donde cada diccionario en la lista representa una fila en el DataFrame y las claves del diccionario representan los nombres de las columnas. Una vez creado el DataFrame, podemos acceder a los valores de las celdas utilizando los métodos `iloc` y `loc`."
   ]
  },
  {
   "attachments": {},
   "cell_type": "markdown",
   "metadata": {},
   "source": [
    "## **Dataframe usando zip()**"
   ]
  },
  {
   "attachments": {},
   "cell_type": "markdown",
   "metadata": {},
   "source": [
    "Un DataFrame es una estructura de datos en forma de tabla bidimensional que se utiliza comúnmente en la manipulación y análisis de datos. En Python, la biblioteca `Pandas` proporciona la clase `DataFrame` para crear y trabajar con estos objetos de tabla.\n",
    "\n",
    "Una forma de crear un `DataFrame` es utilizando la función `zip()`. La función `zip()` toma dos o más objetos iterables y los une emparejando los elementos correspondientes en tuplas. Luego, estas tuplas se pueden convertir en diccionarios y, a su vez, se pueden utilizar para crear un `DataFrame`.\n",
    "\n",
    "Veamos un ejemplo para crear un DataFrame a partir de la función `zip()`:"
   ]
  },
  {
   "cell_type": "code",
   "execution_count": 125,
   "metadata": {},
   "outputs": [
    {
     "name": "stdout",
     "output_type": "stream",
     "text": [
      "  Nombre  Edad     Ciudad\n",
      "0   Juan    25     Madrid\n",
      "1  Pedro    32  Barcelona\n",
      "2    Ana    18   Valencia\n"
     ]
    }
   ],
   "source": [
    "import pandas as pd\n",
    "\n",
    "nombres = ['Juan', 'Pedro', 'Ana']\n",
    "edades = [25, 32, 18]\n",
    "ciudades = ['Madrid', 'Barcelona', 'Valencia']\n",
    "\n",
    "datos = zip(nombres, edades, ciudades)\n",
    "\n",
    "df = pd.DataFrame(data=datos, columns=['Nombre', 'Edad', 'Ciudad'])\n",
    "\n",
    "print(df)"
   ]
  },
  {
   "attachments": {},
   "cell_type": "markdown",
   "metadata": {},
   "source": [
    "En este ejemplo, primero definimos tres listas separadas para los nombres, las edades y las ciudades de tres personas diferentes. Luego utilizamos la función `zip()` para emparejar los elementos correspondientes de estas listas en tuplas, y creamos una variable llamada datos que contiene estas tuplas.\n",
    "\n",
    "A continuación, utilizamos la función `pd.DataFrame()` de la biblioteca `Pandas` para crear un DataFrame a partir de la variable datos. La función toma dos **argumentos:** data y columns.\n",
    "\n",
    "El argumento data especifica los datos que se utilizarán para crear el DataFrame, en este caso la variable datos que contiene las tuplas emparejadas. El argumento columns especifica los nombres de las columnas que se utilizarán en el DataFrame.\n",
    "\n",
    "Finalmente, imprimimos el DataFrame utilizando la función `print()`. Como resultado, se imprimirá la tabla con los datos de las tres personas en tres filas y las columnas `Nombre`, `Edad` y `Ciudad`.\n",
    "\n",
    "Como se puede ver, la función `zip()` permite unir fácilmente múltiples iterables en tuplas, lo que facilita la creación de un DataFrame en Python utilizando la biblioteca `Pandas`."
   ]
  },
  {
   "attachments": {},
   "cell_type": "markdown",
   "metadata": {},
   "source": [
    "## **El método .from_dict()**"
   ]
  },
  {
   "attachments": {},
   "cell_type": "markdown",
   "metadata": {},
   "source": [
    "El método `.from_dict()` es una función del paquete `Pandas` en Python que se utiliza para crear un objeto DataFrame a partir de un `diccionario`. El diccionario puede contener `listas`, `tuplas` o valores escalares. Este método es especialmente útil cuando se trabaja con datos que se han obtenido de un archivo `JSON` o de una `API`.\n",
    "\n",
    "La sintaxis básica del método `.from_dict()` es la siguiente:"
   ]
  },
  {
   "cell_type": "code",
   "execution_count": 126,
   "metadata": {},
   "outputs": [
    {
     "data": {
      "text/html": [
       "<div>\n",
       "<style scoped>\n",
       "    .dataframe tbody tr th:only-of-type {\n",
       "        vertical-align: middle;\n",
       "    }\n",
       "\n",
       "    .dataframe tbody tr th {\n",
       "        vertical-align: top;\n",
       "    }\n",
       "\n",
       "    .dataframe thead th {\n",
       "        text-align: right;\n",
       "    }\n",
       "</style>\n",
       "<table border=\"1\" class=\"dataframe\">\n",
       "  <thead>\n",
       "    <tr style=\"text-align: right;\">\n",
       "      <th></th>\n",
       "      <th>a</th>\n",
       "      <th>b</th>\n",
       "      <th>c</th>\n",
       "    </tr>\n",
       "  </thead>\n",
       "  <tbody>\n",
       "    <tr>\n",
       "      <th>0</th>\n",
       "      <td>1</td>\n",
       "      <td>4</td>\n",
       "      <td>7</td>\n",
       "    </tr>\n",
       "    <tr>\n",
       "      <th>1</th>\n",
       "      <td>2</td>\n",
       "      <td>5</td>\n",
       "      <td>8</td>\n",
       "    </tr>\n",
       "    <tr>\n",
       "      <th>2</th>\n",
       "      <td>3</td>\n",
       "      <td>6</td>\n",
       "      <td>9</td>\n",
       "    </tr>\n",
       "  </tbody>\n",
       "</table>\n",
       "</div>"
      ],
      "text/plain": [
       "   a  b  c\n",
       "0  1  4  7\n",
       "1  2  5  8\n",
       "2  3  6  9"
      ]
     },
     "execution_count": 126,
     "metadata": {},
     "output_type": "execute_result"
    }
   ],
   "source": [
    "pd.DataFrame.from_dict(data, orient='columns', dtype=None)"
   ]
  },
  {
   "attachments": {},
   "cell_type": "markdown",
   "metadata": {},
   "source": [
    "**donde:**\n",
    "\n",
    "**data:** el diccionario a partir del cual se creará el DataFrame.\n",
    "\n",
    "**orient:** especifica la orientación del diccionario, es decir, si las columnas deben ser las claves del diccionario (orientación columns) o las filas `(orientación index)`. Por defecto, `orient='columns'`.\n",
    "\n",
    "**dtype:** tipo de datos de los valores del DataFrame. Por defecto, `dtype=None`.\n",
    "\n",
    "Veamos algunos ejemplos para entender mejor cómo funciona:"
   ]
  },
  {
   "attachments": {},
   "cell_type": "markdown",
   "metadata": {},
   "source": [
    "**Ejemplo 1:** Crear un DataFrame a partir de un diccionario simple\n",
    "\n",
    "Supongamos que tenemos un diccionario que contiene la información de algunas personas, como su nombre, edad y ciudad de residencia. Podemos utilizar el método `.from_dict()` para crear un DataFrame a partir de este diccionario de la siguiente manera:"
   ]
  },
  {
   "cell_type": "code",
   "execution_count": 127,
   "metadata": {},
   "outputs": [
    {
     "name": "stdout",
     "output_type": "stream",
     "text": [
      "  nombre  edad     ciudad\n",
      "0   Juan    25     Madrid\n",
      "1  María    30  Barcelona\n",
      "2  Pedro    18   Valencia\n",
      "3  Lucía    40    Sevilla\n"
     ]
    }
   ],
   "source": [
    "import pandas as pd\n",
    "\n",
    "data = {\n",
    "    'nombre': ['Juan', 'María', 'Pedro', 'Lucía'],\n",
    "    'edad': [25, 30, 18, 40],\n",
    "    'ciudad': ['Madrid', 'Barcelona', 'Valencia', 'Sevilla']\n",
    "}\n",
    "\n",
    "df = pd.DataFrame.from_dict(data)\n",
    "\n",
    "print(df)"
   ]
  },
  {
   "attachments": {},
   "cell_type": "markdown",
   "metadata": {},
   "source": [
    "Observa que Pandas ha utilizado las claves del diccionario como nombres de columna y ha creado las filas a partir de las listas de valores correspondientes.\n",
    "\n",
    "**Ejemplo 2:**\n",
    "\n",
    "* **Crear un DataFrame a partir de un diccionario anidado**\n",
    "\n",
    "Supongamos ahora que tenemos un diccionario anidado que contiene la información de algunas personas, pero en este caso cada persona tiene una lista de trabajos realizados. Podemos utilizar el método `.from_dict()` para crear un DataFrame que muestre la información de cada persona en una fila y sus trabajos en columnas de la siguiente manera:"
   ]
  },
  {
   "cell_type": "code",
   "execution_count": 128,
   "metadata": {},
   "outputs": [
    {
     "name": "stdout",
     "output_type": "stream",
     "text": [
      "                 0          1\n",
      "Juan   programador  diseñador\n",
      "María    diseñador   analista\n",
      "Pedro     analista    gerente\n",
      "Lucía  programador       None\n"
     ]
    }
   ],
   "source": [
    "import pandas as pd\n",
    "\n",
    "data = {\n",
    "    'Juan': ['programador', 'diseñador'],\n",
    "    'María': ['diseñador', 'analista'],\n",
    "    'Pedro': ['analista', 'gerente'],\n",
    "    'Lucía': ['programador']\n",
    "}\n",
    "\n",
    "df = pd.DataFrame.from_dict(data, orient='index')\n",
    "\n",
    "print(df)"
   ]
  },
  {
   "attachments": {},
   "cell_type": "markdown",
   "metadata": {},
   "source": [
    "En este caso, hemos utilizado la orientación index para que las filas del DataFrame sean las claves del diccionario. Pandas ha creado las columnas del DataFrame a partir de las listas de valores correspondientes, agregando valores `None` en caso de que una persona no tenga suficientes trabajos para llenae."
   ]
  },
  {
   "attachments": {},
   "cell_type": "markdown",
   "metadata": {},
   "source": [
    "## **Dimensiones de un dataframe**"
   ]
  },
  {
   "attachments": {},
   "cell_type": "markdown",
   "metadata": {},
   "source": [
    "Las dimensiones de un DataFrame en Python se refieren al número de filas y columnas que lo conforman. Es importante conocer las dimensiones de un DataFrame porque nos permiten comprender mejor su estructura y la cantidad de datos que contiene.\n",
    "\n",
    "En Pandas, podemos obtener las dimensiones de un DataFrame utilizando el atributo `.shape`. Este atributo devuelve una `tupla` con dos elementos: el número de filas y el número de columnas, respectivamente.\n",
    "\n",
    "A continuación se muestra un ejemplo:"
   ]
  },
  {
   "cell_type": "code",
   "execution_count": 129,
   "metadata": {},
   "outputs": [
    {
     "name": "stdout",
     "output_type": "stream",
     "text": [
      "(4, 3)\n"
     ]
    }
   ],
   "source": [
    "import pandas as pd\n",
    "\n",
    "data = {\n",
    "    'nombre': ['Juan', 'María', 'Pedro', 'Lucía'],\n",
    "    'edad': [25, 30, 35, 40],\n",
    "    'ciudad': ['Madrid', 'Barcelona', 'Valencia', 'Sevilla']\n",
    "}\n",
    "\n",
    "df = pd.DataFrame(data)\n",
    "\n",
    "print(df.shape)"
   ]
  },
  {
   "attachments": {},
   "cell_type": "markdown",
   "metadata": {},
   "source": [
    "La salida de este código sería `(4, 3)`, lo que indica que el DataFrame tiene `4` filas y `3` columnas.\n",
    "\n",
    "Es importante tener en cuenta que el atributo `.shape` devuelve una `tupla` inmutable, lo que significa que no podemos modificar las dimensiones del DataFrame directamente a través de este atributo. Si deseamos agregar o eliminar filas o columnas, debemos utilizar los métodos y funciones adecuados de Pandas."
   ]
  },
  {
   "attachments": {},
   "cell_type": "markdown",
   "metadata": {},
   "source": [
    "## **Seleccionando columnas**"
   ]
  },
  {
   "attachments": {},
   "cell_type": "markdown",
   "metadata": {},
   "source": [
    "Seleccionar columnas en Python es una tarea común en el análisis de datos y se puede realizar de varias formas.\n",
    "\n",
    "La forma más común de seleccionar una columna es utilizando la notación de corchetes `[]` y proporcionando el nombre de la columna como un `string` entre los corchetes. Esto devolverá una serie que representa la columna seleccionada.\n",
    "\n",
    "Veamos un ejemplo utilizando un dataframe de la biblioteca `Pandas`:"
   ]
  },
  {
   "cell_type": "code",
   "execution_count": 130,
   "metadata": {},
   "outputs": [
    {
     "name": "stdout",
     "output_type": "stream",
     "text": [
      "0    25\n",
      "1    32\n",
      "2    18\n",
      "3    29\n",
      "Name: Edad, dtype: int64\n"
     ]
    }
   ],
   "source": [
    "import pandas as pd\n",
    "\n",
    "data = {\n",
    "    'Nombre': ['Juan', 'María', 'Pedro', 'Lucía'],\n",
    "    'Edad': [25, 32, 18, 29],\n",
    "    'Ciudad': ['Madrid', 'Barcelona', 'Valencia', 'Sevilla']\n",
    "}\n",
    "\n",
    "df = pd.DataFrame(data)\n",
    "\n",
    "# seleccionar la columna 'Edad'\n",
    "columna_edad = df['Edad']\n",
    "\n",
    "print(columna_edad)"
   ]
  },
  {
   "attachments": {},
   "cell_type": "markdown",
   "metadata": {},
   "source": [
    "Este código selecciona la columna `'Edad'` del dataframe `df` y la almacena en la variable `columna_edad`."
   ]
  },
  {
   "attachments": {},
   "cell_type": "markdown",
   "metadata": {},
   "source": [
    "Otra forma de seleccionar una o varias columnas es utilizando el método `loc` del dataframe. El método `loc` permite seleccionar filas y columnas utilizando etiquetas. Para seleccionar columnas, se deben proporcionar todas las etiquetas de las filas y las columnas que se desean seleccionar. En el caso de las columnas, se deben proporcionar entre corchetes y separadas por comas después de las etiquetas de las filas.\n",
    "\n",
    "Veamos un ejemplo:"
   ]
  },
  {
   "cell_type": "code",
   "execution_count": 131,
   "metadata": {},
   "outputs": [
    {
     "name": "stdout",
     "output_type": "stream",
     "text": [
      "      Nombre    Ciudad\n",
      "fila1   Juan    Madrid\n",
      "fila3  Pedro  Valencia\n"
     ]
    }
   ],
   "source": [
    "import pandas as pd\n",
    "\n",
    "data = {\n",
    "    'Nombre': ['Juan', 'María', 'Pedro', 'Lucía'],\n",
    "    'Edad': [25, 32, 18, 29],\n",
    "    'Ciudad': ['Madrid', 'Barcelona', 'Valencia', 'Sevilla']\n",
    "}\n",
    "\n",
    "df = pd.DataFrame(data, index=['fila1', 'fila2', 'fila3', 'fila4'])\n",
    "\n",
    "# seleccionar las columnas 'Nombre' y 'Ciudad' de las filas 'fila1' y 'fila3'\n",
    "columnas_seleccionadas = df.loc[['fila1', 'fila3'], ['Nombre', 'Ciudad']]\n",
    "\n",
    "print(columnas_seleccionadas)"
   ]
  },
  {
   "attachments": {},
   "cell_type": "markdown",
   "metadata": {},
   "source": [
    "Este código selecciona las columnas `'Nombre'` y `'Ciudad'` de las filas `'fila1'` y `'fila3'` del dataframe `df`."
   ]
  },
  {
   "attachments": {},
   "cell_type": "markdown",
   "metadata": {},
   "source": [
    "Como se puede observar, la variable `columnas_seleccionadas` es un nuevo dataframe que contiene únicamente las columnas y filas seleccionadas."
   ]
  },
  {
   "attachments": {},
   "cell_type": "markdown",
   "metadata": {},
   "source": [
    "## **Seleccionando filas**"
   ]
  },
  {
   "attachments": {},
   "cell_type": "markdown",
   "metadata": {},
   "source": [
    "En Python, para seleccionar filas en un dataframe se pueden utilizar diferentes métodos y operaciones. A continuación, se explican algunos de los más comunes:\n",
    "\n",
    "1. **Utilizando el operador de indexación []:**\n",
    "\n",
    " Se puede utilizar este operador para seleccionar una o varias filas de un dataframe. Para ello, se indica el rango de filas que se desea seleccionar mediante los índices correspondientes. Por ejemplo:"
   ]
  },
  {
   "cell_type": "code",
   "execution_count": 132,
   "metadata": {},
   "outputs": [
    {
     "name": "stdout",
     "output_type": "stream",
     "text": [
      "  nombre  edad     ciudad\n",
      "1  Pedro    32  Barcelona\n",
      "3  Lucía    30    Sevilla\n"
     ]
    }
   ],
   "source": [
    "import pandas as pd\n",
    "\n",
    "data = {\n",
    "    'nombre': ['Juan', 'Pedro', 'María', 'Lucía', 'Ana'],\n",
    "    'edad': [25, 32, 28, 30, 20],\n",
    "    'ciudad': ['Madrid', 'Barcelona', 'Valencia', 'Sevilla', 'Bilbao']\n",
    "}\n",
    "\n",
    "df = pd.DataFrame(data)\n",
    "\n",
    "# seleccionar las filas 1, 3 y 4\n",
    "df_seleccionado = df[1:5:2]\n",
    "\n",
    "print(df_seleccionado)"
   ]
  },
  {
   "attachments": {},
   "cell_type": "markdown",
   "metadata": {},
   "source": [
    "Este código seleccionará las filas `1`, `3` y `4` del dataframe `df` y las asignará al dataframe `df_seleccionado`.\n",
    "\n",
    "2. **Utilizando el método `.loc[]`:**\n",
    "\n",
    " Este método se utiliza para seleccionar filas y columnas por nombre. Se indican los nombres de las filas y las columnas que se desean seleccionar entre corchetes y separados por una coma. Por ejemplo:"
   ]
  },
  {
   "cell_type": "code",
   "execution_count": 133,
   "metadata": {},
   "outputs": [
    {
     "name": "stdout",
     "output_type": "stream",
     "text": [
      "  nombre  edad     ciudad\n",
      "1  Pedro    32  Barcelona\n"
     ]
    }
   ],
   "source": [
    "import pandas as pd\n",
    "\n",
    "data = {\n",
    "    'nombre': ['Juan', 'Pedro', 'María', 'Lucía', 'Ana'],\n",
    "    'edad': [25, 32, 28, 30, 20],\n",
    "    'ciudad': ['Madrid', 'Barcelona', 'Valencia', 'Sevilla', 'Bilbao']\n",
    "}\n",
    "\n",
    "df = pd.DataFrame(data)\n",
    "\n",
    "# seleccionar la fila con nombre 'Pedro'\n",
    "df_seleccionado = df.loc[df['nombre'] == 'Pedro']\n",
    "\n",
    "print(df_seleccionado)"
   ]
  },
  {
   "attachments": {},
   "cell_type": "markdown",
   "metadata": {},
   "source": [
    "Este código seleccionará la fila correspondiente a `Pedro` y la asignará al dataframe `df_seleccionado`.\n",
    "\n",
    "3. **Utilizando el método `.iloc[]`:**\n",
    "\n",
    " Este método se utiliza para seleccionar filas y columnas por índice. Se indican los índices de las filas y las columnas que se desean seleccionar entre corchetes y separados por una coma. Por ejemplo:"
   ]
  },
  {
   "cell_type": "code",
   "execution_count": 134,
   "metadata": {},
   "outputs": [
    {
     "name": "stdout",
     "output_type": "stream",
     "text": [
      "  nombre  edad     ciudad\n",
      "1  Pedro    32  Barcelona\n",
      "3  Lucía    30    Sevilla\n",
      "4    Ana    20     Bilbao\n"
     ]
    }
   ],
   "source": [
    "import pandas as pd\n",
    "\n",
    "data = {\n",
    "    'nombre': ['Juan', 'Pedro', 'María', 'Lucía', 'Ana'],\n",
    "    'edad': [25, 32, 28, 30, 20],\n",
    "    'ciudad': ['Madrid', 'Barcelona', 'Valencia', 'Sevilla', 'Bilbao']\n",
    "}\n",
    "\n",
    "df = pd.DataFrame(data)\n",
    "\n",
    "# seleccionar las filas 1, 3 y 4\n",
    "df_seleccionado = df.iloc[[1,3,4]]\n",
    "\n",
    "print(df_seleccionado)"
   ]
  },
  {
   "attachments": {},
   "cell_type": "markdown",
   "metadata": {},
   "source": [
    "Este código seleccionará las filas `1`, `3` y `4` del dataframe `df` y las asignará al dataframe `df_seleccionado`.\n",
    "\n",
    "En resumen, para seleccionar filas en un dataframe en Python se pueden utilizar diferentes métodos y operaciones, como el operador de `indexación []`, el método `.loc[]` y el método `.iloc[]`. La elección del método dependerá del tipo de selección que se desee realizar, ya sea por índice, por nombre o por rango de filas."
   ]
  },
  {
   "attachments": {},
   "cell_type": "markdown",
   "metadata": {},
   "source": [
    "## **Seleccionando elementos**"
   ]
  },
  {
   "attachments": {},
   "cell_type": "markdown",
   "metadata": {},
   "source": [
    "Seleccionar elementos en un DataFrame de Pandas significa acceder a valores específicos en una fila y columna determinadas. Podemos seleccionar elementos de un DataFrame utilizando la sintaxis de corchetes y etiquetas de fila y columna.\n",
    "\n",
    "Para seleccionar elementos, podemos utilizar la función `loc[]` y `iloc[]`. La función `loc[]` se utiliza para seleccionar filas y columnas utilizando etiquetas, mientras que `iloc[]` se utiliza para seleccionar filas y columnas utilizando índices enteros.\n",
    "\n",
    "A continuación, se presentan algunos ejemplos de cómo seleccionar elementos de un DataFrame:"
   ]
  },
  {
   "cell_type": "code",
   "execution_count": 135,
   "metadata": {},
   "outputs": [
    {
     "name": "stdout",
     "output_type": "stream",
     "text": [
      "Juan\n",
      "18\n",
      "1    Barcelona\n",
      "3      Sevilla\n",
      "Name: Ciudad, dtype: object\n"
     ]
    }
   ],
   "source": [
    "import pandas as pd\n",
    "\n",
    "# Crear DataFrame de ejemplo\n",
    "data = {'Nombre': ['Juan', 'Pedro', 'Ana', 'Sofía'],\n",
    "        'Edad': [25, 32, 18, 27],\n",
    "        'Ciudad': ['Madrid', 'Barcelona', 'Valencia', 'Sevilla']}\n",
    "df = pd.DataFrame(data)\n",
    "\n",
    "# Selección de elementos\n",
    "print(df.loc[0, 'Nombre'])  # Seleccionar el elemento en la fila 0 y columna 'Nombre'\n",
    "print(df.iloc[2, 1])  # Seleccionar el elemento en la fila 2 y columna 1\n",
    "print(df.loc[df['Edad'] > 25, 'Ciudad'])  # Seleccionar la columna 'Ciudad' de las filas donde la edad es mayor a 25"
   ]
  },
  {
   "attachments": {},
   "cell_type": "markdown",
   "metadata": {},
   "source": [
    "En el primer ejemplo, se selecciona el elemento en la fila `0` y la columna `\"Nombre\"` utilizando `loc[]`. En el segundo ejemplo, se selecciona el elemento en la fila `2` y la columna `1` utilizando `iloc[]`. En el tercer ejemplo, se selecciona la columna `\"Ciudad\"` de las filas donde la edad es mayor a `25` utilizando `loc[]` y una condición booleana.\n",
    "\n",
    "Es importante tener en cuenta que la selección de elementos de un DataFrame de `Pandas` puede realizarse de diversas formas y utilizando diferentes métodos, dependiendo de la estructura y los requerimientos específicos de los datos."
   ]
  },
  {
   "attachments": {},
   "cell_type": "markdown",
   "metadata": {},
   "source": [
    "## **Métodos de dataframes**"
   ]
  },
  {
   "attachments": {},
   "cell_type": "markdown",
   "metadata": {},
   "source": [
    "Los DataFrames son una estructura de datos tabulares bidimensionales que se utilizan comúnmente en el análisis de datos. En Python, la librería `Pandas` proporciona la clase DataFrame que se utiliza para crear, manipular y analizar este tipo de estructuras.\n",
    "\n",
    "Aquí hay algunos métodos útiles de DataFrames en Python:"
   ]
  },
  {
   "cell_type": "code",
   "execution_count": 136,
   "metadata": {},
   "outputs": [
    {
     "name": "stdout",
     "output_type": "stream",
     "text": [
      "  nombre  edad sexo  puntuacion\n",
      "0   Juan    25    M        85.6\n",
      "1  María    30    F        90.2\n",
      "2  Pedro    18    M        72.5\n",
      "3    Ana    42    F        95.3\n"
     ]
    }
   ],
   "source": [
    "import pandas as pd\n",
    "\n",
    "datos = {\n",
    "    'nombre': ['Juan', 'María', 'Pedro', 'Ana'],\n",
    "    'edad': [25, 30, 18, 42],\n",
    "    'sexo': ['M', 'F', 'M', 'F'],\n",
    "    'puntuacion': [85.6, 90.2, 72.5, 95.3]\n",
    "}\n",
    "\n",
    "df = pd.DataFrame(datos)\n",
    "print(df)"
   ]
  },
  {
   "attachments": {},
   "cell_type": "markdown",
   "metadata": {},
   "source": [
    "Este código creará un DataFrame con cuatro columnas: `'nombre'`, `'edad'`, `'sexo'` y `'puntuacion'`. La primera columna contiene los nombres de las personas, la segunda su edad, la tercera su sexo y la cuarta su puntuación.\n",
    "\n",
    "* **Visualización de un DataFrame**\n",
    "\n",
    "Podemos usar los métodos `head()`, `tail()` y `sample()` para visualizar partes del DataFrame:"
   ]
  },
  {
   "cell_type": "code",
   "execution_count": 137,
   "metadata": {},
   "outputs": [
    {
     "name": "stdout",
     "output_type": "stream",
     "text": [
      "  nombre  edad sexo  puntuacion\n",
      "0   Juan    25    M        85.6\n",
      "1  María    30    F        90.2\n",
      "2  Pedro    18    M        72.5\n",
      "3    Ana    42    F        95.3\n",
      "  nombre  edad sexo  puntuacion\n",
      "0   Juan    25    M        85.6\n",
      "1  María    30    F        90.2\n",
      "2  Pedro    18    M        72.5\n",
      "3    Ana    42    F        95.3\n",
      "  nombre  edad sexo  puntuacion\n",
      "0   Juan    25    M        85.6\n",
      "2  Pedro    18    M        72.5\n"
     ]
    }
   ],
   "source": [
    "print(df.head()) # muestra las primeras 5 filas\n",
    "print(df.tail()) # muestra las últimas 5 filas\n",
    "print(df.sample(n=2)) # muestra 2 filas aleatorias"
   ]
  },
  {
   "attachments": {},
   "cell_type": "markdown",
   "metadata": {},
   "source": [
    "* **Selección de filas y columnas**\n",
    "\n",
    "Podemos seleccionar columnas específicas del DataFrame utilizando la notación de corchetes:"
   ]
  },
  {
   "cell_type": "code",
   "execution_count": 138,
   "metadata": {},
   "outputs": [],
   "source": [
    "nombres = df['nombre']\n",
    "edades_y_puntuaciones = df[['edad', 'puntuacion']]"
   ]
  },
  {
   "attachments": {},
   "cell_type": "markdown",
   "metadata": {},
   "source": [
    "Podemos seleccionar filas específicas utilizando los métodos `loc()` e `iloc()`. `loc()` utiliza etiquetas de fila y columna, mientras que `iloc()` utiliza índices enteros:"
   ]
  },
  {
   "cell_type": "code",
   "execution_count": 139,
   "metadata": {},
   "outputs": [
    {
     "name": "stdout",
     "output_type": "stream",
     "text": [
      "nombre        Juan\n",
      "edad            25\n",
      "sexo             M\n",
      "puntuacion    85.6\n",
      "Name: 0, dtype: object\n",
      "  nombre  edad sexo  puntuacion\n",
      "1  María    30    F        90.2\n",
      "2  Pedro    18    M        72.5\n",
      "nombre        Juan\n",
      "edad            25\n",
      "sexo             M\n",
      "puntuacion    85.6\n",
      "Name: 0, dtype: object\n",
      "  nombre  edad sexo  puntuacion\n",
      "1  María    30    F        90.2\n",
      "2  Pedro    18    M        72.5\n"
     ]
    }
   ],
   "source": [
    "# seleccionar la primera fila utilizando loc()\n",
    "fila1 = df.loc[0]\n",
    "print(fila1)\n",
    "\n",
    "# seleccionar la segunda y tercera fila utilizando loc()\n",
    "fila23 = df.loc[1:2]\n",
    "print(fila23)\n",
    "\n",
    "# seleccionar la primera fila utilizando iloc()\n",
    "fila1 = df.iloc[0]\n",
    "print(fila1)\n",
    "\n",
    "# seleccionar la segunda y tercera fila utilizando iloc()\n",
    "fila23 = df.iloc[1:3]\n",
    "print(fila23)"
   ]
  },
  {
   "attachments": {},
   "cell_type": "markdown",
   "metadata": {},
   "source": [
    "* **Filtrado de filas**\n",
    "\n",
    "Podemos filtrar filas del DataFrame utilizando una condición booleana:"
   ]
  },
  {
   "cell_type": "code",
   "execution_count": 140,
   "metadata": {},
   "outputs": [
    {
     "name": "stdout",
     "output_type": "stream",
     "text": [
      "  nombre  edad sexo  puntuacion\n",
      "0   Juan    25    M        85.6\n",
      "1  María    30    F        90.2\n",
      "3    Ana    42    F        95.3\n"
     ]
    }
   ],
   "source": [
    "# filtrar filas donde la edad es mayor que 20\n",
    "filtro = df['edad'] > 20\n",
    "df_filtrado = df[filtro]\n",
    "print(df_filtrado)"
   ]
  },
  {
   "attachments": {},
   "cell_type": "markdown",
   "metadata": {},
   "source": [
    "* **Agregación de datos**\n",
    "\n",
    "Podemos agregar datos en el DataFrame utilizando métodos como `sum()`, `mean()`, `count()`, etc.:"
   ]
  },
  {
   "cell_type": "code",
   "execution_count": 141,
   "metadata": {},
   "outputs": [
    {
     "name": "stdout",
     "output_type": "stream",
     "text": [
      "28.75\n",
      "nombre        2\n",
      "edad          2\n",
      "sexo          2\n",
      "puntuacion    2\n",
      "dtype: int64\n"
     ]
    }
   ],
   "source": [
    "# calcular la media de la columna 'edad'\n",
    "media_edad = df['edad'].mean()\n",
    "print(media_edad)\n",
    "\n",
    "# contar el número de filas donde el sexo es 'M'\n",
    "num_hombres = df[df['sexo'] == 'M'].count()\n",
    "print(num_hombres)"
   ]
  },
  {
   "attachments": {},
   "cell_type": "markdown",
   "metadata": {},
   "source": [
    "* **Ordenación de filas**\n",
    "\n",
    "Podemos ordenar las filas del DataFrame utilizando el método `sort_values()`:"
   ]
  },
  {
   "cell_type": "code",
   "execution_count": 142,
   "metadata": {},
   "outputs": [
    {
     "name": "stdout",
     "output_type": "stream",
     "text": [
      "  nombre  edad sexo  puntuacion\n",
      "3    Ana    42    F        95.3\n",
      "1  María    30    F        90.2\n",
      "0   Juan    25    M        85.6\n",
      "2  Pedro    18    M        72.5\n"
     ]
    }
   ],
   "source": [
    "# ordenar el DataFrame por la columna 'puntuacion' en orden descendente\n",
    "df_ordenado = df.sort_values('puntuacion', ascending=False)\n",
    "print(df_ordenado)"
   ]
  },
  {
   "attachments": {},
   "cell_type": "markdown",
   "metadata": {},
   "source": [
    "* **Agrupación de datos**\n",
    "\n",
    "Podemos agrupar datos en el DataFrame utilizando el método `groupby()`:"
   ]
  },
  {
   "cell_type": "code",
   "execution_count": 143,
   "metadata": {},
   "outputs": [
    {
     "name": "stdout",
     "output_type": "stream",
     "text": [
      "<pandas.core.groupby.generic.DataFrameGroupBy object at 0x7fe6e1b91cd0>\n",
      "sexo\n",
      "F    36.0\n",
      "M    21.5\n",
      "Name: edad, dtype: float64\n"
     ]
    }
   ],
   "source": [
    "# agrupar el DataFrame por la columna 'sexo'\n",
    "grupos_sexo = df.groupby('sexo')\n",
    "print(grupos_sexo)\n",
    "\n",
    "# calcular la media de la columna 'edad' para cada grupo\n",
    "media_edad_por_sexo = grupos_sexo['edad'].mean()\n",
    "print(media_edad_por_sexo)"
   ]
  },
  {
   "attachments": {},
   "cell_type": "markdown",
   "metadata": {},
   "source": [
    "## **Bucles y dataframes**"
   ]
  },
  {
   "attachments": {},
   "cell_type": "markdown",
   "metadata": {},
   "source": [
    "Los bucles y los DataFrames son herramientas muy útiles en Python para trabajar con datos. Un bucle es una estructura de control que permite ejecutar un bloque de código varias veces. Los DataFrames son estructuras de datos bidimensionales que permiten almacenar y manipular datos en tablas.\n",
    "\n",
    "Aquí hay un ejemplo de cómo se pueden usar los bucles con los DataFrames en Python:"
   ]
  },
  {
   "cell_type": "code",
   "execution_count": 144,
   "metadata": {},
   "outputs": [
    {
     "name": "stdout",
     "output_type": "stream",
     "text": [
      "0 Juan 25 M 85.6\n",
      "1 María 30 F 90.2\n",
      "2 Pedro 18 M 72.5\n",
      "3 Ana 42 F 95.3\n"
     ]
    }
   ],
   "source": [
    "import pandas as pd\n",
    "\n",
    "datos = {\n",
    "    'nombre': ['Juan', 'María', 'Pedro', 'Ana'],\n",
    "    'edad': [25, 30, 18, 42],\n",
    "    'sexo': ['M', 'F', 'M', 'F'],\n",
    "    'puntuacion': [85.6, 90.2, 72.5, 95.3]\n",
    "}\n",
    "\n",
    "df = pd.DataFrame(datos)\n",
    "\n",
    "# Bucle for para iterar por cada fila del DataFrame\n",
    "for indice, fila in df.iterrows():\n",
    "    print(indice, fila['nombre'], fila['edad'], fila['sexo'], fila['puntuacion'])"
   ]
  },
  {
   "attachments": {},
   "cell_type": "markdown",
   "metadata": {},
   "source": [
    "En este ejemplo, utilizamos el método `iterrows()` para iterar por cada fila del DataFrame. Dentro del bucle `for`, utilizamos el índice y la fila actual para imprimir el nombre, la edad, el sexo y la puntuación de cada persona en el DataFrame.\n",
    "\n",
    "También podemos usar bucles para agregar datos a un DataFrame. Por ejemplo, si tenemos una lista de personas y queremos agregarlas al DataFrame, podemos hacerlo usando un bucle:"
   ]
  },
  {
   "cell_type": "code",
   "execution_count": 145,
   "metadata": {},
   "outputs": [
    {
     "name": "stdout",
     "output_type": "stream",
     "text": [
      "  nombre  edad sexo  puntuacion\n",
      "0   Juan    25    M        85.6\n",
      "1  María    30    F        90.2\n",
      "2  Pedro    18    M        72.5\n",
      "3    Ana    42    F        95.3\n",
      "4   Luis    27    M        88.9\n",
      "5  Lucía    21    F        79.3\n",
      "6  Jorge    35    M        91.7\n"
     ]
    }
   ],
   "source": [
    "import pandas as pd\n",
    "\n",
    "datos = {\n",
    "    'nombre': ['Juan', 'María', 'Pedro', 'Ana'],\n",
    "    'edad': [25, 30, 18, 42],\n",
    "    'sexo': ['M', 'F', 'M', 'F'],\n",
    "    'puntuacion': [85.6, 90.2, 72.5, 95.3]\n",
    "}\n",
    "\n",
    "df = pd.DataFrame(datos)\n",
    "\n",
    "nuevas_personas = [\n",
    "    {'nombre': 'Luis', 'edad': 27, 'sexo': 'M', 'puntuacion': 88.9},\n",
    "    {'nombre': 'Lucía', 'edad': 21, 'sexo': 'F', 'puntuacion': 79.3},\n",
    "    {'nombre': 'Jorge', 'edad': 35, 'sexo': 'M', 'puntuacion': 91.7}\n",
    "]\n",
    "\n",
    "# Convertir la lista de diccionarios a DataFrame\n",
    "nuevo_df = pd.DataFrame(nuevas_personas)\n",
    "\n",
    "# Usar concat en lugar de append\n",
    "df = pd.concat([df, nuevo_df], ignore_index=True)\n",
    "\n",
    "print(df)"
   ]
  },
  {
   "attachments": {},
   "cell_type": "markdown",
   "metadata": {},
   "source": [
    "En este ejemplo, creamos un DataFrame con cuatro personas y luego usamos un bucle `for` para agregar tres nuevas personas al DataFrame utilizando el método `append()`.\n",
    "\n",
    "En resumen, los bucles son una herramienta muy útil para trabajar con DataFrames en Python. Podemos usar bucles para iterar por cada fila del DataFrame, agregar datos al DataFrame y realizar otras operaciones complejas en los datos."
   ]
  },
  {
   "attachments": {},
   "cell_type": "markdown",
   "metadata": {},
   "source": [
    "## **Iterando sobre filas con .itertuples()**"
   ]
  },
  {
   "attachments": {},
   "cell_type": "markdown",
   "metadata": {},
   "source": [
    "En Python, cuando trabajamos con DataFrames, a menudo necesitamos iterar sobre todas las filas de un DataFrame para realizar alguna operación en ellas. Una forma común de hacerlo es utilizando el método `.itertuples()`, que devuelve un objeto que puede ser iterado por cada fila del DataFrame.\n",
    "\n",
    "Aquí hay un ejemplo de cómo se puede utilizar el método `.itertuples()` para iterar sobre las filas de un DataFrame:"
   ]
  },
  {
   "cell_type": "code",
   "execution_count": 146,
   "metadata": {},
   "outputs": [
    {
     "name": "stdout",
     "output_type": "stream",
     "text": [
      "Pandas(Index=0, nombre='Juan', edad=25, sexo='M', puntuacion=85.6)\n",
      "Pandas(Index=1, nombre='María', edad=30, sexo='F', puntuacion=90.2)\n",
      "Pandas(Index=2, nombre='Pedro', edad=18, sexo='M', puntuacion=72.5)\n",
      "Pandas(Index=3, nombre='Ana', edad=42, sexo='F', puntuacion=95.3)\n"
     ]
    }
   ],
   "source": [
    "import pandas as pd\n",
    "\n",
    "datos = {\n",
    "    'nombre': ['Juan', 'María', 'Pedro', 'Ana'],\n",
    "    'edad': [25, 30, 18, 42],\n",
    "    'sexo': ['M', 'F', 'M', 'F'],\n",
    "    'puntuacion': [85.6, 90.2, 72.5, 95.3]\n",
    "}\n",
    "\n",
    "df = pd.DataFrame(datos)\n",
    "\n",
    "# Iterando sobre filas con .itertuples()\n",
    "for fila in df.itertuples():\n",
    "    print(fila)"
   ]
  },
  {
   "attachments": {},
   "cell_type": "markdown",
   "metadata": {},
   "source": [
    "En este ejemplo, el método `.itertuples()` devuelve un objeto iterable que contiene todas las filas del DataFrame. Dentro del bucle `for`, podemos acceder a cada fila utilizando la sintaxis de puntos, como `fila.nombre`, `fila.edad`, `fila.sexo`, `fila.puntuacion`.\n",
    "\n",
    "También podemos utilizar el método `.itertuples()` para acceder a una fila específica del DataFrame. En el siguiente ejemplo, accedemos a la segunda fila del DataFrame:"
   ]
  },
  {
   "cell_type": "code",
   "execution_count": 147,
   "metadata": {},
   "outputs": [
    {
     "name": "stdout",
     "output_type": "stream",
     "text": [
      "Juan\n"
     ]
    }
   ],
   "source": [
    "import pandas as pd\n",
    "\n",
    "datos = {\n",
    "    'nombre': ['Juan', 'María', 'Pedro', 'Ana'],\n",
    "    'edad': [25, 30, 18, 42],\n",
    "    'sexo': ['M', 'F', 'M', 'F'],\n",
    "    'puntuacion': [85.6, 90.2, 72.5, 95.3]\n",
    "}\n",
    "\n",
    "df = pd.DataFrame(datos)\n",
    "\n",
    "# Accediendo a una fila específica con .itertuples()\n",
    "segunda_fila = next(df.itertuples())[1]\n",
    "print(segunda_fila)"
   ]
  },
  {
   "attachments": {},
   "cell_type": "markdown",
   "metadata": {},
   "source": [
    "En este ejemplo, utilizamos la función `next()` para obtener el segundo elemento del objeto iterable devuelto por el método `.itertuples()`, que corresponde a la segunda fila del DataFrame. Luego, accedemos al valor de la columna nombre de la segunda fila utilizando la sintaxis de índices, como `[1]`.\n",
    "\n",
    "En resumen, el método `.itertuples()` es una forma fácil y eficiente de iterar sobre todas las filas de un DataFrame en Python. Podemos acceder a cada fila y a sus valores de columna utilizando la sintaxis de puntos o de índices, y también podemos utilizar este método para acceder a una fila específica del DataFrame."
   ]
  },
  {
   "attachments": {},
   "cell_type": "markdown",
   "metadata": {},
   "source": [
    "## **Los ficheros CSV y su papel en el análisis de datos**"
   ]
  },
  {
   "attachments": {},
   "cell_type": "markdown",
   "metadata": {},
   "source": [
    "Los ficheros `CSV (Comma-Separated Values)` son un formato de archivo común utilizado para almacenar y compartir datos tabulares en una estructura de texto plano. En un archivo `CSV`, cada fila representa una entrada de datos, y las columnas están separadas por comas (o algún otro delimitador) para indicar diferentes campos de datos.\n",
    "\n",
    "En el análisis de datos en Python, los archivos `CSV` son una fuente común de datos que se pueden leer y manipular utilizando la librería de `pandas`. La librería de `pandas` es una librería de código abierto para el análisis de datos en Python que proporciona estructuras de datos y herramientas de análisis fáciles de usar para manipular y analizar datos.\n",
    "\n",
    "Para crear un archivo `CSV` en Python, podemos utilizar la librería de `pandas` para crear un DataFrame y luego guardar el DataFrame en un archivo `CSV` utilizando el método `to_csv()`."
   ]
  },
  {
   "cell_type": "code",
   "execution_count": 148,
   "metadata": {},
   "outputs": [],
   "source": [
    "import pandas as pd\n",
    "\n",
    "# Creamos un DataFrame de pandas\n",
    "datos = {'nombre': ['Juan', 'María', 'Pedro'],\n",
    "         'edad': [25, 30, 35],\n",
    "         'puntuacion': [80, 90, 95]}\n",
    "\n",
    "df = pd.DataFrame(datos)\n",
    "\n",
    "# Guardamos el DataFrame en un archivo CSV\n",
    "df.to_csv('./modules/datos.csv', index=False)"
   ]
  },
  {
   "attachments": {},
   "cell_type": "markdown",
   "metadata": {},
   "source": [
    "En este ejemplo, hemos creado un DataFrame de pandas con tres columnas: `nombre`, `edad`, y `puntuacion`. Luego, hemos guardado el DataFrame en un archivo `CSV` llamado `datos.csv` utilizando el método `to_csv()`. El parámetro `index=False` indica que no queremos incluir el índice del DataFrame en el archivo `CSV`.\n",
    "\n",
    "Una vez que hemos creado un archivo `CSV`, podemos leerlo y manipularlo utilizando la función `read_csv()` de la librería de `pandas`, como se ha descrito en la respuesta anterior.\n",
    "\n",
    "En resumen, los archivos `CSV` son una forma común de almacenar y compartir datos tabulares en una estructura de texto plano, y la librería de `pandas` es una herramienta poderosa para leer, manipular y analizar datos `CSV` en Python. Con `pandas`, podemos crear archivos `CSV` a partir de DataFrames, seleccionar y filtrar datos, calcular estadísticas descriptivas, visualizar los datos con gráficos y mucho más, lo que lo convierte en una herramienta esencial para el análisis de datos en Python."
   ]
  },
  {
   "attachments": {},
   "cell_type": "markdown",
   "metadata": {},
   "source": [
    "Para leer un archivo `CSV` en `pandas`, podemos utilizar la función `read_csv()` de la siguiente manera:"
   ]
  },
  {
   "cell_type": "code",
   "execution_count": 149,
   "metadata": {},
   "outputs": [],
   "source": [
    "import pandas as pd\n",
    "\n",
    "# Leemos un archivo CSV y lo almacenamos en un DataFrame de pandas\n",
    "df = pd.read_csv('./modules/datos.csv')"
   ]
  },
  {
   "attachments": {},
   "cell_type": "markdown",
   "metadata": {},
   "source": [
    "En este ejemplo, hemos leído un archivo `CSV` llamado `datos.csv` y lo hemos almacenado en un DataFrame de pandas llamado `df`. La función `read_csv()` detectará automáticamente el delimitador utilizado en el archivo y creará un DataFrame con las filas y columnas correspondientes.\n",
    "\n",
    "Una vez que hemos leído un archivo `CSV` en un DataFrame de `pandas`, podemos utilizar todas las herramientas de análisis de `pandas` para manipular y analizar los datos. Por ejemplo, podemos seleccionar columnas específicas del DataFrame, filtrar filas basadas en ciertos criterios, calcular estadísticas descriptivas de los datos, y visualizar los datos con gráficos."
   ]
  },
  {
   "cell_type": "code",
   "execution_count": 150,
   "metadata": {},
   "outputs": [
    {
     "data": {
      "text/plain": [
       "<Axes: >"
      ]
     },
     "execution_count": 150,
     "metadata": {},
     "output_type": "execute_result"
    },
    {
     "data": {
      "image/png": "[encoded data removed]",
      "text/plain": [
       "<Figure size 640x480 with 1 Axes>"
      ]
     },
     "metadata": {},
     "output_type": "display_data"
    }
   ],
   "source": [
    "import pandas as pd\n",
    "\n",
    "# Leemos un archivo CSV y lo almacenamos en un DataFrame de pandas\n",
    "df = pd.read_csv('./modules/datos.csv')\n",
    "\n",
    "# Seleccionamos la columna \"edad\"\n",
    "edades = df['edad']\n",
    "\n",
    "# Filtramos el DataFrame para obtener las filas con una edad mayor a 30\n",
    "df_mayores_30 = df[df['edad'] > 30]\n",
    "\n",
    "# Calculamos la media de la columna \"puntuacion\"\n",
    "media_puntuacion = df['puntuacion'].mean()\n",
    "\n",
    "# Visualizamos un histograma de la columna \"edad\"\n",
    "df['edad'].hist()"
   ]
  },
  {
   "attachments": {},
   "cell_type": "markdown",
   "metadata": {},
   "source": [
    "En este ejemplo, hemos seleccionado la columna edad del DataFrame utilizando la sintaxis de corchetes, filtrado el DataFrame para obtener las filas con una edad mayor a 30 utilizando una expresión booleana, calculado la media de la columna puntuacion utilizando el método `mean()`, y visualizado un histograma de la columna edad utilizando el método `hist()`.\n",
    "\n",
    "En resumen, los archivos `CSV` son una forma común de almacenar y compartir datos tabulares en una estructura de texto plano, y la librería de `pandas` es una herramienta poderosa para leer, manipular y analizar datos `CSV` en Python. Con `pandas`, podemos seleccionar y filtrar datos, calcular estadísticas descriptivas, visualizar los datos con gráficos y mucho más, lo que lo convierte en una herramienta esencial para el análisis de datos en Python."
   ]
  },
  {
   "attachments": {},
   "cell_type": "markdown",
   "metadata": {},
   "source": [
    "## **Cargando csv a partir de url**"
   ]
  },
  {
   "attachments": {},
   "cell_type": "markdown",
   "metadata": {},
   "source": [
    "Para cargar un archivo `CSV` desde una `URL` en Python, podemos utilizar la librería `pandas` que nos permite leer archivos `CSV` desde una variedad de fuentes, incluyendo `URLs`.\n",
    "\n",
    "Para empezar, podemos importar la librería `pandas` y utilizar la función `read_csv()` para cargar el archivo `CSV` desde la `URL`. Por ejemplo, supongamos que queremos cargar el archivo `CSV` desde la siguiente `URL`:"
   ]
  },
  {
   "cell_type": "code",
   "execution_count": 151,
   "metadata": {},
   "outputs": [
    {
     "name": "stdout",
     "output_type": "stream",
     "text": [
      "          country  year         pop continent  lifeExp   gdpPercap\n",
      "0     Afghanistan  1952   8425333.0      Asia   28.801  779.445314\n",
      "1     Afghanistan  1957   9240934.0      Asia   30.332  820.853030\n",
      "2     Afghanistan  1962  10267083.0      Asia   31.997  853.100710\n",
      "3     Afghanistan  1967  11537966.0      Asia   34.020  836.197138\n",
      "4     Afghanistan  1972  13079460.0      Asia   36.088  739.981106\n",
      "...           ...   ...         ...       ...      ...         ...\n",
      "1699     Zimbabwe  1987   9216418.0    Africa   62.351  706.157306\n",
      "1700     Zimbabwe  1992  10704340.0    Africa   60.377  693.420786\n",
      "1701     Zimbabwe  1997  11404948.0    Africa   46.809  792.449960\n",
      "1702     Zimbabwe  2002  11926563.0    Africa   39.989  672.038623\n",
      "1703     Zimbabwe  2007  12311143.0    Africa   43.487  469.709298\n",
      "\n",
      "[1704 rows x 6 columns]\n"
     ]
    }
   ],
   "source": [
    "import pandas as pd\n",
    "\n",
    "url = 'https://raw.githubusercontent.com/plotly/datasets/master/gapminderDataFiveYear.csv'\n",
    "df = pd.read_csv(url)\n",
    "print(df)"
   ]
  },
  {
   "attachments": {},
   "cell_type": "markdown",
   "metadata": {},
   "source": [
    "En este ejemplo, estamos definiendo la `URL` del archivo `CSV` que queremos cargar en la variable `url`. Luego, estamos utilizando la función `read_csv()` para cargar el archivo desde la `URL` en un DataFrame de `pandas`, y almacenando el DataFrame en la variable `df`.\n",
    "\n",
    "La función `read_csv()` también acepta una variedad de parámetros opcionales que nos permiten personalizar la forma en que el archivo `CSV` es leído y almacenado en el DataFrame. Algunos de los parámetros más comunes incluyen:\n",
    "\n",
    "* **sep:**\n",
    "\n",
    " El separador de campos utilizado en el archivo CSV (por defecto es una coma).\n",
    "\n",
    "* **header:**\n",
    "\n",
    " La fila del encabezado del archivo CSV (por defecto es 0, es decir, la primera fila).\n",
    "\n",
    "* **index_col:**\n",
    "\n",
    " La columna que se utilizará como índice del DataFrame (por defecto no hay columna de índice).\n",
    "\n",
    "* **skiprows:**\n",
    "\n",
    " El número de filas que se saltarán al leer el archivo CSV (por defecto es 0).\n",
    "\n",
    "* **usecols:**\n",
    "\n",
    " Una lista de nombres de columnas o índices de columnas que se deben incluir en el DataFrame (por defecto se incluyen todas las columnas).\n",
    "\n",
    "* **dtype:**\n",
    " Un diccionario que especifica el tipo de datos de cada columna (por defecto los tipos se infieren automáticamente).\n",
    "\n",
    "Por ejemplo, si quisieramos cargar el archivo CSV desde la URL anterior sin incluir la primera fila (que contiene el encabezado) y utilizando la columna country como índice, podemos utilizar el siguiente código:"
   ]
  },
  {
   "cell_type": "code",
   "execution_count": 152,
   "metadata": {},
   "outputs": [
    {
     "name": "stdout",
     "output_type": "stream",
     "text": [
      "             year         pop continent  lifeExp   gdpPercap\n",
      "country                                                     \n",
      "Afghanistan  1957   9240934.0      Asia   30.332  820.853030\n",
      "Afghanistan  1962  10267083.0      Asia   31.997  853.100710\n",
      "Afghanistan  1967  11537966.0      Asia   34.020  836.197138\n",
      "Afghanistan  1972  13079460.0      Asia   36.088  739.981106\n",
      "Afghanistan  1977  14880372.0      Asia   38.438  786.113360\n",
      "...           ...         ...       ...      ...         ...\n",
      "Zimbabwe     1987   9216418.0    Africa   62.351  706.157306\n",
      "Zimbabwe     1992  10704340.0    Africa   60.377  693.420786\n",
      "Zimbabwe     1997  11404948.0    Africa   46.809  792.449960\n",
      "Zimbabwe     2002  11926563.0    Africa   39.989  672.038623\n",
      "Zimbabwe     2007  12311143.0    Africa   43.487  469.709298\n",
      "\n",
      "[1703 rows x 5 columns]\n"
     ]
    }
   ],
   "source": [
    "import pandas as pd\n",
    "\n",
    "url = 'https://raw.githubusercontent.com/plotly/datasets/master/gapminderDataFiveYear.csv'\n",
    "df = pd.read_csv(url, header=0, index_col='country', skiprows=[1])\n",
    "print(df)"
   ]
  },
  {
   "attachments": {},
   "cell_type": "markdown",
   "metadata": {},
   "source": [
    "En resumen, para cargar un archivo `CSV` desde una `URL` en Python, podemos utilizar la `función read_csv()` de la librería `pandas`, proporcionando la `URL` del archivo como argumento. También podemos utilizar parámetros opcionales para personalizar la forma en que el archivo es leído y almacenado en el DataFrame."
   ]
  },
  {
   "attachments": {},
   "cell_type": "markdown",
   "metadata": {},
   "source": [
    "## **Los ficheros JSON y su carga con pandas**"
   ]
  },
  {
   "attachments": {},
   "cell_type": "markdown",
   "metadata": {},
   "source": [
    "`JSON (JavaScript Object Notation)` es un formato de intercambio de datos utilizado comúnmente para transmitir datos entre aplicaciones web y servicios web. En Python, podemos utilizar la librería `json` para leer y escribir archivos `JSON`, y la librería `pandas` para cargar datos `JSON` en un DataFrame.\n",
    "\n",
    "Para cargar datos `JSON` en un DataFrame, podemos utilizar la función `json_normalize()` de `pandas`. Esta función toma un objeto `JSON` y lo convierte en un DataFrame de `pandas`. En su forma más básica, podemos utilizar `json_normalize()` para cargar datos `JSON` en un DataFrame sin ningún tipo de transformación o manipulación.\n",
    "\n",
    "Por ejemplo, supongamos que tenemos el siguiente archivo `data.json`:"
   ]
  },
  {
   "attachments": {},
   "cell_type": "markdown",
   "metadata": {},
   "source": [
    "```\n",
    "[\n",
    "  {\n",
    "    \"name\": \"John Smith\",\n",
    "    \"age\": 30,\n",
    "    \"address\": {\n",
    "      \"city\": \"New York\",\n",
    "      \"state\": \"NY\",\n",
    "      \"country\": \"USA\"\n",
    "    }\n",
    "  },\n",
    "  {\n",
    "    \"name\": \"Jane Doe\",\n",
    "    \"age\": 25,\n",
    "    \"address\": {\n",
    "      \"city\": \"Los Angeles\",\n",
    "      \"state\": \"CA\",\n",
    "      \"country\": \"USA\"\n",
    "    }\n",
    "  }\n",
    "]\n",
    "\n",
    "```"
   ]
  },
  {
   "attachments": {},
   "cell_type": "markdown",
   "metadata": {},
   "source": [
    "Podemos utilizar el siguiente código para cargar los datos `JSON` en un DataFrame de `pandas`:"
   ]
  },
  {
   "cell_type": "code",
   "execution_count": 153,
   "metadata": {},
   "outputs": [
    {
     "name": "stdout",
     "output_type": "stream",
     "text": [
      "         name  age address.city address.state address.country\n",
      "0  John Smith   30     New York            NY             USA\n",
      "1    Jane Doe   25  Los Angeles            CA             USA\n"
     ]
    }
   ],
   "source": [
    "import pandas as pd\n",
    "import json\n",
    "\n",
    "\n",
    "with open('./modules/data.json') as f:\n",
    "    data = json.load(f)\n",
    "\n",
    "df = pd.json_normalize(data)\n",
    "print(df)"
   ]
  },
  {
   "attachments": {},
   "cell_type": "markdown",
   "metadata": {},
   "source": [
    "En este ejemplo, estamos abriendo el archivo `data.json` utilizando la función `open()` de Python, y luego cargando los datos `JSON` utilizando la función `load()` de json. Luego, estamos utilizando la función `json_normalize()` de pandas para convertir los datos `JSON` en un DataFrame de `pandas`, y almacenando el DataFrame en la variable `df`.\n",
    "\n",
    "La función `json_normalize()` también acepta una variedad de parámetros opcionales que nos permiten personalizar la forma en que los datos `JSON` se convierten en un DataFrame de `pandas`. Algunos de los parámetros más comunes incluyen:\n",
    "\n",
    "* **record_path:**\n",
    "\n",
    " La ruta a los registros que se normalizarán en un DataFrame (por defecto se normaliza todo el objeto JSON).\n",
    "\n",
    "* **meta:**\n",
    "\n",
    "Los datos que se incluirán en el DataFrame junto con los registros normalizados.\n",
    "\n",
    "* **errors:**\n",
    "\n",
    "Cómo manejar los errores al normalizar los datos (por defecto es \"raise\", lo que significa que se levanta una excepción en caso de error).\n",
    "\n",
    "* **max_level:**\n"
   ]
  },
  {
   "cell_type": "code",
   "execution_count": 154,
   "metadata": {},
   "outputs": [
    {
     "name": "stdout",
     "output_type": "stream",
     "text": [
      "         name  age address.city address.state address.country\n",
      "0  John Smith   30     New York            NY             USA\n",
      "1    Jane Doe   25  Los Angeles            CA             USA\n"
     ]
    }
   ],
   "source": [
    "import json\n",
    "import pandas as pd\n",
    "\n",
    "with open('./modules/data.json') as f:\n",
    "    data = json.load(f)\n",
    "\n",
    "# En lugar de usar 'address' como record_path, que espera una lista, directamente normalizamos el diccionario completo\n",
    "df = pd.json_normalize(data)\n",
    "\n",
    "print(df.head())"
   ]
  },
  {
   "attachments": {},
   "cell_type": "markdown",
   "metadata": {},
   "source": [
    "## **Tratamiento de los datos faltantes**"
   ]
  },
  {
   "attachments": {},
   "cell_type": "markdown",
   "metadata": {},
   "source": [
    "El tratamiento de los datos faltantes es una parte importante del análisis de datos, ya que los valores faltantes pueden afectar negativamente la precisión de los modelos de análisis. En Python, existen varias formas de manejar los datos faltantes, y en esta respuesta te explicaré algunas de las más comunes.\n",
    "\n",
    "Antes de comenzar, debemos importar las librerías que utilizaremos:"
   ]
  },
  {
   "cell_type": "code",
   "execution_count": 155,
   "metadata": {},
   "outputs": [
    {
     "name": "stdout",
     "output_type": "stream",
     "text": [
      "     A    B     C\n",
      "0  1.0  5.0   NaN\n",
      "1  2.0  NaN   9.0\n",
      "2  NaN  7.0  10.0\n",
      "3  4.0  NaN  11.0\n"
     ]
    }
   ],
   "source": [
    "import numpy as np\n",
    "import pandas as pd\n",
    "\n",
    "df = pd.DataFrame({'A': [1, 2, np.nan, 4],\n",
    "                   'B': [5, np.nan, 7, np.nan],\n",
    "                   'C': [np.nan, 9, 10, 11]})\n",
    "print(df)"
   ]
  },
  {
   "attachments": {},
   "cell_type": "markdown",
   "metadata": {},
   "source": [
    "* **Eliminación de datos faltantes**\n",
    "\n",
    "La eliminación de los datos faltantes es la forma más simple de manejar los valores nulos. Podemos eliminar filas o columnas que contengan valores nulos utilizando el método `dropna()` de Pandas."
   ]
  },
  {
   "cell_type": "code",
   "execution_count": 156,
   "metadata": {},
   "outputs": [
    {
     "data": {
      "text/html": [
       "<div>\n",
       "<style scoped>\n",
       "    .dataframe tbody tr th:only-of-type {\n",
       "        vertical-align: middle;\n",
       "    }\n",
       "\n",
       "    .dataframe tbody tr th {\n",
       "        vertical-align: top;\n",
       "    }\n",
       "\n",
       "    .dataframe thead th {\n",
       "        text-align: right;\n",
       "    }\n",
       "</style>\n",
       "<table border=\"1\" class=\"dataframe\">\n",
       "  <thead>\n",
       "    <tr style=\"text-align: right;\">\n",
       "      <th></th>\n",
       "      <th>A</th>\n",
       "      <th>B</th>\n",
       "      <th>C</th>\n",
       "    </tr>\n",
       "  </thead>\n",
       "  <tbody>\n",
       "  </tbody>\n",
       "</table>\n",
       "</div>"
      ],
      "text/plain": [
       "Empty DataFrame\n",
       "Columns: [A, B, C]\n",
       "Index: []"
      ]
     },
     "execution_count": 156,
     "metadata": {},
     "output_type": "execute_result"
    }
   ],
   "source": [
    "df.dropna()  # Elimina las filas con al menos un valor nulo"
   ]
  },
  {
   "cell_type": "code",
   "execution_count": 157,
   "metadata": {},
   "outputs": [
    {
     "data": {
      "text/html": [
       "<div>\n",
       "<style scoped>\n",
       "    .dataframe tbody tr th:only-of-type {\n",
       "        vertical-align: middle;\n",
       "    }\n",
       "\n",
       "    .dataframe tbody tr th {\n",
       "        vertical-align: top;\n",
       "    }\n",
       "\n",
       "    .dataframe thead th {\n",
       "        text-align: right;\n",
       "    }\n",
       "</style>\n",
       "<table border=\"1\" class=\"dataframe\">\n",
       "  <thead>\n",
       "    <tr style=\"text-align: right;\">\n",
       "      <th></th>\n",
       "    </tr>\n",
       "  </thead>\n",
       "  <tbody>\n",
       "    <tr>\n",
       "      <th>0</th>\n",
       "    </tr>\n",
       "    <tr>\n",
       "      <th>1</th>\n",
       "    </tr>\n",
       "    <tr>\n",
       "      <th>2</th>\n",
       "    </tr>\n",
       "    <tr>\n",
       "      <th>3</th>\n",
       "    </tr>\n",
       "  </tbody>\n",
       "</table>\n",
       "</div>"
      ],
      "text/plain": [
       "Empty DataFrame\n",
       "Columns: []\n",
       "Index: [0, 1, 2, 3]"
      ]
     },
     "execution_count": 157,
     "metadata": {},
     "output_type": "execute_result"
    }
   ],
   "source": [
    "df.dropna(axis=1)  # Elimina las columnas con al menos un valor nulo"
   ]
  },
  {
   "attachments": {},
   "cell_type": "markdown",
   "metadata": {},
   "source": [
    "* **Relleno de datos faltantes**\n",
    "\n",
    "Otra forma común de manejar los datos faltantes es reemplazarlos por algún valor. Pandas ofrece varios métodos para hacer esto.\n",
    "\n",
    "El método `fillna()` se utiliza para rellenar los valores nulos con algún valor. Por ejemplo, podemos reemplazar los valores nulos por el valor medio de la columna utilizando la función `mean()` de Pandas:"
   ]
  },
  {
   "cell_type": "code",
   "execution_count": 158,
   "metadata": {},
   "outputs": [
    {
     "data": {
      "text/html": [
       "<div>\n",
       "<style scoped>\n",
       "    .dataframe tbody tr th:only-of-type {\n",
       "        vertical-align: middle;\n",
       "    }\n",
       "\n",
       "    .dataframe tbody tr th {\n",
       "        vertical-align: top;\n",
       "    }\n",
       "\n",
       "    .dataframe thead th {\n",
       "        text-align: right;\n",
       "    }\n",
       "</style>\n",
       "<table border=\"1\" class=\"dataframe\">\n",
       "  <thead>\n",
       "    <tr style=\"text-align: right;\">\n",
       "      <th></th>\n",
       "      <th>A</th>\n",
       "      <th>B</th>\n",
       "      <th>C</th>\n",
       "    </tr>\n",
       "  </thead>\n",
       "  <tbody>\n",
       "    <tr>\n",
       "      <th>0</th>\n",
       "      <td>1.000000</td>\n",
       "      <td>5.0</td>\n",
       "      <td>10.0</td>\n",
       "    </tr>\n",
       "    <tr>\n",
       "      <th>1</th>\n",
       "      <td>2.000000</td>\n",
       "      <td>6.0</td>\n",
       "      <td>9.0</td>\n",
       "    </tr>\n",
       "    <tr>\n",
       "      <th>2</th>\n",
       "      <td>2.333333</td>\n",
       "      <td>7.0</td>\n",
       "      <td>10.0</td>\n",
       "    </tr>\n",
       "    <tr>\n",
       "      <th>3</th>\n",
       "      <td>4.000000</td>\n",
       "      <td>6.0</td>\n",
       "      <td>11.0</td>\n",
       "    </tr>\n",
       "  </tbody>\n",
       "</table>\n",
       "</div>"
      ],
      "text/plain": [
       "          A    B     C\n",
       "0  1.000000  5.0  10.0\n",
       "1  2.000000  6.0   9.0\n",
       "2  2.333333  7.0  10.0\n",
       "3  4.000000  6.0  11.0"
      ]
     },
     "execution_count": 158,
     "metadata": {},
     "output_type": "execute_result"
    }
   ],
   "source": [
    "df.fillna(df.mean())"
   ]
  },
  {
   "attachments": {},
   "cell_type": "markdown",
   "metadata": {},
   "source": [
    "También podemos utilizar otros valores, como la mediana o la moda, o incluso algún valor específico:"
   ]
  },
  {
   "cell_type": "code",
   "execution_count": 159,
   "metadata": {},
   "outputs": [
    {
     "data": {
      "text/html": [
       "<div>\n",
       "<style scoped>\n",
       "    .dataframe tbody tr th:only-of-type {\n",
       "        vertical-align: middle;\n",
       "    }\n",
       "\n",
       "    .dataframe tbody tr th {\n",
       "        vertical-align: top;\n",
       "    }\n",
       "\n",
       "    .dataframe thead th {\n",
       "        text-align: right;\n",
       "    }\n",
       "</style>\n",
       "<table border=\"1\" class=\"dataframe\">\n",
       "  <thead>\n",
       "    <tr style=\"text-align: right;\">\n",
       "      <th></th>\n",
       "      <th>A</th>\n",
       "      <th>B</th>\n",
       "      <th>C</th>\n",
       "    </tr>\n",
       "  </thead>\n",
       "  <tbody>\n",
       "    <tr>\n",
       "      <th>0</th>\n",
       "      <td>1.0</td>\n",
       "      <td>5.0</td>\n",
       "      <td>20.0</td>\n",
       "    </tr>\n",
       "    <tr>\n",
       "      <th>1</th>\n",
       "      <td>2.0</td>\n",
       "      <td>10.0</td>\n",
       "      <td>9.0</td>\n",
       "    </tr>\n",
       "    <tr>\n",
       "      <th>2</th>\n",
       "      <td>0.0</td>\n",
       "      <td>7.0</td>\n",
       "      <td>10.0</td>\n",
       "    </tr>\n",
       "    <tr>\n",
       "      <th>3</th>\n",
       "      <td>4.0</td>\n",
       "      <td>10.0</td>\n",
       "      <td>11.0</td>\n",
       "    </tr>\n",
       "  </tbody>\n",
       "</table>\n",
       "</div>"
      ],
      "text/plain": [
       "     A     B     C\n",
       "0  1.0   5.0  20.0\n",
       "1  2.0  10.0   9.0\n",
       "2  0.0   7.0  10.0\n",
       "3  4.0  10.0  11.0"
      ]
     },
     "execution_count": 159,
     "metadata": {},
     "output_type": "execute_result"
    }
   ],
   "source": [
    "df.fillna({'A': 0, 'B': 10, 'C': 20})"
   ]
  },
  {
   "attachments": {},
   "cell_type": "markdown",
   "metadata": {},
   "source": [
    "* **Interpolación de datos faltantes**\n",
    "\n",
    "La interpolación es un método que se utiliza para estimar valores faltantes en una serie de datos a partir de los valores observados. Pandas ofrece la función `interpolate()` para realizar la interpolación."
   ]
  },
  {
   "cell_type": "code",
   "execution_count": 160,
   "metadata": {},
   "outputs": [
    {
     "data": {
      "text/html": [
       "<div>\n",
       "<style scoped>\n",
       "    .dataframe tbody tr th:only-of-type {\n",
       "        vertical-align: middle;\n",
       "    }\n",
       "\n",
       "    .dataframe tbody tr th {\n",
       "        vertical-align: top;\n",
       "    }\n",
       "\n",
       "    .dataframe thead th {\n",
       "        text-align: right;\n",
       "    }\n",
       "</style>\n",
       "<table border=\"1\" class=\"dataframe\">\n",
       "  <thead>\n",
       "    <tr style=\"text-align: right;\">\n",
       "      <th></th>\n",
       "      <th>A</th>\n",
       "      <th>B</th>\n",
       "      <th>C</th>\n",
       "    </tr>\n",
       "  </thead>\n",
       "  <tbody>\n",
       "    <tr>\n",
       "      <th>0</th>\n",
       "      <td>1.0</td>\n",
       "      <td>5.0</td>\n",
       "      <td>NaN</td>\n",
       "    </tr>\n",
       "    <tr>\n",
       "      <th>1</th>\n",
       "      <td>2.0</td>\n",
       "      <td>6.0</td>\n",
       "      <td>9.0</td>\n",
       "    </tr>\n",
       "    <tr>\n",
       "      <th>2</th>\n",
       "      <td>3.0</td>\n",
       "      <td>7.0</td>\n",
       "      <td>10.0</td>\n",
       "    </tr>\n",
       "    <tr>\n",
       "      <th>3</th>\n",
       "      <td>4.0</td>\n",
       "      <td>7.0</td>\n",
       "      <td>11.0</td>\n",
       "    </tr>\n",
       "  </tbody>\n",
       "</table>\n",
       "</div>"
      ],
      "text/plain": [
       "     A    B     C\n",
       "0  1.0  5.0   NaN\n",
       "1  2.0  6.0   9.0\n",
       "2  3.0  7.0  10.0\n",
       "3  4.0  7.0  11.0"
      ]
     },
     "execution_count": 160,
     "metadata": {},
     "output_type": "execute_result"
    }
   ],
   "source": [
    "df.interpolate()"
   ]
  },
  {
   "attachments": {},
   "cell_type": "markdown",
   "metadata": {},
   "source": [
    "## **Filtrando dataframes**"
   ]
  },
  {
   "attachments": {},
   "cell_type": "markdown",
   "metadata": {},
   "source": [
    "Filtrar dataframes en Python es una tarea común en el análisis de datos. En esencia, se trata de seleccionar un subconjunto de filas y columnas de un dataframe que cumpla con ciertas condiciones. En esta respuesta te explicaré algunas formas de filtrar dataframes en Python utilizando la librería `Pandas`.\n",
    "\n",
    "Antes de comenzar, importaremos la librería `Pandas` y crearemos un dataframe de ejemplo:"
   ]
  },
  {
   "cell_type": "code",
   "execution_count": 161,
   "metadata": {},
   "outputs": [
    {
     "name": "stdout",
     "output_type": "stream",
     "text": [
      "  nombre  edad sexo       pais  sueldo\n",
      "0    Ana    25    F     Mexico    5000\n",
      "1   Juan    30    M     España    8000\n",
      "2  Maria    18    F  Argentina    2000\n",
      "3  Pedro    45    M      Chile   10000\n",
      "4  Sofia    22    F   Colombia    4000\n"
     ]
    }
   ],
   "source": [
    "import pandas as pd\n",
    "\n",
    "data = {'nombre': ['Ana', 'Juan', 'Maria', 'Pedro', 'Sofia'],\n",
    "        'edad': [25, 30, 18, 45, 22],\n",
    "        'sexo': ['F', 'M', 'F', 'M', 'F'],\n",
    "        'pais': ['Mexico', 'España', 'Argentina', 'Chile', 'Colombia'],\n",
    "        'sueldo': [5000, 8000, 2000, 10000, 4000]}\n",
    "\n",
    "df = pd.DataFrame(data)\n",
    "print(df)"
   ]
  },
  {
   "attachments": {},
   "cell_type": "markdown",
   "metadata": {},
   "source": [
    "* **Filtrar filas por condiciones**\n",
    "\n",
    "Podemos filtrar las filas de un dataframe que cumplan ciertas condiciones utilizando la función `loc[]` de `Pandas`. Por ejemplo, para seleccionar las filas donde la edad es mayor que 25:"
   ]
  },
  {
   "cell_type": "code",
   "execution_count": 162,
   "metadata": {},
   "outputs": [
    {
     "data": {
      "text/html": [
       "<div>\n",
       "<style scoped>\n",
       "    .dataframe tbody tr th:only-of-type {\n",
       "        vertical-align: middle;\n",
       "    }\n",
       "\n",
       "    .dataframe tbody tr th {\n",
       "        vertical-align: top;\n",
       "    }\n",
       "\n",
       "    .dataframe thead th {\n",
       "        text-align: right;\n",
       "    }\n",
       "</style>\n",
       "<table border=\"1\" class=\"dataframe\">\n",
       "  <thead>\n",
       "    <tr style=\"text-align: right;\">\n",
       "      <th></th>\n",
       "      <th>nombre</th>\n",
       "      <th>edad</th>\n",
       "      <th>sexo</th>\n",
       "      <th>pais</th>\n",
       "      <th>sueldo</th>\n",
       "    </tr>\n",
       "  </thead>\n",
       "  <tbody>\n",
       "    <tr>\n",
       "      <th>1</th>\n",
       "      <td>Juan</td>\n",
       "      <td>30</td>\n",
       "      <td>M</td>\n",
       "      <td>España</td>\n",
       "      <td>8000</td>\n",
       "    </tr>\n",
       "    <tr>\n",
       "      <th>3</th>\n",
       "      <td>Pedro</td>\n",
       "      <td>45</td>\n",
       "      <td>M</td>\n",
       "      <td>Chile</td>\n",
       "      <td>10000</td>\n",
       "    </tr>\n",
       "  </tbody>\n",
       "</table>\n",
       "</div>"
      ],
      "text/plain": [
       "  nombre  edad sexo    pais  sueldo\n",
       "1   Juan    30    M  España    8000\n",
       "3  Pedro    45    M   Chile   10000"
      ]
     },
     "execution_count": 162,
     "metadata": {},
     "output_type": "execute_result"
    }
   ],
   "source": [
    "df.loc[df['edad'] > 25]"
   ]
  },
  {
   "attachments": {},
   "cell_type": "markdown",
   "metadata": {},
   "source": [
    "También podemos combinar múltiples condiciones utilizando operadores lógicos, como `&` para la operación `\"y\"` y `|` para la operación `\"o\"`. Por ejemplo, para seleccionar las filas donde la edad es mayor que 25 y el sueldo es mayor que 5000:"
   ]
  },
  {
   "cell_type": "code",
   "execution_count": 163,
   "metadata": {},
   "outputs": [
    {
     "data": {
      "text/html": [
       "<div>\n",
       "<style scoped>\n",
       "    .dataframe tbody tr th:only-of-type {\n",
       "        vertical-align: middle;\n",
       "    }\n",
       "\n",
       "    .dataframe tbody tr th {\n",
       "        vertical-align: top;\n",
       "    }\n",
       "\n",
       "    .dataframe thead th {\n",
       "        text-align: right;\n",
       "    }\n",
       "</style>\n",
       "<table border=\"1\" class=\"dataframe\">\n",
       "  <thead>\n",
       "    <tr style=\"text-align: right;\">\n",
       "      <th></th>\n",
       "      <th>nombre</th>\n",
       "      <th>edad</th>\n",
       "      <th>sexo</th>\n",
       "      <th>pais</th>\n",
       "      <th>sueldo</th>\n",
       "    </tr>\n",
       "  </thead>\n",
       "  <tbody>\n",
       "    <tr>\n",
       "      <th>1</th>\n",
       "      <td>Juan</td>\n",
       "      <td>30</td>\n",
       "      <td>M</td>\n",
       "      <td>España</td>\n",
       "      <td>8000</td>\n",
       "    </tr>\n",
       "    <tr>\n",
       "      <th>3</th>\n",
       "      <td>Pedro</td>\n",
       "      <td>45</td>\n",
       "      <td>M</td>\n",
       "      <td>Chile</td>\n",
       "      <td>10000</td>\n",
       "    </tr>\n",
       "  </tbody>\n",
       "</table>\n",
       "</div>"
      ],
      "text/plain": [
       "  nombre  edad sexo    pais  sueldo\n",
       "1   Juan    30    M  España    8000\n",
       "3  Pedro    45    M   Chile   10000"
      ]
     },
     "execution_count": 163,
     "metadata": {},
     "output_type": "execute_result"
    }
   ],
   "source": [
    "df.loc[(df['edad'] > 25) & (df['sueldo'] > 5000)]"
   ]
  },
  {
   "attachments": {},
   "cell_type": "markdown",
   "metadata": {},
   "source": [
    "* **Filtrar columnas por nombre**\n",
    "\n",
    "Podemos seleccionar columnas específicas de un dataframe utilizando la sintaxis `df['nombre_columna']`. Por ejemplo, para seleccionar las columnas `'nombre'`, `'edad'` y `'sueldo'`:"
   ]
  },
  {
   "cell_type": "code",
   "execution_count": 164,
   "metadata": {},
   "outputs": [
    {
     "data": {
      "text/html": [
       "<div>\n",
       "<style scoped>\n",
       "    .dataframe tbody tr th:only-of-type {\n",
       "        vertical-align: middle;\n",
       "    }\n",
       "\n",
       "    .dataframe tbody tr th {\n",
       "        vertical-align: top;\n",
       "    }\n",
       "\n",
       "    .dataframe thead th {\n",
       "        text-align: right;\n",
       "    }\n",
       "</style>\n",
       "<table border=\"1\" class=\"dataframe\">\n",
       "  <thead>\n",
       "    <tr style=\"text-align: right;\">\n",
       "      <th></th>\n",
       "      <th>nombre</th>\n",
       "      <th>edad</th>\n",
       "      <th>sueldo</th>\n",
       "    </tr>\n",
       "  </thead>\n",
       "  <tbody>\n",
       "    <tr>\n",
       "      <th>0</th>\n",
       "      <td>Ana</td>\n",
       "      <td>25</td>\n",
       "      <td>5000</td>\n",
       "    </tr>\n",
       "    <tr>\n",
       "      <th>1</th>\n",
       "      <td>Juan</td>\n",
       "      <td>30</td>\n",
       "      <td>8000</td>\n",
       "    </tr>\n",
       "    <tr>\n",
       "      <th>2</th>\n",
       "      <td>Maria</td>\n",
       "      <td>18</td>\n",
       "      <td>2000</td>\n",
       "    </tr>\n",
       "    <tr>\n",
       "      <th>3</th>\n",
       "      <td>Pedro</td>\n",
       "      <td>45</td>\n",
       "      <td>10000</td>\n",
       "    </tr>\n",
       "    <tr>\n",
       "      <th>4</th>\n",
       "      <td>Sofia</td>\n",
       "      <td>22</td>\n",
       "      <td>4000</td>\n",
       "    </tr>\n",
       "  </tbody>\n",
       "</table>\n",
       "</div>"
      ],
      "text/plain": [
       "  nombre  edad  sueldo\n",
       "0    Ana    25    5000\n",
       "1   Juan    30    8000\n",
       "2  Maria    18    2000\n",
       "3  Pedro    45   10000\n",
       "4  Sofia    22    4000"
      ]
     },
     "execution_count": 164,
     "metadata": {},
     "output_type": "execute_result"
    }
   ],
   "source": [
    "df[['nombre', 'edad', 'sueldo']]"
   ]
  },
  {
   "attachments": {},
   "cell_type": "markdown",
   "metadata": {},
   "source": [
    "* **Filtrar filas y columnas simultáneamente**\n",
    "\n",
    "Podemos combinar los métodos de filtrado de filas y columnas para seleccionar un subconjunto específico de filas y columnas de un dataframe. Por ejemplo, para seleccionar las filas donde el sueldo es mayor que 5000 y solo las columnas `'nombre'` y `'sueldo'`:"
   ]
  },
  {
   "cell_type": "code",
   "execution_count": 165,
   "metadata": {},
   "outputs": [
    {
     "data": {
      "text/html": [
       "<div>\n",
       "<style scoped>\n",
       "    .dataframe tbody tr th:only-of-type {\n",
       "        vertical-align: middle;\n",
       "    }\n",
       "\n",
       "    .dataframe tbody tr th {\n",
       "        vertical-align: top;\n",
       "    }\n",
       "\n",
       "    .dataframe thead th {\n",
       "        text-align: right;\n",
       "    }\n",
       "</style>\n",
       "<table border=\"1\" class=\"dataframe\">\n",
       "  <thead>\n",
       "    <tr style=\"text-align: right;\">\n",
       "      <th></th>\n",
       "      <th>nombre</th>\n",
       "      <th>sueldo</th>\n",
       "    </tr>\n",
       "  </thead>\n",
       "  <tbody>\n",
       "    <tr>\n",
       "      <th>1</th>\n",
       "      <td>Juan</td>\n",
       "      <td>8000</td>\n",
       "    </tr>\n",
       "    <tr>\n",
       "      <th>3</th>\n",
       "      <td>Pedro</td>\n",
       "      <td>10000</td>\n",
       "    </tr>\n",
       "  </tbody>\n",
       "</table>\n",
       "</div>"
      ],
      "text/plain": [
       "  nombre  sueldo\n",
       "1   Juan    8000\n",
       "3  Pedro   10000"
      ]
     },
     "execution_count": 165,
     "metadata": {},
     "output_type": "execute_result"
    }
   ],
   "source": [
    "df.loc[df['sueldo'] > 5000, ['nombre', 'sueldo']]"
   ]
  },
  {
   "attachments": {},
   "cell_type": "markdown",
   "metadata": {},
   "source": [
    "## **Las Series de pandas**"
   ]
  },
  {
   "attachments": {},
   "cell_type": "markdown",
   "metadata": {},
   "source": [
    "Las Series de `Pandas` en Python son una estructura de datos unidimensional que forma parte de la librería `Pandas`. Estas series son similares a los arrays de una dimensión en `Numpy`, pero además de los índices numéricos, permiten tener índices con etiquetas personalizadas para cada elemento.\n",
    "\n",
    "Para entender mejor cómo funcionan las series de Pandas, veamos un ejemplo. Supongamos que queremos crear una serie que contenga los precios de una lista de productos:"
   ]
  },
  {
   "cell_type": "code",
   "execution_count": 166,
   "metadata": {},
   "outputs": [],
   "source": [
    "import pandas as pd\n",
    "\n",
    "precios = [10.99, 5.49, 2.99, 12.99, 6.99]\n",
    "productos = ['manzanas', 'bananas', 'naranjas', 'piñas', 'uvas']\n",
    "\n",
    "s = pd.Series(precios, index=productos)"
   ]
  },
  {
   "attachments": {},
   "cell_type": "markdown",
   "metadata": {},
   "source": [
    "En este ejemplo, hemos creado una `serie` `s` utilizando la función `pd.Series()`. Esta función recibe dos argumentos: los datos que queremos almacenar en la serie (en este caso, la lista de precios) y los índices de la serie (en este caso, los nombres de los productos). La sintaxis de la función es la siguiente:"
   ]
  },
  {
   "cell_type": "code",
   "execution_count": 167,
   "metadata": {},
   "outputs": [
    {
     "data": {
      "text/plain": [
       "Series([], dtype: object)"
      ]
     },
     "execution_count": 167,
     "metadata": {},
     "output_type": "execute_result"
    }
   ],
   "source": [
    "pd.Series(data=None, index=None, dtype=None, name=None, copy=False, fastpath=False)"
   ]
  },
  {
   "attachments": {},
   "cell_type": "markdown",
   "metadata": {},
   "source": [
    "En el ejemplo anterior, hemos especificado los datos y los índices, pero no hemos utilizado los otros parámetros.\n",
    "\n",
    "Una vez creada la serie, podemos acceder a sus elementos utilizando los índices:"
   ]
  },
  {
   "cell_type": "code",
   "execution_count": 168,
   "metadata": {},
   "outputs": [
    {
     "name": "stdout",
     "output_type": "stream",
     "text": [
      "10.99\n"
     ]
    }
   ],
   "source": [
    "print(s['manzanas'])"
   ]
  },
  {
   "attachments": {},
   "cell_type": "markdown",
   "metadata": {},
   "source": [
    "También podemos utilizar los métodos que ofrece `Pandas` para manipular los datos de la serie. Por ejemplo, para obtener la media de los precios:"
   ]
  },
  {
   "cell_type": "code",
   "execution_count": 169,
   "metadata": {},
   "outputs": [
    {
     "name": "stdout",
     "output_type": "stream",
     "text": [
      "7.890000000000001\n"
     ]
    }
   ],
   "source": [
    "print(s.mean())"
   ]
  },
  {
   "attachments": {},
   "cell_type": "markdown",
   "metadata": {},
   "source": [
    "Pandas ofrece muchos métodos para manipular las series, incluyendo métodos para calcular estadísticas, ordenar los datos, filtrar los datos, entre otros.\n",
    "\n",
    "Además de las series con índices personalizados, Pandas también permite crear series con índices numéricos por defecto. Por ejemplo:"
   ]
  },
  {
   "cell_type": "code",
   "execution_count": 170,
   "metadata": {},
   "outputs": [
    {
     "name": "stdout",
     "output_type": "stream",
     "text": [
      "0    10\n",
      "1    20\n",
      "2    30\n",
      "3    40\n",
      "4    50\n",
      "dtype: int64\n"
     ]
    }
   ],
   "source": [
    "s = pd.Series([10, 20, 30, 40, 50])\n",
    "print(s)"
   ]
  },
  {
   "attachments": {},
   "cell_type": "markdown",
   "metadata": {},
   "source": [
    "En este caso, la serie `s` tiene los valores `[10, 20, 30, 40, 50]` y los índices numéricos `[0, 1, 2, 3, 4]`.\n",
    "\n",
    "En resumen, las series de `Pandas` son una estructura de datos unidimensional que permiten almacenar y manipular datos utilizando índices personalizados o numéricos. Estas series son muy útiles para el análisis de datos en Python, especialmente cuando se trabaja con datos tabulares y se necesita acceder a datos específicos utilizando etiquetas personalizadas.\n",
    "\n",
    "\n"
   ]
  },
  {
   "attachments": {},
   "cell_type": "markdown",
   "metadata": {},
   "source": [
    "## **De Series a dataframe y lista**"
   ]
  },
  {
   "attachments": {},
   "cell_type": "markdown",
   "metadata": {},
   "source": [
    "En Python, es posible convertir una serie de Pandas en un dataframe o una lista utilizando métodos específicos de la librería `Pandas`.\n",
    "\n",
    "Para convertir una serie en un dataframe, podemos utilizar el método `to_frame()`. Este método crea un nuevo dataframe que contiene los mismos datos que la serie original, pero con una columna adicional que representa los índices de la serie. Veamos un ejemplo:"
   ]
  },
  {
   "cell_type": "code",
   "execution_count": 171,
   "metadata": {},
   "outputs": [
    {
     "name": "stdout",
     "output_type": "stream",
     "text": [
      "              0\n",
      "manzanas  10.99\n",
      "bananas    5.49\n",
      "naranjas   2.99\n",
      "piñas     12.99\n",
      "uvas       6.99\n"
     ]
    }
   ],
   "source": [
    "import pandas as pd\n",
    "\n",
    "precios = [10.99, 5.49, 2.99, 12.99, 6.99]\n",
    "productos = ['manzanas', 'bananas', 'naranjas', 'piñas', 'uvas']\n",
    "\n",
    "s = pd.Series(precios, index=productos)\n",
    "\n",
    "df = s.to_frame()\n",
    "\n",
    "print(df)"
   ]
  },
  {
   "attachments": {},
   "cell_type": "markdown",
   "metadata": {},
   "source": [
    "En este ejemplo, hemos creado una serie `s` que contiene los precios de una lista de productos. Luego, hemos utilizado el método `to_frame()` para convertir esta serie en un dataframe `df`."
   ]
  },
  {
   "attachments": {},
   "cell_type": "markdown",
   "metadata": {},
   "source": [
    "Como podemos ver, el dataframe `df` tiene dos columnas: la primera representa los índices de la serie original, y la segunda representa los valores de la serie.\n",
    "\n",
    "También podemos convertir una serie en una lista utilizando el método `tolist()`. Este método crea una lista que contiene los mismos valores que la serie original, en el mismo orden. Veamos un ejemplo:"
   ]
  },
  {
   "cell_type": "code",
   "execution_count": 172,
   "metadata": {},
   "outputs": [
    {
     "name": "stdout",
     "output_type": "stream",
     "text": [
      "[10.99, 5.49, 2.99, 12.99, 6.99]\n"
     ]
    }
   ],
   "source": [
    "lista = s.tolist()\n",
    "\n",
    "print(lista)"
   ]
  },
  {
   "attachments": {},
   "cell_type": "markdown",
   "metadata": {},
   "source": [
    "En este ejemplo, hemos utilizado el método `tolist()` para convertir la serie `s` en una lista lista"
   ]
  },
  {
   "attachments": {},
   "cell_type": "markdown",
   "metadata": {},
   "source": [
    "Como podemos ver, la lista lista contiene los mismos valores que la serie original, en el mismo orden.\n",
    "\n",
    "En resumen, para convertir una serie en un dataframe podemos utilizar el método `to_frame()`, y para convertir una serie en una lista podemos utilizar el método `tolist()`. Estas conversiones pueden ser útiles en diferentes situaciones, dependiendo del tipo de análisis de datos que estemos realizando."
   ]
  },
  {
   "attachments": {},
   "cell_type": "markdown",
   "metadata": {},
   "source": [
    "## **Multiíndices en Pandas para Big Data**"
   ]
  },
  {
   "attachments": {},
   "cell_type": "markdown",
   "metadata": {},
   "source": [
    "En `Pandas`, los `Multiíndices` permiten trabajar con tablas que tienen más de una columna como índice. Esto es especialmente útil en Big Data cuando tenemos datos con múltiples categorías que queremos indexar.\n",
    "\n",
    "En lugar de tener un solo índice, un `Multiíndice` puede tener dos o más niveles de índice. Cada nivel se representa con una columna y, por lo tanto, cada fila puede tener varias etiquetas de índice. Esto permite representar datos en una estructura jerárquica y es especialmente útil para organizar datos multidimensionales.\n",
    "\n",
    "Para crear un Multiíndice en Pandas, podemos utilizar el método `set_index()` y pasar una lista de columnas como argumento. Veamos un ejemplo:"
   ]
  },
  {
   "cell_type": "code",
   "execution_count": 173,
   "metadata": {},
   "outputs": [
    {
     "name": "stdout",
     "output_type": "stream",
     "text": [
      "             ventas\n",
      "ciudad año         \n",
      "A      2018     100\n",
      "       2019     150\n",
      "       2020     200\n",
      "B      2018      75\n",
      "       2019     125\n",
      "       2020     175\n"
     ]
    }
   ],
   "source": [
    "import pandas as pd\n",
    "\n",
    "datos = {'ciudad': ['A', 'A', 'A', 'B', 'B', 'B'],\n",
    "         'año': [2018, 2019, 2020, 2018, 2019, 2020],\n",
    "         'ventas': [100, 150, 200, 75, 125, 175]}\n",
    "\n",
    "df = pd.DataFrame(datos)\n",
    "\n",
    "multiindex_df = df.set_index(['ciudad', 'año'])\n",
    "\n",
    "print(multiindex_df)"
   ]
  },
  {
   "attachments": {},
   "cell_type": "markdown",
   "metadata": {},
   "source": [
    "En este ejemplo, hemos creado un dataframe `df` con información sobre las ventas de dos ciudades durante tres años. Luego, hemos utilizado el método `set_index()` para crear un Multiíndice a partir de las columnas `\"ciudad\"` y `\"año\"`. El resultado de imprimir el Multiíndice `multiindex_df`"
   ]
  },
  {
   "attachments": {},
   "cell_type": "markdown",
   "metadata": {},
   "source": [
    "Como podemos ver, el Multiíndice tiene dos niveles de índice: el primero corresponde a la ciudad y el segundo al año. Cada fila está etiquetada por una tupla de dos elementos que representa la ciudad y el año correspondiente, y la columna `\"ventas\"` contiene los datos asociados a esa combinación de ciudad y año.\n",
    "\n",
    "Los Multiíndices en `Pandas` permiten acceder a los datos de diferentes maneras. Por ejemplo, podemos acceder a todos los datos para una ciudad específica utilizando la función `.loc[]`. Veamos un ejemplo:"
   ]
  },
  {
   "cell_type": "code",
   "execution_count": 174,
   "metadata": {},
   "outputs": [
    {
     "name": "stdout",
     "output_type": "stream",
     "text": [
      "      ventas\n",
      "año         \n",
      "2018     100\n",
      "2019     150\n",
      "2020     200\n"
     ]
    }
   ],
   "source": [
    "print(multiindex_df.loc['A'])"
   ]
  },
  {
   "attachments": {},
   "cell_type": "markdown",
   "metadata": {},
   "source": [
    "En este ejemplo, hemos utilizado la función `.loc[]` para acceder a los datos para la ciudad `\"A\"`."
   ]
  },
  {
   "attachments": {},
   "cell_type": "markdown",
   "metadata": {},
   "source": [
    "Como podemos ver, el resultado es un subconjunto de los datos originales que solo contiene información sobre la ciudad `\"A\"`. De esta manera, los Multiíndices permiten organizar y acceder a los datos de manera eficiente y flexible."
   ]
  },
  {
   "attachments": {},
   "cell_type": "markdown",
   "metadata": {},
   "source": [
    "| **Inicio** | **atrás 11** | **Siguiente 13** |\n",
    "|----------- |-------------- |---------------|\n",
    "| [🏠](../../README.md) | [⏪](./11.Funciones_Lambda.ipynb)| [⏩](./13.Programacion_Orientada_Objetos.ipynb)|"
   ]
  }
 ],
 "metadata": {
  "kernelspec": {
   "display_name": "base",
   "language": "python",
   "name": "python3"
  },
  "language_info": {
   "codemirror_mode": {
    "name": "ipython",
    "version": 3
   },
   "file_extension": ".py",
   "mimetype": "text/x-python",
   "name": "python",
   "nbconvert_exporter": "python",
   "pygments_lexer": "ipython3",
   "version": "3.9.12"
  },
  "orig_nbformat": 4
 },
 "nbformat": 4,
 "nbformat_minor": 2
}
